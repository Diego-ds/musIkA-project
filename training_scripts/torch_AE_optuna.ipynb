{
 "cells": [
  {
   "cell_type": "code",
   "execution_count": 3,
   "id": "1e08606b",
   "metadata": {
    "scrolled": false
   },
   "outputs": [
    {
     "name": "stdout",
     "output_type": "stream",
     "text": [
      "Collecting pandas\n",
      "  Downloading pandas-2.0.0-cp38-cp38-manylinux_2_17_x86_64.manylinux2014_x86_64.whl (12.3 MB)\n",
      "\u001b[2K     \u001b[38;2;114;156;31m━━━━━━━━━━━━━━━━━━━━━━━━━━━━━━━━━━━━━━━━\u001b[0m \u001b[32m12.3/12.3 MB\u001b[0m \u001b[31m1.6 MB/s\u001b[0m eta \u001b[36m0:00:00\u001b[0mm eta \u001b[36m0:00:01\u001b[0m[36m0:00:01\u001b[0m\n",
      "\u001b[?25hRequirement already satisfied: python-dateutil>=2.8.2 in /home/ia/miniconda3/envs/pytorch_musika/lib/python3.8/site-packages (from pandas) (2.8.2)\n",
      "Requirement already satisfied: numpy>=1.20.3 in /home/ia/miniconda3/envs/pytorch_musika/lib/python3.8/site-packages (from pandas) (1.23.5)\n",
      "Collecting tzdata>=2022.1\n",
      "  Downloading tzdata-2023.3-py2.py3-none-any.whl (341 kB)\n",
      "\u001b[2K     \u001b[38;2;114;156;31m━━━━━━━━━━━━━━━━━━━━━━━━━━━━━━━━━━━━━━━\u001b[0m \u001b[32m341.8/341.8 kB\u001b[0m \u001b[31m1.3 MB/s\u001b[0m eta \u001b[36m0:00:00\u001b[0mm eta \u001b[36m0:00:01\u001b[0m0:01\u001b[0m:01\u001b[0m\n",
      "\u001b[?25hCollecting pytz>=2020.1\n",
      "  Downloading pytz-2023.3-py2.py3-none-any.whl (502 kB)\n",
      "\u001b[2K     \u001b[38;2;114;156;31m━━━━━━━━━━━━━━━━━━━━━━━━━━━━━━━━━━━━━\u001b[0m \u001b[32m502.3/502.3 kB\u001b[0m \u001b[31m747.3 kB/s\u001b[0m eta \u001b[36m0:00:00\u001b[0mm eta \u001b[36m0:00:01\u001b[0m0:01\u001b[0m:01\u001b[0m\n",
      "\u001b[?25hRequirement already satisfied: six>=1.5 in /home/ia/miniconda3/envs/pytorch_musika/lib/python3.8/site-packages (from python-dateutil>=2.8.2->pandas) (1.16.0)\n",
      "Installing collected packages: pytz, tzdata, pandas\n",
      "Successfully installed pandas-2.0.0 pytz-2023.3 tzdata-2023.3\n"
     ]
    }
   ],
   "source": [
    "!pip install pandas"
   ]
  },
  {
   "cell_type": "code",
   "execution_count": null,
   "id": "b2091f45",
   "metadata": {},
   "outputs": [],
   "source": []
  },
  {
   "cell_type": "code",
   "execution_count": 1,
   "id": "b7da865e",
   "metadata": {
    "scrolled": true
   },
   "outputs": [
    {
     "name": "stderr",
     "output_type": "stream",
     "text": [
      "/home/ia/miniconda3/envs/pytorch_musika/lib/python3.8/site-packages/tqdm/auto.py:21: TqdmWarning: IProgress not found. Please update jupyter and ipywidgets. See https://ipywidgets.readthedocs.io/en/stable/user_install.html\n",
      "  from .autonotebook import tqdm as notebook_tqdm\n"
     ]
    }
   ],
   "source": [
    "import pandas as pd\n",
    "from sklearn.model_selection import train_test_split\n",
    "from sklearn.preprocessing import StandardScaler,MinMaxScaler\n",
    "import numpy as np\n",
    "import torch\n",
    "import torch.nn as nn\n",
    "from torch.autograd import Variable"
   ]
  },
  {
   "cell_type": "code",
   "execution_count": 2,
   "id": "c8ad5eac",
   "metadata": {
    "collapsed": true
   },
   "outputs": [],
   "source": [
    "df = pd.read_csv('./mergedfeaturesnonormalization.csv',low_memory=False)"
   ]
  },
  {
   "cell_type": "code",
   "execution_count": 3,
   "id": "2411c68b",
   "metadata": {},
   "outputs": [],
   "source": [
    "df.drop(columns=['Unnamed: 0','id','name','artist','genre','popularity','lyricsBillboard','lyric','language'], inplace=True)"
   ]
  },
  {
   "cell_type": "code",
   "execution_count": 4,
   "id": "270ed92a",
   "metadata": {
    "scrolled": true
   },
   "outputs": [
    {
     "data": {
      "text/html": [
       "<div>\n",
       "<style scoped>\n",
       "    .dataframe tbody tr th:only-of-type {\n",
       "        vertical-align: middle;\n",
       "    }\n",
       "\n",
       "    .dataframe tbody tr th {\n",
       "        vertical-align: top;\n",
       "    }\n",
       "\n",
       "    .dataframe thead th {\n",
       "        text-align: right;\n",
       "    }\n",
       "</style>\n",
       "<table border=\"1\" class=\"dataframe\">\n",
       "  <thead>\n",
       "    <tr style=\"text-align: right;\">\n",
       "      <th></th>\n",
       "      <th>rms</th>\n",
       "      <th>spec_centroids</th>\n",
       "      <th>spec_bw</th>\n",
       "      <th>spec_flatness</th>\n",
       "      <th>spec_rolloff</th>\n",
       "      <th>zero_crossing_rate</th>\n",
       "      <th>spec_contrast_0</th>\n",
       "      <th>spec_contrast_1</th>\n",
       "      <th>spec_contrast_2</th>\n",
       "      <th>spec_contrast_3</th>\n",
       "      <th>...</th>\n",
       "      <th>loudness</th>\n",
       "      <th>mode</th>\n",
       "      <th>speechiness</th>\n",
       "      <th>acousticness</th>\n",
       "      <th>instrumentalness</th>\n",
       "      <th>liveness</th>\n",
       "      <th>valence</th>\n",
       "      <th>tempo</th>\n",
       "      <th>duration_ms</th>\n",
       "      <th>time_signature</th>\n",
       "    </tr>\n",
       "  </thead>\n",
       "  <tbody>\n",
       "    <tr>\n",
       "      <th>0</th>\n",
       "      <td>0.201473</td>\n",
       "      <td>1459.794079</td>\n",
       "      <td>2347.101930</td>\n",
       "      <td>0.000422</td>\n",
       "      <td>2703.750874</td>\n",
       "      <td>0.031043</td>\n",
       "      <td>21.093848</td>\n",
       "      <td>11.112248</td>\n",
       "      <td>16.837817</td>\n",
       "      <td>18.570924</td>\n",
       "      <td>...</td>\n",
       "      <td>-9.142</td>\n",
       "      <td>1.0</td>\n",
       "      <td>0.0599</td>\n",
       "      <td>0.84800</td>\n",
       "      <td>0.477000</td>\n",
       "      <td>0.3960</td>\n",
       "      <td>0.655</td>\n",
       "      <td>125.068</td>\n",
       "      <td>134442.0</td>\n",
       "      <td>4</td>\n",
       "    </tr>\n",
       "    <tr>\n",
       "      <th>1</th>\n",
       "      <td>0.241160</td>\n",
       "      <td>2794.821171</td>\n",
       "      <td>3049.131322</td>\n",
       "      <td>0.001429</td>\n",
       "      <td>5929.202261</td>\n",
       "      <td>0.065948</td>\n",
       "      <td>17.227330</td>\n",
       "      <td>11.030906</td>\n",
       "      <td>14.381297</td>\n",
       "      <td>16.193530</td>\n",
       "      <td>...</td>\n",
       "      <td>-5.708</td>\n",
       "      <td>0.0</td>\n",
       "      <td>0.0286</td>\n",
       "      <td>0.00664</td>\n",
       "      <td>0.000011</td>\n",
       "      <td>0.1680</td>\n",
       "      <td>0.543</td>\n",
       "      <td>99.009</td>\n",
       "      <td>233933.0</td>\n",
       "      <td>4</td>\n",
       "    </tr>\n",
       "    <tr>\n",
       "      <th>2</th>\n",
       "      <td>0.157690</td>\n",
       "      <td>3197.043081</td>\n",
       "      <td>3562.309993</td>\n",
       "      <td>0.002606</td>\n",
       "      <td>6817.953306</td>\n",
       "      <td>0.071609</td>\n",
       "      <td>15.384177</td>\n",
       "      <td>11.536696</td>\n",
       "      <td>15.757186</td>\n",
       "      <td>17.599652</td>\n",
       "      <td>...</td>\n",
       "      <td>-5.946</td>\n",
       "      <td>0.0</td>\n",
       "      <td>0.2690</td>\n",
       "      <td>0.14300</td>\n",
       "      <td>0.000000</td>\n",
       "      <td>0.0771</td>\n",
       "      <td>0.613</td>\n",
       "      <td>94.948</td>\n",
       "      <td>270507.0</td>\n",
       "      <td>4</td>\n",
       "    </tr>\n",
       "    <tr>\n",
       "      <th>3</th>\n",
       "      <td>0.251467</td>\n",
       "      <td>4104.010298</td>\n",
       "      <td>4402.199880</td>\n",
       "      <td>0.003410</td>\n",
       "      <td>9487.646250</td>\n",
       "      <td>0.074107</td>\n",
       "      <td>18.610099</td>\n",
       "      <td>12.542007</td>\n",
       "      <td>17.452827</td>\n",
       "      <td>17.833720</td>\n",
       "      <td>...</td>\n",
       "      <td>-4.582</td>\n",
       "      <td>0.0</td>\n",
       "      <td>0.2530</td>\n",
       "      <td>0.23300</td>\n",
       "      <td>0.000000</td>\n",
       "      <td>0.4370</td>\n",
       "      <td>0.778</td>\n",
       "      <td>156.932</td>\n",
       "      <td>244533.0</td>\n",
       "      <td>4</td>\n",
       "    </tr>\n",
       "    <tr>\n",
       "      <th>4</th>\n",
       "      <td>0.173395</td>\n",
       "      <td>3598.760089</td>\n",
       "      <td>3651.350338</td>\n",
       "      <td>0.003948</td>\n",
       "      <td>7642.456367</td>\n",
       "      <td>0.095362</td>\n",
       "      <td>14.025943</td>\n",
       "      <td>11.345112</td>\n",
       "      <td>15.192431</td>\n",
       "      <td>16.994633</td>\n",
       "      <td>...</td>\n",
       "      <td>-4.913</td>\n",
       "      <td>0.0</td>\n",
       "      <td>0.0447</td>\n",
       "      <td>0.30100</td>\n",
       "      <td>0.000025</td>\n",
       "      <td>0.2130</td>\n",
       "      <td>0.846</td>\n",
       "      <td>95.058</td>\n",
       "      <td>212613.0</td>\n",
       "      <td>4</td>\n",
       "    </tr>\n",
       "  </tbody>\n",
       "</table>\n",
       "<p>5 rows × 194 columns</p>\n",
       "</div>"
      ],
      "text/plain": [
       "        rms  spec_centroids      spec_bw  spec_flatness  spec_rolloff   \n",
       "0  0.201473     1459.794079  2347.101930       0.000422   2703.750874  \\\n",
       "1  0.241160     2794.821171  3049.131322       0.001429   5929.202261   \n",
       "2  0.157690     3197.043081  3562.309993       0.002606   6817.953306   \n",
       "3  0.251467     4104.010298  4402.199880       0.003410   9487.646250   \n",
       "4  0.173395     3598.760089  3651.350338       0.003948   7642.456367   \n",
       "\n",
       "   zero_crossing_rate  spec_contrast_0  spec_contrast_1  spec_contrast_2   \n",
       "0            0.031043        21.093848        11.112248        16.837817  \\\n",
       "1            0.065948        17.227330        11.030906        14.381297   \n",
       "2            0.071609        15.384177        11.536696        15.757186   \n",
       "3            0.074107        18.610099        12.542007        17.452827   \n",
       "4            0.095362        14.025943        11.345112        15.192431   \n",
       "\n",
       "   spec_contrast_3  ...  loudness  mode  speechiness  acousticness   \n",
       "0        18.570924  ...    -9.142   1.0       0.0599       0.84800  \\\n",
       "1        16.193530  ...    -5.708   0.0       0.0286       0.00664   \n",
       "2        17.599652  ...    -5.946   0.0       0.2690       0.14300   \n",
       "3        17.833720  ...    -4.582   0.0       0.2530       0.23300   \n",
       "4        16.994633  ...    -4.913   0.0       0.0447       0.30100   \n",
       "\n",
       "   instrumentalness  liveness  valence    tempo  duration_ms  time_signature  \n",
       "0          0.477000    0.3960    0.655  125.068     134442.0               4  \n",
       "1          0.000011    0.1680    0.543   99.009     233933.0               4  \n",
       "2          0.000000    0.0771    0.613   94.948     270507.0               4  \n",
       "3          0.000000    0.4370    0.778  156.932     244533.0               4  \n",
       "4          0.000025    0.2130    0.846   95.058     212613.0               4  \n",
       "\n",
       "[5 rows x 194 columns]"
      ]
     },
     "execution_count": 4,
     "metadata": {},
     "output_type": "execute_result"
    }
   ],
   "source": [
    "df.head()"
   ]
  },
  {
   "cell_type": "code",
   "execution_count": 5,
   "id": "af672b86",
   "metadata": {
    "scrolled": false
   },
   "outputs": [
    {
     "name": "stdout",
     "output_type": "stream",
     "text": [
      "<class 'pandas.core.frame.DataFrame'>\n",
      "RangeIndex: 30672 entries, 0 to 30671\n",
      "Columns: 194 entries, rms to time_signature\n",
      "dtypes: float64(193), int64(1)\n",
      "memory usage: 45.4 MB\n"
     ]
    }
   ],
   "source": [
    "df.info()"
   ]
  },
  {
   "cell_type": "code",
   "execution_count": 6,
   "id": "2c758c8b",
   "metadata": {},
   "outputs": [],
   "source": [
    "X = df.loc[:, df.columns != 'hit']\n",
    "y = df.hit"
   ]
  },
  {
   "cell_type": "code",
   "execution_count": 7,
   "id": "53229367",
   "metadata": {},
   "outputs": [],
   "source": [
    "X_train, X_test, y_train, y_test = train_test_split(X, y, test_size=0.2, random_state=42)"
   ]
  },
  {
   "cell_type": "code",
   "execution_count": 8,
   "id": "57945e14",
   "metadata": {},
   "outputs": [],
   "source": [
    "scaler = StandardScaler()\n",
    "X_train = scaler.fit_transform(X_train)\n",
    "X_test = scaler.transform(X_test)"
   ]
  },
  {
   "cell_type": "code",
   "execution_count": 9,
   "id": "0aeba289",
   "metadata": {},
   "outputs": [
    {
     "data": {
      "text/plain": [
       "(24537, 193)"
      ]
     },
     "execution_count": 9,
     "metadata": {},
     "output_type": "execute_result"
    }
   ],
   "source": [
    "X_train.shape"
   ]
  },
  {
   "cell_type": "code",
   "execution_count": 10,
   "id": "75497e44",
   "metadata": {
    "scrolled": true
   },
   "outputs": [
    {
     "name": "stdout",
     "output_type": "stream",
     "text": [
      "cuda:0\n"
     ]
    }
   ],
   "source": [
    "device = torch.device(\"cuda:0\" if torch.cuda.is_available() else \"cpu\")\n",
    "print(device)"
   ]
  },
  {
   "cell_type": "code",
   "execution_count": 14,
   "id": "b50a790d",
   "metadata": {
    "scrolled": true
   },
   "outputs": [
    {
     "name": "stderr",
     "output_type": "stream",
     "text": [
      "\u001b[32m[I 2023-05-09 09:19:12,422]\u001b[0m A new study created in memory with name: no-name-430fc213-7cdd-4de5-a9f7-7b75481a58b3\u001b[0m\n"
     ]
    },
    {
     "name": "stdout",
     "output_type": "stream",
     "text": [
      "Epoch [1/50], Loss: 0.6075\n",
      "Epoch [2/50], Loss: 0.5100\n",
      "Epoch [3/50], Loss: 0.4750\n",
      "Epoch [4/50], Loss: 0.4947\n",
      "Epoch [5/50], Loss: 0.4205\n",
      "Epoch [6/50], Loss: 0.3997\n",
      "Epoch [7/50], Loss: 0.4122\n",
      "Epoch [8/50], Loss: 0.3899\n",
      "Epoch [9/50], Loss: 0.3958\n",
      "Epoch [10/50], Loss: 0.3872\n",
      "Epoch [11/50], Loss: 0.3769\n",
      "Epoch [12/50], Loss: 0.3917\n",
      "Epoch [13/50], Loss: 0.3545\n",
      "Epoch [14/50], Loss: 0.3715\n",
      "Epoch [15/50], Loss: 0.4144\n",
      "Epoch [16/50], Loss: 0.3751\n",
      "Epoch [17/50], Loss: 0.3747\n",
      "Epoch [18/50], Loss: 0.3558\n",
      "Epoch [19/50], Loss: 0.3618\n",
      "Epoch [20/50], Loss: 0.3556\n",
      "Epoch [21/50], Loss: 0.3856\n",
      "Epoch [22/50], Loss: 0.3461\n",
      "Epoch [23/50], Loss: 0.3352\n",
      "Epoch [24/50], Loss: 0.3453\n",
      "Epoch [25/50], Loss: 0.3516\n",
      "Epoch [26/50], Loss: 0.3381\n",
      "Epoch [27/50], Loss: 0.3412\n",
      "Epoch [28/50], Loss: 0.3515\n",
      "Epoch [29/50], Loss: 0.3268\n",
      "Epoch [30/50], Loss: 0.3497\n",
      "Epoch [31/50], Loss: 0.3303\n",
      "Epoch [32/50], Loss: 0.3464\n",
      "Epoch [33/50], Loss: 0.3337\n",
      "Epoch [34/50], Loss: 0.3472\n",
      "Epoch [35/50], Loss: 0.3338\n",
      "Epoch [36/50], Loss: 0.3297\n",
      "Epoch [37/50], Loss: 0.3073\n",
      "Epoch [38/50], Loss: 0.3305\n",
      "Epoch [39/50], Loss: 0.3168\n",
      "Epoch [40/50], Loss: 0.3234\n",
      "Epoch [41/50], Loss: 0.3210\n",
      "Epoch [42/50], Loss: 0.3267\n",
      "Epoch [43/50], Loss: 0.3227\n",
      "Epoch [44/50], Loss: 0.3223\n",
      "Epoch [45/50], Loss: 0.3191\n",
      "Epoch [46/50], Loss: 0.3233\n",
      "Epoch [47/50], Loss: 0.3188\n",
      "Epoch [48/50], Loss: 0.3240\n",
      "Epoch [49/50], Loss: 0.3117\n"
     ]
    },
    {
     "name": "stderr",
     "output_type": "stream",
     "text": [
      "\u001b[32m[I 2023-05-09 09:19:23,590]\u001b[0m Trial 0 finished with value: 0.3159120976924896 and parameters: {'n_layers': 2, 'activation': 3, 'dropout_l2': 0.06448507264341685, 'dropout_l1': 0.16324666757183226, 'bottleneck_size': 68, 'optimizer': 'Adam', 'lr': 0.007413547583016127}. Best is trial 0 with value: 0.3159120976924896.\u001b[0m\n"
     ]
    },
    {
     "name": "stdout",
     "output_type": "stream",
     "text": [
      "Epoch [50/50], Loss: 0.3159\n",
      "Epoch [1/50], Loss: 0.9335\n",
      "Epoch [2/50], Loss: 0.9891\n",
      "Epoch [3/50], Loss: 1.0219\n",
      "Epoch [4/50], Loss: 1.0077\n",
      "Epoch [5/50], Loss: 1.0178\n",
      "Epoch [6/50], Loss: 0.9843\n",
      "Epoch [7/50], Loss: 1.0553\n",
      "Epoch [8/50], Loss: 0.9850\n",
      "Epoch [9/50], Loss: 0.9869\n",
      "Epoch [10/50], Loss: 0.9824\n",
      "Epoch [11/50], Loss: 0.9719\n",
      "Epoch [12/50], Loss: 0.9589\n",
      "Epoch [13/50], Loss: 1.0264\n",
      "Epoch [14/50], Loss: 0.9836\n",
      "Epoch [15/50], Loss: 0.9596\n",
      "Epoch [16/50], Loss: 1.0336\n",
      "Epoch [17/50], Loss: 0.9867\n",
      "Epoch [18/50], Loss: 1.0127\n",
      "Epoch [19/50], Loss: 1.0288\n",
      "Epoch [20/50], Loss: 1.0002\n",
      "Epoch [21/50], Loss: 0.9780\n",
      "Epoch [22/50], Loss: 0.9665\n",
      "Epoch [23/50], Loss: 0.9881\n",
      "Epoch [24/50], Loss: 0.9893\n",
      "Epoch [25/50], Loss: 0.9892\n",
      "Epoch [26/50], Loss: 1.0321\n",
      "Epoch [27/50], Loss: 0.9604\n",
      "Epoch [28/50], Loss: 1.0100\n",
      "Epoch [29/50], Loss: 1.0305\n",
      "Epoch [30/50], Loss: 1.0216\n",
      "Epoch [31/50], Loss: 0.9749\n",
      "Epoch [32/50], Loss: 0.9668\n",
      "Epoch [33/50], Loss: 1.0110\n",
      "Epoch [34/50], Loss: 1.0140\n",
      "Epoch [35/50], Loss: 1.0980\n",
      "Epoch [36/50], Loss: 1.0404\n",
      "Epoch [37/50], Loss: 1.0100\n",
      "Epoch [38/50], Loss: 0.9674\n",
      "Epoch [39/50], Loss: 0.9752\n",
      "Epoch [40/50], Loss: 0.9435\n",
      "Epoch [41/50], Loss: 0.9998\n",
      "Epoch [42/50], Loss: 0.9849\n",
      "Epoch [43/50], Loss: 0.9986\n",
      "Epoch [44/50], Loss: 1.0525\n",
      "Epoch [45/50], Loss: 0.9715\n",
      "Epoch [46/50], Loss: 0.9395\n",
      "Epoch [47/50], Loss: 1.0048\n",
      "Epoch [48/50], Loss: 1.0315\n",
      "Epoch [49/50], Loss: 0.9794\n"
     ]
    },
    {
     "name": "stderr",
     "output_type": "stream",
     "text": [
      "\u001b[32m[I 2023-05-09 09:21:18,342]\u001b[0m Trial 1 finished with value: 0.9820969104766846 and parameters: {'n_layers': 5, 'activation': 0, 'dropout_l5': 0.39135440730626125, 'dropout_l4': 0.24077675566796763, 'dropout_l3': 0.44411013230120333, 'dropout_l2': 0.25434840623344906, 'dropout_l1': 0.091971381464306, 'bottleneck_size': 44, 'optimizer': 'Adam', 'lr': 0.00979268027885116}. Best is trial 0 with value: 0.3159120976924896.\u001b[0m\n"
     ]
    },
    {
     "name": "stdout",
     "output_type": "stream",
     "text": [
      "Epoch [50/50], Loss: 0.9821\n",
      "Epoch [1/50], Loss: 0.7408\n",
      "Epoch [2/50], Loss: 0.7058\n",
      "Epoch [3/50], Loss: 0.6362\n",
      "Epoch [4/50], Loss: 0.4894\n",
      "Epoch [5/50], Loss: 0.4860\n",
      "Epoch [6/50], Loss: 0.4673\n",
      "Epoch [7/50], Loss: 0.5184\n",
      "Epoch [8/50], Loss: 0.4453\n",
      "Epoch [9/50], Loss: 0.4531\n",
      "Epoch [10/50], Loss: 0.4350\n",
      "Epoch [11/50], Loss: 0.4790\n",
      "Epoch [12/50], Loss: 0.4261\n",
      "Epoch [13/50], Loss: 0.4072\n",
      "Epoch [14/50], Loss: 0.4004\n",
      "Epoch [15/50], Loss: 0.4008\n",
      "Epoch [16/50], Loss: 0.3760\n",
      "Epoch [17/50], Loss: 0.4530\n",
      "Epoch [18/50], Loss: 0.3828\n",
      "Epoch [19/50], Loss: 0.3804\n",
      "Epoch [20/50], Loss: 0.4036\n",
      "Epoch [21/50], Loss: 0.3695\n",
      "Epoch [22/50], Loss: 0.3854\n",
      "Epoch [23/50], Loss: 0.3785\n",
      "Epoch [24/50], Loss: 0.3691\n",
      "Epoch [25/50], Loss: 0.3786\n",
      "Epoch [26/50], Loss: 0.3611\n",
      "Epoch [27/50], Loss: 0.3475\n",
      "Epoch [28/50], Loss: 0.3587\n",
      "Epoch [29/50], Loss: 0.3626\n",
      "Epoch [30/50], Loss: 0.3535\n",
      "Epoch [31/50], Loss: 0.3505\n",
      "Epoch [32/50], Loss: 0.3491\n",
      "Epoch [33/50], Loss: 0.3417\n",
      "Epoch [34/50], Loss: 0.3449\n",
      "Epoch [35/50], Loss: 0.3543\n",
      "Epoch [36/50], Loss: 0.3423\n",
      "Epoch [37/50], Loss: 0.3425\n",
      "Epoch [38/50], Loss: 0.3275\n",
      "Epoch [39/50], Loss: 0.3243\n",
      "Epoch [40/50], Loss: 0.3401\n",
      "Epoch [41/50], Loss: 0.3369\n",
      "Epoch [42/50], Loss: 0.3272\n",
      "Epoch [43/50], Loss: 0.3299\n",
      "Epoch [44/50], Loss: 0.3294\n",
      "Epoch [45/50], Loss: 0.4194\n",
      "Epoch [46/50], Loss: 0.3909\n",
      "Epoch [47/50], Loss: 0.3237\n",
      "Epoch [48/50], Loss: 0.3363\n",
      "Epoch [49/50], Loss: 0.3195\n"
     ]
    },
    {
     "name": "stderr",
     "output_type": "stream",
     "text": [
      "\u001b[32m[I 2023-05-09 09:28:13,982]\u001b[0m Trial 2 finished with value: 0.3214656412601471 and parameters: {'n_layers': 6, 'activation': 4, 'dropout_l6': 0.1994758150736708, 'dropout_l5': 0.3180016015083107, 'dropout_l4': 0.22636610463698142, 'dropout_l3': 0.39007022520620754, 'dropout_l2': 0.20760372392925858, 'dropout_l1': 0.1106168679520591, 'bottleneck_size': 101, 'optimizer': 'Adam', 'lr': 4.7465063733411676e-05}. Best is trial 0 with value: 0.3159120976924896.\u001b[0m\n"
     ]
    },
    {
     "name": "stdout",
     "output_type": "stream",
     "text": [
      "Epoch [50/50], Loss: 0.3215\n",
      "Epoch [1/50], Loss: 1.0220\n",
      "Epoch [2/50], Loss: 1.0158\n",
      "Epoch [3/50], Loss: 1.0036\n",
      "Epoch [4/50], Loss: 1.0596\n",
      "Epoch [5/50], Loss: 0.9837\n",
      "Epoch [6/50], Loss: 0.9955\n",
      "Epoch [7/50], Loss: 0.9784\n",
      "Epoch [8/50], Loss: 1.0113\n",
      "Epoch [9/50], Loss: 0.9956\n",
      "Epoch [10/50], Loss: 0.9922\n",
      "Epoch [11/50], Loss: 0.9896\n",
      "Epoch [12/50], Loss: 0.9855\n",
      "Epoch [13/50], Loss: 1.0070\n",
      "Epoch [14/50], Loss: 1.0862\n",
      "Epoch [15/50], Loss: 0.9923\n",
      "Epoch [16/50], Loss: 1.0112\n",
      "Epoch [17/50], Loss: 1.0193\n",
      "Epoch [18/50], Loss: 0.9933\n",
      "Epoch [19/50], Loss: 1.0054\n",
      "Epoch [20/50], Loss: 0.9787\n",
      "Epoch [21/50], Loss: 0.9906\n",
      "Epoch [22/50], Loss: 0.9254\n",
      "Epoch [23/50], Loss: 1.0761\n",
      "Epoch [24/50], Loss: 1.0149\n",
      "Epoch [25/50], Loss: 1.0150\n",
      "Epoch [26/50], Loss: 0.9667\n",
      "Epoch [27/50], Loss: 0.9875\n",
      "Epoch [28/50], Loss: 0.9591\n",
      "Epoch [29/50], Loss: 1.0261\n",
      "Epoch [30/50], Loss: 1.0329\n",
      "Epoch [31/50], Loss: 0.9919\n",
      "Epoch [32/50], Loss: 1.0112\n",
      "Epoch [33/50], Loss: 0.9916\n",
      "Epoch [34/50], Loss: 1.0393\n",
      "Epoch [35/50], Loss: 0.9618\n",
      "Epoch [36/50], Loss: 1.0117\n",
      "Epoch [37/50], Loss: 1.0046\n",
      "Epoch [38/50], Loss: 0.9920\n",
      "Epoch [39/50], Loss: 0.9562\n",
      "Epoch [40/50], Loss: 1.0218\n",
      "Epoch [41/50], Loss: 0.9592\n",
      "Epoch [42/50], Loss: 0.9787\n",
      "Epoch [43/50], Loss: 1.0987\n",
      "Epoch [44/50], Loss: 0.9646\n",
      "Epoch [45/50], Loss: 0.9861\n",
      "Epoch [46/50], Loss: 0.9874\n",
      "Epoch [47/50], Loss: 0.9574\n",
      "Epoch [48/50], Loss: 0.9626\n",
      "Epoch [49/50], Loss: 1.0550\n"
     ]
    },
    {
     "name": "stderr",
     "output_type": "stream",
     "text": [
      "\u001b[32m[I 2023-05-09 09:35:07,565]\u001b[0m Trial 3 finished with value: 1.009128212928772 and parameters: {'n_layers': 6, 'activation': 0, 'dropout_l6': 0.1774852555784096, 'dropout_l5': 0.42668475695574437, 'dropout_l4': 0.22794953648917332, 'dropout_l3': 0.08806184272813844, 'dropout_l2': 0.496368295734212, 'dropout_l1': 0.3942847234344275, 'bottleneck_size': 117, 'optimizer': 'Adam', 'lr': 0.01520188177652776}. Best is trial 0 with value: 0.3159120976924896.\u001b[0m\n"
     ]
    },
    {
     "name": "stdout",
     "output_type": "stream",
     "text": [
      "Epoch [50/50], Loss: 1.0091\n",
      "Epoch [1/50], Loss: 0.9715\n",
      "Epoch [2/50], Loss: 0.9852\n",
      "Epoch [3/50], Loss: 1.0103\n",
      "Epoch [4/50], Loss: 1.0457\n",
      "Epoch [5/50], Loss: 1.0702\n",
      "Epoch [6/50], Loss: 1.0317\n",
      "Epoch [7/50], Loss: 1.0259\n",
      "Epoch [8/50], Loss: 1.0245\n",
      "Epoch [9/50], Loss: 0.9967\n",
      "Epoch [10/50], Loss: 1.0388\n",
      "Epoch [11/50], Loss: 0.9544\n",
      "Epoch [12/50], Loss: 0.9981\n",
      "Epoch [13/50], Loss: 0.9988\n",
      "Epoch [14/50], Loss: 1.1027\n",
      "Epoch [15/50], Loss: 1.0006\n",
      "Epoch [16/50], Loss: 0.9482\n",
      "Epoch [17/50], Loss: 0.9981\n",
      "Epoch [18/50], Loss: 1.0038\n",
      "Epoch [19/50], Loss: 1.0041\n",
      "Epoch [20/50], Loss: 1.0201\n",
      "Epoch [21/50], Loss: 1.0290\n",
      "Epoch [22/50], Loss: 1.0011\n",
      "Epoch [23/50], Loss: 1.0113\n",
      "Epoch [24/50], Loss: 0.9900\n",
      "Epoch [25/50], Loss: 0.9987\n",
      "Epoch [26/50], Loss: 0.9957\n",
      "Epoch [27/50], Loss: 1.0177\n",
      "Epoch [28/50], Loss: 1.0049\n",
      "Epoch [29/50], Loss: 1.0144\n",
      "Epoch [30/50], Loss: 0.9944\n",
      "Epoch [31/50], Loss: 0.9680\n",
      "Epoch [32/50], Loss: 0.9692\n",
      "Epoch [33/50], Loss: 0.9546\n",
      "Epoch [34/50], Loss: 0.9538\n",
      "Epoch [35/50], Loss: 0.9360\n",
      "Epoch [36/50], Loss: 0.9448\n",
      "Epoch [37/50], Loss: 0.9270\n",
      "Epoch [38/50], Loss: 0.8921\n",
      "Epoch [39/50], Loss: 0.8622\n",
      "Epoch [40/50], Loss: 0.8426\n",
      "Epoch [41/50], Loss: 0.8109\n",
      "Epoch [42/50], Loss: 0.7466\n",
      "Epoch [43/50], Loss: 0.7203\n",
      "Epoch [44/50], Loss: 0.7288\n",
      "Epoch [45/50], Loss: 0.7479\n",
      "Epoch [46/50], Loss: 0.7327\n",
      "Epoch [47/50], Loss: 0.7540\n",
      "Epoch [48/50], Loss: 0.6929\n"
     ]
    },
    {
     "name": "stderr",
     "output_type": "stream",
     "text": [
      "\u001b[32m[I 2023-05-09 09:35:17,176]\u001b[0m Trial 4 finished with value: 0.6981324553489685 and parameters: {'n_layers': 2, 'activation': 0, 'dropout_l2': 0.09019792690125716, 'dropout_l1': 0.1566115303651101, 'bottleneck_size': 54, 'optimizer': 'SGD', 'lr': 0.06468143800988387}. Best is trial 0 with value: 0.3159120976924896.\u001b[0m\n"
     ]
    },
    {
     "name": "stdout",
     "output_type": "stream",
     "text": [
      "Epoch [49/50], Loss: 0.6908\n",
      "Epoch [50/50], Loss: 0.6981\n"
     ]
    },
    {
     "name": "stderr",
     "output_type": "stream",
     "text": [
      "\u001b[32m[I 2023-05-09 09:35:17,388]\u001b[0m Trial 5 pruned. \u001b[0m\n"
     ]
    },
    {
     "name": "stdout",
     "output_type": "stream",
     "text": [
      "Epoch [1/50], Loss: 1.0296\n"
     ]
    },
    {
     "name": "stderr",
     "output_type": "stream",
     "text": [
      "\u001b[32m[I 2023-05-09 09:35:19,828]\u001b[0m Trial 6 pruned. \u001b[0m\n",
      "\u001b[32m[I 2023-05-09 09:35:20,021]\u001b[0m Trial 7 pruned. \u001b[0m\n"
     ]
    },
    {
     "name": "stdout",
     "output_type": "stream",
     "text": [
      "Epoch [1/50], Loss: 0.9632\n",
      "Epoch [1/50], Loss: 1.0255\n"
     ]
    },
    {
     "name": "stderr",
     "output_type": "stream",
     "text": [
      "\u001b[32m[I 2023-05-09 09:35:20,614]\u001b[0m Trial 8 pruned. \u001b[0m\n"
     ]
    },
    {
     "name": "stdout",
     "output_type": "stream",
     "text": [
      "Epoch [1/50], Loss: 37915.0039\n"
     ]
    },
    {
     "name": "stderr",
     "output_type": "stream",
     "text": [
      "\u001b[32m[I 2023-05-09 09:35:21,190]\u001b[0m Trial 9 pruned. \u001b[0m\n"
     ]
    },
    {
     "name": "stdout",
     "output_type": "stream",
     "text": [
      "Epoch [1/50], Loss: 0.9868\n",
      "Epoch [1/50], Loss: 0.8114\n",
      "Epoch [2/50], Loss: 0.7338\n",
      "Epoch [3/50], Loss: 0.6926\n",
      "Epoch [4/50], Loss: 0.7223\n",
      "Epoch [5/50], Loss: 0.6787\n",
      "Epoch [6/50], Loss: 0.6885\n",
      "Epoch [7/50], Loss: 0.6821\n",
      "Epoch [8/50], Loss: 0.6542\n",
      "Epoch [9/50], Loss: 0.6076\n",
      "Epoch [10/50], Loss: 0.6376\n",
      "Epoch [11/50], Loss: 0.5964\n",
      "Epoch [12/50], Loss: 0.6306\n",
      "Epoch [13/50], Loss: 0.5860\n",
      "Epoch [14/50], Loss: 0.5633\n",
      "Epoch [15/50], Loss: 0.5765\n",
      "Epoch [16/50], Loss: 0.6043\n",
      "Epoch [17/50], Loss: 0.5244\n",
      "Epoch [18/50], Loss: 0.5572\n",
      "Epoch [19/50], Loss: 0.5723\n",
      "Epoch [20/50], Loss: 0.5240\n",
      "Epoch [21/50], Loss: 0.5330\n",
      "Epoch [22/50], Loss: 0.5247\n",
      "Epoch [23/50], Loss: 0.5864\n",
      "Epoch [24/50], Loss: 0.5297\n",
      "Epoch [25/50], Loss: 0.5213\n",
      "Epoch [26/50], Loss: 0.4965\n",
      "Epoch [27/50], Loss: 0.5086\n",
      "Epoch [28/50], Loss: 0.4662\n",
      "Epoch [29/50], Loss: 0.5049\n",
      "Epoch [30/50], Loss: 0.5018\n",
      "Epoch [31/50], Loss: 0.4932\n",
      "Epoch [32/50], Loss: 0.5057\n",
      "Epoch [33/50], Loss: 0.4880\n",
      "Epoch [34/50], Loss: 0.4663\n",
      "Epoch [35/50], Loss: 0.4831\n",
      "Epoch [36/50], Loss: 0.4649\n",
      "Epoch [37/50], Loss: 0.5193\n",
      "Epoch [38/50], Loss: 0.4847\n",
      "Epoch [39/50], Loss: 0.4879\n",
      "Epoch [40/50], Loss: 0.4600\n",
      "Epoch [41/50], Loss: 0.4606\n",
      "Epoch [42/50], Loss: 0.4908\n",
      "Epoch [43/50], Loss: 0.4643\n",
      "Epoch [44/50], Loss: 0.4556\n",
      "Epoch [45/50], Loss: 0.4322\n",
      "Epoch [46/50], Loss: 0.4970\n",
      "Epoch [47/50], Loss: 0.4500\n",
      "Epoch [48/50], Loss: 0.4533\n",
      "Epoch [49/50], Loss: 0.4586\n"
     ]
    },
    {
     "name": "stderr",
     "output_type": "stream",
     "text": [
      "\u001b[32m[I 2023-05-09 09:35:32,110]\u001b[0m Trial 10 finished with value: 0.4368496835231781 and parameters: {'n_layers': 3, 'activation': 3, 'dropout_l3': 0.19752260394163165, 'dropout_l2': 0.05759368001555153, 'dropout_l1': 0.21361582487480063, 'bottleneck_size': 37, 'optimizer': 'RMSprop', 'lr': 0.0023687155250763084}. Best is trial 0 with value: 0.3159120976924896.\u001b[0m\n"
     ]
    },
    {
     "name": "stdout",
     "output_type": "stream",
     "text": [
      "Epoch [50/50], Loss: 0.4368\n",
      "Epoch [1/50], Loss: 0.8289\n",
      "Epoch [2/50], Loss: 0.7378\n",
      "Epoch [3/50], Loss: 0.6730\n",
      "Epoch [4/50], Loss: 0.6215\n",
      "Epoch [5/50], Loss: 0.6062\n",
      "Epoch [6/50], Loss: 0.6245\n",
      "Epoch [7/50], Loss: 0.5655\n",
      "Epoch [8/50], Loss: 0.4629\n",
      "Epoch [9/50], Loss: 0.4711\n",
      "Epoch [10/50], Loss: 0.4582\n",
      "Epoch [11/50], Loss: 0.4484\n",
      "Epoch [12/50], Loss: 0.4651\n",
      "Epoch [13/50], Loss: 0.4391\n",
      "Epoch [14/50], Loss: 0.4630\n",
      "Epoch [15/50], Loss: 0.4284\n",
      "Epoch [16/50], Loss: 0.4763\n",
      "Epoch [17/50], Loss: 0.4238\n",
      "Epoch [18/50], Loss: 0.4245\n",
      "Epoch [19/50], Loss: 0.4120\n",
      "Epoch [20/50], Loss: 0.4215\n",
      "Epoch [21/50], Loss: 0.4058\n",
      "Epoch [22/50], Loss: 0.4055\n",
      "Epoch [23/50], Loss: 0.4650\n",
      "Epoch [24/50], Loss: 0.4076\n",
      "Epoch [25/50], Loss: 0.3981\n",
      "Epoch [26/50], Loss: 0.3849\n",
      "Epoch [27/50], Loss: 0.3934\n",
      "Epoch [28/50], Loss: 0.3746\n",
      "Epoch [29/50], Loss: 0.3713\n",
      "Epoch [30/50], Loss: 0.3725\n",
      "Epoch [31/50], Loss: 0.3655\n",
      "Epoch [32/50], Loss: 0.4415\n",
      "Epoch [33/50], Loss: 0.3770\n",
      "Epoch [34/50], Loss: 0.3854\n",
      "Epoch [35/50], Loss: 0.3474\n",
      "Epoch [36/50], Loss: 0.3497\n",
      "Epoch [37/50], Loss: 0.3495\n",
      "Epoch [38/50], Loss: 0.3519\n",
      "Epoch [39/50], Loss: 0.3343\n",
      "Epoch [40/50], Loss: 0.3585\n",
      "Epoch [41/50], Loss: 0.3671\n",
      "Epoch [42/50], Loss: 0.3462\n",
      "Epoch [43/50], Loss: 0.3360\n",
      "Epoch [44/50], Loss: 0.3423\n",
      "Epoch [45/50], Loss: 0.3418\n",
      "Epoch [46/50], Loss: 0.3359\n",
      "Epoch [47/50], Loss: 0.3372\n",
      "Epoch [48/50], Loss: 0.3155\n",
      "Epoch [49/50], Loss: 0.3468\n"
     ]
    },
    {
     "name": "stderr",
     "output_type": "stream",
     "text": [
      "\u001b[32m[I 2023-05-09 09:42:27,855]\u001b[0m Trial 11 finished with value: 0.3316429853439331 and parameters: {'n_layers': 6, 'activation': 4, 'dropout_l6': 0.37518493050338275, 'dropout_l5': 0.09170126944022211, 'dropout_l4': 0.00409388799808702, 'dropout_l3': 0.4910101413609035, 'dropout_l2': 0.004365301165688951, 'dropout_l1': 0.003103306419518226, 'bottleneck_size': 103, 'optimizer': 'Adam', 'lr': 1.348524973275676e-05}. Best is trial 0 with value: 0.3159120976924896.\u001b[0m\n"
     ]
    },
    {
     "name": "stdout",
     "output_type": "stream",
     "text": [
      "Epoch [50/50], Loss: 0.3316\n",
      "Epoch [1/50], Loss: 0.7516\n",
      "Epoch [2/50], Loss: 0.6056\n",
      "Epoch [3/50], Loss: 0.5633\n",
      "Epoch [4/50], Loss: 0.4869\n",
      "Epoch [5/50], Loss: 0.4866\n",
      "Epoch [6/50], Loss: 0.4766\n",
      "Epoch [7/50], Loss: 0.4660\n",
      "Epoch [8/50], Loss: 0.4801\n",
      "Epoch [9/50], Loss: 0.4508\n",
      "Epoch [10/50], Loss: 0.4356\n",
      "Epoch [11/50], Loss: 0.4203\n",
      "Epoch [12/50], Loss: 0.4156\n",
      "Epoch [13/50], Loss: 0.4326\n",
      "Epoch [14/50], Loss: 0.4118\n",
      "Epoch [15/50], Loss: 0.4206\n",
      "Epoch [16/50], Loss: 0.3840\n",
      "Epoch [17/50], Loss: 0.4053\n",
      "Epoch [18/50], Loss: 0.4344\n",
      "Epoch [19/50], Loss: 0.4139\n",
      "Epoch [20/50], Loss: 0.4158\n",
      "Epoch [21/50], Loss: 0.4297\n",
      "Epoch [22/50], Loss: 0.3915\n",
      "Epoch [23/50], Loss: 0.4008\n",
      "Epoch [24/50], Loss: 0.3853\n",
      "Epoch [25/50], Loss: 0.4034\n",
      "Epoch [26/50], Loss: 0.3978\n",
      "Epoch [27/50], Loss: 0.3971\n",
      "Epoch [28/50], Loss: 0.4182\n",
      "Epoch [29/50], Loss: 0.3770\n",
      "Epoch [30/50], Loss: 0.3831\n",
      "Epoch [31/50], Loss: 0.3708\n",
      "Epoch [32/50], Loss: 0.4698\n",
      "Epoch [33/50], Loss: 0.3964\n",
      "Epoch [34/50], Loss: 0.3733\n",
      "Epoch [35/50], Loss: 0.3625\n",
      "Epoch [36/50], Loss: 0.3779\n",
      "Epoch [37/50], Loss: 0.3913\n",
      "Epoch [38/50], Loss: 0.4034\n",
      "Epoch [39/50], Loss: 0.4099\n",
      "Epoch [40/50], Loss: 0.3906\n",
      "Epoch [41/50], Loss: 0.4436\n",
      "Epoch [42/50], Loss: 0.3670\n",
      "Epoch [43/50], Loss: 0.4336\n",
      "Epoch [44/50], Loss: 0.4008\n",
      "Epoch [45/50], Loss: 0.4145\n",
      "Epoch [46/50], Loss: 0.3625\n",
      "Epoch [47/50], Loss: 0.3707\n",
      "Epoch [48/50], Loss: 0.3786\n",
      "Epoch [49/50], Loss: 0.3761\n"
     ]
    },
    {
     "name": "stderr",
     "output_type": "stream",
     "text": [
      "\u001b[32m[I 2023-05-09 09:42:39,100]\u001b[0m Trial 12 finished with value: 0.3728625774383545 and parameters: {'n_layers': 3, 'activation': 4, 'dropout_l3': 0.2618504812667021, 'dropout_l2': 0.17969217801818582, 'dropout_l1': 0.2660398034043682, 'bottleneck_size': 98, 'optimizer': 'Adam', 'lr': 0.0002176753602396463}. Best is trial 0 with value: 0.3159120976924896.\u001b[0m\n"
     ]
    },
    {
     "name": "stdout",
     "output_type": "stream",
     "text": [
      "Epoch [50/50], Loss: 0.3729\n"
     ]
    },
    {
     "name": "stderr",
     "output_type": "stream",
     "text": [
      "\u001b[32m[I 2023-05-09 09:42:41,653]\u001b[0m Trial 13 pruned. \u001b[0m\n"
     ]
    },
    {
     "name": "stdout",
     "output_type": "stream",
     "text": [
      "Epoch [1/50], Loss: 0.9812\n",
      "Epoch [1/50], Loss: 0.6065\n",
      "Epoch [2/50], Loss: 0.4971\n",
      "Epoch [3/50], Loss: 0.5184\n",
      "Epoch [4/50], Loss: 0.4617\n",
      "Epoch [5/50], Loss: 0.4496\n",
      "Epoch [6/50], Loss: 0.5122\n",
      "Epoch [7/50], Loss: 0.4476\n",
      "Epoch [8/50], Loss: 0.4416\n",
      "Epoch [9/50], Loss: 0.4091\n",
      "Epoch [10/50], Loss: 0.4084\n",
      "Epoch [11/50], Loss: 0.4003\n",
      "Epoch [12/50], Loss: 0.3752\n",
      "Epoch [13/50], Loss: 0.4302\n",
      "Epoch [14/50], Loss: 0.4301\n",
      "Epoch [15/50], Loss: 0.4010\n",
      "Epoch [16/50], Loss: 0.3989\n",
      "Epoch [17/50], Loss: 0.4120\n",
      "Epoch [18/50], Loss: 0.4043\n",
      "Epoch [19/50], Loss: 0.3952\n",
      "Epoch [20/50], Loss: 0.3840\n",
      "Epoch [21/50], Loss: 0.3850\n",
      "Epoch [22/50], Loss: 0.3986\n",
      "Epoch [23/50], Loss: 0.3903\n",
      "Epoch [24/50], Loss: 0.4135\n",
      "Epoch [25/50], Loss: 0.3759\n",
      "Epoch [26/50], Loss: 0.3814\n",
      "Epoch [27/50], Loss: 0.3920\n",
      "Epoch [28/50], Loss: 0.3904\n",
      "Epoch [29/50], Loss: 0.4042\n",
      "Epoch [30/50], Loss: 0.3629\n",
      "Epoch [31/50], Loss: 0.4088\n",
      "Epoch [32/50], Loss: 0.3711\n",
      "Epoch [33/50], Loss: 0.3694\n",
      "Epoch [34/50], Loss: 0.3715\n",
      "Epoch [35/50], Loss: 0.3797\n",
      "Epoch [36/50], Loss: 0.3840\n",
      "Epoch [37/50], Loss: 0.4265\n",
      "Epoch [38/50], Loss: 0.3888\n",
      "Epoch [39/50], Loss: 0.3672\n",
      "Epoch [40/50], Loss: 0.3577\n",
      "Epoch [41/50], Loss: 0.3595\n",
      "Epoch [42/50], Loss: 0.3646\n",
      "Epoch [43/50], Loss: 0.3794\n",
      "Epoch [44/50], Loss: 0.3687\n",
      "Epoch [45/50], Loss: 0.3530\n",
      "Epoch [46/50], Loss: 0.3622\n",
      "Epoch [47/50], Loss: 0.3741\n",
      "Epoch [48/50], Loss: 0.3584\n",
      "Epoch [49/50], Loss: 0.3754\n"
     ]
    },
    {
     "name": "stderr",
     "output_type": "stream",
     "text": [
      "\u001b[32m[I 2023-05-09 09:42:52,509]\u001b[0m Trial 14 finished with value: 0.351285457611084 and parameters: {'n_layers': 3, 'activation': 4, 'dropout_l3': 0.2906995608495526, 'dropout_l2': 0.0039526718632592606, 'dropout_l1': 0.2674850464943423, 'bottleneck_size': 82, 'optimizer': 'RMSprop', 'lr': 0.00039558009389765645}. Best is trial 0 with value: 0.3159120976924896.\u001b[0m\n"
     ]
    },
    {
     "name": "stdout",
     "output_type": "stream",
     "text": [
      "Epoch [50/50], Loss: 0.3513\n"
     ]
    },
    {
     "name": "stderr",
     "output_type": "stream",
     "text": [
      "\u001b[32m[I 2023-05-09 09:43:02,054]\u001b[0m Trial 15 pruned. \u001b[0m\n"
     ]
    },
    {
     "name": "stdout",
     "output_type": "stream",
     "text": [
      "Epoch [1/50], Loss: 0.9658\n",
      "Epoch [1/50], Loss: 0.4558\n",
      "Epoch [2/50], Loss: 0.4113\n",
      "Epoch [3/50], Loss: 0.3485\n",
      "Epoch [4/50], Loss: 0.3275\n",
      "Epoch [5/50], Loss: 0.3065\n",
      "Epoch [6/50], Loss: 0.2785\n",
      "Epoch [7/50], Loss: 0.2870\n",
      "Epoch [8/50], Loss: 0.2603\n",
      "Epoch [9/50], Loss: 0.2609\n",
      "Epoch [10/50], Loss: 0.2706\n",
      "Epoch [11/50], Loss: 0.2601\n",
      "Epoch [12/50], Loss: 0.2623\n",
      "Epoch [13/50], Loss: 0.2676\n",
      "Epoch [14/50], Loss: 0.2578\n",
      "Epoch [15/50], Loss: 0.2544\n",
      "Epoch [16/50], Loss: 0.2378\n",
      "Epoch [17/50], Loss: 0.2466\n",
      "Epoch [18/50], Loss: 0.2340\n",
      "Epoch [19/50], Loss: 0.2292\n",
      "Epoch [20/50], Loss: 0.2371\n",
      "Epoch [21/50], Loss: 0.2222\n",
      "Epoch [22/50], Loss: 0.2281\n",
      "Epoch [23/50], Loss: 0.2250\n",
      "Epoch [24/50], Loss: 0.2672\n",
      "Epoch [25/50], Loss: 0.2304\n",
      "Epoch [26/50], Loss: 0.2214\n",
      "Epoch [27/50], Loss: 0.2267\n",
      "Epoch [28/50], Loss: 0.2284\n",
      "Epoch [29/50], Loss: 0.2203\n",
      "Epoch [30/50], Loss: 0.2290\n",
      "Epoch [31/50], Loss: 0.2282\n",
      "Epoch [32/50], Loss: 0.2230\n",
      "Epoch [33/50], Loss: 0.2218\n",
      "Epoch [34/50], Loss: 0.2219\n",
      "Epoch [35/50], Loss: 0.2700\n",
      "Epoch [36/50], Loss: 0.2194\n",
      "Epoch [37/50], Loss: 0.2431\n",
      "Epoch [38/50], Loss: 0.2114\n",
      "Epoch [39/50], Loss: 0.2169\n",
      "Epoch [40/50], Loss: 0.2211\n",
      "Epoch [41/50], Loss: 0.2136\n",
      "Epoch [42/50], Loss: 0.2130\n",
      "Epoch [43/50], Loss: 0.2106\n",
      "Epoch [44/50], Loss: 0.2021\n",
      "Epoch [45/50], Loss: 0.2051\n",
      "Epoch [46/50], Loss: 0.2179\n",
      "Epoch [47/50], Loss: 0.2130\n",
      "Epoch [48/50], Loss: 0.2119\n",
      "Epoch [49/50], Loss: 0.2056\n"
     ]
    },
    {
     "name": "stderr",
     "output_type": "stream",
     "text": [
      "\u001b[32m[I 2023-05-09 09:43:29,107]\u001b[0m Trial 16 finished with value: 0.2258077710866928 and parameters: {'n_layers': 4, 'activation': 2, 'dropout_l4': 0.35597722112150765, 'dropout_l3': 0.1767280905143247, 'dropout_l2': 0.17855876964455097, 'dropout_l1': 0.06822942612129657, 'bottleneck_size': 90, 'optimizer': 'Adam', 'lr': 0.0005841344028058817}. Best is trial 16 with value: 0.2258077710866928.\u001b[0m\n"
     ]
    },
    {
     "name": "stdout",
     "output_type": "stream",
     "text": [
      "Epoch [50/50], Loss: 0.2258\n",
      "Epoch [1/50], Loss: 0.5181\n",
      "Epoch [2/50], Loss: 0.3683\n",
      "Epoch [3/50], Loss: 0.3127\n",
      "Epoch [4/50], Loss: 0.2875\n",
      "Epoch [5/50], Loss: 0.2750\n",
      "Epoch [6/50], Loss: 0.2608\n",
      "Epoch [7/50], Loss: 0.2452\n",
      "Epoch [8/50], Loss: 0.2381\n",
      "Epoch [9/50], Loss: 0.2381\n",
      "Epoch [10/50], Loss: 0.2256\n",
      "Epoch [11/50], Loss: 0.2375\n",
      "Epoch [12/50], Loss: 0.2353\n",
      "Epoch [13/50], Loss: 0.2098\n",
      "Epoch [14/50], Loss: 0.2212\n",
      "Epoch [15/50], Loss: 0.2120\n",
      "Epoch [16/50], Loss: 0.2107\n",
      "Epoch [17/50], Loss: 0.2144\n",
      "Epoch [18/50], Loss: 0.2116\n",
      "Epoch [19/50], Loss: 0.2279\n",
      "Epoch [20/50], Loss: 0.2024\n",
      "Epoch [21/50], Loss: 0.1991\n",
      "Epoch [22/50], Loss: 0.1949\n",
      "Epoch [23/50], Loss: 0.2151\n",
      "Epoch [24/50], Loss: 0.1881\n",
      "Epoch [25/50], Loss: 0.1967\n",
      "Epoch [26/50], Loss: 0.1947\n",
      "Epoch [27/50], Loss: 0.1960\n",
      "Epoch [28/50], Loss: 0.2026\n",
      "Epoch [29/50], Loss: 0.2020\n",
      "Epoch [30/50], Loss: 0.1953\n",
      "Epoch [31/50], Loss: 0.1923\n",
      "Epoch [32/50], Loss: 0.2081\n",
      "Epoch [33/50], Loss: 0.1850\n",
      "Epoch [34/50], Loss: 0.1862\n",
      "Epoch [35/50], Loss: 0.1852\n",
      "Epoch [36/50], Loss: 0.1851\n",
      "Epoch [37/50], Loss: 0.1905\n",
      "Epoch [38/50], Loss: 0.1880\n",
      "Epoch [39/50], Loss: 0.1909\n",
      "Epoch [40/50], Loss: 0.1938\n",
      "Epoch [41/50], Loss: 0.2014\n",
      "Epoch [42/50], Loss: 0.1871\n",
      "Epoch [43/50], Loss: 0.1785\n",
      "Epoch [44/50], Loss: 0.1895\n",
      "Epoch [45/50], Loss: 0.1931\n",
      "Epoch [46/50], Loss: 0.1910\n",
      "Epoch [47/50], Loss: 0.1897\n",
      "Epoch [48/50], Loss: 0.1828\n",
      "Epoch [49/50], Loss: 0.1827\n"
     ]
    },
    {
     "name": "stderr",
     "output_type": "stream",
     "text": [
      "\u001b[32m[I 2023-05-09 09:43:40,269]\u001b[0m Trial 17 finished with value: 0.18898780643939972 and parameters: {'n_layers': 3, 'activation': 2, 'dropout_l3': 0.1741838274546175, 'dropout_l2': 0.137163294634533, 'dropout_l1': 0.049539468225965014, 'bottleneck_size': 89, 'optimizer': 'Adam', 'lr': 0.0011267346200600178}. Best is trial 17 with value: 0.18898780643939972.\u001b[0m\n"
     ]
    },
    {
     "name": "stdout",
     "output_type": "stream",
     "text": [
      "Epoch [50/50], Loss: 0.1890\n",
      "Epoch [1/50], Loss: 0.5081\n",
      "Epoch [2/50], Loss: 0.4602\n",
      "Epoch [3/50], Loss: 0.4273\n",
      "Epoch [4/50], Loss: 0.3989\n",
      "Epoch [5/50], Loss: 0.3878\n",
      "Epoch [6/50], Loss: 0.3719\n",
      "Epoch [7/50], Loss: 0.3967\n",
      "Epoch [8/50], Loss: 0.3928\n",
      "Epoch [9/50], Loss: 0.3641\n",
      "Epoch [10/50], Loss: 0.3774\n",
      "Epoch [11/50], Loss: 0.3264\n",
      "Epoch [12/50], Loss: 0.3634\n",
      "Epoch [13/50], Loss: 0.3059\n",
      "Epoch [14/50], Loss: 0.3169\n",
      "Epoch [15/50], Loss: 0.3186\n",
      "Epoch [16/50], Loss: 0.3234\n",
      "Epoch [17/50], Loss: 0.2937\n",
      "Epoch [18/50], Loss: 0.3089\n",
      "Epoch [19/50], Loss: 0.2894\n",
      "Epoch [20/50], Loss: 0.2983\n",
      "Epoch [21/50], Loss: 0.2983\n",
      "Epoch [22/50], Loss: 0.2937\n",
      "Epoch [23/50], Loss: 0.3195\n",
      "Epoch [24/50], Loss: 0.2786\n",
      "Epoch [25/50], Loss: 0.2769\n",
      "Epoch [26/50], Loss: 0.2919\n",
      "Epoch [27/50], Loss: 0.3072\n",
      "Epoch [28/50], Loss: 0.2867\n",
      "Epoch [29/50], Loss: 0.2939\n",
      "Epoch [30/50], Loss: 0.3054\n",
      "Epoch [31/50], Loss: 0.2871\n",
      "Epoch [32/50], Loss: 0.2843\n",
      "Epoch [33/50], Loss: 0.2803\n",
      "Epoch [34/50], Loss: 0.2821\n",
      "Epoch [35/50], Loss: 0.2662\n",
      "Epoch [36/50], Loss: 0.2670\n",
      "Epoch [37/50], Loss: 0.2718\n",
      "Epoch [38/50], Loss: 0.2882\n",
      "Epoch [39/50], Loss: 0.2668\n",
      "Epoch [40/50], Loss: 0.2620\n",
      "Epoch [41/50], Loss: 0.2689\n",
      "Epoch [42/50], Loss: 0.2606\n",
      "Epoch [43/50], Loss: 0.2660\n",
      "Epoch [44/50], Loss: 0.2777\n",
      "Epoch [45/50], Loss: 0.2704\n",
      "Epoch [46/50], Loss: 0.2731\n",
      "Epoch [47/50], Loss: 0.2867\n",
      "Epoch [48/50], Loss: 0.2668\n",
      "Epoch [49/50], Loss: 0.2566\n"
     ]
    },
    {
     "name": "stderr",
     "output_type": "stream",
     "text": [
      "\u001b[32m[I 2023-05-09 09:44:06,082]\u001b[0m Trial 18 finished with value: 0.262932687997818 and parameters: {'n_layers': 4, 'activation': 2, 'dropout_l4': 0.3844353273386446, 'dropout_l3': 0.17836578316511575, 'dropout_l2': 0.14997224313291047, 'dropout_l1': 0.03167741476607644, 'bottleneck_size': 86, 'optimizer': 'Adagrad', 'lr': 0.0005679646805405443}. Best is trial 17 with value: 0.18898780643939972.\u001b[0m\n"
     ]
    },
    {
     "name": "stdout",
     "output_type": "stream",
     "text": [
      "Epoch [50/50], Loss: 0.2629\n"
     ]
    },
    {
     "name": "stderr",
     "output_type": "stream",
     "text": [
      "\u001b[32m[I 2023-05-09 09:44:06,332]\u001b[0m Trial 19 pruned. \u001b[0m\n"
     ]
    },
    {
     "name": "stdout",
     "output_type": "stream",
     "text": [
      "Epoch [1/50], Loss: 1.1767\n",
      "Epoch [1/50], Loss: 0.5237\n",
      "Epoch [2/50], Loss: 0.4288\n",
      "Epoch [3/50], Loss: 0.3799\n",
      "Epoch [4/50], Loss: 0.3613\n",
      "Epoch [5/50], Loss: 0.3346\n",
      "Epoch [6/50], Loss: 0.3354\n",
      "Epoch [7/50], Loss: 0.2926\n",
      "Epoch [8/50], Loss: 0.2767\n",
      "Epoch [9/50], Loss: 0.2903\n",
      "Epoch [10/50], Loss: 0.2771\n",
      "Epoch [11/50], Loss: 0.2693\n",
      "Epoch [12/50], Loss: 0.2894\n",
      "Epoch [13/50], Loss: 0.2618\n",
      "Epoch [14/50], Loss: 0.2555\n",
      "Epoch [15/50], Loss: 0.2684\n",
      "Epoch [16/50], Loss: 0.2894\n",
      "Epoch [17/50], Loss: 0.2679\n",
      "Epoch [18/50], Loss: 0.2569\n",
      "Epoch [19/50], Loss: 0.2613\n",
      "Epoch [20/50], Loss: 0.2577\n",
      "Epoch [21/50], Loss: 0.2452\n",
      "Epoch [22/50], Loss: 0.2431\n",
      "Epoch [23/50], Loss: 0.2357\n",
      "Epoch [24/50], Loss: 0.2346\n",
      "Epoch [25/50], Loss: 0.2422\n",
      "Epoch [26/50], Loss: 0.2575\n",
      "Epoch [27/50], Loss: 0.2528\n",
      "Epoch [28/50], Loss: 0.2246\n",
      "Epoch [29/50], Loss: 0.2237\n",
      "Epoch [30/50], Loss: 0.2301\n",
      "Epoch [31/50], Loss: 0.2191\n",
      "Epoch [32/50], Loss: 0.2463\n",
      "Epoch [33/50], Loss: 0.2289\n",
      "Epoch [34/50], Loss: 0.2249\n",
      "Epoch [35/50], Loss: 0.2304\n",
      "Epoch [36/50], Loss: 0.2209\n",
      "Epoch [37/50], Loss: 0.2234\n",
      "Epoch [38/50], Loss: 0.2242\n",
      "Epoch [39/50], Loss: 0.2205\n",
      "Epoch [40/50], Loss: 0.2168\n",
      "Epoch [41/50], Loss: 0.2274\n",
      "Epoch [42/50], Loss: 0.2608\n",
      "Epoch [43/50], Loss: 0.2150\n",
      "Epoch [44/50], Loss: 0.2320\n",
      "Epoch [45/50], Loss: 0.2271\n",
      "Epoch [46/50], Loss: 0.2911\n",
      "Epoch [47/50], Loss: 0.2242\n",
      "Epoch [48/50], Loss: 0.2158\n",
      "Epoch [49/50], Loss: 0.2071\n"
     ]
    },
    {
     "name": "stderr",
     "output_type": "stream",
     "text": [
      "\u001b[32m[I 2023-05-09 09:44:17,507]\u001b[0m Trial 20 finished with value: 0.22109752893447876 and parameters: {'n_layers': 3, 'activation': 2, 'dropout_l3': 0.11873889488478477, 'dropout_l2': 0.29617516061913973, 'dropout_l1': 0.06030365750971216, 'bottleneck_size': 92, 'optimizer': 'Adam', 'lr': 0.0005199048309038331}. Best is trial 17 with value: 0.18898780643939972.\u001b[0m\n"
     ]
    },
    {
     "name": "stdout",
     "output_type": "stream",
     "text": [
      "Epoch [50/50], Loss: 0.2211\n",
      "Epoch [1/50], Loss: 0.5070\n",
      "Epoch [2/50], Loss: 0.4736\n",
      "Epoch [3/50], Loss: 0.3626\n",
      "Epoch [4/50], Loss: 0.3583\n",
      "Epoch [5/50], Loss: 0.3106\n",
      "Epoch [6/50], Loss: 0.3168\n",
      "Epoch [7/50], Loss: 0.2990\n",
      "Epoch [8/50], Loss: 0.3059\n",
      "Epoch [9/50], Loss: 0.2632\n",
      "Epoch [10/50], Loss: 0.2881\n",
      "Epoch [11/50], Loss: 0.2711\n",
      "Epoch [12/50], Loss: 0.2614\n",
      "Epoch [13/50], Loss: 0.2766\n",
      "Epoch [14/50], Loss: 0.2510\n",
      "Epoch [15/50], Loss: 0.2560\n",
      "Epoch [16/50], Loss: 0.2690\n",
      "Epoch [17/50], Loss: 0.2580\n",
      "Epoch [18/50], Loss: 0.2405\n",
      "Epoch [19/50], Loss: 0.2471\n",
      "Epoch [20/50], Loss: 0.2415\n",
      "Epoch [21/50], Loss: 0.2338\n",
      "Epoch [22/50], Loss: 0.2338\n",
      "Epoch [23/50], Loss: 0.2361\n",
      "Epoch [24/50], Loss: 0.2403\n",
      "Epoch [25/50], Loss: 0.2273\n",
      "Epoch [26/50], Loss: 0.2214\n",
      "Epoch [27/50], Loss: 0.2416\n",
      "Epoch [28/50], Loss: 0.2344\n",
      "Epoch [29/50], Loss: 0.2297\n",
      "Epoch [30/50], Loss: 0.2254\n",
      "Epoch [31/50], Loss: 0.2192\n",
      "Epoch [32/50], Loss: 0.2165\n",
      "Epoch [33/50], Loss: 0.2197\n",
      "Epoch [34/50], Loss: 0.2465\n",
      "Epoch [35/50], Loss: 0.2224\n",
      "Epoch [36/50], Loss: 0.2290\n",
      "Epoch [37/50], Loss: 0.2221\n",
      "Epoch [38/50], Loss: 0.2561\n",
      "Epoch [39/50], Loss: 0.2248\n",
      "Epoch [40/50], Loss: 0.2219\n",
      "Epoch [41/50], Loss: 0.2198\n",
      "Epoch [42/50], Loss: 0.2423\n",
      "Epoch [43/50], Loss: 0.2330\n",
      "Epoch [44/50], Loss: 0.2228\n",
      "Epoch [45/50], Loss: 0.2272\n",
      "Epoch [46/50], Loss: 0.2196\n",
      "Epoch [47/50], Loss: 0.2116\n",
      "Epoch [48/50], Loss: 0.2215\n",
      "Epoch [49/50], Loss: 0.2244\n"
     ]
    },
    {
     "name": "stderr",
     "output_type": "stream",
     "text": [
      "\u001b[32m[I 2023-05-09 09:44:28,727]\u001b[0m Trial 21 finished with value: 0.21309255063533783 and parameters: {'n_layers': 3, 'activation': 2, 'dropout_l3': 0.11016999879128905, 'dropout_l2': 0.3062174984040256, 'dropout_l1': 0.05827210469138782, 'bottleneck_size': 87, 'optimizer': 'Adam', 'lr': 0.0005324001225630744}. Best is trial 17 with value: 0.18898780643939972.\u001b[0m\n"
     ]
    },
    {
     "name": "stdout",
     "output_type": "stream",
     "text": [
      "Epoch [50/50], Loss: 0.2131\n",
      "Epoch [1/50], Loss: 0.5817\n",
      "Epoch [2/50], Loss: 0.4774\n",
      "Epoch [3/50], Loss: 0.4200\n",
      "Epoch [4/50], Loss: 0.3826\n",
      "Epoch [5/50], Loss: 0.3704\n",
      "Epoch [6/50], Loss: 0.3622\n",
      "Epoch [7/50], Loss: 0.3239\n",
      "Epoch [8/50], Loss: 0.2967\n",
      "Epoch [9/50], Loss: 0.3105\n",
      "Epoch [10/50], Loss: 0.4019\n",
      "Epoch [11/50], Loss: 0.2918\n",
      "Epoch [12/50], Loss: 0.2856\n",
      "Epoch [13/50], Loss: 0.2685\n",
      "Epoch [14/50], Loss: 0.2633\n",
      "Epoch [15/50], Loss: 0.2707\n",
      "Epoch [16/50], Loss: 0.2558\n",
      "Epoch [17/50], Loss: 0.2512\n",
      "Epoch [18/50], Loss: 0.3278\n",
      "Epoch [19/50], Loss: 0.2478\n",
      "Epoch [20/50], Loss: 0.2589\n",
      "Epoch [21/50], Loss: 0.2811\n",
      "Epoch [22/50], Loss: 0.2424\n",
      "Epoch [23/50], Loss: 0.3030\n",
      "Epoch [24/50], Loss: 0.2493\n",
      "Epoch [25/50], Loss: 0.2459\n",
      "Epoch [26/50], Loss: 0.2567\n",
      "Epoch [27/50], Loss: 0.2718\n",
      "Epoch [28/50], Loss: 0.2407\n",
      "Epoch [29/50], Loss: 0.2549\n",
      "Epoch [30/50], Loss: 0.2402\n",
      "Epoch [31/50], Loss: 0.2318\n",
      "Epoch [32/50], Loss: 0.2346\n",
      "Epoch [33/50], Loss: 0.2321\n",
      "Epoch [34/50], Loss: 0.2374\n",
      "Epoch [35/50], Loss: 0.2385\n",
      "Epoch [36/50], Loss: 0.2326\n",
      "Epoch [37/50], Loss: 0.2342\n",
      "Epoch [38/50], Loss: 0.2556\n",
      "Epoch [39/50], Loss: 0.2333\n",
      "Epoch [40/50], Loss: 0.2222\n",
      "Epoch [41/50], Loss: 0.2298\n",
      "Epoch [42/50], Loss: 0.2396\n",
      "Epoch [43/50], Loss: 0.2203\n",
      "Epoch [44/50], Loss: 0.2292\n",
      "Epoch [45/50], Loss: 0.2296\n",
      "Epoch [46/50], Loss: 0.2263\n",
      "Epoch [47/50], Loss: 0.2271\n",
      "Epoch [48/50], Loss: 0.2351\n",
      "Epoch [49/50], Loss: 0.2749\n"
     ]
    },
    {
     "name": "stderr",
     "output_type": "stream",
     "text": [
      "\u001b[32m[I 2023-05-09 09:44:39,909]\u001b[0m Trial 22 finished with value: 0.23613356053829193 and parameters: {'n_layers': 3, 'activation': 2, 'dropout_l3': 0.10530365045393218, 'dropout_l2': 0.2944852364862166, 'dropout_l1': 0.061409045374385525, 'bottleneck_size': 112, 'optimizer': 'Adam', 'lr': 0.00029139376007346465}. Best is trial 17 with value: 0.18898780643939972.\u001b[0m\n"
     ]
    },
    {
     "name": "stdout",
     "output_type": "stream",
     "text": [
      "Epoch [50/50], Loss: 0.2361\n",
      "Epoch [1/50], Loss: 0.4724\n",
      "Epoch [2/50], Loss: 0.3920\n",
      "Epoch [3/50], Loss: 0.3252\n",
      "Epoch [4/50], Loss: 0.2901\n",
      "Epoch [5/50], Loss: 0.2771\n",
      "Epoch [6/50], Loss: 0.2608\n",
      "Epoch [7/50], Loss: 0.2464\n",
      "Epoch [8/50], Loss: 0.2283\n",
      "Epoch [9/50], Loss: 0.2240\n",
      "Epoch [10/50], Loss: 0.2217\n",
      "Epoch [11/50], Loss: 0.2169\n",
      "Epoch [12/50], Loss: 0.2059\n",
      "Epoch [13/50], Loss: 0.2105\n",
      "Epoch [14/50], Loss: 0.2003\n",
      "Epoch [15/50], Loss: 0.1907\n",
      "Epoch [16/50], Loss: 0.1936\n",
      "Epoch [17/50], Loss: 0.1949\n",
      "Epoch [18/50], Loss: 0.1858\n",
      "Epoch [19/50], Loss: 0.2055\n",
      "Epoch [20/50], Loss: 0.1940\n",
      "Epoch [21/50], Loss: 0.2093\n",
      "Epoch [22/50], Loss: 0.2009\n",
      "Epoch [23/50], Loss: 0.1946\n",
      "Epoch [24/50], Loss: 0.1857\n",
      "Epoch [25/50], Loss: 0.1855\n",
      "Epoch [26/50], Loss: 0.1818\n",
      "Epoch [27/50], Loss: 0.2027\n",
      "Epoch [28/50], Loss: 0.1909\n",
      "Epoch [29/50], Loss: 0.1841\n",
      "Epoch [30/50], Loss: 0.1849\n",
      "Epoch [31/50], Loss: 0.1735\n",
      "Epoch [32/50], Loss: 0.1786\n",
      "Epoch [33/50], Loss: 0.1795\n",
      "Epoch [34/50], Loss: 0.1834\n",
      "Epoch [35/50], Loss: 0.1769\n",
      "Epoch [36/50], Loss: 0.1752\n",
      "Epoch [37/50], Loss: 0.1796\n",
      "Epoch [38/50], Loss: 0.1697\n",
      "Epoch [39/50], Loss: 0.1892\n",
      "Epoch [40/50], Loss: 0.1663\n",
      "Epoch [41/50], Loss: 0.1641\n",
      "Epoch [42/50], Loss: 0.1749\n",
      "Epoch [43/50], Loss: 0.1726\n",
      "Epoch [44/50], Loss: 0.1591\n",
      "Epoch [45/50], Loss: 0.1770\n",
      "Epoch [46/50], Loss: 0.1819\n",
      "Epoch [47/50], Loss: 0.1751\n",
      "Epoch [48/50], Loss: 0.1671\n",
      "Epoch [49/50], Loss: 0.1672\n"
     ]
    },
    {
     "name": "stderr",
     "output_type": "stream",
     "text": [
      "\u001b[32m[I 2023-05-09 09:44:51,277]\u001b[0m Trial 23 finished with value: 0.1624249964952469 and parameters: {'n_layers': 3, 'activation': 2, 'dropout_l3': 0.1104314196294729, 'dropout_l2': 0.3262018497466134, 'dropout_l1': 0.002726795714695897, 'bottleneck_size': 86, 'optimizer': 'Adam', 'lr': 0.0008709841871170432}. Best is trial 23 with value: 0.1624249964952469.\u001b[0m\n"
     ]
    },
    {
     "name": "stdout",
     "output_type": "stream",
     "text": [
      "Epoch [50/50], Loss: 0.1624\n",
      "Epoch [1/50], Loss: 0.4301\n",
      "Epoch [2/50], Loss: 0.3671\n",
      "Epoch [3/50], Loss: 0.2970\n",
      "Epoch [4/50], Loss: 0.2988\n",
      "Epoch [5/50], Loss: 0.2578\n",
      "Epoch [6/50], Loss: 0.2377\n",
      "Epoch [7/50], Loss: 0.2289\n",
      "Epoch [8/50], Loss: 0.2348\n",
      "Epoch [9/50], Loss: 0.2161\n",
      "Epoch [10/50], Loss: 0.2027\n",
      "Epoch [11/50], Loss: 0.2193\n",
      "Epoch [12/50], Loss: 0.2147\n",
      "Epoch [13/50], Loss: 0.2024\n",
      "Epoch [14/50], Loss: 0.2082\n",
      "Epoch [15/50], Loss: 0.2125\n",
      "Epoch [16/50], Loss: 0.1999\n",
      "Epoch [17/50], Loss: 0.2115\n",
      "Epoch [18/50], Loss: 0.1950\n",
      "Epoch [19/50], Loss: 0.1971\n",
      "Epoch [20/50], Loss: 0.1863\n",
      "Epoch [21/50], Loss: 0.1944\n",
      "Epoch [22/50], Loss: 0.1938\n",
      "Epoch [23/50], Loss: 0.1978\n",
      "Epoch [24/50], Loss: 0.1814\n",
      "Epoch [25/50], Loss: 0.2250\n",
      "Epoch [26/50], Loss: 0.1850\n",
      "Epoch [27/50], Loss: 0.1909\n",
      "Epoch [28/50], Loss: 0.1811\n",
      "Epoch [29/50], Loss: 0.1871\n",
      "Epoch [30/50], Loss: 0.2150\n",
      "Epoch [31/50], Loss: 0.1951\n",
      "Epoch [32/50], Loss: 0.1886\n",
      "Epoch [33/50], Loss: 0.2000\n",
      "Epoch [34/50], Loss: 0.1844\n",
      "Epoch [35/50], Loss: 0.1818\n",
      "Epoch [36/50], Loss: 0.1862\n",
      "Epoch [37/50], Loss: 0.1783\n",
      "Epoch [38/50], Loss: 0.1722\n",
      "Epoch [39/50], Loss: 0.1846\n",
      "Epoch [40/50], Loss: 0.2012\n",
      "Epoch [41/50], Loss: 0.1719\n",
      "Epoch [42/50], Loss: 0.1820\n",
      "Epoch [43/50], Loss: 0.1718\n",
      "Epoch [44/50], Loss: 0.1967\n",
      "Epoch [45/50], Loss: 0.1743\n",
      "Epoch [46/50], Loss: 0.1709\n",
      "Epoch [47/50], Loss: 0.1850\n",
      "Epoch [48/50], Loss: 0.1706\n",
      "Epoch [49/50], Loss: 0.1752\n"
     ]
    },
    {
     "name": "stderr",
     "output_type": "stream",
     "text": [
      "\u001b[32m[I 2023-05-09 09:45:02,531]\u001b[0m Trial 24 finished with value: 0.16571883857250214 and parameters: {'n_layers': 3, 'activation': 2, 'dropout_l3': 0.05439845777768252, 'dropout_l2': 0.3611753217040257, 'dropout_l1': 0.003974208956602054, 'bottleneck_size': 80, 'optimizer': 'Adam', 'lr': 0.0012599417657054933}. Best is trial 23 with value: 0.1624249964952469.\u001b[0m\n"
     ]
    },
    {
     "name": "stdout",
     "output_type": "stream",
     "text": [
      "Epoch [50/50], Loss: 0.1657\n"
     ]
    },
    {
     "name": "stderr",
     "output_type": "stream",
     "text": [
      "\u001b[32m[I 2023-05-09 09:45:03,168]\u001b[0m Trial 25 pruned. \u001b[0m\n"
     ]
    },
    {
     "name": "stdout",
     "output_type": "stream",
     "text": [
      "Epoch [1/50], Loss: 0.8603\n",
      "Epoch [1/50], Loss: 0.5126\n",
      "Epoch [2/50], Loss: 0.4159\n",
      "Epoch [3/50], Loss: 0.3816\n",
      "Epoch [4/50], Loss: 0.3307\n",
      "Epoch [5/50], Loss: 0.3393\n",
      "Epoch [6/50], Loss: 0.2930\n",
      "Epoch [7/50], Loss: 0.2857\n",
      "Epoch [8/50], Loss: 0.2745\n",
      "Epoch [9/50], Loss: 0.2623\n",
      "Epoch [10/50], Loss: 0.2760\n",
      "Epoch [11/50], Loss: 0.2485\n",
      "Epoch [12/50], Loss: 0.2650\n",
      "Epoch [13/50], Loss: 0.2420\n",
      "Epoch [14/50], Loss: 0.2359\n",
      "Epoch [15/50], Loss: 0.2321\n",
      "Epoch [16/50], Loss: 0.2588\n",
      "Epoch [17/50], Loss: 0.2390\n",
      "Epoch [18/50], Loss: 0.2167\n",
      "Epoch [19/50], Loss: 0.2312\n",
      "Epoch [20/50], Loss: 0.2203\n",
      "Epoch [21/50], Loss: 0.2177\n",
      "Epoch [22/50], Loss: 0.2346\n",
      "Epoch [23/50], Loss: 0.2166\n",
      "Epoch [24/50], Loss: 0.2958\n",
      "Epoch [25/50], Loss: 0.2333\n",
      "Epoch [26/50], Loss: 0.2163\n",
      "Epoch [27/50], Loss: 0.2250\n",
      "Epoch [28/50], Loss: 0.2116\n",
      "Epoch [29/50], Loss: 0.2075\n",
      "Epoch [30/50], Loss: 0.2150\n",
      "Epoch [31/50], Loss: 0.2115\n",
      "Epoch [32/50], Loss: 0.2171\n",
      "Epoch [33/50], Loss: 0.2038\n",
      "Epoch [34/50], Loss: 0.2073\n",
      "Epoch [35/50], Loss: 0.2242\n",
      "Epoch [36/50], Loss: 0.2081\n",
      "Epoch [37/50], Loss: 0.2017\n",
      "Epoch [38/50], Loss: 0.2054\n",
      "Epoch [39/50], Loss: 0.2035\n",
      "Epoch [40/50], Loss: 0.1971\n",
      "Epoch [41/50], Loss: 0.1968\n",
      "Epoch [42/50], Loss: 0.2113\n",
      "Epoch [43/50], Loss: 0.2103\n",
      "Epoch [44/50], Loss: 0.2015\n",
      "Epoch [45/50], Loss: 0.2619\n",
      "Epoch [46/50], Loss: 0.2142\n",
      "Epoch [47/50], Loss: 0.1920\n",
      "Epoch [48/50], Loss: 0.1981\n",
      "Epoch [49/50], Loss: 0.2017\n",
      "Epoch [50/50], Loss: 0.2351\n"
     ]
    },
    {
     "name": "stderr",
     "output_type": "stream",
     "text": [
      "\u001b[32m[I 2023-05-09 09:45:13,372]\u001b[0m Trial 26 finished with value: 0.23509037494659424 and parameters: {'n_layers': 2, 'activation': 2, 'dropout_l2': 0.3646409259702553, 'dropout_l1': 0.010770508574069623, 'bottleneck_size': 64, 'optimizer': 'Adam', 'lr': 0.0012593263798043547}. Best is trial 23 with value: 0.1624249964952469.\u001b[0m\n",
      "\u001b[32m[I 2023-05-09 09:45:13,620]\u001b[0m Trial 27 pruned. \u001b[0m\n"
     ]
    },
    {
     "name": "stdout",
     "output_type": "stream",
     "text": [
      "Epoch [1/50], Loss: 2.4510\n",
      "Epoch [1/50], Loss: 0.4884\n",
      "Epoch [2/50], Loss: 0.4833\n"
     ]
    },
    {
     "name": "stderr",
     "output_type": "stream",
     "text": [
      "\u001b[32m[I 2023-05-09 09:45:14,284]\u001b[0m Trial 28 pruned. \u001b[0m\n"
     ]
    },
    {
     "name": "stdout",
     "output_type": "stream",
     "text": [
      "Epoch [3/50], Loss: 0.4568\n",
      "Epoch [1/50], Loss: 0.5592\n",
      "Epoch [2/50], Loss: 0.3956\n",
      "Epoch [3/50], Loss: 0.4074\n",
      "Epoch [4/50], Loss: 0.3387\n",
      "Epoch [5/50], Loss: 0.3371\n",
      "Epoch [6/50], Loss: 0.3305\n",
      "Epoch [7/50], Loss: 0.3036\n",
      "Epoch [8/50], Loss: 0.2967\n",
      "Epoch [9/50], Loss: 0.2988\n",
      "Epoch [10/50], Loss: 0.3036\n",
      "Epoch [11/50], Loss: 0.3142\n",
      "Epoch [12/50], Loss: 0.3019\n",
      "Epoch [13/50], Loss: 0.2919\n",
      "Epoch [14/50], Loss: 0.2849\n",
      "Epoch [15/50], Loss: 0.2894\n",
      "Epoch [16/50], Loss: 0.3114\n",
      "Epoch [17/50], Loss: 0.2939\n",
      "Epoch [18/50], Loss: 0.2958\n",
      "Epoch [19/50], Loss: 0.2986\n",
      "Epoch [20/50], Loss: 0.2986\n",
      "Epoch [21/50], Loss: 0.2932\n",
      "Epoch [22/50], Loss: 0.2599\n",
      "Epoch [23/50], Loss: 0.2941\n",
      "Epoch [24/50], Loss: 0.2749\n",
      "Epoch [25/50], Loss: 0.2703\n",
      "Epoch [26/50], Loss: 0.2868\n",
      "Epoch [27/50], Loss: 0.2972\n",
      "Epoch [28/50], Loss: 0.2780\n",
      "Epoch [29/50], Loss: 0.2822\n",
      "Epoch [30/50], Loss: 0.2949\n",
      "Epoch [31/50], Loss: 0.2850\n",
      "Epoch [32/50], Loss: 0.2786\n",
      "Epoch [33/50], Loss: 0.2885\n",
      "Epoch [34/50], Loss: 0.2896\n",
      "Epoch [35/50], Loss: 0.2761\n",
      "Epoch [36/50], Loss: 0.3010\n",
      "Epoch [37/50], Loss: 0.2788\n",
      "Epoch [38/50], Loss: 0.2750\n",
      "Epoch [39/50], Loss: 0.2877\n",
      "Epoch [40/50], Loss: 0.2984\n",
      "Epoch [41/50], Loss: 0.2822\n",
      "Epoch [42/50], Loss: 0.2742\n",
      "Epoch [43/50], Loss: 0.2805\n",
      "Epoch [44/50], Loss: 0.3032\n",
      "Epoch [45/50], Loss: 0.2826\n",
      "Epoch [46/50], Loss: 0.2787\n",
      "Epoch [47/50], Loss: 0.2885\n",
      "Epoch [48/50], Loss: 0.3030\n",
      "Epoch [49/50], Loss: 0.2805\n",
      "Epoch [50/50], Loss: 0.2669\n"
     ]
    },
    {
     "name": "stderr",
     "output_type": "stream",
     "text": [
      "\u001b[32m[I 2023-05-09 09:45:24,512]\u001b[0m Trial 29 finished with value: 0.26690682768821716 and parameters: {'n_layers': 2, 'activation': 2, 'dropout_l2': 0.2742942776558321, 'dropout_l1': 0.1298874362323069, 'bottleneck_size': 63, 'optimizer': 'Adam', 'lr': 0.005616040296635595}. Best is trial 23 with value: 0.1624249964952469.\u001b[0m\n",
      "\u001b[32m[I 2023-05-09 09:45:25,144]\u001b[0m Trial 30 pruned. \u001b[0m\n"
     ]
    },
    {
     "name": "stdout",
     "output_type": "stream",
     "text": [
      "Epoch [1/50], Loss: 0.7104\n",
      "Epoch [1/50], Loss: 0.4971\n",
      "Epoch [2/50], Loss: 0.3720\n",
      "Epoch [3/50], Loss: 0.3579\n",
      "Epoch [4/50], Loss: 0.3377\n",
      "Epoch [5/50], Loss: 0.2962\n",
      "Epoch [6/50], Loss: 0.3009\n",
      "Epoch [7/50], Loss: 0.2972\n",
      "Epoch [8/50], Loss: 0.2791\n",
      "Epoch [9/50], Loss: 0.2817\n",
      "Epoch [10/50], Loss: 0.2679\n",
      "Epoch [11/50], Loss: 0.2581\n",
      "Epoch [12/50], Loss: 0.2636\n",
      "Epoch [13/50], Loss: 0.2633\n",
      "Epoch [14/50], Loss: 0.2442\n",
      "Epoch [15/50], Loss: 0.2462\n",
      "Epoch [16/50], Loss: 0.2613\n",
      "Epoch [17/50], Loss: 0.2577\n",
      "Epoch [18/50], Loss: 0.2316\n",
      "Epoch [19/50], Loss: 0.2346\n",
      "Epoch [20/50], Loss: 0.2427\n",
      "Epoch [21/50], Loss: 0.2461\n",
      "Epoch [22/50], Loss: 0.2298\n",
      "Epoch [23/50], Loss: 0.2454\n",
      "Epoch [24/50], Loss: 0.2283\n",
      "Epoch [25/50], Loss: 0.2384\n",
      "Epoch [26/50], Loss: 0.2640\n",
      "Epoch [27/50], Loss: 0.2337\n",
      "Epoch [28/50], Loss: 0.2276\n",
      "Epoch [29/50], Loss: 0.2409\n",
      "Epoch [30/50], Loss: 0.2301\n",
      "Epoch [31/50], Loss: 0.2430\n",
      "Epoch [32/50], Loss: 0.2281\n",
      "Epoch [33/50], Loss: 0.2867\n",
      "Epoch [34/50], Loss: 0.2267\n",
      "Epoch [35/50], Loss: 0.2269\n",
      "Epoch [36/50], Loss: 0.2430\n",
      "Epoch [37/50], Loss: 0.2182\n",
      "Epoch [38/50], Loss: 0.2177\n",
      "Epoch [39/50], Loss: 0.2156\n",
      "Epoch [40/50], Loss: 0.2257\n",
      "Epoch [41/50], Loss: 0.2163\n",
      "Epoch [42/50], Loss: 0.2267\n",
      "Epoch [43/50], Loss: 0.2182\n",
      "Epoch [44/50], Loss: 0.2320\n",
      "Epoch [45/50], Loss: 0.2166\n",
      "Epoch [46/50], Loss: 0.2209\n",
      "Epoch [47/50], Loss: 0.2285\n",
      "Epoch [48/50], Loss: 0.2613\n",
      "Epoch [49/50], Loss: 0.2111\n"
     ]
    },
    {
     "name": "stderr",
     "output_type": "stream",
     "text": [
      "\u001b[32m[I 2023-05-09 09:45:36,447]\u001b[0m Trial 31 finished with value: 0.21858976781368256 and parameters: {'n_layers': 3, 'activation': 2, 'dropout_l3': 0.12956052407062446, 'dropout_l2': 0.3138147548149624, 'dropout_l1': 0.05981692792924238, 'bottleneck_size': 90, 'optimizer': 'Adam', 'lr': 0.0007930671555585278}. Best is trial 23 with value: 0.1624249964952469.\u001b[0m\n"
     ]
    },
    {
     "name": "stdout",
     "output_type": "stream",
     "text": [
      "Epoch [50/50], Loss: 0.2186\n"
     ]
    },
    {
     "name": "stderr",
     "output_type": "stream",
     "text": [
      "\u001b[32m[I 2023-05-09 09:45:36,711]\u001b[0m Trial 32 pruned. \u001b[0m\n"
     ]
    },
    {
     "name": "stdout",
     "output_type": "stream",
     "text": [
      "Epoch [1/50], Loss: 0.5740\n"
     ]
    },
    {
     "name": "stderr",
     "output_type": "stream",
     "text": [
      "\u001b[32m[I 2023-05-09 09:45:36,943]\u001b[0m Trial 33 pruned. \u001b[0m\n"
     ]
    },
    {
     "name": "stdout",
     "output_type": "stream",
     "text": [
      "Epoch [1/50], Loss: 0.6423\n"
     ]
    },
    {
     "name": "stderr",
     "output_type": "stream",
     "text": [
      "\u001b[32m[I 2023-05-09 09:45:37,207]\u001b[0m Trial 34 pruned. \u001b[0m\n"
     ]
    },
    {
     "name": "stdout",
     "output_type": "stream",
     "text": [
      "Epoch [1/50], Loss: 0.9010\n",
      "Epoch [1/50], Loss: 0.5585\n",
      "Epoch [2/50], Loss: 0.4365\n",
      "Epoch [3/50], Loss: 0.4058\n",
      "Epoch [4/50], Loss: 0.3612\n",
      "Epoch [5/50], Loss: 0.3361\n",
      "Epoch [6/50], Loss: 0.3584\n",
      "Epoch [7/50], Loss: 0.2896\n",
      "Epoch [8/50], Loss: 0.3443\n",
      "Epoch [9/50], Loss: 0.2871\n",
      "Epoch [10/50], Loss: 0.2950\n",
      "Epoch [11/50], Loss: 0.2565\n",
      "Epoch [12/50], Loss: 0.2430\n",
      "Epoch [13/50], Loss: 0.2699\n",
      "Epoch [14/50], Loss: 0.2642\n",
      "Epoch [15/50], Loss: 0.2662\n",
      "Epoch [16/50], Loss: 0.2789\n",
      "Epoch [17/50], Loss: 0.2454\n",
      "Epoch [18/50], Loss: 0.2358\n",
      "Epoch [19/50], Loss: 0.2338\n",
      "Epoch [20/50], Loss: 0.2387\n",
      "Epoch [21/50], Loss: 0.2445\n",
      "Epoch [22/50], Loss: 0.2269\n",
      "Epoch [23/50], Loss: 0.2259\n",
      "Epoch [24/50], Loss: 0.2223\n",
      "Epoch [25/50], Loss: 0.2278\n",
      "Epoch [26/50], Loss: 0.2147\n",
      "Epoch [27/50], Loss: 0.2296\n",
      "Epoch [28/50], Loss: 0.2237\n",
      "Epoch [29/50], Loss: 0.2201\n",
      "Epoch [30/50], Loss: 0.2256\n",
      "Epoch [31/50], Loss: 0.2191\n",
      "Epoch [32/50], Loss: 0.2105\n",
      "Epoch [33/50], Loss: 0.2061\n",
      "Epoch [34/50], Loss: 0.2142\n",
      "Epoch [35/50], Loss: 0.2165\n",
      "Epoch [36/50], Loss: 0.2614\n",
      "Epoch [37/50], Loss: 0.2197\n",
      "Epoch [38/50], Loss: 0.2941\n",
      "Epoch [39/50], Loss: 0.2214\n",
      "Epoch [40/50], Loss: 0.2133\n",
      "Epoch [41/50], Loss: 0.2140\n",
      "Epoch [42/50], Loss: 0.2191\n",
      "Epoch [43/50], Loss: 0.2147\n",
      "Epoch [44/50], Loss: 0.2079\n",
      "Epoch [45/50], Loss: 0.2152\n",
      "Epoch [46/50], Loss: 0.2932\n",
      "Epoch [47/50], Loss: 0.2198\n",
      "Epoch [48/50], Loss: 0.1975\n",
      "Epoch [49/50], Loss: 0.2258\n"
     ]
    },
    {
     "name": "stderr",
     "output_type": "stream",
     "text": [
      "\u001b[32m[I 2023-05-09 09:46:04,248]\u001b[0m Trial 35 finished with value: 0.21118168532848358 and parameters: {'n_layers': 4, 'activation': 2, 'dropout_l4': 0.323411568540255, 'dropout_l3': 0.08488268512889573, 'dropout_l2': 0.25211292967087523, 'dropout_l1': 0.04462664870910311, 'bottleneck_size': 87, 'optimizer': 'Adam', 'lr': 0.0016305331797615188}. Best is trial 23 with value: 0.1624249964952469.\u001b[0m\n"
     ]
    },
    {
     "name": "stdout",
     "output_type": "stream",
     "text": [
      "Epoch [50/50], Loss: 0.2112\n"
     ]
    },
    {
     "name": "stderr",
     "output_type": "stream",
     "text": [
      "\u001b[32m[I 2023-05-09 09:46:06,909]\u001b[0m Trial 36 pruned. \u001b[0m\n"
     ]
    },
    {
     "name": "stdout",
     "output_type": "stream",
     "text": [
      "Epoch [1/50], Loss: 3.2416\n"
     ]
    },
    {
     "name": "stderr",
     "output_type": "stream",
     "text": [
      "\u001b[32m[I 2023-05-09 09:46:07,494]\u001b[0m Trial 37 pruned. \u001b[0m\n"
     ]
    },
    {
     "name": "stdout",
     "output_type": "stream",
     "text": [
      "Epoch [1/50], Loss: 0.9919\n"
     ]
    },
    {
     "name": "stderr",
     "output_type": "stream",
     "text": [
      "\u001b[32m[I 2023-05-09 09:46:10,154]\u001b[0m Trial 38 pruned. \u001b[0m\n"
     ]
    },
    {
     "name": "stdout",
     "output_type": "stream",
     "text": [
      "Epoch [1/50], Loss: 73348.4141\n"
     ]
    },
    {
     "name": "stderr",
     "output_type": "stream",
     "text": [
      "\u001b[32m[I 2023-05-09 09:46:10,370]\u001b[0m Trial 39 pruned. \u001b[0m\n"
     ]
    },
    {
     "name": "stdout",
     "output_type": "stream",
     "text": [
      "Epoch [1/50], Loss: 1.0021\n"
     ]
    },
    {
     "name": "stderr",
     "output_type": "stream",
     "text": [
      "\u001b[32m[I 2023-05-09 09:46:11,000]\u001b[0m Trial 40 pruned. \u001b[0m\n"
     ]
    },
    {
     "name": "stdout",
     "output_type": "stream",
     "text": [
      "Epoch [1/50], Loss: 0.6996\n",
      "Epoch [1/50], Loss: 0.5223\n",
      "Epoch [2/50], Loss: 0.3802\n",
      "Epoch [3/50], Loss: 0.3247\n",
      "Epoch [4/50], Loss: 0.3241\n",
      "Epoch [5/50], Loss: 0.3200\n",
      "Epoch [6/50], Loss: 0.2996\n",
      "Epoch [7/50], Loss: 0.2770\n",
      "Epoch [8/50], Loss: 0.2888\n",
      "Epoch [9/50], Loss: 0.2721\n",
      "Epoch [10/50], Loss: 0.2664\n",
      "Epoch [11/50], Loss: 0.2962\n",
      "Epoch [12/50], Loss: 0.2712\n",
      "Epoch [13/50], Loss: 0.2458\n",
      "Epoch [14/50], Loss: 0.2553\n",
      "Epoch [15/50], Loss: 0.2454\n",
      "Epoch [16/50], Loss: 0.2613\n",
      "Epoch [17/50], Loss: 0.2549\n",
      "Epoch [18/50], Loss: 0.2771\n",
      "Epoch [19/50], Loss: 0.2519\n",
      "Epoch [20/50], Loss: 0.2602\n",
      "Epoch [21/50], Loss: 0.2433\n",
      "Epoch [22/50], Loss: 0.2365\n",
      "Epoch [23/50], Loss: 0.2416\n",
      "Epoch [24/50], Loss: 0.2258\n",
      "Epoch [25/50], Loss: 0.2327\n",
      "Epoch [26/50], Loss: 0.2235\n",
      "Epoch [27/50], Loss: 0.2348\n",
      "Epoch [28/50], Loss: 0.2519\n",
      "Epoch [29/50], Loss: 0.2204\n",
      "Epoch [30/50], Loss: 0.2233\n",
      "Epoch [31/50], Loss: 0.2401\n",
      "Epoch [32/50], Loss: 0.2307\n",
      "Epoch [33/50], Loss: 0.2448\n",
      "Epoch [34/50], Loss: 0.2271\n",
      "Epoch [35/50], Loss: 0.2403\n",
      "Epoch [36/50], Loss: 0.2324\n",
      "Epoch [37/50], Loss: 0.2313\n",
      "Epoch [38/50], Loss: 0.2207\n",
      "Epoch [39/50], Loss: 0.2359\n",
      "Epoch [40/50], Loss: 0.2290\n",
      "Epoch [41/50], Loss: 0.2187\n",
      "Epoch [42/50], Loss: 0.2477\n",
      "Epoch [43/50], Loss: 0.2258\n",
      "Epoch [44/50], Loss: 0.2269\n",
      "Epoch [45/50], Loss: 0.2270\n",
      "Epoch [46/50], Loss: 0.2233\n",
      "Epoch [47/50], Loss: 0.2293\n",
      "Epoch [48/50], Loss: 0.2328\n",
      "Epoch [49/50], Loss: 0.2313\n"
     ]
    },
    {
     "name": "stderr",
     "output_type": "stream",
     "text": [
      "\u001b[32m[I 2023-05-09 09:46:22,371]\u001b[0m Trial 41 finished with value: 0.2151768058538437 and parameters: {'n_layers': 3, 'activation': 2, 'dropout_l3': 0.08942135860031084, 'dropout_l2': 0.3344959264776726, 'dropout_l1': 0.06061067484339523, 'bottleneck_size': 86, 'optimizer': 'Adam', 'lr': 0.0008910436507651893}. Best is trial 23 with value: 0.1624249964952469.\u001b[0m\n"
     ]
    },
    {
     "name": "stdout",
     "output_type": "stream",
     "text": [
      "Epoch [50/50], Loss: 0.2152\n",
      "Epoch [1/50], Loss: 0.5379\n",
      "Epoch [2/50], Loss: 0.4399\n",
      "Epoch [3/50], Loss: 0.3926\n",
      "Epoch [4/50], Loss: 0.3654\n",
      "Epoch [5/50], Loss: 0.3296\n",
      "Epoch [6/50], Loss: 0.3140\n"
     ]
    },
    {
     "name": "stderr",
     "output_type": "stream",
     "text": [
      "\u001b[32m[I 2023-05-09 09:46:24,009]\u001b[0m Trial 42 pruned. \u001b[0m\n"
     ]
    },
    {
     "name": "stdout",
     "output_type": "stream",
     "text": [
      "Epoch [7/50], Loss: 0.3232\n",
      "Epoch [1/50], Loss: 0.4995\n",
      "Epoch [2/50], Loss: 0.3934\n",
      "Epoch [3/50], Loss: 0.3481\n",
      "Epoch [4/50], Loss: 0.3205\n",
      "Epoch [5/50], Loss: 0.2968\n",
      "Epoch [6/50], Loss: 0.2922\n",
      "Epoch [7/50], Loss: 0.2632\n",
      "Epoch [8/50], Loss: 0.2611\n",
      "Epoch [9/50], Loss: 0.2681\n",
      "Epoch [10/50], Loss: 0.2355\n",
      "Epoch [11/50], Loss: 0.2555\n",
      "Epoch [12/50], Loss: 0.2261\n",
      "Epoch [13/50], Loss: 0.2191\n",
      "Epoch [14/50], Loss: 0.2392\n",
      "Epoch [15/50], Loss: 0.2319\n",
      "Epoch [16/50], Loss: 0.2234\n",
      "Epoch [17/50], Loss: 0.2053\n",
      "Epoch [18/50], Loss: 0.2210\n",
      "Epoch [19/50], Loss: 0.2246\n",
      "Epoch [20/50], Loss: 0.2130\n",
      "Epoch [21/50], Loss: 0.2124\n",
      "Epoch [22/50], Loss: 0.2057\n",
      "Epoch [23/50], Loss: 0.2472\n",
      "Epoch [24/50], Loss: 0.2061\n",
      "Epoch [25/50], Loss: 0.2197\n",
      "Epoch [26/50], Loss: 0.2142\n",
      "Epoch [27/50], Loss: 0.2166\n",
      "Epoch [28/50], Loss: 0.2092\n",
      "Epoch [29/50], Loss: 0.2079\n",
      "Epoch [30/50], Loss: 0.2114\n",
      "Epoch [31/50], Loss: 0.2184\n",
      "Epoch [32/50], Loss: 0.2142\n",
      "Epoch [33/50], Loss: 0.2253\n",
      "Epoch [34/50], Loss: 0.1890\n",
      "Epoch [35/50], Loss: 0.2022\n",
      "Epoch [36/50], Loss: 0.2111\n",
      "Epoch [37/50], Loss: 0.2039\n",
      "Epoch [38/50], Loss: 0.2015\n",
      "Epoch [39/50], Loss: 0.2085\n",
      "Epoch [40/50], Loss: 0.2053\n",
      "Epoch [41/50], Loss: 0.2072\n",
      "Epoch [42/50], Loss: 0.1973\n",
      "Epoch [43/50], Loss: 0.1925\n",
      "Epoch [44/50], Loss: 0.2619\n",
      "Epoch [45/50], Loss: 0.2623\n",
      "Epoch [46/50], Loss: 0.2003\n",
      "Epoch [47/50], Loss: 0.2208\n",
      "Epoch [48/50], Loss: 0.2062\n",
      "Epoch [49/50], Loss: 0.2268\n"
     ]
    },
    {
     "name": "stderr",
     "output_type": "stream",
     "text": [
      "\u001b[32m[I 2023-05-09 09:46:34,326]\u001b[0m Trial 43 finished with value: 0.2019835263490677 and parameters: {'n_layers': 2, 'activation': 2, 'dropout_l2': 0.3220152536383737, 'dropout_l1': 0.021997443294696058, 'bottleneck_size': 80, 'optimizer': 'Adam', 'lr': 0.0017064672079305113}. Best is trial 23 with value: 0.1624249964952469.\u001b[0m\n"
     ]
    },
    {
     "name": "stdout",
     "output_type": "stream",
     "text": [
      "Epoch [50/50], Loss: 0.2020\n",
      "Epoch [1/50], Loss: 0.5292\n",
      "Epoch [2/50], Loss: 0.4594\n",
      "Epoch [3/50], Loss: 0.3378\n",
      "Epoch [4/50], Loss: 0.3720\n",
      "Epoch [5/50], Loss: 0.2988\n",
      "Epoch [6/50], Loss: 0.2834\n",
      "Epoch [7/50], Loss: 0.2544\n",
      "Epoch [8/50], Loss: 0.2557\n",
      "Epoch [9/50], Loss: 0.2509\n",
      "Epoch [10/50], Loss: 0.2252\n",
      "Epoch [11/50], Loss: 0.2357\n",
      "Epoch [12/50], Loss: 0.2429\n",
      "Epoch [13/50], Loss: 0.2233\n",
      "Epoch [14/50], Loss: 0.2367\n",
      "Epoch [15/50], Loss: 0.2068\n",
      "Epoch [16/50], Loss: 0.2155\n",
      "Epoch [17/50], Loss: 0.2146\n",
      "Epoch [18/50], Loss: 0.2124\n",
      "Epoch [19/50], Loss: 0.2132\n",
      "Epoch [20/50], Loss: 0.2276\n",
      "Epoch [21/50], Loss: 0.2129\n",
      "Epoch [22/50], Loss: 0.2244\n",
      "Epoch [23/50], Loss: 0.2114\n",
      "Epoch [24/50], Loss: 0.2037\n",
      "Epoch [25/50], Loss: 0.2237\n",
      "Epoch [26/50], Loss: 0.2523\n",
      "Epoch [27/50], Loss: 0.2011\n",
      "Epoch [28/50], Loss: 0.2014\n",
      "Epoch [29/50], Loss: 0.2117\n",
      "Epoch [30/50], Loss: 0.2045\n",
      "Epoch [31/50], Loss: 0.2005\n",
      "Epoch [32/50], Loss: 0.2039\n",
      "Epoch [33/50], Loss: 0.1984\n",
      "Epoch [34/50], Loss: 0.2060\n",
      "Epoch [35/50], Loss: 0.2018\n",
      "Epoch [36/50], Loss: 0.1933\n",
      "Epoch [37/50], Loss: 0.2324\n",
      "Epoch [38/50], Loss: 0.2024\n",
      "Epoch [39/50], Loss: 0.1985\n",
      "Epoch [40/50], Loss: 0.2015\n",
      "Epoch [41/50], Loss: 0.2064\n",
      "Epoch [42/50], Loss: 0.1978\n",
      "Epoch [43/50], Loss: 0.2097\n",
      "Epoch [44/50], Loss: 0.1917\n",
      "Epoch [45/50], Loss: 0.2274\n",
      "Epoch [46/50], Loss: 0.1934\n",
      "Epoch [47/50], Loss: 0.1911\n",
      "Epoch [48/50], Loss: 0.2047\n",
      "Epoch [49/50], Loss: 0.1868\n"
     ]
    },
    {
     "name": "stderr",
     "output_type": "stream",
     "text": [
      "\u001b[32m[I 2023-05-09 09:46:44,662]\u001b[0m Trial 44 finished with value: 0.20116116106510162 and parameters: {'n_layers': 2, 'activation': 2, 'dropout_l2': 0.4012376731148651, 'dropout_l1': 0.001659766038988399, 'bottleneck_size': 68, 'optimizer': 'Adam', 'lr': 0.002206380422629}. Best is trial 23 with value: 0.1624249964952469.\u001b[0m\n"
     ]
    },
    {
     "name": "stdout",
     "output_type": "stream",
     "text": [
      "Epoch [50/50], Loss: 0.2012\n"
     ]
    },
    {
     "name": "stderr",
     "output_type": "stream",
     "text": [
      "\u001b[32m[I 2023-05-09 09:46:44,891]\u001b[0m Trial 45 pruned. \u001b[0m\n"
     ]
    },
    {
     "name": "stdout",
     "output_type": "stream",
     "text": [
      "Epoch [1/50], Loss: 0.6601\n"
     ]
    },
    {
     "name": "stderr",
     "output_type": "stream",
     "text": [
      "\u001b[32m[I 2023-05-09 09:46:45,118]\u001b[0m Trial 46 pruned. \u001b[0m\n"
     ]
    },
    {
     "name": "stdout",
     "output_type": "stream",
     "text": [
      "Epoch [1/50], Loss: 0.7561\n"
     ]
    },
    {
     "name": "stderr",
     "output_type": "stream",
     "text": [
      "\u001b[32m[I 2023-05-09 09:46:45,334]\u001b[0m Trial 47 pruned. \u001b[0m\n"
     ]
    },
    {
     "name": "stdout",
     "output_type": "stream",
     "text": [
      "Epoch [1/50], Loss: 1.0006\n"
     ]
    },
    {
     "name": "stderr",
     "output_type": "stream",
     "text": [
      "\u001b[32m[I 2023-05-09 09:46:45,556]\u001b[0m Trial 48 pruned. \u001b[0m\n"
     ]
    },
    {
     "name": "stdout",
     "output_type": "stream",
     "text": [
      "Epoch [1/50], Loss: 0.9309\n"
     ]
    },
    {
     "name": "stderr",
     "output_type": "stream",
     "text": [
      "\u001b[32m[I 2023-05-09 09:46:45,789]\u001b[0m Trial 49 pruned. \u001b[0m\n"
     ]
    },
    {
     "name": "stdout",
     "output_type": "stream",
     "text": [
      "Epoch [1/50], Loss: 0.6948\n",
      "Epoch [1/50], Loss: 0.4371\n",
      "Epoch [2/50], Loss: 0.3535\n",
      "Epoch [3/50], Loss: 0.3275\n",
      "Epoch [4/50], Loss: 0.3033\n",
      "Epoch [5/50], Loss: 0.3058\n",
      "Epoch [6/50], Loss: 0.2909\n",
      "Epoch [7/50], Loss: 0.2785\n",
      "Epoch [8/50], Loss: 0.2733\n",
      "Epoch [9/50], Loss: 0.2680\n",
      "Epoch [10/50], Loss: 0.2578\n",
      "Epoch [11/50], Loss: 0.2790\n",
      "Epoch [12/50], Loss: 0.2683\n",
      "Epoch [13/50], Loss: 0.2817\n",
      "Epoch [14/50], Loss: 0.3311\n",
      "Epoch [15/50], Loss: 0.2810\n",
      "Epoch [16/50], Loss: 0.3477\n",
      "Epoch [17/50], Loss: 0.2979\n",
      "Epoch [18/50], Loss: 0.2745\n",
      "Epoch [19/50], Loss: 0.2499\n",
      "Epoch [20/50], Loss: 0.2543\n",
      "Epoch [21/50], Loss: 0.2610\n",
      "Epoch [22/50], Loss: 0.2699\n"
     ]
    },
    {
     "name": "stderr",
     "output_type": "stream",
     "text": [
      "\u001b[32m[I 2023-05-09 09:46:50,302]\u001b[0m Trial 50 pruned. \u001b[0m\n",
      "\u001b[32m[I 2023-05-09 09:46:50,535]\u001b[0m Trial 51 pruned. \u001b[0m\n"
     ]
    },
    {
     "name": "stdout",
     "output_type": "stream",
     "text": [
      "Epoch [1/50], Loss: 0.5556\n",
      "Epoch [1/50], Loss: 0.5241\n",
      "Epoch [2/50], Loss: 0.4518\n"
     ]
    },
    {
     "name": "stderr",
     "output_type": "stream",
     "text": [
      "\u001b[32m[I 2023-05-09 09:46:57,774]\u001b[0m Trial 52 pruned. \u001b[0m\n"
     ]
    },
    {
     "name": "stdout",
     "output_type": "stream",
     "text": [
      "Epoch [3/50], Loss: 0.4397\n",
      "Epoch [1/50], Loss: 0.4555\n",
      "Epoch [2/50], Loss: 0.3848\n",
      "Epoch [3/50], Loss: 0.3509\n",
      "Epoch [4/50], Loss: 0.3093\n",
      "Epoch [5/50], Loss: 0.3018\n",
      "Epoch [6/50], Loss: 0.2793\n",
      "Epoch [7/50], Loss: 0.2709\n",
      "Epoch [8/50], Loss: 0.2674\n",
      "Epoch [9/50], Loss: 0.2550\n",
      "Epoch [10/50], Loss: 0.3142\n",
      "Epoch [11/50], Loss: 0.2500\n",
      "Epoch [12/50], Loss: 0.2506\n",
      "Epoch [13/50], Loss: 0.2294\n",
      "Epoch [14/50], Loss: 0.2435\n",
      "Epoch [15/50], Loss: 0.2419\n",
      "Epoch [16/50], Loss: 0.2337\n",
      "Epoch [17/50], Loss: 0.2823\n",
      "Epoch [18/50], Loss: 0.2188\n",
      "Epoch [19/50], Loss: 0.2199\n",
      "Epoch [20/50], Loss: 0.2111\n",
      "Epoch [21/50], Loss: 0.2233\n",
      "Epoch [22/50], Loss: 0.2113\n",
      "Epoch [23/50], Loss: 0.2283\n",
      "Epoch [24/50], Loss: 0.2021\n",
      "Epoch [25/50], Loss: 0.2178\n",
      "Epoch [26/50], Loss: 0.2282\n",
      "Epoch [27/50], Loss: 0.2140\n",
      "Epoch [28/50], Loss: 0.2047\n",
      "Epoch [29/50], Loss: 0.2069\n",
      "Epoch [30/50], Loss: 0.2094\n",
      "Epoch [31/50], Loss: 0.2053\n",
      "Epoch [32/50], Loss: 0.2047\n",
      "Epoch [33/50], Loss: 0.1984\n",
      "Epoch [34/50], Loss: 0.1933\n",
      "Epoch [35/50], Loss: 0.1992\n",
      "Epoch [36/50], Loss: 0.1968\n",
      "Epoch [37/50], Loss: 0.1951\n",
      "Epoch [38/50], Loss: 0.1984\n",
      "Epoch [39/50], Loss: 0.2185\n",
      "Epoch [40/50], Loss: 0.2064\n",
      "Epoch [41/50], Loss: 0.2103\n",
      "Epoch [42/50], Loss: 0.1947\n",
      "Epoch [43/50], Loss: 0.2141\n",
      "Epoch [44/50], Loss: 0.1874\n",
      "Epoch [45/50], Loss: 0.1957\n",
      "Epoch [46/50], Loss: 0.2047\n",
      "Epoch [47/50], Loss: 0.2093\n",
      "Epoch [48/50], Loss: 0.1893\n",
      "Epoch [49/50], Loss: 0.2060\n"
     ]
    },
    {
     "name": "stderr",
     "output_type": "stream",
     "text": [
      "\u001b[32m[I 2023-05-09 09:47:24,890]\u001b[0m Trial 53 finished with value: 0.19290436804294586 and parameters: {'n_layers': 4, 'activation': 2, 'dropout_l4': 0.31631166663250143, 'dropout_l3': 0.1445563073537295, 'dropout_l2': 0.1969144387905445, 'dropout_l1': 0.0489114469859631, 'bottleneck_size': 78, 'optimizer': 'Adam', 'lr': 0.0011364392437837139}. Best is trial 23 with value: 0.1624249964952469.\u001b[0m\n"
     ]
    },
    {
     "name": "stdout",
     "output_type": "stream",
     "text": [
      "Epoch [50/50], Loss: 0.1929\n",
      "Epoch [1/50], Loss: 0.4588\n",
      "Epoch [2/50], Loss: 0.3837\n",
      "Epoch [3/50], Loss: 0.3036\n",
      "Epoch [4/50], Loss: 0.2779\n",
      "Epoch [5/50], Loss: 0.2512\n",
      "Epoch [6/50], Loss: 0.2375\n",
      "Epoch [7/50], Loss: 0.2179\n",
      "Epoch [8/50], Loss: 0.2168\n",
      "Epoch [9/50], Loss: 0.2066\n",
      "Epoch [10/50], Loss: 0.2001\n",
      "Epoch [11/50], Loss: 0.1887\n",
      "Epoch [12/50], Loss: 0.2033\n",
      "Epoch [13/50], Loss: 0.1918\n",
      "Epoch [14/50], Loss: 0.1898\n",
      "Epoch [15/50], Loss: 0.1916\n",
      "Epoch [16/50], Loss: 0.1857\n",
      "Epoch [17/50], Loss: 0.1775\n",
      "Epoch [18/50], Loss: 0.1701\n",
      "Epoch [19/50], Loss: 0.1675\n",
      "Epoch [20/50], Loss: 0.1787\n",
      "Epoch [21/50], Loss: 0.1826\n",
      "Epoch [22/50], Loss: 0.1752\n",
      "Epoch [23/50], Loss: 0.1832\n",
      "Epoch [24/50], Loss: 0.1718\n",
      "Epoch [25/50], Loss: 0.1668\n",
      "Epoch [26/50], Loss: 0.1607\n",
      "Epoch [27/50], Loss: 0.1553\n",
      "Epoch [28/50], Loss: 0.1593\n",
      "Epoch [29/50], Loss: 0.1642\n",
      "Epoch [30/50], Loss: 0.1599\n",
      "Epoch [31/50], Loss: 0.1716\n",
      "Epoch [32/50], Loss: 0.1601\n",
      "Epoch [33/50], Loss: 0.1624\n",
      "Epoch [34/50], Loss: 0.1804\n",
      "Epoch [35/50], Loss: 0.1551\n",
      "Epoch [36/50], Loss: 0.1525\n",
      "Epoch [37/50], Loss: 0.1630\n",
      "Epoch [38/50], Loss: 0.1614\n",
      "Epoch [39/50], Loss: 0.1504\n",
      "Epoch [40/50], Loss: 0.1623\n",
      "Epoch [41/50], Loss: 0.1452\n",
      "Epoch [42/50], Loss: 0.1689\n",
      "Epoch [43/50], Loss: 0.1510\n",
      "Epoch [44/50], Loss: 0.1488\n",
      "Epoch [45/50], Loss: 0.1507\n",
      "Epoch [46/50], Loss: 0.1571\n",
      "Epoch [47/50], Loss: 0.1463\n",
      "Epoch [48/50], Loss: 0.1459\n",
      "Epoch [49/50], Loss: 0.1580\n"
     ]
    },
    {
     "name": "stderr",
     "output_type": "stream",
     "text": [
      "\u001b[32m[I 2023-05-09 09:47:36,189]\u001b[0m Trial 54 finished with value: 0.15190386772155762 and parameters: {'n_layers': 3, 'activation': 2, 'dropout_l3': 0.1536073839318597, 'dropout_l2': 0.13649475087767643, 'dropout_l1': 0.02078668913193498, 'bottleneck_size': 77, 'optimizer': 'Adam', 'lr': 0.0011869601952030986}. Best is trial 54 with value: 0.15190386772155762.\u001b[0m\n"
     ]
    },
    {
     "name": "stdout",
     "output_type": "stream",
     "text": [
      "Epoch [50/50], Loss: 0.1519\n"
     ]
    },
    {
     "name": "stderr",
     "output_type": "stream",
     "text": [
      "\u001b[32m[I 2023-05-09 09:47:36,444]\u001b[0m Trial 55 pruned. \u001b[0m\n"
     ]
    },
    {
     "name": "stdout",
     "output_type": "stream",
     "text": [
      "Epoch [1/50], Loss: 0.7063\n"
     ]
    },
    {
     "name": "stderr",
     "output_type": "stream",
     "text": [
      "\u001b[32m[I 2023-05-09 09:47:36,697]\u001b[0m Trial 56 pruned. \u001b[0m\n"
     ]
    },
    {
     "name": "stdout",
     "output_type": "stream",
     "text": [
      "Epoch [1/50], Loss: 0.7313\n",
      "Epoch [1/50], Loss: 0.5033\n"
     ]
    },
    {
     "name": "stderr",
     "output_type": "stream",
     "text": [
      "\u001b[32m[I 2023-05-09 09:47:37,886]\u001b[0m Trial 57 pruned. \u001b[0m\n"
     ]
    },
    {
     "name": "stdout",
     "output_type": "stream",
     "text": [
      "Epoch [2/50], Loss: 0.4648\n"
     ]
    },
    {
     "name": "stderr",
     "output_type": "stream",
     "text": [
      "\u001b[32m[I 2023-05-09 09:47:38,139]\u001b[0m Trial 58 pruned. \u001b[0m\n"
     ]
    },
    {
     "name": "stdout",
     "output_type": "stream",
     "text": [
      "Epoch [1/50], Loss: 0.9807\n",
      "Epoch [1/50], Loss: 0.5010\n",
      "Epoch [2/50], Loss: 0.3844\n",
      "Epoch [3/50], Loss: 0.3559\n",
      "Epoch [4/50], Loss: 0.3449\n"
     ]
    },
    {
     "name": "stderr",
     "output_type": "stream",
     "text": [
      "\u001b[32m[I 2023-05-09 09:47:39,313]\u001b[0m Trial 59 pruned. \u001b[0m\n"
     ]
    },
    {
     "name": "stdout",
     "output_type": "stream",
     "text": [
      "Epoch [5/50], Loss: 0.3518\n"
     ]
    },
    {
     "name": "stderr",
     "output_type": "stream",
     "text": [
      "\u001b[32m[I 2023-05-09 09:47:39,887]\u001b[0m Trial 60 pruned. \u001b[0m\n"
     ]
    },
    {
     "name": "stdout",
     "output_type": "stream",
     "text": [
      "Epoch [1/50], Loss: 1.0244\n",
      "Epoch [1/50], Loss: 0.5136\n"
     ]
    },
    {
     "name": "stderr",
     "output_type": "stream",
     "text": [
      "\u001b[32m[I 2023-05-09 09:47:40,320]\u001b[0m Trial 61 pruned. \u001b[0m\n"
     ]
    },
    {
     "name": "stdout",
     "output_type": "stream",
     "text": [
      "Epoch [2/50], Loss: 0.4722\n",
      "Epoch [1/50], Loss: 0.4239\n",
      "Epoch [2/50], Loss: 0.3482\n",
      "Epoch [3/50], Loss: 0.2790\n",
      "Epoch [4/50], Loss: 0.2522\n",
      "Epoch [5/50], Loss: 0.2371\n",
      "Epoch [6/50], Loss: 0.2335\n",
      "Epoch [7/50], Loss: 0.2313\n",
      "Epoch [8/50], Loss: 0.2074\n",
      "Epoch [9/50], Loss: 0.1945\n",
      "Epoch [10/50], Loss: 0.1924\n",
      "Epoch [11/50], Loss: 0.1883\n",
      "Epoch [12/50], Loss: 0.2177\n",
      "Epoch [13/50], Loss: 0.2523\n",
      "Epoch [14/50], Loss: 0.1798\n",
      "Epoch [15/50], Loss: 0.1891\n",
      "Epoch [16/50], Loss: 0.1742\n",
      "Epoch [17/50], Loss: 0.1700\n",
      "Epoch [18/50], Loss: 0.1731\n",
      "Epoch [19/50], Loss: 0.1752\n",
      "Epoch [20/50], Loss: 0.1740\n",
      "Epoch [21/50], Loss: 0.1757\n",
      "Epoch [22/50], Loss: 0.1732\n",
      "Epoch [23/50], Loss: 0.1711\n",
      "Epoch [24/50], Loss: 0.1685\n",
      "Epoch [25/50], Loss: 0.1597\n",
      "Epoch [26/50], Loss: 0.1848\n",
      "Epoch [27/50], Loss: 0.1622\n",
      "Epoch [28/50], Loss: 0.1612\n",
      "Epoch [29/50], Loss: 0.1603\n",
      "Epoch [30/50], Loss: 0.1515\n",
      "Epoch [31/50], Loss: 0.1628\n",
      "Epoch [32/50], Loss: 0.1735\n",
      "Epoch [33/50], Loss: 0.1526\n",
      "Epoch [34/50], Loss: 0.1633\n",
      "Epoch [35/50], Loss: 0.1573\n",
      "Epoch [36/50], Loss: 0.1541\n",
      "Epoch [37/50], Loss: 0.1538\n",
      "Epoch [38/50], Loss: 0.1545\n",
      "Epoch [39/50], Loss: 0.1554\n",
      "Epoch [40/50], Loss: 0.1473\n",
      "Epoch [41/50], Loss: 0.1482\n",
      "Epoch [42/50], Loss: 0.1514\n",
      "Epoch [43/50], Loss: 0.1456\n",
      "Epoch [44/50], Loss: 0.1452\n",
      "Epoch [45/50], Loss: 0.1470\n",
      "Epoch [46/50], Loss: 0.1469\n",
      "Epoch [47/50], Loss: 0.1464\n",
      "Epoch [48/50], Loss: 0.1475\n",
      "Epoch [49/50], Loss: 0.1449\n"
     ]
    },
    {
     "name": "stderr",
     "output_type": "stream",
     "text": [
      "\u001b[32m[I 2023-05-09 09:47:51,669]\u001b[0m Trial 62 finished with value: 0.15731437504291534 and parameters: {'n_layers': 3, 'activation': 2, 'dropout_l3': 0.1084389621786419, 'dropout_l2': 0.08519893696019132, 'dropout_l1': 0.03174476753773473, 'bottleneck_size': 83, 'optimizer': 'Adam', 'lr': 0.0013854180052979982}. Best is trial 54 with value: 0.15190386772155762.\u001b[0m\n"
     ]
    },
    {
     "name": "stdout",
     "output_type": "stream",
     "text": [
      "Epoch [50/50], Loss: 0.1573\n",
      "Epoch [1/50], Loss: 0.4891\n",
      "Epoch [2/50], Loss: 0.4246\n"
     ]
    },
    {
     "name": "stderr",
     "output_type": "stream",
     "text": [
      "\u001b[32m[I 2023-05-09 09:47:52,375]\u001b[0m Trial 63 pruned. \u001b[0m\n"
     ]
    },
    {
     "name": "stdout",
     "output_type": "stream",
     "text": [
      "Epoch [3/50], Loss: 0.4828\n",
      "Epoch [1/50], Loss: 0.4726\n",
      "Epoch [2/50], Loss: 0.3519\n",
      "Epoch [3/50], Loss: 0.2991\n",
      "Epoch [4/50], Loss: 0.2626\n",
      "Epoch [5/50], Loss: 0.2460\n",
      "Epoch [6/50], Loss: 0.2431\n",
      "Epoch [7/50], Loss: 0.2155\n",
      "Epoch [8/50], Loss: 0.2821\n",
      "Epoch [9/50], Loss: 0.2098\n",
      "Epoch [10/50], Loss: 0.2037\n",
      "Epoch [11/50], Loss: 0.1928\n",
      "Epoch [12/50], Loss: 0.2052\n",
      "Epoch [13/50], Loss: 0.1992\n",
      "Epoch [14/50], Loss: 0.1909\n",
      "Epoch [15/50], Loss: 0.1849\n",
      "Epoch [16/50], Loss: 0.1874\n",
      "Epoch [17/50], Loss: 0.1872\n",
      "Epoch [18/50], Loss: 0.1870\n",
      "Epoch [19/50], Loss: 0.1724\n",
      "Epoch [20/50], Loss: 0.1675\n",
      "Epoch [21/50], Loss: 0.1652\n",
      "Epoch [22/50], Loss: 0.2362\n",
      "Epoch [23/50], Loss: 0.2039\n",
      "Epoch [24/50], Loss: 0.1630\n",
      "Epoch [25/50], Loss: 0.1541\n",
      "Epoch [26/50], Loss: 0.2478\n",
      "Epoch [27/50], Loss: 0.1658\n",
      "Epoch [28/50], Loss: 0.1649\n",
      "Epoch [29/50], Loss: 0.1571\n",
      "Epoch [30/50], Loss: 0.1700\n",
      "Epoch [31/50], Loss: 0.1638\n",
      "Epoch [32/50], Loss: 0.1659\n",
      "Epoch [33/50], Loss: 0.1557\n",
      "Epoch [34/50], Loss: 0.1560\n",
      "Epoch [35/50], Loss: 0.1588\n",
      "Epoch [36/50], Loss: 0.1612\n",
      "Epoch [37/50], Loss: 0.1494\n",
      "Epoch [38/50], Loss: 0.1517\n",
      "Epoch [39/50], Loss: 0.1625\n",
      "Epoch [40/50], Loss: 0.1668\n",
      "Epoch [41/50], Loss: 0.1475\n",
      "Epoch [42/50], Loss: 0.1603\n",
      "Epoch [43/50], Loss: 0.1522\n",
      "Epoch [44/50], Loss: 0.1504\n",
      "Epoch [45/50], Loss: 0.1651\n",
      "Epoch [46/50], Loss: 0.1607\n",
      "Epoch [47/50], Loss: 0.1497\n",
      "Epoch [48/50], Loss: 0.1480\n",
      "Epoch [49/50], Loss: 0.1511\n"
     ]
    },
    {
     "name": "stderr",
     "output_type": "stream",
     "text": [
      "\u001b[32m[I 2023-05-09 09:48:03,720]\u001b[0m Trial 64 finished with value: 0.1497723013162613 and parameters: {'n_layers': 3, 'activation': 2, 'dropout_l3': 0.06228373418674327, 'dropout_l2': 0.12180262567838059, 'dropout_l1': 0.032033453866901984, 'bottleneck_size': 91, 'optimizer': 'Adam', 'lr': 0.0012471347322928353}. Best is trial 64 with value: 0.1497723013162613.\u001b[0m\n"
     ]
    },
    {
     "name": "stdout",
     "output_type": "stream",
     "text": [
      "Epoch [50/50], Loss: 0.1498\n"
     ]
    },
    {
     "name": "stderr",
     "output_type": "stream",
     "text": [
      "\u001b[32m[I 2023-05-09 09:48:03,986]\u001b[0m Trial 65 pruned. \u001b[0m\n"
     ]
    },
    {
     "name": "stdout",
     "output_type": "stream",
     "text": [
      "Epoch [1/50], Loss: 0.6768\n",
      "Epoch [1/50], Loss: 0.4758\n",
      "Epoch [2/50], Loss: 0.3685\n",
      "Epoch [3/50], Loss: 0.3276\n",
      "Epoch [4/50], Loss: 0.2851\n",
      "Epoch [5/50], Loss: 0.2698\n",
      "Epoch [6/50], Loss: 0.2667\n",
      "Epoch [7/50], Loss: 0.2530\n",
      "Epoch [8/50], Loss: 0.2435\n",
      "Epoch [9/50], Loss: 0.2379\n",
      "Epoch [10/50], Loss: 0.2307\n",
      "Epoch [11/50], Loss: 0.2313\n",
      "Epoch [12/50], Loss: 0.2260\n",
      "Epoch [13/50], Loss: 0.2317\n",
      "Epoch [14/50], Loss: 0.2315\n",
      "Epoch [15/50], Loss: 0.2094\n",
      "Epoch [16/50], Loss: 0.2130\n",
      "Epoch [17/50], Loss: 0.2082\n",
      "Epoch [18/50], Loss: 0.2366\n",
      "Epoch [19/50], Loss: 0.2007\n",
      "Epoch [20/50], Loss: 0.2119\n",
      "Epoch [21/50], Loss: 0.2077\n",
      "Epoch [22/50], Loss: 0.2116\n",
      "Epoch [23/50], Loss: 0.2030\n",
      "Epoch [24/50], Loss: 0.2114\n",
      "Epoch [25/50], Loss: 0.2001\n",
      "Epoch [26/50], Loss: 0.1946\n",
      "Epoch [27/50], Loss: 0.1978\n",
      "Epoch [28/50], Loss: 0.1948\n",
      "Epoch [29/50], Loss: 0.2020\n",
      "Epoch [30/50], Loss: 0.1968\n",
      "Epoch [31/50], Loss: 0.1970\n",
      "Epoch [32/50], Loss: 0.1953\n",
      "Epoch [33/50], Loss: 0.1894\n",
      "Epoch [34/50], Loss: 0.1858\n",
      "Epoch [35/50], Loss: 0.1889\n",
      "Epoch [36/50], Loss: 0.1924\n",
      "Epoch [37/50], Loss: 0.2001\n",
      "Epoch [38/50], Loss: 0.1809\n",
      "Epoch [39/50], Loss: 0.1881\n",
      "Epoch [40/50], Loss: 0.1850\n",
      "Epoch [41/50], Loss: 0.1916\n",
      "Epoch [42/50], Loss: 0.1944\n",
      "Epoch [43/50], Loss: 0.1817\n",
      "Epoch [44/50], Loss: 0.1751\n",
      "Epoch [45/50], Loss: 0.1878\n",
      "Epoch [46/50], Loss: 0.1892\n",
      "Epoch [47/50], Loss: 0.2028\n",
      "Epoch [48/50], Loss: 0.1762\n",
      "Epoch [49/50], Loss: 0.1891\n"
     ]
    },
    {
     "name": "stderr",
     "output_type": "stream",
     "text": [
      "\u001b[32m[I 2023-05-09 09:48:15,253]\u001b[0m Trial 66 finished with value: 0.1884986311197281 and parameters: {'n_layers': 3, 'activation': 2, 'dropout_l3': 0.09968557796519098, 'dropout_l2': 0.06406982660968588, 'dropout_l1': 0.07350578132549895, 'bottleneck_size': 89, 'optimizer': 'Adam', 'lr': 0.0009732245692884276}. Best is trial 64 with value: 0.1497723013162613.\u001b[0m\n"
     ]
    },
    {
     "name": "stdout",
     "output_type": "stream",
     "text": [
      "Epoch [50/50], Loss: 0.1885\n",
      "Epoch [1/50], Loss: 0.4759\n",
      "Epoch [2/50], Loss: 0.3702\n",
      "Epoch [3/50], Loss: 0.3736\n",
      "Epoch [4/50], Loss: 0.3124\n",
      "Epoch [5/50], Loss: 0.3020\n",
      "Epoch [6/50], Loss: 0.2670\n",
      "Epoch [7/50], Loss: 0.2591\n",
      "Epoch [8/50], Loss: 0.2436\n",
      "Epoch [9/50], Loss: 0.2435\n",
      "Epoch [10/50], Loss: 0.2363\n",
      "Epoch [11/50], Loss: 0.2373\n",
      "Epoch [12/50], Loss: 0.2594\n",
      "Epoch [13/50], Loss: 0.2292\n",
      "Epoch [14/50], Loss: 0.2239\n",
      "Epoch [15/50], Loss: 0.2282\n",
      "Epoch [16/50], Loss: 0.2129\n",
      "Epoch [17/50], Loss: 0.2110\n",
      "Epoch [18/50], Loss: 0.2184\n",
      "Epoch [19/50], Loss: 0.2155\n",
      "Epoch [20/50], Loss: 0.2126\n",
      "Epoch [21/50], Loss: 0.2124\n",
      "Epoch [22/50], Loss: 0.2039\n",
      "Epoch [23/50], Loss: 0.2426\n",
      "Epoch [24/50], Loss: 0.2056\n",
      "Epoch [25/50], Loss: 0.2102\n",
      "Epoch [26/50], Loss: 0.2161\n",
      "Epoch [27/50], Loss: 0.2055\n",
      "Epoch [28/50], Loss: 0.2044\n",
      "Epoch [29/50], Loss: 0.2007\n",
      "Epoch [30/50], Loss: 0.2020\n",
      "Epoch [31/50], Loss: 0.2079\n",
      "Epoch [32/50], Loss: 0.2658\n",
      "Epoch [33/50], Loss: 0.2134\n",
      "Epoch [34/50], Loss: 0.2116\n",
      "Epoch [35/50], Loss: 0.2008\n",
      "Epoch [36/50], Loss: 0.1970\n",
      "Epoch [37/50], Loss: 0.1946\n",
      "Epoch [38/50], Loss: 0.1987\n",
      "Epoch [39/50], Loss: 0.1921\n",
      "Epoch [40/50], Loss: 0.1985\n",
      "Epoch [41/50], Loss: 0.1953\n",
      "Epoch [42/50], Loss: 0.1997\n",
      "Epoch [43/50], Loss: 0.1981\n",
      "Epoch [44/50], Loss: 0.1920\n",
      "Epoch [45/50], Loss: 0.2139\n",
      "Epoch [46/50], Loss: 0.2018\n",
      "Epoch [47/50], Loss: 0.1937\n",
      "Epoch [48/50], Loss: 0.1880\n",
      "Epoch [49/50], Loss: 0.1823\n"
     ]
    },
    {
     "name": "stderr",
     "output_type": "stream",
     "text": [
      "\u001b[32m[I 2023-05-09 09:48:26,478]\u001b[0m Trial 67 finished with value: 0.18899258971214294 and parameters: {'n_layers': 3, 'activation': 2, 'dropout_l3': 0.09825957486923154, 'dropout_l2': 0.049891002992976954, 'dropout_l1': 0.08041192600625727, 'bottleneck_size': 91, 'optimizer': 'Adam', 'lr': 0.0008058706542362903}. Best is trial 64 with value: 0.1497723013162613.\u001b[0m\n"
     ]
    },
    {
     "name": "stdout",
     "output_type": "stream",
     "text": [
      "Epoch [50/50], Loss: 0.1890\n",
      "Epoch [1/50], Loss: 0.4506\n",
      "Epoch [2/50], Loss: 0.3513\n",
      "Epoch [3/50], Loss: 0.3160\n",
      "Epoch [4/50], Loss: 0.2746\n",
      "Epoch [5/50], Loss: 0.2636\n",
      "Epoch [6/50], Loss: 0.2271\n",
      "Epoch [7/50], Loss: 0.2259\n",
      "Epoch [8/50], Loss: 0.2351\n",
      "Epoch [9/50], Loss: 0.2275\n",
      "Epoch [10/50], Loss: 0.2132\n",
      "Epoch [11/50], Loss: 0.2120\n",
      "Epoch [12/50], Loss: 0.2129\n",
      "Epoch [13/50], Loss: 0.2082\n",
      "Epoch [14/50], Loss: 0.2225\n",
      "Epoch [15/50], Loss: 0.1971\n",
      "Epoch [16/50], Loss: 0.2589\n",
      "Epoch [17/50], Loss: 0.1924\n",
      "Epoch [18/50], Loss: 0.2112\n",
      "Epoch [19/50], Loss: 0.1894\n",
      "Epoch [20/50], Loss: 0.1993\n",
      "Epoch [21/50], Loss: 0.1955\n",
      "Epoch [22/50], Loss: 0.2045\n",
      "Epoch [23/50], Loss: 0.1962\n",
      "Epoch [24/50], Loss: 0.2084\n",
      "Epoch [25/50], Loss: 0.1878\n",
      "Epoch [26/50], Loss: 0.1816\n",
      "Epoch [27/50], Loss: 0.2012\n",
      "Epoch [28/50], Loss: 0.2127\n",
      "Epoch [29/50], Loss: 0.1854\n",
      "Epoch [30/50], Loss: 0.1822\n",
      "Epoch [31/50], Loss: 0.1982\n",
      "Epoch [32/50], Loss: 0.1759\n",
      "Epoch [33/50], Loss: 0.1791\n",
      "Epoch [34/50], Loss: 0.1887\n",
      "Epoch [35/50], Loss: 0.1875\n",
      "Epoch [36/50], Loss: 0.1685\n",
      "Epoch [37/50], Loss: 0.1726\n",
      "Epoch [38/50], Loss: 0.1793\n",
      "Epoch [39/50], Loss: 0.1663\n",
      "Epoch [40/50], Loss: 0.1852\n",
      "Epoch [41/50], Loss: 0.1802\n",
      "Epoch [42/50], Loss: 0.1788\n",
      "Epoch [43/50], Loss: 0.1820\n",
      "Epoch [44/50], Loss: 0.1693\n",
      "Epoch [45/50], Loss: 0.1651\n",
      "Epoch [46/50], Loss: 0.1719\n",
      "Epoch [47/50], Loss: 0.1744\n",
      "Epoch [48/50], Loss: 0.1700\n",
      "Epoch [49/50], Loss: 0.1669\n"
     ]
    },
    {
     "name": "stderr",
     "output_type": "stream",
     "text": [
      "\u001b[32m[I 2023-05-09 09:48:37,885]\u001b[0m Trial 68 finished with value: 0.1751326620578766 and parameters: {'n_layers': 3, 'activation': 2, 'dropout_l3': 0.008791210271263589, 'dropout_l2': 0.0779031033764933, 'dropout_l1': 0.06828706533521613, 'bottleneck_size': 91, 'optimizer': 'Adam', 'lr': 0.0014636063044612987}. Best is trial 64 with value: 0.1497723013162613.\u001b[0m\n"
     ]
    },
    {
     "name": "stdout",
     "output_type": "stream",
     "text": [
      "Epoch [50/50], Loss: 0.1751\n"
     ]
    },
    {
     "name": "stderr",
     "output_type": "stream",
     "text": [
      "\u001b[32m[I 2023-05-09 09:48:38,140]\u001b[0m Trial 69 pruned. \u001b[0m\n"
     ]
    },
    {
     "name": "stdout",
     "output_type": "stream",
     "text": [
      "Epoch [1/50], Loss: 0.7211\n"
     ]
    },
    {
     "name": "stderr",
     "output_type": "stream",
     "text": [
      "\u001b[32m[I 2023-05-09 09:48:38,398]\u001b[0m Trial 70 pruned. \u001b[0m\n"
     ]
    },
    {
     "name": "stdout",
     "output_type": "stream",
     "text": [
      "Epoch [1/50], Loss: 5.1873\n",
      "Epoch [1/50], Loss: 0.5168\n"
     ]
    },
    {
     "name": "stderr",
     "output_type": "stream",
     "text": [
      "\u001b[32m[I 2023-05-09 09:48:38,885]\u001b[0m Trial 71 pruned. \u001b[0m\n"
     ]
    },
    {
     "name": "stdout",
     "output_type": "stream",
     "text": [
      "Epoch [2/50], Loss: 0.4890\n",
      "Epoch [1/50], Loss: 0.5143\n",
      "Epoch [2/50], Loss: 0.4016\n",
      "Epoch [3/50], Loss: 0.3422\n",
      "Epoch [4/50], Loss: 0.3065\n",
      "Epoch [5/50], Loss: 0.2885\n",
      "Epoch [6/50], Loss: 0.2552\n",
      "Epoch [7/50], Loss: 0.2454\n",
      "Epoch [8/50], Loss: 0.2428\n",
      "Epoch [9/50], Loss: 0.2444\n",
      "Epoch [10/50], Loss: 0.2191\n",
      "Epoch [11/50], Loss: 0.2559\n",
      "Epoch [12/50], Loss: 0.2111\n",
      "Epoch [13/50], Loss: 0.2157\n",
      "Epoch [14/50], Loss: 0.2142\n",
      "Epoch [15/50], Loss: 0.2037\n",
      "Epoch [16/50], Loss: 0.2080\n",
      "Epoch [17/50], Loss: 0.2032\n",
      "Epoch [18/50], Loss: 0.2013\n",
      "Epoch [19/50], Loss: 0.1952\n",
      "Epoch [20/50], Loss: 0.1920\n",
      "Epoch [21/50], Loss: 0.1992\n",
      "Epoch [22/50], Loss: 0.1915\n",
      "Epoch [23/50], Loss: 0.1838\n",
      "Epoch [24/50], Loss: 0.1871\n",
      "Epoch [25/50], Loss: 0.1804\n",
      "Epoch [26/50], Loss: 0.1821\n",
      "Epoch [27/50], Loss: 0.1832\n",
      "Epoch [28/50], Loss: 0.1755\n",
      "Epoch [29/50], Loss: 0.1931\n",
      "Epoch [30/50], Loss: 0.1877\n",
      "Epoch [31/50], Loss: 0.1785\n",
      "Epoch [32/50], Loss: 0.1776\n",
      "Epoch [33/50], Loss: 0.1821\n",
      "Epoch [34/50], Loss: 0.1742\n",
      "Epoch [35/50], Loss: 0.1635\n",
      "Epoch [36/50], Loss: 0.1636\n",
      "Epoch [37/50], Loss: 0.1653\n",
      "Epoch [38/50], Loss: 0.1665\n",
      "Epoch [39/50], Loss: 0.1701\n",
      "Epoch [40/50], Loss: 0.1695\n",
      "Epoch [41/50], Loss: 0.1644\n",
      "Epoch [42/50], Loss: 0.2236\n",
      "Epoch [43/50], Loss: 0.1680\n",
      "Epoch [44/50], Loss: 0.1629\n",
      "Epoch [45/50], Loss: 0.1712\n",
      "Epoch [46/50], Loss: 0.1853\n",
      "Epoch [47/50], Loss: 0.1676\n",
      "Epoch [48/50], Loss: 0.1711\n",
      "Epoch [49/50], Loss: 0.1662\n"
     ]
    },
    {
     "name": "stderr",
     "output_type": "stream",
     "text": [
      "\u001b[32m[I 2023-05-09 09:48:50,171]\u001b[0m Trial 72 finished with value: 0.16877366602420807 and parameters: {'n_layers': 3, 'activation': 2, 'dropout_l3': 0.02878808780429104, 'dropout_l2': 0.07106053026332834, 'dropout_l1': 0.05162169355271684, 'bottleneck_size': 89, 'optimizer': 'Adam', 'lr': 0.0006649974023121337}. Best is trial 64 with value: 0.1497723013162613.\u001b[0m\n"
     ]
    },
    {
     "name": "stdout",
     "output_type": "stream",
     "text": [
      "Epoch [50/50], Loss: 0.1688\n",
      "Epoch [1/50], Loss: 0.4834\n",
      "Epoch [2/50], Loss: 0.3704\n",
      "Epoch [3/50], Loss: 0.3216\n",
      "Epoch [4/50], Loss: 0.3334\n",
      "Epoch [5/50], Loss: 0.2613\n",
      "Epoch [6/50], Loss: 0.2457\n",
      "Epoch [7/50], Loss: 0.2360\n",
      "Epoch [8/50], Loss: 0.2342\n",
      "Epoch [9/50], Loss: 0.2151\n",
      "Epoch [10/50], Loss: 0.1840\n",
      "Epoch [11/50], Loss: 0.1961\n",
      "Epoch [12/50], Loss: 0.1928\n",
      "Epoch [13/50], Loss: 0.1872\n",
      "Epoch [14/50], Loss: 0.1856\n",
      "Epoch [15/50], Loss: 0.1825\n",
      "Epoch [16/50], Loss: 0.1601\n",
      "Epoch [17/50], Loss: 0.1664\n",
      "Epoch [18/50], Loss: 0.1525\n",
      "Epoch [19/50], Loss: 0.1604\n",
      "Epoch [20/50], Loss: 0.1599\n",
      "Epoch [21/50], Loss: 0.1780\n",
      "Epoch [22/50], Loss: 0.1502\n",
      "Epoch [23/50], Loss: 0.1493\n",
      "Epoch [24/50], Loss: 0.1419\n",
      "Epoch [25/50], Loss: 0.1510\n",
      "Epoch [26/50], Loss: 0.1513\n",
      "Epoch [27/50], Loss: 0.1610\n",
      "Epoch [28/50], Loss: 0.1440\n",
      "Epoch [29/50], Loss: 0.1511\n",
      "Epoch [30/50], Loss: 0.1509\n",
      "Epoch [31/50], Loss: 0.1493\n",
      "Epoch [32/50], Loss: 0.1640\n",
      "Epoch [33/50], Loss: 0.1918\n",
      "Epoch [34/50], Loss: 0.1281\n",
      "Epoch [35/50], Loss: 0.1330\n",
      "Epoch [36/50], Loss: 0.1300\n",
      "Epoch [37/50], Loss: 0.2069\n",
      "Epoch [38/50], Loss: 0.1505\n",
      "Epoch [39/50], Loss: 0.1363\n",
      "Epoch [40/50], Loss: 0.1823\n",
      "Epoch [41/50], Loss: 0.1357\n",
      "Epoch [42/50], Loss: 0.1307\n",
      "Epoch [43/50], Loss: 0.1323\n",
      "Epoch [44/50], Loss: 0.1584\n",
      "Epoch [45/50], Loss: 0.1270\n",
      "Epoch [46/50], Loss: 0.1239\n",
      "Epoch [47/50], Loss: 0.1179\n",
      "Epoch [48/50], Loss: 0.1472\n",
      "Epoch [49/50], Loss: 0.1293\n"
     ]
    },
    {
     "name": "stderr",
     "output_type": "stream",
     "text": [
      "\u001b[32m[I 2023-05-09 09:49:01,541]\u001b[0m Trial 73 finished with value: 0.1151944175362587 and parameters: {'n_layers': 3, 'activation': 2, 'dropout_l3': 0.032533536430581836, 'dropout_l2': 0.0443393573024775, 'dropout_l1': 0.017770418319141446, 'bottleneck_size': 98, 'optimizer': 'Adam', 'lr': 0.0006758947208755019}. Best is trial 73 with value: 0.1151944175362587.\u001b[0m\n"
     ]
    },
    {
     "name": "stdout",
     "output_type": "stream",
     "text": [
      "Epoch [50/50], Loss: 0.1152\n",
      "Epoch [1/50], Loss: 0.4887\n",
      "Epoch [2/50], Loss: 0.3619\n",
      "Epoch [3/50], Loss: 0.3261\n",
      "Epoch [4/50], Loss: 0.2803\n",
      "Epoch [5/50], Loss: 0.2624\n",
      "Epoch [6/50], Loss: 0.2288\n",
      "Epoch [7/50], Loss: 0.2349\n",
      "Epoch [8/50], Loss: 0.2005\n",
      "Epoch [9/50], Loss: 0.1991\n",
      "Epoch [10/50], Loss: 0.1946\n",
      "Epoch [11/50], Loss: 0.1874\n",
      "Epoch [12/50], Loss: 0.1823\n",
      "Epoch [13/50], Loss: 0.1704\n",
      "Epoch [14/50], Loss: 0.1767\n",
      "Epoch [15/50], Loss: 0.1833\n",
      "Epoch [16/50], Loss: 0.1900\n",
      "Epoch [17/50], Loss: 0.1881\n",
      "Epoch [18/50], Loss: 0.1876\n",
      "Epoch [19/50], Loss: 0.1459\n",
      "Epoch [20/50], Loss: 0.1595\n",
      "Epoch [21/50], Loss: 0.1796\n",
      "Epoch [22/50], Loss: 0.1521\n",
      "Epoch [23/50], Loss: 0.1391\n",
      "Epoch [24/50], Loss: 0.1393\n",
      "Epoch [25/50], Loss: 0.1490\n",
      "Epoch [26/50], Loss: 0.1339\n",
      "Epoch [27/50], Loss: 0.1470\n",
      "Epoch [28/50], Loss: 0.1462\n",
      "Epoch [29/50], Loss: 0.1361\n",
      "Epoch [30/50], Loss: 0.1348\n",
      "Epoch [31/50], Loss: 0.1336\n",
      "Epoch [32/50], Loss: 0.1353\n",
      "Epoch [33/50], Loss: 0.1276\n",
      "Epoch [34/50], Loss: 0.1406\n",
      "Epoch [35/50], Loss: 0.1326\n",
      "Epoch [36/50], Loss: 0.1344\n",
      "Epoch [37/50], Loss: 0.1366\n",
      "Epoch [38/50], Loss: 0.1213\n",
      "Epoch [39/50], Loss: 0.1357\n",
      "Epoch [40/50], Loss: 0.1201\n",
      "Epoch [41/50], Loss: 0.1198\n",
      "Epoch [42/50], Loss: 0.1265\n",
      "Epoch [43/50], Loss: 0.1183\n",
      "Epoch [44/50], Loss: 0.1229\n",
      "Epoch [45/50], Loss: 0.1454\n",
      "Epoch [46/50], Loss: 0.1206\n",
      "Epoch [47/50], Loss: 0.1134\n",
      "Epoch [48/50], Loss: 0.1175\n",
      "Epoch [49/50], Loss: 0.1186\n"
     ]
    },
    {
     "name": "stderr",
     "output_type": "stream",
     "text": [
      "\u001b[32m[I 2023-05-09 09:49:12,917]\u001b[0m Trial 74 finished with value: 0.11927082389593124 and parameters: {'n_layers': 3, 'activation': 2, 'dropout_l3': 0.02978312491125678, 'dropout_l2': 0.031083480139091763, 'dropout_l1': 0.016938712768086783, 'bottleneck_size': 105, 'optimizer': 'Adam', 'lr': 0.0006569808853245612}. Best is trial 73 with value: 0.1151944175362587.\u001b[0m\n"
     ]
    },
    {
     "name": "stdout",
     "output_type": "stream",
     "text": [
      "Epoch [50/50], Loss: 0.1193\n"
     ]
    },
    {
     "name": "stderr",
     "output_type": "stream",
     "text": [
      "\u001b[32m[I 2023-05-09 09:49:13,184]\u001b[0m Trial 75 pruned. \u001b[0m\n"
     ]
    },
    {
     "name": "stdout",
     "output_type": "stream",
     "text": [
      "Epoch [1/50], Loss: 0.5599\n",
      "Epoch [1/50], Loss: 0.5083\n"
     ]
    },
    {
     "name": "stderr",
     "output_type": "stream",
     "text": [
      "\u001b[32m[I 2023-05-09 09:49:13,676]\u001b[0m Trial 76 pruned. \u001b[0m\n"
     ]
    },
    {
     "name": "stdout",
     "output_type": "stream",
     "text": [
      "Epoch [2/50], Loss: 0.4113\n"
     ]
    },
    {
     "name": "stderr",
     "output_type": "stream",
     "text": [
      "\u001b[32m[I 2023-05-09 09:49:13,943]\u001b[0m Trial 77 pruned. \u001b[0m\n"
     ]
    },
    {
     "name": "stdout",
     "output_type": "stream",
     "text": [
      "Epoch [1/50], Loss: 0.9123\n"
     ]
    },
    {
     "name": "stderr",
     "output_type": "stream",
     "text": [
      "\u001b[32m[I 2023-05-09 09:49:14,209]\u001b[0m Trial 78 pruned. \u001b[0m\n"
     ]
    },
    {
     "name": "stdout",
     "output_type": "stream",
     "text": [
      "Epoch [1/50], Loss: 0.7866\n",
      "Epoch [1/50], Loss: 0.4320\n",
      "Epoch [2/50], Loss: 0.3698\n",
      "Epoch [3/50], Loss: 0.3116\n",
      "Epoch [4/50], Loss: 0.2883\n",
      "Epoch [5/50], Loss: 0.2200\n",
      "Epoch [6/50], Loss: 0.2070\n",
      "Epoch [7/50], Loss: 0.2021\n",
      "Epoch [8/50], Loss: 0.1925\n",
      "Epoch [9/50], Loss: 0.1983\n",
      "Epoch [10/50], Loss: 0.1747\n",
      "Epoch [11/50], Loss: 0.1702\n",
      "Epoch [12/50], Loss: 0.1735\n",
      "Epoch [13/50], Loss: 0.1561\n",
      "Epoch [14/50], Loss: 0.1654\n",
      "Epoch [15/50], Loss: 0.2511\n",
      "Epoch [16/50], Loss: 0.1447\n",
      "Epoch [17/50], Loss: 0.1455\n",
      "Epoch [18/50], Loss: 0.1426\n",
      "Epoch [19/50], Loss: 0.1360\n",
      "Epoch [20/50], Loss: 0.1358\n",
      "Epoch [21/50], Loss: 0.1481\n",
      "Epoch [22/50], Loss: 0.1369\n",
      "Epoch [23/50], Loss: 0.1220\n",
      "Epoch [24/50], Loss: 0.1957\n",
      "Epoch [25/50], Loss: 0.1279\n",
      "Epoch [26/50], Loss: 0.1270\n",
      "Epoch [27/50], Loss: 0.1330\n",
      "Epoch [28/50], Loss: 0.1314\n",
      "Epoch [29/50], Loss: 0.1145\n",
      "Epoch [30/50], Loss: 0.1177\n",
      "Epoch [31/50], Loss: 0.1196\n",
      "Epoch [32/50], Loss: 0.1167\n",
      "Epoch [33/50], Loss: 0.1107\n",
      "Epoch [34/50], Loss: 0.1120\n",
      "Epoch [35/50], Loss: 0.1216\n",
      "Epoch [36/50], Loss: 0.1605\n",
      "Epoch [37/50], Loss: 0.1186\n",
      "Epoch [38/50], Loss: 0.1086\n",
      "Epoch [39/50], Loss: 0.1129\n",
      "Epoch [40/50], Loss: 0.1068\n",
      "Epoch [41/50], Loss: 0.1112\n",
      "Epoch [42/50], Loss: 0.1263\n",
      "Epoch [43/50], Loss: 0.1165\n",
      "Epoch [44/50], Loss: 0.1075\n",
      "Epoch [45/50], Loss: 0.1096\n",
      "Epoch [46/50], Loss: 0.1048\n",
      "Epoch [47/50], Loss: 0.0996\n",
      "Epoch [48/50], Loss: 0.1059\n",
      "Epoch [49/50], Loss: 0.1069\n"
     ]
    },
    {
     "name": "stderr",
     "output_type": "stream",
     "text": [
      "\u001b[32m[I 2023-05-09 09:49:25,666]\u001b[0m Trial 79 finished with value: 0.10318000614643097 and parameters: {'n_layers': 3, 'activation': 2, 'dropout_l3': 0.029019212207514383, 'dropout_l2': 0.025207475220665312, 'dropout_l1': 0.009791729517058527, 'bottleneck_size': 102, 'optimizer': 'Adam', 'lr': 0.0007722892516138108}. Best is trial 79 with value: 0.10318000614643097.\u001b[0m\n"
     ]
    },
    {
     "name": "stdout",
     "output_type": "stream",
     "text": [
      "Epoch [50/50], Loss: 0.1032\n",
      "Epoch [1/50], Loss: 0.4115\n",
      "Epoch [2/50], Loss: 0.3097\n",
      "Epoch [3/50], Loss: 0.2833\n",
      "Epoch [4/50], Loss: 0.2307\n",
      "Epoch [5/50], Loss: 0.2158\n",
      "Epoch [6/50], Loss: 0.2026\n",
      "Epoch [7/50], Loss: 0.1913\n",
      "Epoch [8/50], Loss: 0.1826\n",
      "Epoch [9/50], Loss: 0.1600\n",
      "Epoch [10/50], Loss: 0.2119\n",
      "Epoch [11/50], Loss: 0.1517\n",
      "Epoch [12/50], Loss: 0.1603\n",
      "Epoch [13/50], Loss: 0.1440\n",
      "Epoch [14/50], Loss: 0.1599\n",
      "Epoch [15/50], Loss: 0.1340\n",
      "Epoch [16/50], Loss: 0.1507\n",
      "Epoch [17/50], Loss: 0.1339\n",
      "Epoch [18/50], Loss: 0.1716\n",
      "Epoch [19/50], Loss: 0.1359\n",
      "Epoch [20/50], Loss: 0.1281\n",
      "Epoch [21/50], Loss: 0.1201\n",
      "Epoch [22/50], Loss: 0.1423\n",
      "Epoch [23/50], Loss: 0.1152\n",
      "Epoch [24/50], Loss: 0.1602\n",
      "Epoch [25/50], Loss: 0.6134\n",
      "Epoch [26/50], Loss: 0.5048\n",
      "Epoch [27/50], Loss: 0.2269\n",
      "Epoch [28/50], Loss: 0.1844\n",
      "Epoch [29/50], Loss: 0.1889\n",
      "Epoch [30/50], Loss: 0.1595\n",
      "Epoch [31/50], Loss: 0.1516\n",
      "Epoch [32/50], Loss: 0.1423\n",
      "Epoch [33/50], Loss: 0.1416\n",
      "Epoch [34/50], Loss: 0.1335\n",
      "Epoch [35/50], Loss: 0.1469\n",
      "Epoch [36/50], Loss: 0.1354\n",
      "Epoch [37/50], Loss: 0.1832\n",
      "Epoch [38/50], Loss: 0.1438\n",
      "Epoch [39/50], Loss: 0.1479\n",
      "Epoch [40/50], Loss: 0.1372\n",
      "Epoch [41/50], Loss: 0.1531\n",
      "Epoch [42/50], Loss: 0.1247\n",
      "Epoch [43/50], Loss: 0.1247\n",
      "Epoch [44/50], Loss: 0.1230\n",
      "Epoch [45/50], Loss: 0.1162\n",
      "Epoch [46/50], Loss: 0.1121\n",
      "Epoch [47/50], Loss: 0.1199\n",
      "Epoch [48/50], Loss: 0.1156\n",
      "Epoch [49/50], Loss: 0.1101\n"
     ]
    },
    {
     "name": "stderr",
     "output_type": "stream",
     "text": [
      "\u001b[32m[I 2023-05-09 09:49:37,041]\u001b[0m Trial 80 finished with value: 0.1120961606502533 and parameters: {'n_layers': 3, 'activation': 2, 'dropout_l3': 0.0752440724705074, 'dropout_l2': 0.008082258906236654, 'dropout_l1': 0.010350336549819206, 'bottleneck_size': 102, 'optimizer': 'Adam', 'lr': 0.0014777869416300671}. Best is trial 79 with value: 0.10318000614643097.\u001b[0m\n"
     ]
    },
    {
     "name": "stdout",
     "output_type": "stream",
     "text": [
      "Epoch [50/50], Loss: 0.1121\n",
      "Epoch [1/50], Loss: 0.4019\n",
      "Epoch [2/50], Loss: 0.3001\n",
      "Epoch [3/50], Loss: 0.2909\n",
      "Epoch [4/50], Loss: 0.2285\n",
      "Epoch [5/50], Loss: 0.2042\n",
      "Epoch [6/50], Loss: 0.1922\n",
      "Epoch [7/50], Loss: 0.1764\n",
      "Epoch [8/50], Loss: 0.1782\n",
      "Epoch [9/50], Loss: 0.2236\n",
      "Epoch [10/50], Loss: 0.1572\n",
      "Epoch [11/50], Loss: 0.1431\n",
      "Epoch [12/50], Loss: 0.1866\n",
      "Epoch [13/50], Loss: 0.1302\n",
      "Epoch [14/50], Loss: 0.1275\n",
      "Epoch [15/50], Loss: 0.1180\n",
      "Epoch [16/50], Loss: 0.1274\n",
      "Epoch [17/50], Loss: 0.1131\n",
      "Epoch [18/50], Loss: 0.1159\n",
      "Epoch [19/50], Loss: 0.1077\n",
      "Epoch [20/50], Loss: 0.1105\n",
      "Epoch [21/50], Loss: 0.1118\n",
      "Epoch [22/50], Loss: 0.1023\n",
      "Epoch [23/50], Loss: 0.1046\n",
      "Epoch [24/50], Loss: 0.1068\n",
      "Epoch [25/50], Loss: 0.1005\n",
      "Epoch [26/50], Loss: 0.0986\n",
      "Epoch [27/50], Loss: 0.1233\n",
      "Epoch [28/50], Loss: 0.0979\n",
      "Epoch [29/50], Loss: 0.1049\n",
      "Epoch [30/50], Loss: 0.0976\n",
      "Epoch [31/50], Loss: 0.1054\n",
      "Epoch [32/50], Loss: 0.0973\n",
      "Epoch [33/50], Loss: 0.0949\n",
      "Epoch [34/50], Loss: 0.1011\n",
      "Epoch [35/50], Loss: 0.0928\n",
      "Epoch [36/50], Loss: 0.0970\n",
      "Epoch [37/50], Loss: 0.1065\n",
      "Epoch [38/50], Loss: 0.0847\n",
      "Epoch [39/50], Loss: 0.0901\n",
      "Epoch [40/50], Loss: 0.0887\n",
      "Epoch [41/50], Loss: 0.0963\n",
      "Epoch [42/50], Loss: 0.0861\n",
      "Epoch [43/50], Loss: 0.0894\n",
      "Epoch [44/50], Loss: 0.0888\n",
      "Epoch [45/50], Loss: 0.0952\n",
      "Epoch [46/50], Loss: 0.0946\n",
      "Epoch [47/50], Loss: 0.1052\n",
      "Epoch [48/50], Loss: 0.0873\n",
      "Epoch [49/50], Loss: 0.0896\n"
     ]
    },
    {
     "name": "stderr",
     "output_type": "stream",
     "text": [
      "\u001b[32m[I 2023-05-09 09:49:48,465]\u001b[0m Trial 81 finished with value: 0.08911650627851486 and parameters: {'n_layers': 3, 'activation': 2, 'dropout_l3': 0.06866892017456382, 'dropout_l2': 0.012400458872778491, 'dropout_l1': 0.00018953377546039943, 'bottleneck_size': 103, 'optimizer': 'Adam', 'lr': 0.0014003869994978339}. Best is trial 81 with value: 0.08911650627851486.\u001b[0m\n"
     ]
    },
    {
     "name": "stdout",
     "output_type": "stream",
     "text": [
      "Epoch [50/50], Loss: 0.0891\n",
      "Epoch [1/50], Loss: 0.4163\n",
      "Epoch [2/50], Loss: 0.3487\n",
      "Epoch [3/50], Loss: 0.3573\n",
      "Epoch [4/50], Loss: 0.2339\n",
      "Epoch [5/50], Loss: 0.2185\n",
      "Epoch [6/50], Loss: 0.2053\n",
      "Epoch [7/50], Loss: 0.1868\n",
      "Epoch [8/50], Loss: 0.1850\n",
      "Epoch [9/50], Loss: 0.1815\n",
      "Epoch [10/50], Loss: 0.1645\n",
      "Epoch [11/50], Loss: 0.1563\n",
      "Epoch [12/50], Loss: 0.1698\n",
      "Epoch [13/50], Loss: 0.1403\n",
      "Epoch [14/50], Loss: 0.1552\n",
      "Epoch [15/50], Loss: 0.1419\n",
      "Epoch [16/50], Loss: 0.1644\n",
      "Epoch [17/50], Loss: 0.1402\n",
      "Epoch [18/50], Loss: 0.1447\n",
      "Epoch [19/50], Loss: 0.1450\n",
      "Epoch [20/50], Loss: 0.1531\n",
      "Epoch [21/50], Loss: 0.1346\n",
      "Epoch [22/50], Loss: 0.1574\n",
      "Epoch [23/50], Loss: 0.1324\n",
      "Epoch [24/50], Loss: 0.1347\n",
      "Epoch [25/50], Loss: 0.1298\n",
      "Epoch [26/50], Loss: 0.1207\n",
      "Epoch [27/50], Loss: 0.1215\n",
      "Epoch [28/50], Loss: 0.1220\n",
      "Epoch [29/50], Loss: 0.1207\n",
      "Epoch [30/50], Loss: 0.1145\n",
      "Epoch [31/50], Loss: 0.1208\n",
      "Epoch [32/50], Loss: 0.1180\n",
      "Epoch [33/50], Loss: 0.1178\n",
      "Epoch [34/50], Loss: 0.1081\n",
      "Epoch [35/50], Loss: 0.1164\n",
      "Epoch [36/50], Loss: 0.1450\n",
      "Epoch [37/50], Loss: 0.1153\n",
      "Epoch [38/50], Loss: 0.1361\n",
      "Epoch [39/50], Loss: 0.1047\n",
      "Epoch [40/50], Loss: 0.1263\n",
      "Epoch [41/50], Loss: 0.1253\n",
      "Epoch [42/50], Loss: 0.1073\n",
      "Epoch [43/50], Loss: 0.0967\n",
      "Epoch [44/50], Loss: 0.0974\n",
      "Epoch [45/50], Loss: 0.1079\n",
      "Epoch [46/50], Loss: 0.0983\n",
      "Epoch [47/50], Loss: 0.3876\n",
      "Epoch [48/50], Loss: 0.2207\n",
      "Epoch [49/50], Loss: 0.1423\n"
     ]
    },
    {
     "name": "stderr",
     "output_type": "stream",
     "text": [
      "\u001b[32m[I 2023-05-09 09:49:59,842]\u001b[0m Trial 82 finished with value: 0.12776200473308563 and parameters: {'n_layers': 3, 'activation': 2, 'dropout_l3': 0.07570033133106532, 'dropout_l2': 0.0010595552484997123, 'dropout_l1': 0.013167995346834015, 'bottleneck_size': 102, 'optimizer': 'Adam', 'lr': 0.001515166742011587}. Best is trial 81 with value: 0.08911650627851486.\u001b[0m\n"
     ]
    },
    {
     "name": "stdout",
     "output_type": "stream",
     "text": [
      "Epoch [50/50], Loss: 0.1278\n",
      "Epoch [1/50], Loss: 0.4124\n",
      "Epoch [2/50], Loss: 0.3603\n",
      "Epoch [3/50], Loss: 0.2673\n",
      "Epoch [4/50], Loss: 0.2423\n",
      "Epoch [5/50], Loss: 0.2201\n",
      "Epoch [6/50], Loss: 0.1910\n",
      "Epoch [7/50], Loss: 0.1989\n",
      "Epoch [8/50], Loss: 0.2027\n",
      "Epoch [9/50], Loss: 0.1727\n",
      "Epoch [10/50], Loss: 0.1513\n",
      "Epoch [11/50], Loss: 0.1599\n",
      "Epoch [12/50], Loss: 0.1467\n",
      "Epoch [13/50], Loss: 0.1595\n",
      "Epoch [14/50], Loss: 0.1513\n",
      "Epoch [15/50], Loss: 0.1509\n",
      "Epoch [16/50], Loss: 0.1345\n",
      "Epoch [17/50], Loss: 0.1407\n",
      "Epoch [18/50], Loss: 0.1374\n",
      "Epoch [19/50], Loss: 0.1658\n",
      "Epoch [20/50], Loss: 0.1425\n",
      "Epoch [21/50], Loss: 0.1269\n",
      "Epoch [22/50], Loss: 0.1295\n",
      "Epoch [23/50], Loss: 0.1250\n",
      "Epoch [24/50], Loss: 0.1231\n",
      "Epoch [25/50], Loss: 0.1258\n",
      "Epoch [26/50], Loss: 0.1250\n",
      "Epoch [27/50], Loss: 0.1278\n",
      "Epoch [28/50], Loss: 0.1224\n",
      "Epoch [29/50], Loss: 0.1211\n",
      "Epoch [30/50], Loss: 0.1146\n",
      "Epoch [31/50], Loss: 0.1207\n",
      "Epoch [32/50], Loss: 0.1203\n",
      "Epoch [33/50], Loss: 0.1173\n",
      "Epoch [34/50], Loss: 0.1448\n",
      "Epoch [35/50], Loss: 0.1170\n",
      "Epoch [36/50], Loss: 0.1177\n",
      "Epoch [37/50], Loss: 0.1171\n",
      "Epoch [38/50], Loss: 0.1156\n",
      "Epoch [39/50], Loss: 0.1190\n",
      "Epoch [40/50], Loss: 0.1226\n",
      "Epoch [41/50], Loss: 0.1153\n",
      "Epoch [42/50], Loss: 0.1202\n",
      "Epoch [43/50], Loss: 0.1179\n",
      "Epoch [44/50], Loss: 0.1013\n",
      "Epoch [45/50], Loss: 0.1069\n",
      "Epoch [46/50], Loss: 0.1091\n",
      "Epoch [47/50], Loss: 0.1039\n",
      "Epoch [48/50], Loss: 0.1228\n",
      "Epoch [49/50], Loss: 0.1079\n"
     ]
    },
    {
     "name": "stderr",
     "output_type": "stream",
     "text": [
      "\u001b[32m[I 2023-05-09 09:50:11,178]\u001b[0m Trial 83 finished with value: 0.108408123254776 and parameters: {'n_layers': 3, 'activation': 2, 'dropout_l3': 0.07676810850005224, 'dropout_l2': 0.002376470832494631, 'dropout_l1': 0.018083266410526093, 'bottleneck_size': 103, 'optimizer': 'Adam', 'lr': 0.0016861370693462747}. Best is trial 81 with value: 0.08911650627851486.\u001b[0m\n"
     ]
    },
    {
     "name": "stdout",
     "output_type": "stream",
     "text": [
      "Epoch [50/50], Loss: 0.1084\n",
      "Epoch [1/50], Loss: 0.4252\n",
      "Epoch [2/50], Loss: 0.3244\n",
      "Epoch [3/50], Loss: 0.2681\n",
      "Epoch [4/50], Loss: 0.2359\n",
      "Epoch [5/50], Loss: 0.2484\n",
      "Epoch [6/50], Loss: 0.2139\n",
      "Epoch [7/50], Loss: 0.2254\n",
      "Epoch [8/50], Loss: 0.1834\n",
      "Epoch [9/50], Loss: 0.1802\n",
      "Epoch [10/50], Loss: 0.1720\n",
      "Epoch [11/50], Loss: 0.1618\n",
      "Epoch [12/50], Loss: 0.1559\n",
      "Epoch [13/50], Loss: 0.1487\n",
      "Epoch [14/50], Loss: 0.1536\n",
      "Epoch [15/50], Loss: 0.1488\n",
      "Epoch [16/50], Loss: 0.1522\n",
      "Epoch [17/50], Loss: 0.1490\n",
      "Epoch [18/50], Loss: 0.1497\n",
      "Epoch [19/50], Loss: 0.1519\n",
      "Epoch [20/50], Loss: 0.1358\n",
      "Epoch [21/50], Loss: 0.1394\n",
      "Epoch [22/50], Loss: 0.1321\n",
      "Epoch [23/50], Loss: 0.1241\n",
      "Epoch [24/50], Loss: 0.1277\n",
      "Epoch [25/50], Loss: 0.1229\n",
      "Epoch [26/50], Loss: 0.1206\n",
      "Epoch [27/50], Loss: 0.1255\n",
      "Epoch [28/50], Loss: 0.1428\n",
      "Epoch [29/50], Loss: 0.1376\n",
      "Epoch [30/50], Loss: 0.1324\n",
      "Epoch [31/50], Loss: 0.1190\n",
      "Epoch [32/50], Loss: 0.1139\n",
      "Epoch [33/50], Loss: 0.1254\n",
      "Epoch [34/50], Loss: 0.1142\n",
      "Epoch [35/50], Loss: 0.1225\n",
      "Epoch [36/50], Loss: 0.1186\n",
      "Epoch [37/50], Loss: 0.1378\n",
      "Epoch [38/50], Loss: 0.1280\n",
      "Epoch [39/50], Loss: 0.1149\n",
      "Epoch [40/50], Loss: 0.1100\n",
      "Epoch [41/50], Loss: 0.1087\n",
      "Epoch [42/50], Loss: 0.1177\n",
      "Epoch [43/50], Loss: 0.1090\n",
      "Epoch [44/50], Loss: 0.1025\n",
      "Epoch [45/50], Loss: 0.1139\n",
      "Epoch [46/50], Loss: 0.1173\n",
      "Epoch [47/50], Loss: 0.1100\n",
      "Epoch [48/50], Loss: 0.1064\n",
      "Epoch [49/50], Loss: 0.1084\n"
     ]
    },
    {
     "name": "stderr",
     "output_type": "stream",
     "text": [
      "\u001b[32m[I 2023-05-09 09:50:22,558]\u001b[0m Trial 84 finished with value: 0.11690489202737808 and parameters: {'n_layers': 3, 'activation': 2, 'dropout_l3': 0.07755658059699966, 'dropout_l2': 0.0050073044012733554, 'dropout_l1': 0.018130364903513142, 'bottleneck_size': 104, 'optimizer': 'Adam', 'lr': 0.0017311528305220963}. Best is trial 81 with value: 0.08911650627851486.\u001b[0m\n"
     ]
    },
    {
     "name": "stdout",
     "output_type": "stream",
     "text": [
      "Epoch [50/50], Loss: 0.1169\n",
      "Epoch [1/50], Loss: 0.4281\n",
      "Epoch [2/50], Loss: 0.3435\n",
      "Epoch [3/50], Loss: 0.2874\n",
      "Epoch [4/50], Loss: 0.2248\n",
      "Epoch [5/50], Loss: 0.2649\n",
      "Epoch [6/50], Loss: 0.1947\n",
      "Epoch [7/50], Loss: 0.1746\n",
      "Epoch [8/50], Loss: 0.1801\n",
      "Epoch [9/50], Loss: 0.1642\n",
      "Epoch [10/50], Loss: 0.1663\n",
      "Epoch [11/50], Loss: 0.1630\n",
      "Epoch [12/50], Loss: 0.1581\n",
      "Epoch [13/50], Loss: 0.1454\n",
      "Epoch [14/50], Loss: 0.1458\n",
      "Epoch [15/50], Loss: 0.2266\n",
      "Epoch [16/50], Loss: 0.3874\n",
      "Epoch [17/50], Loss: 0.2662\n",
      "Epoch [18/50], Loss: 0.1912\n",
      "Epoch [19/50], Loss: 0.1715\n",
      "Epoch [20/50], Loss: 0.1674\n",
      "Epoch [21/50], Loss: 0.1578\n",
      "Epoch [22/50], Loss: 0.1438\n",
      "Epoch [23/50], Loss: 0.1619\n",
      "Epoch [24/50], Loss: 0.1375\n",
      "Epoch [25/50], Loss: 0.1458\n",
      "Epoch [26/50], Loss: 0.1620\n",
      "Epoch [27/50], Loss: 0.1487\n",
      "Epoch [28/50], Loss: 0.1408\n",
      "Epoch [29/50], Loss: 0.1383\n",
      "Epoch [30/50], Loss: 0.1280\n",
      "Epoch [31/50], Loss: 0.1750\n",
      "Epoch [32/50], Loss: 0.1509\n",
      "Epoch [33/50], Loss: 0.1316\n",
      "Epoch [34/50], Loss: 0.1256\n",
      "Epoch [35/50], Loss: 0.1408\n",
      "Epoch [36/50], Loss: 0.1288\n",
      "Epoch [37/50], Loss: 0.1667\n",
      "Epoch [38/50], Loss: 0.1219\n",
      "Epoch [39/50], Loss: 0.1144\n",
      "Epoch [40/50], Loss: 0.1225\n",
      "Epoch [41/50], Loss: 0.1248\n",
      "Epoch [42/50], Loss: 0.1192\n",
      "Epoch [43/50], Loss: 0.1099\n",
      "Epoch [44/50], Loss: 0.1131\n",
      "Epoch [45/50], Loss: 0.1197\n",
      "Epoch [46/50], Loss: 0.1084\n",
      "Epoch [47/50], Loss: 0.1166\n",
      "Epoch [48/50], Loss: 0.1154\n",
      "Epoch [49/50], Loss: 0.1168\n"
     ]
    },
    {
     "name": "stderr",
     "output_type": "stream",
     "text": [
      "\u001b[32m[I 2023-05-09 09:50:33,891]\u001b[0m Trial 85 finished with value: 0.11364881694316864 and parameters: {'n_layers': 3, 'activation': 2, 'dropout_l3': 0.07164457325543566, 'dropout_l2': 0.0037748585195599305, 'dropout_l1': 0.01435730433143512, 'bottleneck_size': 103, 'optimizer': 'Adam', 'lr': 0.0021227301552120045}. Best is trial 81 with value: 0.08911650627851486.\u001b[0m\n"
     ]
    },
    {
     "name": "stdout",
     "output_type": "stream",
     "text": [
      "Epoch [50/50], Loss: 0.1136\n"
     ]
    },
    {
     "name": "stderr",
     "output_type": "stream",
     "text": [
      "\u001b[32m[I 2023-05-09 09:50:34,132]\u001b[0m Trial 86 pruned. \u001b[0m\n"
     ]
    },
    {
     "name": "stdout",
     "output_type": "stream",
     "text": [
      "Epoch [1/50], Loss: 1.0094\n",
      "Epoch [1/50], Loss: 0.4160\n",
      "Epoch [2/50], Loss: 0.3210\n",
      "Epoch [3/50], Loss: 0.2645\n",
      "Epoch [4/50], Loss: 0.2235\n",
      "Epoch [5/50], Loss: 0.2207\n",
      "Epoch [6/50], Loss: 0.2139\n",
      "Epoch [7/50], Loss: 0.2013\n",
      "Epoch [8/50], Loss: 0.1927\n",
      "Epoch [9/50], Loss: 0.2117\n",
      "Epoch [10/50], Loss: 0.1530\n",
      "Epoch [11/50], Loss: 0.2125\n",
      "Epoch [12/50], Loss: 0.2055\n",
      "Epoch [13/50], Loss: 0.1677\n",
      "Epoch [14/50], Loss: 0.1554\n",
      "Epoch [15/50], Loss: 0.1457\n",
      "Epoch [16/50], Loss: 0.1525\n",
      "Epoch [17/50], Loss: 0.1417\n",
      "Epoch [18/50], Loss: 0.1394\n",
      "Epoch [19/50], Loss: 0.1278\n",
      "Epoch [20/50], Loss: 0.1289\n",
      "Epoch [21/50], Loss: 0.1317\n",
      "Epoch [22/50], Loss: 0.1248\n",
      "Epoch [23/50], Loss: 0.1267\n",
      "Epoch [24/50], Loss: 0.1676\n",
      "Epoch [25/50], Loss: 0.1258\n",
      "Epoch [26/50], Loss: 0.1304\n",
      "Epoch [27/50], Loss: 0.1262\n",
      "Epoch [28/50], Loss: 0.1174\n",
      "Epoch [29/50], Loss: 0.1277\n",
      "Epoch [30/50], Loss: 0.1142\n",
      "Epoch [31/50], Loss: 0.1218\n",
      "Epoch [32/50], Loss: 0.1217\n",
      "Epoch [33/50], Loss: 0.1070\n",
      "Epoch [34/50], Loss: 0.1025\n",
      "Epoch [35/50], Loss: 0.1141\n",
      "Epoch [36/50], Loss: 0.1182\n",
      "Epoch [37/50], Loss: 0.1116\n",
      "Epoch [38/50], Loss: 0.0970\n",
      "Epoch [39/50], Loss: 0.1101\n",
      "Epoch [40/50], Loss: 0.1077\n",
      "Epoch [41/50], Loss: 0.1087\n",
      "Epoch [42/50], Loss: 0.1109\n",
      "Epoch [43/50], Loss: 0.1087\n",
      "Epoch [44/50], Loss: 0.1124\n",
      "Epoch [45/50], Loss: 0.1051\n",
      "Epoch [46/50], Loss: 0.1091\n",
      "Epoch [47/50], Loss: 0.1018\n",
      "Epoch [48/50], Loss: 0.0989\n",
      "Epoch [49/50], Loss: 0.0950\n"
     ]
    },
    {
     "name": "stderr",
     "output_type": "stream",
     "text": [
      "\u001b[32m[I 2023-05-09 09:50:45,471]\u001b[0m Trial 87 finished with value: 0.10852709412574768 and parameters: {'n_layers': 3, 'activation': 2, 'dropout_l3': 0.046471066162653105, 'dropout_l2': 0.014078206216058138, 'dropout_l1': 0.011494797515067044, 'bottleneck_size': 109, 'optimizer': 'Adam', 'lr': 0.0018691088362948847}. Best is trial 81 with value: 0.08911650627851486.\u001b[0m\n"
     ]
    },
    {
     "name": "stdout",
     "output_type": "stream",
     "text": [
      "Epoch [50/50], Loss: 0.1085\n"
     ]
    },
    {
     "name": "stderr",
     "output_type": "stream",
     "text": [
      "\u001b[32m[I 2023-05-09 09:50:45,738]\u001b[0m Trial 88 pruned. \u001b[0m\n"
     ]
    },
    {
     "name": "stdout",
     "output_type": "stream",
     "text": [
      "Epoch [1/50], Loss: 0.5121\n"
     ]
    },
    {
     "name": "stderr",
     "output_type": "stream",
     "text": [
      "\u001b[32m[I 2023-05-09 09:50:46,383]\u001b[0m Trial 89 pruned. \u001b[0m\n"
     ]
    },
    {
     "name": "stdout",
     "output_type": "stream",
     "text": [
      "Epoch [1/50], Loss: 0.6847\n"
     ]
    },
    {
     "name": "stderr",
     "output_type": "stream",
     "text": [
      "\u001b[32m[I 2023-05-09 09:50:46,635]\u001b[0m Trial 90 pruned. \u001b[0m\n"
     ]
    },
    {
     "name": "stdout",
     "output_type": "stream",
     "text": [
      "Epoch [1/50], Loss: 0.5535\n",
      "Epoch [1/50], Loss: 0.4242\n",
      "Epoch [2/50], Loss: 0.3263\n",
      "Epoch [3/50], Loss: 0.2594\n",
      "Epoch [4/50], Loss: 0.2387\n",
      "Epoch [5/50], Loss: 0.2179\n",
      "Epoch [6/50], Loss: 0.1986\n",
      "Epoch [7/50], Loss: 0.1866\n",
      "Epoch [8/50], Loss: 0.1771\n",
      "Epoch [9/50], Loss: 0.1722\n",
      "Epoch [10/50], Loss: 0.1715\n",
      "Epoch [11/50], Loss: 0.1628\n",
      "Epoch [12/50], Loss: 0.1414\n",
      "Epoch [13/50], Loss: 0.1480\n",
      "Epoch [14/50], Loss: 0.1438\n",
      "Epoch [15/50], Loss: 0.1542\n",
      "Epoch [16/50], Loss: 0.1468\n",
      "Epoch [17/50], Loss: 0.1452\n",
      "Epoch [18/50], Loss: 0.1401\n",
      "Epoch [19/50], Loss: 0.1287\n",
      "Epoch [20/50], Loss: 0.1277\n",
      "Epoch [21/50], Loss: 0.1292\n",
      "Epoch [22/50], Loss: 0.1264\n",
      "Epoch [23/50], Loss: 0.1492\n",
      "Epoch [24/50], Loss: 0.1317\n",
      "Epoch [25/50], Loss: 0.1131\n",
      "Epoch [26/50], Loss: 0.1267\n",
      "Epoch [27/50], Loss: 0.1269\n",
      "Epoch [28/50], Loss: 0.1170\n",
      "Epoch [29/50], Loss: 0.1245\n",
      "Epoch [30/50], Loss: 0.1177\n",
      "Epoch [31/50], Loss: 0.1191\n",
      "Epoch [32/50], Loss: 0.1076\n",
      "Epoch [33/50], Loss: 0.1109\n",
      "Epoch [34/50], Loss: 0.1152\n",
      "Epoch [35/50], Loss: 0.1140\n",
      "Epoch [36/50], Loss: 0.1072\n",
      "Epoch [37/50], Loss: 0.1066\n",
      "Epoch [38/50], Loss: 0.1065\n",
      "Epoch [39/50], Loss: 0.1134\n",
      "Epoch [40/50], Loss: 0.1096\n",
      "Epoch [41/50], Loss: 0.1045\n",
      "Epoch [42/50], Loss: 0.1137\n",
      "Epoch [43/50], Loss: 0.1243\n",
      "Epoch [44/50], Loss: 0.1005\n",
      "Epoch [45/50], Loss: 0.1010\n",
      "Epoch [46/50], Loss: 0.1267\n",
      "Epoch [47/50], Loss: 0.0982\n",
      "Epoch [48/50], Loss: 0.1090\n",
      "Epoch [49/50], Loss: 0.1038\n"
     ]
    },
    {
     "name": "stderr",
     "output_type": "stream",
     "text": [
      "\u001b[32m[I 2023-05-09 09:50:57,882]\u001b[0m Trial 91 finished with value: 0.09909140318632126 and parameters: {'n_layers': 3, 'activation': 2, 'dropout_l3': 0.08001618920303065, 'dropout_l2': 0.0008773229580809339, 'dropout_l1': 0.01153901906699628, 'bottleneck_size': 102, 'optimizer': 'Adam', 'lr': 0.0016558314154673398}. Best is trial 81 with value: 0.08911650627851486.\u001b[0m\n"
     ]
    },
    {
     "name": "stdout",
     "output_type": "stream",
     "text": [
      "Epoch [50/50], Loss: 0.0991\n",
      "Epoch [1/50], Loss: 0.4171\n",
      "Epoch [2/50], Loss: 0.3253\n",
      "Epoch [3/50], Loss: 0.3158\n",
      "Epoch [4/50], Loss: 0.2412\n",
      "Epoch [5/50], Loss: 0.2115\n",
      "Epoch [6/50], Loss: 0.2159\n",
      "Epoch [7/50], Loss: 0.1949\n",
      "Epoch [8/50], Loss: 0.1887\n",
      "Epoch [9/50], Loss: 0.1878\n",
      "Epoch [10/50], Loss: 0.1796\n",
      "Epoch [11/50], Loss: 0.1653\n",
      "Epoch [12/50], Loss: 0.1580\n",
      "Epoch [13/50], Loss: 0.1590\n",
      "Epoch [14/50], Loss: 0.1616\n",
      "Epoch [15/50], Loss: 0.1930\n",
      "Epoch [16/50], Loss: 0.1466\n",
      "Epoch [17/50], Loss: 0.1470\n",
      "Epoch [18/50], Loss: 0.1446\n",
      "Epoch [19/50], Loss: 0.1424\n",
      "Epoch [20/50], Loss: 0.1425\n",
      "Epoch [21/50], Loss: 0.1506\n",
      "Epoch [22/50], Loss: 0.1690\n",
      "Epoch [23/50], Loss: 0.1536\n",
      "Epoch [24/50], Loss: 0.1534\n",
      "Epoch [25/50], Loss: 0.1454\n",
      "Epoch [26/50], Loss: 0.1352\n",
      "Epoch [27/50], Loss: 0.1404\n",
      "Epoch [28/50], Loss: 0.1494\n",
      "Epoch [29/50], Loss: 0.1393\n",
      "Epoch [30/50], Loss: 0.1692\n",
      "Epoch [31/50], Loss: 0.4238\n",
      "Epoch [32/50], Loss: 0.2248\n",
      "Epoch [33/50], Loss: 0.1732\n",
      "Epoch [34/50], Loss: 0.1485\n",
      "Epoch [35/50], Loss: 0.1466\n",
      "Epoch [36/50], Loss: 0.1432\n",
      "Epoch [37/50], Loss: 0.1389\n",
      "Epoch [38/50], Loss: 0.1396\n",
      "Epoch [39/50], Loss: 0.1425\n",
      "Epoch [40/50], Loss: 0.1295\n",
      "Epoch [41/50], Loss: 0.1270\n",
      "Epoch [42/50], Loss: 0.1369\n",
      "Epoch [43/50], Loss: 0.1301\n",
      "Epoch [44/50], Loss: 0.1362\n",
      "Epoch [45/50], Loss: 0.1278\n",
      "Epoch [46/50], Loss: 0.1282\n",
      "Epoch [47/50], Loss: 0.1308\n",
      "Epoch [48/50], Loss: 0.1346\n",
      "Epoch [49/50], Loss: 0.1247\n"
     ]
    },
    {
     "name": "stderr",
     "output_type": "stream",
     "text": [
      "\u001b[32m[I 2023-05-09 09:51:09,207]\u001b[0m Trial 92 finished with value: 0.12078053504228592 and parameters: {'n_layers': 3, 'activation': 2, 'dropout_l3': 0.08717923463560852, 'dropout_l2': 0.010339876921982651, 'dropout_l1': 0.02432464105175631, 'bottleneck_size': 111, 'optimizer': 'Adam', 'lr': 0.001721919770868467}. Best is trial 81 with value: 0.08911650627851486.\u001b[0m\n"
     ]
    },
    {
     "name": "stdout",
     "output_type": "stream",
     "text": [
      "Epoch [50/50], Loss: 0.1208\n",
      "Epoch [1/50], Loss: 0.4717\n",
      "Epoch [2/50], Loss: 0.3594\n",
      "Epoch [3/50], Loss: 0.2833\n",
      "Epoch [4/50], Loss: 0.2644\n",
      "Epoch [5/50], Loss: 0.2397\n",
      "Epoch [6/50], Loss: 0.2234\n",
      "Epoch [7/50], Loss: 0.2015\n",
      "Epoch [8/50], Loss: 0.2247\n",
      "Epoch [9/50], Loss: 0.2037\n",
      "Epoch [10/50], Loss: 0.1689\n",
      "Epoch [11/50], Loss: 0.2362\n",
      "Epoch [12/50], Loss: 0.1624\n",
      "Epoch [13/50], Loss: 0.1617\n",
      "Epoch [14/50], Loss: 0.1591\n",
      "Epoch [15/50], Loss: 0.1498\n",
      "Epoch [16/50], Loss: 0.1423\n",
      "Epoch [17/50], Loss: 0.1540\n",
      "Epoch [18/50], Loss: 0.1428\n",
      "Epoch [19/50], Loss: 0.1408\n",
      "Epoch [20/50], Loss: 0.1498\n",
      "Epoch [21/50], Loss: 0.1288\n",
      "Epoch [22/50], Loss: 0.1402\n",
      "Epoch [23/50], Loss: 0.1271\n",
      "Epoch [24/50], Loss: 0.1344\n",
      "Epoch [25/50], Loss: 0.1293\n",
      "Epoch [26/50], Loss: 0.1272\n",
      "Epoch [27/50], Loss: 0.1322\n",
      "Epoch [28/50], Loss: 0.1412\n",
      "Epoch [29/50], Loss: 0.1301\n",
      "Epoch [30/50], Loss: 0.1251\n",
      "Epoch [31/50], Loss: 0.1287\n",
      "Epoch [32/50], Loss: 0.1192\n",
      "Epoch [33/50], Loss: 0.1173\n",
      "Epoch [34/50], Loss: 0.1117\n",
      "Epoch [35/50], Loss: 0.1098\n",
      "Epoch [36/50], Loss: 0.1113\n",
      "Epoch [37/50], Loss: 0.1142\n",
      "Epoch [38/50], Loss: 0.1142\n",
      "Epoch [39/50], Loss: 0.1106\n",
      "Epoch [40/50], Loss: 0.1090\n",
      "Epoch [41/50], Loss: 0.1091\n",
      "Epoch [42/50], Loss: 0.1056\n",
      "Epoch [43/50], Loss: 0.1403\n",
      "Epoch [44/50], Loss: 0.1098\n",
      "Epoch [45/50], Loss: 0.1032\n",
      "Epoch [46/50], Loss: 0.1080\n",
      "Epoch [47/50], Loss: 0.1033\n",
      "Epoch [48/50], Loss: 0.1020\n",
      "Epoch [49/50], Loss: 0.0996\n"
     ]
    },
    {
     "name": "stderr",
     "output_type": "stream",
     "text": [
      "\u001b[32m[I 2023-05-09 09:51:20,744]\u001b[0m Trial 93 finished with value: 0.10962913185358047 and parameters: {'n_layers': 3, 'activation': 2, 'dropout_l3': 0.0012930724795006746, 'dropout_l2': 0.025887844337236877, 'dropout_l1': 0.011156670970082884, 'bottleneck_size': 107, 'optimizer': 'Adam', 'lr': 0.0008334756053450488}. Best is trial 81 with value: 0.08911650627851486.\u001b[0m\n"
     ]
    },
    {
     "name": "stdout",
     "output_type": "stream",
     "text": [
      "Epoch [50/50], Loss: 0.1096\n",
      "Epoch [1/50], Loss: 0.4088\n",
      "Epoch [2/50], Loss: 0.3232\n",
      "Epoch [3/50], Loss: 0.2735\n",
      "Epoch [4/50], Loss: 0.2472\n",
      "Epoch [5/50], Loss: 0.2505\n",
      "Epoch [6/50], Loss: 0.2394\n",
      "Epoch [7/50], Loss: 0.2072\n",
      "Epoch [8/50], Loss: 0.2137\n",
      "Epoch [9/50], Loss: 0.2093\n",
      "Epoch [10/50], Loss: 0.1796\n",
      "Epoch [11/50], Loss: 0.1998\n",
      "Epoch [12/50], Loss: 0.1874\n",
      "Epoch [13/50], Loss: 0.1758\n",
      "Epoch [14/50], Loss: 0.1735\n",
      "Epoch [15/50], Loss: 0.1764\n",
      "Epoch [16/50], Loss: 0.1753\n",
      "Epoch [17/50], Loss: 0.1850\n",
      "Epoch [18/50], Loss: 0.1619\n",
      "Epoch [19/50], Loss: 0.1643\n",
      "Epoch [20/50], Loss: 0.1693\n",
      "Epoch [21/50], Loss: 0.1774\n",
      "Epoch [22/50], Loss: 0.1567\n",
      "Epoch [23/50], Loss: 0.1589\n",
      "Epoch [24/50], Loss: 0.1708\n",
      "Epoch [25/50], Loss: 0.1596\n",
      "Epoch [26/50], Loss: 0.1412\n",
      "Epoch [27/50], Loss: 0.1388\n",
      "Epoch [28/50], Loss: 0.1439\n",
      "Epoch [29/50], Loss: 0.1429\n",
      "Epoch [30/50], Loss: 0.1499\n",
      "Epoch [31/50], Loss: 0.1447\n",
      "Epoch [32/50], Loss: 0.1403\n",
      "Epoch [33/50], Loss: 0.1444\n",
      "Epoch [34/50], Loss: 0.1430\n",
      "Epoch [35/50], Loss: 0.1458\n",
      "Epoch [36/50], Loss: 0.1462\n",
      "Epoch [37/50], Loss: 0.1328\n",
      "Epoch [38/50], Loss: 0.1408\n",
      "Epoch [39/50], Loss: 0.1293\n",
      "Epoch [40/50], Loss: 0.1322\n",
      "Epoch [41/50], Loss: 0.1346\n",
      "Epoch [42/50], Loss: 0.1322\n",
      "Epoch [43/50], Loss: 0.1389\n",
      "Epoch [44/50], Loss: 0.1347\n",
      "Epoch [45/50], Loss: 0.1471\n",
      "Epoch [46/50], Loss: 0.1332\n",
      "Epoch [47/50], Loss: 0.1315\n",
      "Epoch [48/50], Loss: 0.1213\n",
      "Epoch [49/50], Loss: 0.1359\n"
     ]
    },
    {
     "name": "stderr",
     "output_type": "stream",
     "text": [
      "\u001b[32m[I 2023-05-09 09:51:31,921]\u001b[0m Trial 94 finished with value: 0.12588107585906982 and parameters: {'n_layers': 3, 'activation': 2, 'dropout_l3': 0.005145764038452939, 'dropout_l2': 0.02494124137800865, 'dropout_l1': 0.041348080364090066, 'bottleneck_size': 107, 'optimizer': 'Adam', 'lr': 0.0019113792223721523}. Best is trial 81 with value: 0.08911650627851486.\u001b[0m\n"
     ]
    },
    {
     "name": "stdout",
     "output_type": "stream",
     "text": [
      "Epoch [50/50], Loss: 0.1259\n",
      "Epoch [1/50], Loss: 0.4547\n",
      "Epoch [2/50], Loss: 0.3516\n",
      "Epoch [3/50], Loss: 0.2812\n",
      "Epoch [4/50], Loss: 0.2465\n",
      "Epoch [5/50], Loss: 0.2183\n",
      "Epoch [6/50], Loss: 0.1978\n",
      "Epoch [7/50], Loss: 0.1932\n",
      "Epoch [8/50], Loss: 0.1996\n",
      "Epoch [9/50], Loss: 0.1648\n",
      "Epoch [10/50], Loss: 0.1578\n",
      "Epoch [11/50], Loss: 0.1549\n",
      "Epoch [12/50], Loss: 0.1576\n",
      "Epoch [13/50], Loss: 0.1436\n",
      "Epoch [14/50], Loss: 0.1379\n",
      "Epoch [15/50], Loss: 0.1983\n",
      "Epoch [16/50], Loss: 0.1435\n",
      "Epoch [17/50], Loss: 0.1324\n",
      "Epoch [18/50], Loss: 0.1289\n",
      "Epoch [19/50], Loss: 0.1195\n",
      "Epoch [20/50], Loss: 0.1210\n",
      "Epoch [21/50], Loss: 0.1199\n",
      "Epoch [22/50], Loss: 0.1160\n",
      "Epoch [23/50], Loss: 0.1223\n",
      "Epoch [24/50], Loss: 0.1202\n",
      "Epoch [25/50], Loss: 0.1276\n",
      "Epoch [26/50], Loss: 0.1208\n",
      "Epoch [27/50], Loss: 0.1408\n",
      "Epoch [28/50], Loss: 0.1196\n",
      "Epoch [29/50], Loss: 0.1172\n",
      "Epoch [30/50], Loss: 0.1061\n",
      "Epoch [31/50], Loss: 0.1043\n",
      "Epoch [32/50], Loss: 0.1282\n",
      "Epoch [33/50], Loss: 0.1077\n",
      "Epoch [34/50], Loss: 0.1058\n",
      "Epoch [35/50], Loss: 0.1030\n",
      "Epoch [36/50], Loss: 0.1022\n",
      "Epoch [37/50], Loss: 0.1377\n",
      "Epoch [38/50], Loss: 0.1098\n",
      "Epoch [39/50], Loss: 0.0979\n",
      "Epoch [40/50], Loss: 0.1018\n",
      "Epoch [41/50], Loss: 0.1024\n",
      "Epoch [42/50], Loss: 0.0977\n",
      "Epoch [43/50], Loss: 0.0945\n",
      "Epoch [44/50], Loss: 0.0981\n",
      "Epoch [45/50], Loss: 0.0963\n",
      "Epoch [46/50], Loss: 0.1043\n",
      "Epoch [47/50], Loss: 0.0980\n",
      "Epoch [48/50], Loss: 0.0961\n",
      "Epoch [49/50], Loss: 0.0936\n"
     ]
    },
    {
     "name": "stderr",
     "output_type": "stream",
     "text": [
      "\u001b[32m[I 2023-05-09 09:51:43,313]\u001b[0m Trial 95 finished with value: 0.09921718388795853 and parameters: {'n_layers': 3, 'activation': 2, 'dropout_l3': 0.04297193850222179, 'dropout_l2': 0.04318371630810888, 'dropout_l1': 0.0002517311893237232, 'bottleneck_size': 97, 'optimizer': 'Adam', 'lr': 0.0008519896562348329}. Best is trial 81 with value: 0.08911650627851486.\u001b[0m\n"
     ]
    },
    {
     "name": "stdout",
     "output_type": "stream",
     "text": [
      "Epoch [50/50], Loss: 0.0992\n",
      "Epoch [1/50], Loss: 0.4525\n",
      "Epoch [2/50], Loss: 0.3608\n",
      "Epoch [3/50], Loss: 0.3095\n",
      "Epoch [4/50], Loss: 0.2930\n",
      "Epoch [5/50], Loss: 0.2314\n",
      "Epoch [6/50], Loss: 0.2925\n",
      "Epoch [7/50], Loss: 0.2018\n",
      "Epoch [8/50], Loss: 0.1842\n",
      "Epoch [9/50], Loss: 0.1746\n",
      "Epoch [10/50], Loss: 0.1675\n",
      "Epoch [11/50], Loss: 0.1719\n",
      "Epoch [12/50], Loss: 0.1546\n",
      "Epoch [13/50], Loss: 0.1738\n",
      "Epoch [14/50], Loss: 0.1534\n",
      "Epoch [15/50], Loss: 0.1447\n",
      "Epoch [16/50], Loss: 0.1440\n",
      "Epoch [17/50], Loss: 0.1400\n",
      "Epoch [18/50], Loss: 0.1391\n",
      "Epoch [19/50], Loss: 0.1328\n",
      "Epoch [20/50], Loss: 0.1311\n",
      "Epoch [21/50], Loss: 0.1226\n",
      "Epoch [22/50], Loss: 0.1342\n",
      "Epoch [23/50], Loss: 0.1215\n",
      "Epoch [24/50], Loss: 0.1263\n",
      "Epoch [25/50], Loss: 0.1352\n",
      "Epoch [26/50], Loss: 0.1274\n",
      "Epoch [27/50], Loss: 0.1251\n",
      "Epoch [28/50], Loss: 0.1149\n",
      "Epoch [29/50], Loss: 0.1168\n",
      "Epoch [30/50], Loss: 0.1690\n",
      "Epoch [31/50], Loss: 0.1144\n",
      "Epoch [32/50], Loss: 0.1095\n",
      "Epoch [33/50], Loss: 0.1124\n",
      "Epoch [34/50], Loss: 0.1132\n",
      "Epoch [35/50], Loss: 0.1069\n",
      "Epoch [36/50], Loss: 0.1087\n",
      "Epoch [37/50], Loss: 0.1039\n",
      "Epoch [38/50], Loss: 0.1208\n",
      "Epoch [39/50], Loss: 0.1041\n",
      "Epoch [40/50], Loss: 0.1123\n",
      "Epoch [41/50], Loss: 0.1014\n",
      "Epoch [42/50], Loss: 0.1090\n",
      "Epoch [43/50], Loss: 0.1016\n",
      "Epoch [44/50], Loss: 0.1128\n",
      "Epoch [45/50], Loss: 0.0954\n",
      "Epoch [46/50], Loss: 0.1036\n",
      "Epoch [47/50], Loss: 0.0996\n",
      "Epoch [48/50], Loss: 0.1057\n",
      "Epoch [49/50], Loss: 0.1023\n"
     ]
    },
    {
     "name": "stderr",
     "output_type": "stream",
     "text": [
      "\u001b[32m[I 2023-05-09 09:51:54,690]\u001b[0m Trial 96 finished with value: 0.10205371677875519 and parameters: {'n_layers': 3, 'activation': 2, 'dropout_l3': 0.04622530272357405, 'dropout_l2': 0.04075616026698408, 'dropout_l1': 0.0019826610649910006, 'bottleneck_size': 97, 'optimizer': 'Adam', 'lr': 0.0008417210476550906}. Best is trial 81 with value: 0.08911650627851486.\u001b[0m\n"
     ]
    },
    {
     "name": "stdout",
     "output_type": "stream",
     "text": [
      "Epoch [50/50], Loss: 0.1021\n"
     ]
    },
    {
     "name": "stderr",
     "output_type": "stream",
     "text": [
      "\u001b[32m[I 2023-05-09 09:51:54,951]\u001b[0m Trial 97 pruned. \u001b[0m\n"
     ]
    },
    {
     "name": "stdout",
     "output_type": "stream",
     "text": [
      "Epoch [1/50], Loss: 0.7808\n"
     ]
    },
    {
     "name": "stderr",
     "output_type": "stream",
     "text": [
      "\u001b[32m[I 2023-05-09 09:51:55,218]\u001b[0m Trial 98 pruned. \u001b[0m\n"
     ]
    },
    {
     "name": "stdout",
     "output_type": "stream",
     "text": [
      "Epoch [1/50], Loss: 0.7235\n",
      "Epoch [1/50], Loss: 0.4322\n",
      "Epoch [2/50], Loss: 0.3378\n",
      "Epoch [3/50], Loss: 0.2684\n",
      "Epoch [4/50], Loss: 0.2627\n",
      "Epoch [5/50], Loss: 0.2211\n",
      "Epoch [6/50], Loss: 0.2171\n",
      "Epoch [7/50], Loss: 0.1942\n",
      "Epoch [8/50], Loss: 0.1754\n",
      "Epoch [9/50], Loss: 0.2523\n",
      "Epoch [10/50], Loss: 0.3471\n",
      "Epoch [11/50], Loss: 0.2295\n",
      "Epoch [12/50], Loss: 0.1922\n",
      "Epoch [13/50], Loss: 0.1837\n",
      "Epoch [14/50], Loss: 0.1833\n",
      "Epoch [15/50], Loss: 0.1740\n",
      "Epoch [16/50], Loss: 0.1624\n",
      "Epoch [17/50], Loss: 0.1766\n",
      "Epoch [18/50], Loss: 0.1608\n",
      "Epoch [19/50], Loss: 0.1798\n",
      "Epoch [20/50], Loss: 0.1737\n",
      "Epoch [21/50], Loss: 0.1536\n",
      "Epoch [22/50], Loss: 0.1629\n",
      "Epoch [23/50], Loss: 0.1672\n",
      "Epoch [24/50], Loss: 0.1506\n",
      "Epoch [25/50], Loss: 0.1486\n",
      "Epoch [26/50], Loss: 0.1556\n",
      "Epoch [27/50], Loss: 0.1370\n",
      "Epoch [28/50], Loss: 0.1495\n",
      "Epoch [29/50], Loss: 0.1396\n",
      "Epoch [30/50], Loss: 0.1345\n",
      "Epoch [31/50], Loss: 0.1792\n",
      "Epoch [32/50], Loss: 0.1380\n",
      "Epoch [33/50], Loss: 0.1350\n",
      "Epoch [34/50], Loss: 0.1540\n",
      "Epoch [35/50], Loss: 0.1388\n",
      "Epoch [36/50], Loss: 0.1285\n",
      "Epoch [37/50], Loss: 0.1326\n",
      "Epoch [38/50], Loss: 0.1638\n",
      "Epoch [39/50], Loss: 0.1283\n",
      "Epoch [40/50], Loss: 0.1261\n",
      "Epoch [41/50], Loss: 0.1251\n",
      "Epoch [42/50], Loss: 0.1308\n",
      "Epoch [43/50], Loss: 0.1780\n",
      "Epoch [44/50], Loss: 0.1267\n",
      "Epoch [45/50], Loss: 0.1244\n",
      "Epoch [46/50], Loss: 0.1245\n",
      "Epoch [47/50], Loss: 0.1369\n",
      "Epoch [48/50], Loss: 0.1416\n",
      "Epoch [49/50], Loss: 0.1233\n"
     ]
    },
    {
     "name": "stderr",
     "output_type": "stream",
     "text": [
      "\u001b[32m[I 2023-05-09 09:52:06,575]\u001b[0m Trial 99 finished with value: 0.12483562529087067 and parameters: {'n_layers': 3, 'activation': 2, 'dropout_l3': 0.044407124816803735, 'dropout_l2': 0.013553707336484654, 'dropout_l1': 0.027144616087175832, 'bottleneck_size': 112, 'optimizer': 'Adam', 'lr': 0.002458254094295337}. Best is trial 81 with value: 0.08911650627851486.\u001b[0m\n"
     ]
    },
    {
     "name": "stdout",
     "output_type": "stream",
     "text": [
      "Epoch [50/50], Loss: 0.1248\n"
     ]
    },
    {
     "name": "stderr",
     "output_type": "stream",
     "text": [
      "\u001b[32m[I 2023-05-09 09:52:16,127]\u001b[0m Trial 100 pruned. \u001b[0m\n"
     ]
    },
    {
     "name": "stdout",
     "output_type": "stream",
     "text": [
      "Epoch [1/50], Loss: 3.2885\n",
      "Epoch [1/50], Loss: 0.4473\n",
      "Epoch [2/50], Loss: 0.3385\n",
      "Epoch [3/50], Loss: 0.2969\n",
      "Epoch [4/50], Loss: 0.2499\n",
      "Epoch [5/50], Loss: 0.2397\n",
      "Epoch [6/50], Loss: 0.2231\n",
      "Epoch [7/50], Loss: 0.2009\n",
      "Epoch [8/50], Loss: 0.1721\n",
      "Epoch [9/50], Loss: 0.2001\n",
      "Epoch [10/50], Loss: 0.1662\n",
      "Epoch [11/50], Loss: 0.1601\n",
      "Epoch [12/50], Loss: 0.1605\n",
      "Epoch [13/50], Loss: 0.1932\n",
      "Epoch [14/50], Loss: 0.1557\n",
      "Epoch [15/50], Loss: 0.2048\n",
      "Epoch [16/50], Loss: 0.1704\n",
      "Epoch [17/50], Loss: 0.1430\n",
      "Epoch [18/50], Loss: 0.1374\n",
      "Epoch [19/50], Loss: 0.1404\n",
      "Epoch [20/50], Loss: 0.1256\n",
      "Epoch [21/50], Loss: 0.1298\n",
      "Epoch [22/50], Loss: 0.1270\n",
      "Epoch [23/50], Loss: 0.1255\n",
      "Epoch [24/50], Loss: 0.1322\n",
      "Epoch [25/50], Loss: 0.1212\n",
      "Epoch [26/50], Loss: 0.1276\n",
      "Epoch [27/50], Loss: 0.1361\n",
      "Epoch [28/50], Loss: 0.1232\n",
      "Epoch [29/50], Loss: 0.1167\n",
      "Epoch [30/50], Loss: 0.1128\n",
      "Epoch [31/50], Loss: 0.1167\n",
      "Epoch [32/50], Loss: 0.1809\n",
      "Epoch [33/50], Loss: 0.1517\n",
      "Epoch [34/50], Loss: 0.1265\n",
      "Epoch [35/50], Loss: 0.1210\n",
      "Epoch [36/50], Loss: 0.1183\n",
      "Epoch [37/50], Loss: 0.1156\n",
      "Epoch [38/50], Loss: 0.1126\n",
      "Epoch [39/50], Loss: 0.1025\n",
      "Epoch [40/50], Loss: 0.1073\n",
      "Epoch [41/50], Loss: 0.1031\n",
      "Epoch [42/50], Loss: 0.1076\n",
      "Epoch [43/50], Loss: 0.1086\n",
      "Epoch [44/50], Loss: 0.0995\n",
      "Epoch [45/50], Loss: 0.1128\n",
      "Epoch [46/50], Loss: 0.1081\n",
      "Epoch [47/50], Loss: 0.1020\n",
      "Epoch [48/50], Loss: 0.1032\n",
      "Epoch [49/50], Loss: 0.1126\n"
     ]
    },
    {
     "name": "stderr",
     "output_type": "stream",
     "text": [
      "\u001b[32m[I 2023-05-09 09:52:27,353]\u001b[0m Trial 101 finished with value: 0.11834027618169785 and parameters: {'n_layers': 3, 'activation': 2, 'dropout_l3': 0.020076670026017394, 'dropout_l2': 0.03755182444552422, 'dropout_l1': 0.009717001773283131, 'bottleneck_size': 97, 'optimizer': 'Adam', 'lr': 0.0010881085143439474}. Best is trial 81 with value: 0.08911650627851486.\u001b[0m\n"
     ]
    },
    {
     "name": "stdout",
     "output_type": "stream",
     "text": [
      "Epoch [50/50], Loss: 0.1183\n",
      "Epoch [1/50], Loss: 0.4439\n",
      "Epoch [2/50], Loss: 0.3345\n",
      "Epoch [3/50], Loss: 0.3188\n",
      "Epoch [4/50], Loss: 0.2595\n",
      "Epoch [5/50], Loss: 0.2538\n",
      "Epoch [6/50], Loss: 0.2241\n",
      "Epoch [7/50], Loss: 0.2066\n",
      "Epoch [8/50], Loss: 0.2140\n",
      "Epoch [9/50], Loss: 0.1777\n",
      "Epoch [10/50], Loss: 0.1913\n",
      "Epoch [11/50], Loss: 0.1708\n",
      "Epoch [12/50], Loss: 0.1941\n",
      "Epoch [13/50], Loss: 0.1651\n",
      "Epoch [14/50], Loss: 0.1724\n",
      "Epoch [15/50], Loss: 0.1690\n",
      "Epoch [16/50], Loss: 0.2082\n",
      "Epoch [17/50], Loss: 0.1539\n",
      "Epoch [18/50], Loss: 0.1576\n",
      "Epoch [19/50], Loss: 0.1512\n",
      "Epoch [20/50], Loss: 0.1548\n",
      "Epoch [21/50], Loss: 0.1472\n",
      "Epoch [22/50], Loss: 0.1664\n",
      "Epoch [23/50], Loss: 0.1582\n",
      "Epoch [24/50], Loss: 0.1489\n",
      "Epoch [25/50], Loss: 0.1441\n",
      "Epoch [26/50], Loss: 0.1441\n",
      "Epoch [27/50], Loss: 0.1442\n",
      "Epoch [28/50], Loss: 0.1405\n",
      "Epoch [29/50], Loss: 0.1483\n",
      "Epoch [30/50], Loss: 0.1484\n",
      "Epoch [31/50], Loss: 0.1393\n",
      "Epoch [32/50], Loss: 0.1321\n",
      "Epoch [33/50], Loss: 0.1368\n",
      "Epoch [34/50], Loss: 0.1397\n",
      "Epoch [35/50], Loss: 0.1479\n",
      "Epoch [36/50], Loss: 0.1417\n",
      "Epoch [37/50], Loss: 0.1447\n",
      "Epoch [38/50], Loss: 0.1259\n",
      "Epoch [39/50], Loss: 0.1260\n",
      "Epoch [40/50], Loss: 0.1265\n",
      "Epoch [41/50], Loss: 0.1268\n",
      "Epoch [42/50], Loss: 0.1326\n",
      "Epoch [43/50], Loss: 0.1326\n",
      "Epoch [44/50], Loss: 0.1316\n",
      "Epoch [45/50], Loss: 0.1488\n",
      "Epoch [46/50], Loss: 0.1276\n",
      "Epoch [47/50], Loss: 0.1393\n",
      "Epoch [48/50], Loss: 0.1302\n",
      "Epoch [49/50], Loss: 0.1293\n"
     ]
    },
    {
     "name": "stderr",
     "output_type": "stream",
     "text": [
      "\u001b[32m[I 2023-05-09 09:52:38,647]\u001b[0m Trial 102 finished with value: 0.11914364248514175 and parameters: {'n_layers': 3, 'activation': 2, 'dropout_l3': 0.04242174762145142, 'dropout_l2': 0.011440169115393778, 'dropout_l1': 0.03462617886110014, 'bottleneck_size': 102, 'optimizer': 'Adam', 'lr': 0.0014745419735662706}. Best is trial 81 with value: 0.08911650627851486.\u001b[0m\n"
     ]
    },
    {
     "name": "stdout",
     "output_type": "stream",
     "text": [
      "Epoch [50/50], Loss: 0.1191\n",
      "Epoch [1/50], Loss: 0.4666\n",
      "Epoch [2/50], Loss: 0.3376\n",
      "Epoch [3/50], Loss: 0.2979\n",
      "Epoch [4/50], Loss: 0.2616\n",
      "Epoch [5/50], Loss: 0.2430\n",
      "Epoch [6/50], Loss: 0.2175\n",
      "Epoch [7/50], Loss: 0.2618\n",
      "Epoch [8/50], Loss: 0.2207\n",
      "Epoch [9/50], Loss: 0.1786\n",
      "Epoch [10/50], Loss: 0.1759\n",
      "Epoch [11/50], Loss: 0.1720\n",
      "Epoch [12/50], Loss: 0.1550\n",
      "Epoch [13/50], Loss: 0.1595\n",
      "Epoch [14/50], Loss: 0.1540\n",
      "Epoch [15/50], Loss: 0.1473\n",
      "Epoch [16/50], Loss: 0.1509\n",
      "Epoch [17/50], Loss: 0.1569\n",
      "Epoch [18/50], Loss: 0.1450\n",
      "Epoch [19/50], Loss: 0.1380\n",
      "Epoch [20/50], Loss: 0.1386\n",
      "Epoch [21/50], Loss: 0.1387\n",
      "Epoch [22/50], Loss: 0.1419\n",
      "Epoch [23/50], Loss: 0.1304\n",
      "Epoch [24/50], Loss: 0.1435\n",
      "Epoch [25/50], Loss: 0.1366\n",
      "Epoch [26/50], Loss: 0.1823\n",
      "Epoch [27/50], Loss: 0.1204\n",
      "Epoch [28/50], Loss: 0.1174\n",
      "Epoch [29/50], Loss: 0.1236\n",
      "Epoch [30/50], Loss: 0.1251\n",
      "Epoch [31/50], Loss: 0.1192\n",
      "Epoch [32/50], Loss: 0.1198\n",
      "Epoch [33/50], Loss: 0.1468\n",
      "Epoch [34/50], Loss: 0.1208\n",
      "Epoch [35/50], Loss: 0.1227\n",
      "Epoch [36/50], Loss: 0.1103\n",
      "Epoch [37/50], Loss: 0.1195\n",
      "Epoch [38/50], Loss: 0.1159\n",
      "Epoch [39/50], Loss: 0.1043\n",
      "Epoch [40/50], Loss: 0.1099\n",
      "Epoch [41/50], Loss: 0.1156\n",
      "Epoch [42/50], Loss: 0.1043\n",
      "Epoch [43/50], Loss: 0.1101\n",
      "Epoch [44/50], Loss: 0.1067\n",
      "Epoch [45/50], Loss: 0.1039\n",
      "Epoch [46/50], Loss: 0.1123\n",
      "Epoch [47/50], Loss: 0.1038\n",
      "Epoch [48/50], Loss: 0.1012\n",
      "Epoch [49/50], Loss: 0.1082\n"
     ]
    },
    {
     "name": "stderr",
     "output_type": "stream",
     "text": [
      "\u001b[32m[I 2023-05-09 09:52:49,949]\u001b[0m Trial 103 finished with value: 0.0966041162610054 and parameters: {'n_layers': 3, 'activation': 2, 'dropout_l3': 0.014615308971890624, 'dropout_l2': 0.027320353223520742, 'dropout_l1': 0.010059940475601832, 'bottleneck_size': 99, 'optimizer': 'Adam', 'lr': 0.0008314331953680491}. Best is trial 81 with value: 0.08911650627851486.\u001b[0m\n"
     ]
    },
    {
     "name": "stdout",
     "output_type": "stream",
     "text": [
      "Epoch [50/50], Loss: 0.0966\n"
     ]
    },
    {
     "name": "stderr",
     "output_type": "stream",
     "text": [
      "\u001b[32m[I 2023-05-09 09:52:50,214]\u001b[0m Trial 104 pruned. \u001b[0m\n"
     ]
    },
    {
     "name": "stdout",
     "output_type": "stream",
     "text": [
      "Epoch [1/50], Loss: 0.4909\n"
     ]
    },
    {
     "name": "stderr",
     "output_type": "stream",
     "text": [
      "\u001b[32m[I 2023-05-09 09:52:50,476]\u001b[0m Trial 105 pruned. \u001b[0m\n"
     ]
    },
    {
     "name": "stdout",
     "output_type": "stream",
     "text": [
      "Epoch [1/50], Loss: 0.5968\n"
     ]
    },
    {
     "name": "stderr",
     "output_type": "stream",
     "text": [
      "\u001b[32m[I 2023-05-09 09:52:50,740]\u001b[0m Trial 106 pruned. \u001b[0m\n"
     ]
    },
    {
     "name": "stdout",
     "output_type": "stream",
     "text": [
      "Epoch [1/50], Loss: 0.5277\n"
     ]
    },
    {
     "name": "stderr",
     "output_type": "stream",
     "text": [
      "\u001b[32m[I 2023-05-09 09:52:50,990]\u001b[0m Trial 107 pruned. \u001b[0m\n"
     ]
    },
    {
     "name": "stdout",
     "output_type": "stream",
     "text": [
      "Epoch [1/50], Loss: 1.0309\n"
     ]
    },
    {
     "name": "stderr",
     "output_type": "stream",
     "text": [
      "\u001b[32m[I 2023-05-09 09:52:51,631]\u001b[0m Trial 108 pruned. \u001b[0m\n"
     ]
    },
    {
     "name": "stdout",
     "output_type": "stream",
     "text": [
      "Epoch [1/50], Loss: 0.6159\n"
     ]
    },
    {
     "name": "stderr",
     "output_type": "stream",
     "text": [
      "\u001b[32m[I 2023-05-09 09:52:51,890]\u001b[0m Trial 109 pruned. \u001b[0m\n"
     ]
    },
    {
     "name": "stdout",
     "output_type": "stream",
     "text": [
      "Epoch [1/50], Loss: 0.4754\n"
     ]
    },
    {
     "name": "stderr",
     "output_type": "stream",
     "text": [
      "\u001b[32m[I 2023-05-09 09:52:52,143]\u001b[0m Trial 110 pruned. \u001b[0m\n"
     ]
    },
    {
     "name": "stdout",
     "output_type": "stream",
     "text": [
      "Epoch [1/50], Loss: 0.5654\n"
     ]
    },
    {
     "name": "stderr",
     "output_type": "stream",
     "text": [
      "\u001b[32m[I 2023-05-09 09:52:52,397]\u001b[0m Trial 111 pruned. \u001b[0m\n"
     ]
    },
    {
     "name": "stdout",
     "output_type": "stream",
     "text": [
      "Epoch [1/50], Loss: 0.5020\n"
     ]
    },
    {
     "name": "stderr",
     "output_type": "stream",
     "text": [
      "\u001b[32m[I 2023-05-09 09:52:52,653]\u001b[0m Trial 112 pruned. \u001b[0m\n"
     ]
    },
    {
     "name": "stdout",
     "output_type": "stream",
     "text": [
      "Epoch [1/50], Loss: 0.4989\n",
      "Epoch [1/50], Loss: 0.4514\n",
      "Epoch [2/50], Loss: 0.3308\n",
      "Epoch [3/50], Loss: 0.2914\n",
      "Epoch [4/50], Loss: 0.2676\n",
      "Epoch [5/50], Loss: 0.2168\n",
      "Epoch [6/50], Loss: 0.1956\n",
      "Epoch [7/50], Loss: 0.1836\n",
      "Epoch [8/50], Loss: 0.1768\n",
      "Epoch [9/50], Loss: 0.1548\n",
      "Epoch [10/50], Loss: 0.1636\n",
      "Epoch [11/50], Loss: 0.1714\n",
      "Epoch [12/50], Loss: 0.1885\n",
      "Epoch [13/50], Loss: 0.1495\n",
      "Epoch [14/50], Loss: 0.1268\n",
      "Epoch [15/50], Loss: 0.1413\n",
      "Epoch [16/50], Loss: 0.1272\n",
      "Epoch [17/50], Loss: 0.1260\n",
      "Epoch [18/50], Loss: 0.1182\n",
      "Epoch [19/50], Loss: 0.1162\n",
      "Epoch [20/50], Loss: 0.1090\n",
      "Epoch [21/50], Loss: 0.1110\n",
      "Epoch [22/50], Loss: 0.1246\n",
      "Epoch [23/50], Loss: 0.1128\n",
      "Epoch [24/50], Loss: 0.1108\n",
      "Epoch [25/50], Loss: 0.1067\n",
      "Epoch [26/50], Loss: 0.1063\n",
      "Epoch [27/50], Loss: 0.1156\n",
      "Epoch [28/50], Loss: 0.1034\n",
      "Epoch [29/50], Loss: 0.1144\n",
      "Epoch [30/50], Loss: 0.1119\n",
      "Epoch [31/50], Loss: 0.1020\n",
      "Epoch [32/50], Loss: 0.0994\n",
      "Epoch [33/50], Loss: 0.1051\n",
      "Epoch [34/50], Loss: 0.0961\n",
      "Epoch [35/50], Loss: 0.0905\n",
      "Epoch [36/50], Loss: 0.1248\n",
      "Epoch [37/50], Loss: 0.0928\n",
      "Epoch [38/50], Loss: 0.1240\n",
      "Epoch [39/50], Loss: 0.0977\n",
      "Epoch [40/50], Loss: 0.0848\n",
      "Epoch [41/50], Loss: 0.0908\n",
      "Epoch [42/50], Loss: 0.0851\n",
      "Epoch [43/50], Loss: 0.0899\n",
      "Epoch [44/50], Loss: 0.0937\n",
      "Epoch [45/50], Loss: 0.0856\n",
      "Epoch [46/50], Loss: 0.0825\n",
      "Epoch [47/50], Loss: 0.0817\n",
      "Epoch [48/50], Loss: 0.1102\n",
      "Epoch [49/50], Loss: 0.0835\n"
     ]
    },
    {
     "name": "stderr",
     "output_type": "stream",
     "text": [
      "\u001b[32m[I 2023-05-09 09:53:03,860]\u001b[0m Trial 113 finished with value: 0.08030945807695389 and parameters: {'n_layers': 3, 'activation': 2, 'dropout_l3': 0.02386353738159614, 'dropout_l2': 0.0177066124034864, 'dropout_l1': 6.388088319771168e-05, 'bottleneck_size': 112, 'optimizer': 'Adam', 'lr': 0.0008964600124897553}. Best is trial 113 with value: 0.08030945807695389.\u001b[0m\n"
     ]
    },
    {
     "name": "stdout",
     "output_type": "stream",
     "text": [
      "Epoch [50/50], Loss: 0.0803\n",
      "Epoch [1/50], Loss: 0.4231\n",
      "Epoch [2/50], Loss: 0.3545\n",
      "Epoch [3/50], Loss: 0.2586\n",
      "Epoch [4/50], Loss: 0.2248\n",
      "Epoch [5/50], Loss: 0.2028\n",
      "Epoch [6/50], Loss: 0.2324\n",
      "Epoch [7/50], Loss: 0.1806\n",
      "Epoch [8/50], Loss: 0.1732\n",
      "Epoch [9/50], Loss: 0.1619\n",
      "Epoch [10/50], Loss: 0.1502\n",
      "Epoch [11/50], Loss: 0.1518\n",
      "Epoch [12/50], Loss: 0.1378\n",
      "Epoch [13/50], Loss: 0.1381\n",
      "Epoch [14/50], Loss: 0.1351\n",
      "Epoch [15/50], Loss: 0.1412\n",
      "Epoch [16/50], Loss: 0.1308\n",
      "Epoch [17/50], Loss: 0.1996\n",
      "Epoch [18/50], Loss: 0.1443\n",
      "Epoch [19/50], Loss: 0.1325\n",
      "Epoch [20/50], Loss: 0.1194\n",
      "Epoch [21/50], Loss: 0.1301\n",
      "Epoch [22/50], Loss: 0.1139\n",
      "Epoch [23/50], Loss: 0.1315\n",
      "Epoch [24/50], Loss: 0.1340\n",
      "Epoch [25/50], Loss: 0.1152\n",
      "Epoch [26/50], Loss: 0.1120\n",
      "Epoch [27/50], Loss: 0.1131\n",
      "Epoch [28/50], Loss: 0.1061\n",
      "Epoch [29/50], Loss: 0.1128\n",
      "Epoch [30/50], Loss: 0.1173\n",
      "Epoch [31/50], Loss: 0.1418\n",
      "Epoch [32/50], Loss: 0.1228\n",
      "Epoch [33/50], Loss: 0.1832\n",
      "Epoch [34/50], Loss: 0.1914\n",
      "Epoch [35/50], Loss: 0.1223\n",
      "Epoch [36/50], Loss: 0.1320\n",
      "Epoch [37/50], Loss: 0.1115\n",
      "Epoch [38/50], Loss: 0.0947\n",
      "Epoch [39/50], Loss: 0.0939\n",
      "Epoch [40/50], Loss: 0.1023\n",
      "Epoch [41/50], Loss: 0.0954\n",
      "Epoch [42/50], Loss: 0.1117\n",
      "Epoch [43/50], Loss: 0.0941\n",
      "Epoch [44/50], Loss: 0.0947\n",
      "Epoch [45/50], Loss: 0.0965\n",
      "Epoch [46/50], Loss: 0.1036\n",
      "Epoch [47/50], Loss: 0.0980\n",
      "Epoch [48/50], Loss: 0.1037\n",
      "Epoch [49/50], Loss: 0.0959\n"
     ]
    },
    {
     "name": "stderr",
     "output_type": "stream",
     "text": [
      "\u001b[32m[I 2023-05-09 09:53:15,170]\u001b[0m Trial 114 finished with value: 0.09803801774978638 and parameters: {'n_layers': 3, 'activation': 2, 'dropout_l3': 0.02320268747176127, 'dropout_l2': 0.017340395991704494, 'dropout_l1': 0.009042284834202207, 'bottleneck_size': 123, 'optimizer': 'Adam', 'lr': 0.0016529514193313437}. Best is trial 113 with value: 0.08030945807695389.\u001b[0m\n"
     ]
    },
    {
     "name": "stdout",
     "output_type": "stream",
     "text": [
      "Epoch [50/50], Loss: 0.0980\n",
      "Epoch [1/50], Loss: 0.4570\n",
      "Epoch [2/50], Loss: 0.3485\n",
      "Epoch [3/50], Loss: 0.2910\n",
      "Epoch [4/50], Loss: 0.3218\n",
      "Epoch [5/50], Loss: 0.2229\n",
      "Epoch [6/50], Loss: 0.2113\n",
      "Epoch [7/50], Loss: 0.1749\n",
      "Epoch [8/50], Loss: 0.1848\n",
      "Epoch [9/50], Loss: 0.1683\n",
      "Epoch [10/50], Loss: 0.2238\n",
      "Epoch [11/50], Loss: 0.1591\n",
      "Epoch [12/50], Loss: 0.1439\n",
      "Epoch [13/50], Loss: 0.2160\n",
      "Epoch [14/50], Loss: 0.1519\n",
      "Epoch [15/50], Loss: 0.1353\n",
      "Epoch [16/50], Loss: 0.1216\n",
      "Epoch [17/50], Loss: 0.1475\n",
      "Epoch [18/50], Loss: 0.1538\n",
      "Epoch [19/50], Loss: 0.1255\n",
      "Epoch [20/50], Loss: 0.1784\n",
      "Epoch [21/50], Loss: 0.1176\n",
      "Epoch [22/50], Loss: 0.1238\n",
      "Epoch [23/50], Loss: 0.1103\n",
      "Epoch [24/50], Loss: 0.1148\n",
      "Epoch [25/50], Loss: 0.1156\n",
      "Epoch [26/50], Loss: 0.1155\n",
      "Epoch [27/50], Loss: 0.1018\n",
      "Epoch [28/50], Loss: 0.1047\n",
      "Epoch [29/50], Loss: 0.1046\n",
      "Epoch [30/50], Loss: 0.1034\n",
      "Epoch [31/50], Loss: 0.1018\n",
      "Epoch [32/50], Loss: 0.0987\n",
      "Epoch [33/50], Loss: 0.0957\n",
      "Epoch [34/50], Loss: 0.1064\n",
      "Epoch [35/50], Loss: 0.0949\n",
      "Epoch [36/50], Loss: 0.0937\n",
      "Epoch [37/50], Loss: 0.1060\n",
      "Epoch [38/50], Loss: 0.0926\n",
      "Epoch [39/50], Loss: 0.0970\n",
      "Epoch [40/50], Loss: 0.0981\n",
      "Epoch [41/50], Loss: 0.0932\n",
      "Epoch [42/50], Loss: 0.0848\n",
      "Epoch [43/50], Loss: 0.0923\n",
      "Epoch [44/50], Loss: 0.0927\n",
      "Epoch [45/50], Loss: 0.0899\n",
      "Epoch [46/50], Loss: 0.0841\n",
      "Epoch [47/50], Loss: 0.0891\n",
      "Epoch [48/50], Loss: 0.0889\n",
      "Epoch [49/50], Loss: 0.0817\n"
     ]
    },
    {
     "name": "stderr",
     "output_type": "stream",
     "text": [
      "\u001b[32m[I 2023-05-09 09:53:26,639]\u001b[0m Trial 115 finished with value: 0.09163784235715866 and parameters: {'n_layers': 3, 'activation': 2, 'dropout_l3': 0.00045841883278540177, 'dropout_l2': 0.01758112084117481, 'dropout_l1': 0.0017544822189957954, 'bottleneck_size': 112, 'optimizer': 'Adam', 'lr': 0.0009049902895598462}. Best is trial 113 with value: 0.08030945807695389.\u001b[0m\n"
     ]
    },
    {
     "name": "stdout",
     "output_type": "stream",
     "text": [
      "Epoch [50/50], Loss: 0.0916\n",
      "Epoch [1/50], Loss: 0.4299\n",
      "Epoch [2/50], Loss: 0.3350\n",
      "Epoch [3/50], Loss: 0.2911\n",
      "Epoch [4/50], Loss: 0.2577\n",
      "Epoch [5/50], Loss: 0.2242\n",
      "Epoch [6/50], Loss: 0.1983\n",
      "Epoch [7/50], Loss: 0.1835\n",
      "Epoch [8/50], Loss: 0.1708\n",
      "Epoch [9/50], Loss: 0.1608\n",
      "Epoch [10/50], Loss: 0.1579\n",
      "Epoch [11/50], Loss: 0.1539\n",
      "Epoch [12/50], Loss: 0.2047\n",
      "Epoch [13/50], Loss: 0.1472\n",
      "Epoch [14/50], Loss: 0.1293\n",
      "Epoch [15/50], Loss: 0.1253\n",
      "Epoch [16/50], Loss: 0.1354\n",
      "Epoch [17/50], Loss: 0.1298\n",
      "Epoch [18/50], Loss: 0.1301\n",
      "Epoch [19/50], Loss: 0.1252\n",
      "Epoch [20/50], Loss: 0.1169\n",
      "Epoch [21/50], Loss: 0.1226\n",
      "Epoch [22/50], Loss: 0.1161\n",
      "Epoch [23/50], Loss: 0.1215\n",
      "Epoch [24/50], Loss: 0.1096\n",
      "Epoch [25/50], Loss: 0.1094\n",
      "Epoch [26/50], Loss: 0.1697\n",
      "Epoch [27/50], Loss: 0.1084\n",
      "Epoch [28/50], Loss: 0.1083\n",
      "Epoch [29/50], Loss: 0.1008\n",
      "Epoch [30/50], Loss: 0.1025\n",
      "Epoch [31/50], Loss: 0.1041\n",
      "Epoch [32/50], Loss: 0.0986\n",
      "Epoch [33/50], Loss: 0.1018\n",
      "Epoch [34/50], Loss: 0.1044\n",
      "Epoch [35/50], Loss: 0.0924\n",
      "Epoch [36/50], Loss: 0.0898\n",
      "Epoch [37/50], Loss: 0.1103\n",
      "Epoch [38/50], Loss: 0.1238\n",
      "Epoch [39/50], Loss: 0.0896\n",
      "Epoch [40/50], Loss: 0.0927\n",
      "Epoch [41/50], Loss: 0.1174\n",
      "Epoch [42/50], Loss: 0.0951\n",
      "Epoch [43/50], Loss: 0.0876\n",
      "Epoch [44/50], Loss: 0.0891\n",
      "Epoch [45/50], Loss: 0.0886\n",
      "Epoch [46/50], Loss: 0.0858\n",
      "Epoch [47/50], Loss: 0.0895\n",
      "Epoch [48/50], Loss: 0.0813\n",
      "Epoch [49/50], Loss: 0.0981\n"
     ]
    },
    {
     "name": "stderr",
     "output_type": "stream",
     "text": [
      "\u001b[32m[I 2023-05-09 09:53:38,107]\u001b[0m Trial 116 finished with value: 0.08377902954816818 and parameters: {'n_layers': 3, 'activation': 2, 'dropout_l3': 0.010473072076221557, 'dropout_l2': 0.020313323403435845, 'dropout_l1': 0.0011378377620265365, 'bottleneck_size': 125, 'optimizer': 'Adam', 'lr': 0.0008637716347273891}. Best is trial 113 with value: 0.08030945807695389.\u001b[0m\n"
     ]
    },
    {
     "name": "stdout",
     "output_type": "stream",
     "text": [
      "Epoch [50/50], Loss: 0.0838\n"
     ]
    },
    {
     "name": "stderr",
     "output_type": "stream",
     "text": [
      "\u001b[32m[I 2023-05-09 09:53:38,364]\u001b[0m Trial 117 pruned. \u001b[0m\n"
     ]
    },
    {
     "name": "stdout",
     "output_type": "stream",
     "text": [
      "Epoch [1/50], Loss: 0.7090\n"
     ]
    },
    {
     "name": "stderr",
     "output_type": "stream",
     "text": [
      "\u001b[32m[I 2023-05-09 09:53:38,633]\u001b[0m Trial 118 pruned. \u001b[0m\n"
     ]
    },
    {
     "name": "stdout",
     "output_type": "stream",
     "text": [
      "Epoch [1/50], Loss: 0.4751\n"
     ]
    },
    {
     "name": "stderr",
     "output_type": "stream",
     "text": [
      "\u001b[32m[I 2023-05-09 09:53:38,892]\u001b[0m Trial 119 pruned. \u001b[0m\n"
     ]
    },
    {
     "name": "stdout",
     "output_type": "stream",
     "text": [
      "Epoch [1/50], Loss: 0.4853\n",
      "Epoch [1/50], Loss: 0.4611\n",
      "Epoch [2/50], Loss: 0.3486\n",
      "Epoch [3/50], Loss: 0.3024\n",
      "Epoch [4/50], Loss: 0.2752\n",
      "Epoch [5/50], Loss: 0.2585\n",
      "Epoch [6/50], Loss: 0.2308\n",
      "Epoch [7/50], Loss: 0.2566\n",
      "Epoch [8/50], Loss: 0.2311\n",
      "Epoch [9/50], Loss: 0.2140\n",
      "Epoch [10/50], Loss: 0.2018\n",
      "Epoch [11/50], Loss: 0.1954\n",
      "Epoch [12/50], Loss: 0.2281\n",
      "Epoch [13/50], Loss: 0.1961\n",
      "Epoch [14/50], Loss: 0.1874\n",
      "Epoch [15/50], Loss: 0.2011\n",
      "Epoch [16/50], Loss: 0.1969\n",
      "Epoch [17/50], Loss: 0.1823\n",
      "Epoch [18/50], Loss: 0.1859\n",
      "Epoch [19/50], Loss: 0.1954\n",
      "Epoch [20/50], Loss: 0.2470\n",
      "Epoch [21/50], Loss: 0.2112\n",
      "Epoch [22/50], Loss: 0.1741\n",
      "Epoch [23/50], Loss: 0.1789\n",
      "Epoch [24/50], Loss: 0.1792\n",
      "Epoch [25/50], Loss: 0.1757\n",
      "Epoch [26/50], Loss: 0.1669\n",
      "Epoch [27/50], Loss: 0.1773\n",
      "Epoch [28/50], Loss: 0.2013\n",
      "Epoch [29/50], Loss: 0.1614\n",
      "Epoch [30/50], Loss: 0.1906\n",
      "Epoch [31/50], Loss: 0.1782\n",
      "Epoch [32/50], Loss: 0.1856\n",
      "Epoch [33/50], Loss: 0.1619\n",
      "Epoch [34/50], Loss: 0.1749\n",
      "Epoch [35/50], Loss: 0.1708\n",
      "Epoch [36/50], Loss: 0.1702\n",
      "Epoch [37/50], Loss: 0.1668\n",
      "Epoch [38/50], Loss: 0.1619\n",
      "Epoch [39/50], Loss: 0.1580\n",
      "Epoch [40/50], Loss: 0.1634\n",
      "Epoch [41/50], Loss: 0.1925\n",
      "Epoch [42/50], Loss: 0.1633\n",
      "Epoch [43/50], Loss: 0.1891\n",
      "Epoch [44/50], Loss: 0.1610\n",
      "Epoch [45/50], Loss: 0.1488\n",
      "Epoch [46/50], Loss: 0.1575\n",
      "Epoch [47/50], Loss: 0.1518\n",
      "Epoch [48/50], Loss: 0.1564\n",
      "Epoch [49/50], Loss: 0.1749\n"
     ]
    },
    {
     "name": "stderr",
     "output_type": "stream",
     "text": [
      "\u001b[32m[I 2023-05-09 09:53:50,296]\u001b[0m Trial 120 finished with value: 0.16034656763076782 and parameters: {'n_layers': 3, 'activation': 2, 'dropout_l3': 0.03936231944106632, 'dropout_l2': 0.06658471460324128, 'dropout_l1': 0.050886671487992585, 'bottleneck_size': 113, 'optimizer': 'Adam', 'lr': 0.0009610956899405685}. Best is trial 113 with value: 0.08030945807695389.\u001b[0m\n"
     ]
    },
    {
     "name": "stdout",
     "output_type": "stream",
     "text": [
      "Epoch [50/50], Loss: 0.1603\n",
      "Epoch [1/50], Loss: 0.4639\n",
      "Epoch [2/50], Loss: 0.3522\n",
      "Epoch [3/50], Loss: 0.2827\n",
      "Epoch [4/50], Loss: 0.2493\n",
      "Epoch [5/50], Loss: 0.2155\n",
      "Epoch [6/50], Loss: 0.2094\n",
      "Epoch [7/50], Loss: 0.2018\n",
      "Epoch [8/50], Loss: 0.1835\n",
      "Epoch [9/50], Loss: 0.1559\n",
      "Epoch [10/50], Loss: 0.1540\n",
      "Epoch [11/50], Loss: 0.1495\n",
      "Epoch [12/50], Loss: 0.1469\n",
      "Epoch [13/50], Loss: 0.1417\n",
      "Epoch [14/50], Loss: 0.1409\n",
      "Epoch [15/50], Loss: 0.1383\n",
      "Epoch [16/50], Loss: 0.1308\n",
      "Epoch [17/50], Loss: 0.1248\n",
      "Epoch [18/50], Loss: 0.1178\n",
      "Epoch [19/50], Loss: 0.1180\n",
      "Epoch [20/50], Loss: 0.1294\n",
      "Epoch [21/50], Loss: 0.1178\n",
      "Epoch [22/50], Loss: 0.1195\n",
      "Epoch [23/50], Loss: 0.1169\n",
      "Epoch [24/50], Loss: 0.1106\n",
      "Epoch [25/50], Loss: 0.1146\n",
      "Epoch [26/50], Loss: 0.1066\n",
      "Epoch [27/50], Loss: 0.1119\n",
      "Epoch [28/50], Loss: 0.1109\n",
      "Epoch [29/50], Loss: 0.1090\n",
      "Epoch [30/50], Loss: 0.1018\n",
      "Epoch [31/50], Loss: 0.1025\n",
      "Epoch [32/50], Loss: 0.0935\n",
      "Epoch [33/50], Loss: 0.0965\n",
      "Epoch [34/50], Loss: 0.1103\n",
      "Epoch [35/50], Loss: 0.0909\n",
      "Epoch [36/50], Loss: 0.1029\n",
      "Epoch [37/50], Loss: 0.0892\n",
      "Epoch [38/50], Loss: 0.0891\n",
      "Epoch [39/50], Loss: 0.1090\n",
      "Epoch [40/50], Loss: 0.0862\n",
      "Epoch [41/50], Loss: 0.0937\n",
      "Epoch [42/50], Loss: 0.0881\n",
      "Epoch [43/50], Loss: 0.0912\n",
      "Epoch [44/50], Loss: 0.0876\n",
      "Epoch [45/50], Loss: 0.1026\n",
      "Epoch [46/50], Loss: 0.0863\n",
      "Epoch [47/50], Loss: 0.0877\n",
      "Epoch [48/50], Loss: 0.0891\n",
      "Epoch [49/50], Loss: 0.0946\n"
     ]
    },
    {
     "name": "stderr",
     "output_type": "stream",
     "text": [
      "\u001b[32m[I 2023-05-09 09:54:01,627]\u001b[0m Trial 121 finished with value: 0.09041641652584076 and parameters: {'n_layers': 3, 'activation': 2, 'dropout_l3': 0.003053806406782069, 'dropout_l2': 0.02331820500996497, 'dropout_l1': 0.0013891638579082884, 'bottleneck_size': 118, 'optimizer': 'Adam', 'lr': 0.0008848734042641227}. Best is trial 113 with value: 0.08030945807695389.\u001b[0m\n"
     ]
    },
    {
     "name": "stdout",
     "output_type": "stream",
     "text": [
      "Epoch [50/50], Loss: 0.0904\n"
     ]
    },
    {
     "name": "stderr",
     "output_type": "stream",
     "text": [
      "\u001b[32m[I 2023-05-09 09:54:01,896]\u001b[0m Trial 122 pruned. \u001b[0m\n"
     ]
    },
    {
     "name": "stdout",
     "output_type": "stream",
     "text": [
      "Epoch [1/50], Loss: 0.4861\n",
      "Epoch [1/50], Loss: 0.4308\n",
      "Epoch [2/50], Loss: 0.3172\n",
      "Epoch [3/50], Loss: 0.2651\n",
      "Epoch [4/50], Loss: 0.2434\n",
      "Epoch [5/50], Loss: 0.2377\n",
      "Epoch [6/50], Loss: 0.2146\n",
      "Epoch [7/50], Loss: 0.1973\n",
      "Epoch [8/50], Loss: 0.1914\n",
      "Epoch [9/50], Loss: 0.1728\n",
      "Epoch [10/50], Loss: 0.2014\n",
      "Epoch [11/50], Loss: 0.1824\n",
      "Epoch [12/50], Loss: 0.1721\n",
      "Epoch [13/50], Loss: 0.1484\n",
      "Epoch [14/50], Loss: 0.2344\n",
      "Epoch [15/50], Loss: 0.1561\n",
      "Epoch [16/50], Loss: 0.1521\n",
      "Epoch [17/50], Loss: 0.1329\n",
      "Epoch [18/50], Loss: 0.1528\n",
      "Epoch [19/50], Loss: 0.1422\n",
      "Epoch [20/50], Loss: 0.1516\n",
      "Epoch [21/50], Loss: 0.1425\n",
      "Epoch [22/50], Loss: 0.1326\n",
      "Epoch [23/50], Loss: 0.1374\n",
      "Epoch [24/50], Loss: 0.1285\n",
      "Epoch [25/50], Loss: 0.1401\n",
      "Epoch [26/50], Loss: 0.1273\n",
      "Epoch [27/50], Loss: 0.1278\n",
      "Epoch [28/50], Loss: 0.1456\n",
      "Epoch [29/50], Loss: 0.1225\n",
      "Epoch [30/50], Loss: 0.1436\n",
      "Epoch [31/50], Loss: 0.1414\n",
      "Epoch [32/50], Loss: 0.1272\n",
      "Epoch [33/50], Loss: 0.1291\n",
      "Epoch [34/50], Loss: 0.1231\n",
      "Epoch [35/50], Loss: 0.1252\n",
      "Epoch [36/50], Loss: 0.1232\n",
      "Epoch [37/50], Loss: 0.1469\n",
      "Epoch [38/50], Loss: 0.1203\n",
      "Epoch [39/50], Loss: 0.1247\n",
      "Epoch [40/50], Loss: 0.1222\n",
      "Epoch [41/50], Loss: 0.1432\n",
      "Epoch [42/50], Loss: 0.1335\n",
      "Epoch [43/50], Loss: 0.1238\n",
      "Epoch [44/50], Loss: 0.1148\n",
      "Epoch [45/50], Loss: 0.1167\n",
      "Epoch [46/50], Loss: 0.1102\n",
      "Epoch [47/50], Loss: 0.1178\n",
      "Epoch [48/50], Loss: 0.1070\n",
      "Epoch [49/50], Loss: 0.1123\n"
     ]
    },
    {
     "name": "stderr",
     "output_type": "stream",
     "text": [
      "\u001b[32m[I 2023-05-09 09:54:13,213]\u001b[0m Trial 123 finished with value: 0.11701729148626328 and parameters: {'n_layers': 3, 'activation': 2, 'dropout_l3': 0.023591249933790144, 'dropout_l2': 0.01497455842306823, 'dropout_l1': 0.024599866027497773, 'bottleneck_size': 118, 'optimizer': 'Adam', 'lr': 0.0016134324057180496}. Best is trial 113 with value: 0.08030945807695389.\u001b[0m\n"
     ]
    },
    {
     "name": "stdout",
     "output_type": "stream",
     "text": [
      "Epoch [50/50], Loss: 0.1170\n",
      "Epoch [1/50], Loss: 0.4554\n"
     ]
    },
    {
     "name": "stderr",
     "output_type": "stream",
     "text": [
      "\u001b[32m[I 2023-05-09 09:54:13,701]\u001b[0m Trial 124 pruned. \u001b[0m\n"
     ]
    },
    {
     "name": "stdout",
     "output_type": "stream",
     "text": [
      "Epoch [2/50], Loss: 0.3741\n",
      "Epoch [1/50], Loss: 0.4135\n"
     ]
    },
    {
     "name": "stderr",
     "output_type": "stream",
     "text": [
      "\u001b[32m[I 2023-05-09 09:54:14,188]\u001b[0m Trial 125 pruned. \u001b[0m\n"
     ]
    },
    {
     "name": "stdout",
     "output_type": "stream",
     "text": [
      "Epoch [2/50], Loss: 0.3733\n"
     ]
    },
    {
     "name": "stderr",
     "output_type": "stream",
     "text": [
      "\u001b[32m[I 2023-05-09 09:54:14,447]\u001b[0m Trial 126 pruned. \u001b[0m\n"
     ]
    },
    {
     "name": "stdout",
     "output_type": "stream",
     "text": [
      "Epoch [1/50], Loss: 0.6799\n",
      "Epoch [1/50], Loss: 0.4654\n",
      "Epoch [2/50], Loss: 0.3477\n",
      "Epoch [3/50], Loss: 0.2951\n",
      "Epoch [4/50], Loss: 0.2667\n",
      "Epoch [5/50], Loss: 0.2295\n",
      "Epoch [6/50], Loss: 0.2508\n",
      "Epoch [7/50], Loss: 0.2312\n",
      "Epoch [8/50], Loss: 0.2153\n",
      "Epoch [9/50], Loss: 0.1954\n",
      "Epoch [10/50], Loss: 0.1839\n",
      "Epoch [11/50], Loss: 0.1859\n",
      "Epoch [12/50], Loss: 0.1926\n",
      "Epoch [13/50], Loss: 0.1649\n",
      "Epoch [14/50], Loss: 0.1656\n",
      "Epoch [15/50], Loss: 0.1714\n",
      "Epoch [16/50], Loss: 0.1710\n",
      "Epoch [17/50], Loss: 0.1647\n",
      "Epoch [18/50], Loss: 0.1629\n",
      "Epoch [19/50], Loss: 0.1617\n",
      "Epoch [20/50], Loss: 0.1687\n",
      "Epoch [21/50], Loss: 0.1578\n",
      "Epoch [22/50], Loss: 0.1570\n",
      "Epoch [23/50], Loss: 0.1634\n",
      "Epoch [24/50], Loss: 0.1542\n",
      "Epoch [25/50], Loss: 0.1606\n",
      "Epoch [26/50], Loss: 0.1590\n",
      "Epoch [27/50], Loss: 0.1527\n",
      "Epoch [28/50], Loss: 0.1528\n",
      "Epoch [29/50], Loss: 0.1517\n",
      "Epoch [30/50], Loss: 0.1501\n",
      "Epoch [31/50], Loss: 0.1667\n",
      "Epoch [32/50], Loss: 0.1440\n",
      "Epoch [33/50], Loss: 0.1498\n",
      "Epoch [34/50], Loss: 0.1414\n",
      "Epoch [35/50], Loss: 0.1524\n",
      "Epoch [36/50], Loss: 0.1422\n",
      "Epoch [37/50], Loss: 0.1472\n",
      "Epoch [38/50], Loss: 0.1387\n",
      "Epoch [39/50], Loss: 0.1353\n",
      "Epoch [40/50], Loss: 0.1349\n",
      "Epoch [41/50], Loss: 0.1336\n",
      "Epoch [42/50], Loss: 0.1365\n",
      "Epoch [43/50], Loss: 0.1474\n",
      "Epoch [44/50], Loss: 0.1323\n",
      "Epoch [45/50], Loss: 0.1532\n",
      "Epoch [46/50], Loss: 0.1455\n",
      "Epoch [47/50], Loss: 0.1339\n",
      "Epoch [48/50], Loss: 0.1386\n",
      "Epoch [49/50], Loss: 0.1324\n"
     ]
    },
    {
     "name": "stderr",
     "output_type": "stream",
     "text": [
      "\u001b[32m[I 2023-05-09 09:54:25,799]\u001b[0m Trial 127 finished with value: 0.13168221712112427 and parameters: {'n_layers': 3, 'activation': 2, 'dropout_l3': 0.01483201040324457, 'dropout_l2': 0.017984859906827345, 'dropout_l1': 0.040799943874174426, 'bottleneck_size': 118, 'optimizer': 'Adam', 'lr': 0.0011164014845007713}. Best is trial 113 with value: 0.08030945807695389.\u001b[0m\n"
     ]
    },
    {
     "name": "stdout",
     "output_type": "stream",
     "text": [
      "Epoch [50/50], Loss: 0.1317\n"
     ]
    },
    {
     "name": "stderr",
     "output_type": "stream",
     "text": [
      "\u001b[32m[I 2023-05-09 09:54:26,126]\u001b[0m Trial 128 pruned. \u001b[0m\n"
     ]
    },
    {
     "name": "stdout",
     "output_type": "stream",
     "text": [
      "Epoch [1/50], Loss: 0.6657\n"
     ]
    },
    {
     "name": "stderr",
     "output_type": "stream",
     "text": [
      "\u001b[32m[I 2023-05-09 09:54:26,401]\u001b[0m Trial 129 pruned. \u001b[0m\n"
     ]
    },
    {
     "name": "stdout",
     "output_type": "stream",
     "text": [
      "Epoch [1/50], Loss: 0.6421\n"
     ]
    },
    {
     "name": "stderr",
     "output_type": "stream",
     "text": [
      "\u001b[32m[I 2023-05-09 09:54:26,990]\u001b[0m Trial 130 pruned. \u001b[0m\n"
     ]
    },
    {
     "name": "stdout",
     "output_type": "stream",
     "text": [
      "Epoch [1/50], Loss: 0.9925\n",
      "Epoch [1/50], Loss: 0.4572\n",
      "Epoch [2/50], Loss: 0.3437\n",
      "Epoch [3/50], Loss: 0.2789\n",
      "Epoch [4/50], Loss: 0.2555\n",
      "Epoch [5/50], Loss: 0.3115\n",
      "Epoch [6/50], Loss: 0.2056\n",
      "Epoch [7/50], Loss: 0.1975\n",
      "Epoch [8/50], Loss: 0.1997\n",
      "Epoch [9/50], Loss: 0.1866\n",
      "Epoch [10/50], Loss: 0.1731\n",
      "Epoch [11/50], Loss: 0.1745\n",
      "Epoch [12/50], Loss: 0.1555\n",
      "Epoch [13/50], Loss: 0.1550\n",
      "Epoch [14/50], Loss: 0.1408\n",
      "Epoch [15/50], Loss: 0.1421\n",
      "Epoch [16/50], Loss: 0.1429\n",
      "Epoch [17/50], Loss: 0.1437\n",
      "Epoch [18/50], Loss: 0.1525\n",
      "Epoch [19/50], Loss: 0.1344\n",
      "Epoch [20/50], Loss: 0.1610\n",
      "Epoch [21/50], Loss: 0.1372\n",
      "Epoch [22/50], Loss: 0.1815\n",
      "Epoch [23/50], Loss: 0.1288\n",
      "Epoch [24/50], Loss: 0.1251\n",
      "Epoch [25/50], Loss: 0.1362\n",
      "Epoch [26/50], Loss: 0.1348\n",
      "Epoch [27/50], Loss: 0.1272\n",
      "Epoch [28/50], Loss: 0.1451\n",
      "Epoch [29/50], Loss: 0.1425\n",
      "Epoch [30/50], Loss: 0.1250\n",
      "Epoch [31/50], Loss: 0.1199\n",
      "Epoch [32/50], Loss: 0.1181\n",
      "Epoch [33/50], Loss: 0.1323\n",
      "Epoch [34/50], Loss: 0.1368\n",
      "Epoch [35/50], Loss: 0.1153\n",
      "Epoch [36/50], Loss: 0.1233\n",
      "Epoch [37/50], Loss: 0.1101\n",
      "Epoch [38/50], Loss: 0.1069\n",
      "Epoch [39/50], Loss: 0.1112\n",
      "Epoch [40/50], Loss: 0.1023\n",
      "Epoch [41/50], Loss: 0.1069\n",
      "Epoch [42/50], Loss: 0.1045\n",
      "Epoch [43/50], Loss: 0.1024\n",
      "Epoch [44/50], Loss: 0.0963\n",
      "Epoch [45/50], Loss: 0.1023\n",
      "Epoch [46/50], Loss: 0.1024\n",
      "Epoch [47/50], Loss: 0.0981\n",
      "Epoch [48/50], Loss: 0.0974\n",
      "Epoch [49/50], Loss: 0.1066\n"
     ]
    },
    {
     "name": "stderr",
     "output_type": "stream",
     "text": [
      "\u001b[32m[I 2023-05-09 09:54:38,254]\u001b[0m Trial 131 finished with value: 0.096181221306324 and parameters: {'n_layers': 3, 'activation': 2, 'dropout_l3': 0.0001838044246102715, 'dropout_l2': 0.026469073203951744, 'dropout_l1': 0.011550337042037184, 'bottleneck_size': 119, 'optimizer': 'Adam', 'lr': 0.0008479974664560774}. Best is trial 113 with value: 0.08030945807695389.\u001b[0m\n"
     ]
    },
    {
     "name": "stdout",
     "output_type": "stream",
     "text": [
      "Epoch [50/50], Loss: 0.0962\n",
      "Epoch [1/50], Loss: 0.3984\n",
      "Epoch [2/50], Loss: 0.3103\n",
      "Epoch [3/50], Loss: 0.2716\n",
      "Epoch [4/50], Loss: 0.2243\n",
      "Epoch [5/50], Loss: 0.2202\n",
      "Epoch [6/50], Loss: 0.1974\n",
      "Epoch [7/50], Loss: 0.1907\n",
      "Epoch [8/50], Loss: 0.1783\n",
      "Epoch [9/50], Loss: 0.1617\n",
      "Epoch [10/50], Loss: 0.1635\n",
      "Epoch [11/50], Loss: 0.1688\n",
      "Epoch [12/50], Loss: 0.1466\n",
      "Epoch [13/50], Loss: 0.1490\n",
      "Epoch [14/50], Loss: 0.1336\n",
      "Epoch [15/50], Loss: 0.1423\n",
      "Epoch [16/50], Loss: 0.1412\n",
      "Epoch [17/50], Loss: 0.1495\n",
      "Epoch [18/50], Loss: 0.1351\n",
      "Epoch [19/50], Loss: 0.1342\n",
      "Epoch [20/50], Loss: 0.1444\n",
      "Epoch [21/50], Loss: 0.1333\n",
      "Epoch [22/50], Loss: 0.1407\n",
      "Epoch [23/50], Loss: 0.1533\n",
      "Epoch [24/50], Loss: 0.4325\n",
      "Epoch [25/50], Loss: 0.2264\n",
      "Epoch [26/50], Loss: 0.1698\n",
      "Epoch [27/50], Loss: 0.1611\n",
      "Epoch [28/50], Loss: 0.1533\n",
      "Epoch [29/50], Loss: 0.1476\n",
      "Epoch [30/50], Loss: 0.1603\n",
      "Epoch [31/50], Loss: 0.1434\n",
      "Epoch [32/50], Loss: 0.1636\n",
      "Epoch [33/50], Loss: 0.1366\n",
      "Epoch [34/50], Loss: 0.1301\n",
      "Epoch [35/50], Loss: 0.1254\n",
      "Epoch [36/50], Loss: 0.1260\n",
      "Epoch [37/50], Loss: 0.1503\n",
      "Epoch [38/50], Loss: 0.1276\n",
      "Epoch [39/50], Loss: 0.1209\n",
      "Epoch [40/50], Loss: 0.1188\n",
      "Epoch [41/50], Loss: 0.1245\n",
      "Epoch [42/50], Loss: 0.1145\n",
      "Epoch [43/50], Loss: 0.1506\n",
      "Epoch [44/50], Loss: 0.1146\n",
      "Epoch [45/50], Loss: 0.1226\n",
      "Epoch [46/50], Loss: 0.1146\n",
      "Epoch [47/50], Loss: 0.1326\n",
      "Epoch [48/50], Loss: 0.1153\n",
      "Epoch [49/50], Loss: 0.1238\n"
     ]
    },
    {
     "name": "stderr",
     "output_type": "stream",
     "text": [
      "\u001b[32m[I 2023-05-09 09:54:49,332]\u001b[0m Trial 132 finished with value: 0.11112374812364578 and parameters: {'n_layers': 3, 'activation': 2, 'dropout_l3': 0.02584182792526943, 'dropout_l2': 0.029019365587854284, 'dropout_l1': 0.011380321298097096, 'bottleneck_size': 113, 'optimizer': 'Adam', 'lr': 0.0016822762394212364}. Best is trial 113 with value: 0.08030945807695389.\u001b[0m\n"
     ]
    },
    {
     "name": "stdout",
     "output_type": "stream",
     "text": [
      "Epoch [50/50], Loss: 0.1111\n",
      "Epoch [1/50], Loss: 0.4341\n",
      "Epoch [2/50], Loss: 0.3451\n",
      "Epoch [3/50], Loss: 0.3034\n",
      "Epoch [4/50], Loss: 0.2469\n",
      "Epoch [5/50], Loss: 0.2202\n",
      "Epoch [6/50], Loss: 0.2133\n",
      "Epoch [7/50], Loss: 0.1845\n",
      "Epoch [8/50], Loss: 0.1792\n",
      "Epoch [9/50], Loss: 0.1778\n",
      "Epoch [10/50], Loss: 0.1734\n",
      "Epoch [11/50], Loss: 0.1646\n",
      "Epoch [12/50], Loss: 0.1615\n",
      "Epoch [13/50], Loss: 0.1443\n",
      "Epoch [14/50], Loss: 0.1506\n",
      "Epoch [15/50], Loss: 0.1439\n",
      "Epoch [16/50], Loss: 0.1402\n",
      "Epoch [17/50], Loss: 0.1444\n",
      "Epoch [18/50], Loss: 0.1431\n",
      "Epoch [19/50], Loss: 0.1336\n",
      "Epoch [20/50], Loss: 0.1453\n",
      "Epoch [21/50], Loss: 0.1353\n",
      "Epoch [22/50], Loss: 0.1397\n",
      "Epoch [23/50], Loss: 0.1321\n",
      "Epoch [24/50], Loss: 0.1299\n",
      "Epoch [25/50], Loss: 0.1422\n",
      "Epoch [26/50], Loss: 0.1300\n",
      "Epoch [27/50], Loss: 0.1386\n",
      "Epoch [28/50], Loss: 0.1179\n",
      "Epoch [29/50], Loss: 0.1229\n",
      "Epoch [30/50], Loss: 0.1213\n",
      "Epoch [31/50], Loss: 0.1164\n",
      "Epoch [32/50], Loss: 0.1175\n",
      "Epoch [33/50], Loss: 0.1181\n",
      "Epoch [34/50], Loss: 0.1234\n",
      "Epoch [35/50], Loss: 0.1206\n",
      "Epoch [36/50], Loss: 0.1158\n",
      "Epoch [37/50], Loss: 0.1173\n",
      "Epoch [38/50], Loss: 0.1158\n",
      "Epoch [39/50], Loss: 0.1058\n",
      "Epoch [40/50], Loss: 0.1107\n",
      "Epoch [41/50], Loss: 0.1366\n",
      "Epoch [42/50], Loss: 0.1126\n",
      "Epoch [43/50], Loss: 0.1148\n",
      "Epoch [44/50], Loss: 0.1091\n",
      "Epoch [45/50], Loss: 0.1127\n",
      "Epoch [46/50], Loss: 0.1000\n",
      "Epoch [47/50], Loss: 0.1158\n",
      "Epoch [48/50], Loss: 0.1035\n",
      "Epoch [49/50], Loss: 0.1104\n"
     ]
    },
    {
     "name": "stderr",
     "output_type": "stream",
     "text": [
      "\u001b[32m[I 2023-05-09 09:55:00,663]\u001b[0m Trial 133 finished with value: 0.1079079732298851 and parameters: {'n_layers': 3, 'activation': 2, 'dropout_l3': 0.0008904283853873388, 'dropout_l2': 0.020089731748060453, 'dropout_l1': 0.017529685702048384, 'bottleneck_size': 120, 'optimizer': 'Adam', 'lr': 0.0011306221226211593}. Best is trial 113 with value: 0.08030945807695389.\u001b[0m\n"
     ]
    },
    {
     "name": "stdout",
     "output_type": "stream",
     "text": [
      "Epoch [50/50], Loss: 0.1079\n",
      "Epoch [1/50], Loss: 0.4188\n",
      "Epoch [2/50], Loss: 0.3396\n",
      "Epoch [3/50], Loss: 0.2854\n",
      "Epoch [4/50], Loss: 0.2557\n",
      "Epoch [5/50], Loss: 0.2951\n",
      "Epoch [6/50], Loss: 0.2201\n",
      "Epoch [7/50], Loss: 0.2023\n",
      "Epoch [8/50], Loss: 0.1983\n",
      "Epoch [9/50], Loss: 0.1814\n",
      "Epoch [10/50], Loss: 0.1753\n",
      "Epoch [11/50], Loss: 0.1735\n",
      "Epoch [12/50], Loss: 0.1687\n",
      "Epoch [13/50], Loss: 0.1712\n",
      "Epoch [14/50], Loss: 0.1798\n",
      "Epoch [15/50], Loss: 0.1612\n",
      "Epoch [16/50], Loss: 0.1629\n",
      "Epoch [17/50], Loss: 0.1464\n",
      "Epoch [18/50], Loss: 0.1419\n",
      "Epoch [19/50], Loss: 0.1581\n",
      "Epoch [20/50], Loss: 0.1606\n",
      "Epoch [21/50], Loss: 0.1591\n",
      "Epoch [22/50], Loss: 0.1451\n",
      "Epoch [23/50], Loss: 0.1459\n",
      "Epoch [24/50], Loss: 0.1648\n",
      "Epoch [25/50], Loss: 0.1835\n",
      "Epoch [26/50], Loss: 0.1345\n",
      "Epoch [27/50], Loss: 0.1840\n",
      "Epoch [28/50], Loss: 0.1397\n",
      "Epoch [29/50], Loss: 0.1329\n",
      "Epoch [30/50], Loss: 0.1339\n",
      "Epoch [31/50], Loss: 0.1330\n",
      "Epoch [32/50], Loss: 0.1306\n",
      "Epoch [33/50], Loss: 0.1335\n",
      "Epoch [34/50], Loss: 0.1245\n",
      "Epoch [35/50], Loss: 0.1336\n",
      "Epoch [36/50], Loss: 0.1199\n",
      "Epoch [37/50], Loss: 0.1315\n",
      "Epoch [38/50], Loss: 0.1172\n",
      "Epoch [39/50], Loss: 0.1303\n",
      "Epoch [40/50], Loss: 0.1220\n",
      "Epoch [41/50], Loss: 0.1302\n",
      "Epoch [42/50], Loss: 0.1215\n",
      "Epoch [43/50], Loss: 0.1140\n",
      "Epoch [44/50], Loss: 0.1235\n",
      "Epoch [45/50], Loss: 0.1285\n",
      "Epoch [46/50], Loss: 0.1116\n",
      "Epoch [47/50], Loss: 0.1191\n",
      "Epoch [48/50], Loss: 0.1176\n",
      "Epoch [49/50], Loss: 0.1148\n"
     ]
    },
    {
     "name": "stderr",
     "output_type": "stream",
     "text": [
      "\u001b[32m[I 2023-05-09 09:55:12,022]\u001b[0m Trial 134 finished with value: 0.13625632226467133 and parameters: {'n_layers': 3, 'activation': 2, 'dropout_l3': 0.007428643970172618, 'dropout_l2': 0.06249307445568776, 'dropout_l1': 0.02051532438425457, 'bottleneck_size': 119, 'optimizer': 'Adam', 'lr': 0.0011637706000837376}. Best is trial 113 with value: 0.08030945807695389.\u001b[0m\n"
     ]
    },
    {
     "name": "stdout",
     "output_type": "stream",
     "text": [
      "Epoch [50/50], Loss: 0.1363\n",
      "Epoch [1/50], Loss: 0.4514\n"
     ]
    },
    {
     "name": "stderr",
     "output_type": "stream",
     "text": [
      "\u001b[32m[I 2023-05-09 09:55:12,505]\u001b[0m Trial 135 pruned. \u001b[0m\n"
     ]
    },
    {
     "name": "stdout",
     "output_type": "stream",
     "text": [
      "Epoch [2/50], Loss: 0.3889\n"
     ]
    },
    {
     "name": "stderr",
     "output_type": "stream",
     "text": [
      "\u001b[32m[I 2023-05-09 09:55:12,774]\u001b[0m Trial 136 pruned. \u001b[0m\n"
     ]
    },
    {
     "name": "stdout",
     "output_type": "stream",
     "text": [
      "Epoch [1/50], Loss: 0.6909\n"
     ]
    },
    {
     "name": "stderr",
     "output_type": "stream",
     "text": [
      "\u001b[32m[I 2023-05-09 09:55:13,043]\u001b[0m Trial 137 pruned. \u001b[0m\n"
     ]
    },
    {
     "name": "stdout",
     "output_type": "stream",
     "text": [
      "Epoch [1/50], Loss: 0.4812\n"
     ]
    },
    {
     "name": "stderr",
     "output_type": "stream",
     "text": [
      "\u001b[32m[I 2023-05-09 09:55:13,311]\u001b[0m Trial 138 pruned. \u001b[0m\n"
     ]
    },
    {
     "name": "stdout",
     "output_type": "stream",
     "text": [
      "Epoch [1/50], Loss: 0.4780\n"
     ]
    },
    {
     "name": "stderr",
     "output_type": "stream",
     "text": [
      "\u001b[32m[I 2023-05-09 09:55:13,580]\u001b[0m Trial 139 pruned. \u001b[0m\n"
     ]
    },
    {
     "name": "stdout",
     "output_type": "stream",
     "text": [
      "Epoch [1/50], Loss: 0.4969\n"
     ]
    },
    {
     "name": "stderr",
     "output_type": "stream",
     "text": [
      "\u001b[32m[I 2023-05-09 09:55:13,835]\u001b[0m Trial 140 pruned. \u001b[0m\n"
     ]
    },
    {
     "name": "stdout",
     "output_type": "stream",
     "text": [
      "Epoch [1/50], Loss: 0.4836\n"
     ]
    },
    {
     "name": "stderr",
     "output_type": "stream",
     "text": [
      "\u001b[32m[I 2023-05-09 09:55:14,104]\u001b[0m Trial 141 pruned. \u001b[0m\n"
     ]
    },
    {
     "name": "stdout",
     "output_type": "stream",
     "text": [
      "Epoch [1/50], Loss: 0.4688\n",
      "Epoch [1/50], Loss: 0.4569\n",
      "Epoch [2/50], Loss: 0.3278\n",
      "Epoch [3/50], Loss: 0.2891\n",
      "Epoch [4/50], Loss: 0.2501\n",
      "Epoch [5/50], Loss: 0.2332\n",
      "Epoch [6/50], Loss: 0.2176\n",
      "Epoch [7/50], Loss: 0.1950\n",
      "Epoch [8/50], Loss: 0.1771\n",
      "Epoch [9/50], Loss: 0.1895\n",
      "Epoch [10/50], Loss: 0.1898\n",
      "Epoch [11/50], Loss: 0.1765\n",
      "Epoch [12/50], Loss: 0.1697\n",
      "Epoch [13/50], Loss: 0.1787\n",
      "Epoch [14/50], Loss: 0.1666\n",
      "Epoch [15/50], Loss: 0.1507\n",
      "Epoch [16/50], Loss: 0.1565\n",
      "Epoch [17/50], Loss: 0.1707\n",
      "Epoch [18/50], Loss: 0.1527\n",
      "Epoch [19/50], Loss: 0.1557\n",
      "Epoch [20/50], Loss: 0.1438\n",
      "Epoch [21/50], Loss: 0.1646\n",
      "Epoch [22/50], Loss: 0.1405\n",
      "Epoch [23/50], Loss: 0.1373\n",
      "Epoch [24/50], Loss: 0.1423\n",
      "Epoch [25/50], Loss: 0.1351\n",
      "Epoch [26/50], Loss: 0.1303\n",
      "Epoch [27/50], Loss: 0.1276\n",
      "Epoch [28/50], Loss: 0.1295\n",
      "Epoch [29/50], Loss: 0.1336\n",
      "Epoch [30/50], Loss: 0.1372\n",
      "Epoch [31/50], Loss: 0.1413\n",
      "Epoch [32/50], Loss: 0.1250\n",
      "Epoch [33/50], Loss: 0.1359\n",
      "Epoch [34/50], Loss: 0.1222\n",
      "Epoch [35/50], Loss: 0.1263\n",
      "Epoch [36/50], Loss: 0.1267\n",
      "Epoch [37/50], Loss: 0.1349\n",
      "Epoch [38/50], Loss: 0.1136\n",
      "Epoch [39/50], Loss: 0.1378\n",
      "Epoch [40/50], Loss: 0.1305\n",
      "Epoch [41/50], Loss: 0.1322\n",
      "Epoch [42/50], Loss: 0.1231\n",
      "Epoch [43/50], Loss: 0.1259\n",
      "Epoch [44/50], Loss: 0.1197\n",
      "Epoch [45/50], Loss: 0.1209\n",
      "Epoch [46/50], Loss: 0.1185\n",
      "Epoch [47/50], Loss: 0.1178\n",
      "Epoch [48/50], Loss: 0.1435\n",
      "Epoch [49/50], Loss: 0.1138\n"
     ]
    },
    {
     "name": "stderr",
     "output_type": "stream",
     "text": [
      "\u001b[32m[I 2023-05-09 09:55:25,585]\u001b[0m Trial 142 finished with value: 0.11494015157222748 and parameters: {'n_layers': 3, 'activation': 2, 'dropout_l3': 0.05827852746345986, 'dropout_l2': 0.0005814571528441927, 'dropout_l1': 0.023591627133397665, 'bottleneck_size': 121, 'optimizer': 'Adam', 'lr': 0.0011607796727374697}. Best is trial 113 with value: 0.08030945807695389.\u001b[0m\n"
     ]
    },
    {
     "name": "stdout",
     "output_type": "stream",
     "text": [
      "Epoch [50/50], Loss: 0.1149\n",
      "Epoch [1/50], Loss: 0.4564\n",
      "Epoch [2/50], Loss: 0.3380\n",
      "Epoch [3/50], Loss: 0.2499\n",
      "Epoch [4/50], Loss: 0.2428\n",
      "Epoch [5/50], Loss: 0.1952\n",
      "Epoch [6/50], Loss: 0.1849\n",
      "Epoch [7/50], Loss: 0.1638\n",
      "Epoch [8/50], Loss: 0.2172\n",
      "Epoch [9/50], Loss: 0.1662\n",
      "Epoch [10/50], Loss: 0.1643\n",
      "Epoch [11/50], Loss: 0.1465\n",
      "Epoch [12/50], Loss: 0.1464\n",
      "Epoch [13/50], Loss: 0.1269\n",
      "Epoch [14/50], Loss: 0.1533\n",
      "Epoch [15/50], Loss: 0.1715\n",
      "Epoch [16/50], Loss: 0.1409\n",
      "Epoch [17/50], Loss: 0.1198\n",
      "Epoch [18/50], Loss: 0.1134\n",
      "Epoch [19/50], Loss: 0.1313\n",
      "Epoch [20/50], Loss: 0.1125\n",
      "Epoch [21/50], Loss: 0.1063\n",
      "Epoch [22/50], Loss: 0.1094\n",
      "Epoch [23/50], Loss: 0.1244\n",
      "Epoch [24/50], Loss: 0.1150\n",
      "Epoch [25/50], Loss: 0.1263\n",
      "Epoch [26/50], Loss: 0.1050\n",
      "Epoch [27/50], Loss: 0.1171\n",
      "Epoch [28/50], Loss: 0.1021\n",
      "Epoch [29/50], Loss: 0.1305\n",
      "Epoch [30/50], Loss: 0.0971\n",
      "Epoch [31/50], Loss: 0.0895\n",
      "Epoch [32/50], Loss: 0.1021\n",
      "Epoch [33/50], Loss: 0.1082\n",
      "Epoch [34/50], Loss: 0.0884\n",
      "Epoch [35/50], Loss: 1.7970\n",
      "Epoch [36/50], Loss: 1.6360\n",
      "Epoch [37/50], Loss: 0.8238\n",
      "Epoch [38/50], Loss: 0.7738\n",
      "Epoch [39/50], Loss: 0.8329\n",
      "Epoch [40/50], Loss: 0.7869\n",
      "Epoch [41/50], Loss: 0.7924\n",
      "Epoch [42/50], Loss: 0.8089\n",
      "Epoch [43/50], Loss: 0.7928\n",
      "Epoch [44/50], Loss: 0.8151\n",
      "Epoch [45/50], Loss: 0.7465\n",
      "Epoch [46/50], Loss: 0.7427\n",
      "Epoch [47/50], Loss: 0.7832\n",
      "Epoch [48/50], Loss: 0.7041\n",
      "Epoch [49/50], Loss: 0.7461\n"
     ]
    },
    {
     "name": "stderr",
     "output_type": "stream",
     "text": [
      "\u001b[32m[I 2023-05-09 09:55:36,894]\u001b[0m Trial 143 finished with value: 0.7000573873519897 and parameters: {'n_layers': 3, 'activation': 2, 'dropout_l3': 0.028356604753836084, 'dropout_l2': 0.02650215617388639, 'dropout_l1': 0.00017080493874870265, 'bottleneck_size': 116, 'optimizer': 'Adam', 'lr': 0.0026602268815942116}. Best is trial 113 with value: 0.08030945807695389.\u001b[0m\n"
     ]
    },
    {
     "name": "stdout",
     "output_type": "stream",
     "text": [
      "Epoch [50/50], Loss: 0.7001\n",
      "Epoch [1/50], Loss: 0.4478\n",
      "Epoch [2/50], Loss: 0.3288\n",
      "Epoch [3/50], Loss: 0.2919\n",
      "Epoch [4/50], Loss: 0.2421\n",
      "Epoch [5/50], Loss: 0.2214\n",
      "Epoch [6/50], Loss: 0.2157\n",
      "Epoch [7/50], Loss: 0.2077\n",
      "Epoch [8/50], Loss: 0.1877\n",
      "Epoch [9/50], Loss: 0.2650\n",
      "Epoch [10/50], Loss: 0.1954\n",
      "Epoch [11/50], Loss: 0.1915\n",
      "Epoch [12/50], Loss: 0.1762\n",
      "Epoch [13/50], Loss: 0.1571\n",
      "Epoch [14/50], Loss: 0.2232\n",
      "Epoch [15/50], Loss: 0.4813\n",
      "Epoch [16/50], Loss: 0.2433\n",
      "Epoch [17/50], Loss: 0.2077\n",
      "Epoch [18/50], Loss: 0.1884\n",
      "Epoch [19/50], Loss: 0.1860\n",
      "Epoch [20/50], Loss: 0.1780\n",
      "Epoch [21/50], Loss: 0.1849\n",
      "Epoch [22/50], Loss: 0.1832\n",
      "Epoch [23/50], Loss: 0.2289\n",
      "Epoch [24/50], Loss: 0.1766\n",
      "Epoch [25/50], Loss: 0.1566\n",
      "Epoch [26/50], Loss: 0.1685\n",
      "Epoch [27/50], Loss: 0.1860\n",
      "Epoch [28/50], Loss: 0.1515\n",
      "Epoch [29/50], Loss: 0.1514\n",
      "Epoch [30/50], Loss: 0.1520\n",
      "Epoch [31/50], Loss: 0.1619\n",
      "Epoch [32/50], Loss: 0.1505\n",
      "Epoch [33/50], Loss: 0.1419\n",
      "Epoch [34/50], Loss: 0.1509\n",
      "Epoch [35/50], Loss: 0.1485\n",
      "Epoch [36/50], Loss: 0.1473\n",
      "Epoch [37/50], Loss: 0.1356\n",
      "Epoch [38/50], Loss: 0.1344\n",
      "Epoch [39/50], Loss: 0.1582\n",
      "Epoch [40/50], Loss: 0.1333\n",
      "Epoch [41/50], Loss: 0.1344\n",
      "Epoch [42/50], Loss: 0.1422\n",
      "Epoch [43/50], Loss: 0.1484\n",
      "Epoch [44/50], Loss: 0.1336\n",
      "Epoch [45/50], Loss: 0.1557\n",
      "Epoch [46/50], Loss: 0.1269\n",
      "Epoch [47/50], Loss: 0.1416\n",
      "Epoch [48/50], Loss: 0.1406\n",
      "Epoch [49/50], Loss: 0.1301\n"
     ]
    },
    {
     "name": "stderr",
     "output_type": "stream",
     "text": [
      "\u001b[32m[I 2023-05-09 09:55:48,071]\u001b[0m Trial 144 finished with value: 0.14574512839317322 and parameters: {'n_layers': 3, 'activation': 2, 'dropout_l3': 0.04961302638995628, 'dropout_l2': 0.010919565966416007, 'dropout_l1': 0.030005888349625708, 'bottleneck_size': 100, 'optimizer': 'Adam', 'lr': 0.00226367745729787}. Best is trial 113 with value: 0.08030945807695389.\u001b[0m\n"
     ]
    },
    {
     "name": "stdout",
     "output_type": "stream",
     "text": [
      "Epoch [50/50], Loss: 0.1457\n",
      "Epoch [1/50], Loss: 0.4492\n",
      "Epoch [2/50], Loss: 0.3260\n",
      "Epoch [3/50], Loss: 0.3054\n",
      "Epoch [4/50], Loss: 0.2566\n",
      "Epoch [5/50], Loss: 0.2481\n",
      "Epoch [6/50], Loss: 0.2127\n",
      "Epoch [7/50], Loss: 0.1969\n",
      "Epoch [8/50], Loss: 0.1900\n",
      "Epoch [9/50], Loss: 0.1897\n",
      "Epoch [10/50], Loss: 0.2389\n",
      "Epoch [11/50], Loss: 0.1792\n",
      "Epoch [12/50], Loss: 0.1896\n",
      "Epoch [13/50], Loss: 0.1787\n",
      "Epoch [14/50], Loss: 0.1545\n",
      "Epoch [15/50], Loss: 0.1596\n",
      "Epoch [16/50], Loss: 0.1550\n",
      "Epoch [17/50], Loss: 0.1513\n",
      "Epoch [18/50], Loss: 0.1404\n",
      "Epoch [19/50], Loss: 0.1438\n",
      "Epoch [20/50], Loss: 0.1435\n",
      "Epoch [21/50], Loss: 0.1417\n",
      "Epoch [22/50], Loss: 0.1402\n",
      "Epoch [23/50], Loss: 0.1423\n",
      "Epoch [24/50], Loss: 0.1367\n",
      "Epoch [25/50], Loss: 0.1416\n",
      "Epoch [26/50], Loss: 0.1262\n",
      "Epoch [27/50], Loss: 0.1808\n",
      "Epoch [28/50], Loss: 0.1307\n",
      "Epoch [29/50], Loss: 0.1237\n",
      "Epoch [30/50], Loss: 0.1265\n",
      "Epoch [31/50], Loss: 0.1333\n",
      "Epoch [32/50], Loss: 0.1652\n",
      "Epoch [33/50], Loss: 0.1253\n",
      "Epoch [34/50], Loss: 0.1246\n",
      "Epoch [35/50], Loss: 0.1243\n",
      "Epoch [36/50], Loss: 0.1371\n",
      "Epoch [37/50], Loss: 0.1322\n",
      "Epoch [38/50], Loss: 0.1166\n",
      "Epoch [39/50], Loss: 0.1155\n",
      "Epoch [40/50], Loss: 0.1555\n",
      "Epoch [41/50], Loss: 0.1192\n",
      "Epoch [42/50], Loss: 0.1156\n",
      "Epoch [43/50], Loss: 0.1112\n",
      "Epoch [44/50], Loss: 0.1154\n",
      "Epoch [45/50], Loss: 0.1133\n",
      "Epoch [46/50], Loss: 0.1536\n",
      "Epoch [47/50], Loss: 0.1383\n",
      "Epoch [48/50], Loss: 0.1087\n",
      "Epoch [49/50], Loss: 0.1106\n"
     ]
    },
    {
     "name": "stderr",
     "output_type": "stream",
     "text": [
      "\u001b[32m[I 2023-05-09 09:55:59,289]\u001b[0m Trial 145 finished with value: 0.11377819627523422 and parameters: {'n_layers': 3, 'activation': 2, 'dropout_l3': 0.0103585784876602, 'dropout_l2': 0.0410105213397802, 'dropout_l1': 0.015654330638532686, 'bottleneck_size': 105, 'optimizer': 'Adam', 'lr': 0.0008061111872914691}. Best is trial 113 with value: 0.08030945807695389.\u001b[0m\n"
     ]
    },
    {
     "name": "stdout",
     "output_type": "stream",
     "text": [
      "Epoch [50/50], Loss: 0.1138\n"
     ]
    },
    {
     "name": "stderr",
     "output_type": "stream",
     "text": [
      "\u001b[32m[I 2023-05-09 09:55:59,562]\u001b[0m Trial 146 pruned. \u001b[0m\n"
     ]
    },
    {
     "name": "stdout",
     "output_type": "stream",
     "text": [
      "Epoch [1/50], Loss: 0.5322\n"
     ]
    },
    {
     "name": "stderr",
     "output_type": "stream",
     "text": [
      "\u001b[32m[I 2023-05-09 09:55:59,834]\u001b[0m Trial 147 pruned. \u001b[0m\n"
     ]
    },
    {
     "name": "stdout",
     "output_type": "stream",
     "text": [
      "Epoch [1/50], Loss: 1.3439\n",
      "Epoch [1/50], Loss: 0.4369\n",
      "Epoch [2/50], Loss: 0.3577\n",
      "Epoch [3/50], Loss: 0.2998\n",
      "Epoch [4/50], Loss: 0.2689\n",
      "Epoch [5/50], Loss: 0.2327\n",
      "Epoch [6/50], Loss: 0.2367\n",
      "Epoch [7/50], Loss: 0.2091\n",
      "Epoch [8/50], Loss: 0.1987\n",
      "Epoch [9/50], Loss: 0.2021\n",
      "Epoch [10/50], Loss: 0.2611\n"
     ]
    },
    {
     "name": "stderr",
     "output_type": "stream",
     "text": [
      "\u001b[32m[I 2023-05-09 09:56:02,329]\u001b[0m Trial 148 pruned. \u001b[0m\n"
     ]
    },
    {
     "name": "stdout",
     "output_type": "stream",
     "text": [
      "Epoch [11/50], Loss: 0.1987\n",
      "Epoch [1/50], Loss: 0.4571\n"
     ]
    },
    {
     "name": "stderr",
     "output_type": "stream",
     "text": [
      "\u001b[32m[I 2023-05-09 09:56:02,820]\u001b[0m Trial 149 pruned. \u001b[0m\n"
     ]
    },
    {
     "name": "stdout",
     "output_type": "stream",
     "text": [
      "Epoch [2/50], Loss: 0.3691\n",
      "Epoch [1/50], Loss: 0.3832\n",
      "Epoch [2/50], Loss: 0.3344\n",
      "Epoch [3/50], Loss: 0.2581\n",
      "Epoch [4/50], Loss: 0.3136\n",
      "Epoch [5/50], Loss: 0.2172\n",
      "Epoch [6/50], Loss: 0.2695\n",
      "Epoch [7/50], Loss: 0.2540\n",
      "Epoch [8/50], Loss: 0.1867\n",
      "Epoch [9/50], Loss: 0.1719\n",
      "Epoch [10/50], Loss: 0.1899\n",
      "Epoch [11/50], Loss: 0.1690\n",
      "Epoch [12/50], Loss: 0.1636\n",
      "Epoch [13/50], Loss: 0.1651\n",
      "Epoch [14/50], Loss: 0.1525\n",
      "Epoch [15/50], Loss: 0.1473\n",
      "Epoch [16/50], Loss: 0.1586\n",
      "Epoch [17/50], Loss: 0.1521\n",
      "Epoch [18/50], Loss: 0.1494\n",
      "Epoch [19/50], Loss: 0.1445\n",
      "Epoch [20/50], Loss: 0.1598\n",
      "Epoch [21/50], Loss: 0.1424\n",
      "Epoch [22/50], Loss: 0.1394\n",
      "Epoch [23/50], Loss: 0.1335\n",
      "Epoch [24/50], Loss: 0.1542\n",
      "Epoch [25/50], Loss: 0.1545\n",
      "Epoch [26/50], Loss: 0.1360\n",
      "Epoch [27/50], Loss: 0.1455\n",
      "Epoch [28/50], Loss: 0.1305\n",
      "Epoch [29/50], Loss: 0.1317\n",
      "Epoch [30/50], Loss: 0.1368\n",
      "Epoch [31/50], Loss: 0.1475\n",
      "Epoch [32/50], Loss: 0.1229\n",
      "Epoch [33/50], Loss: 0.1262\n",
      "Epoch [34/50], Loss: 0.1354\n",
      "Epoch [35/50], Loss: 0.1398\n",
      "Epoch [36/50], Loss: 0.1280\n",
      "Epoch [37/50], Loss: 0.1323\n",
      "Epoch [38/50], Loss: 0.1315\n",
      "Epoch [39/50], Loss: 0.1280\n",
      "Epoch [40/50], Loss: 0.1244\n",
      "Epoch [41/50], Loss: 0.1250\n",
      "Epoch [42/50], Loss: 0.1253\n",
      "Epoch [43/50], Loss: 0.1206\n",
      "Epoch [44/50], Loss: 0.1368\n",
      "Epoch [45/50], Loss: 0.1162\n",
      "Epoch [46/50], Loss: 0.1406\n",
      "Epoch [47/50], Loss: 0.1212\n",
      "Epoch [48/50], Loss: 0.1377\n",
      "Epoch [49/50], Loss: 0.1215\n"
     ]
    },
    {
     "name": "stderr",
     "output_type": "stream",
     "text": [
      "\u001b[32m[I 2023-05-09 09:56:14,131]\u001b[0m Trial 150 finished with value: 0.12154494225978851 and parameters: {'n_layers': 3, 'activation': 2, 'dropout_l3': 0.08280360316841673, 'dropout_l2': 0.031818958830288256, 'dropout_l1': 0.01996274053082448, 'bottleneck_size': 122, 'optimizer': 'Adam', 'lr': 0.0018345986774893595}. Best is trial 113 with value: 0.08030945807695389.\u001b[0m\n"
     ]
    },
    {
     "name": "stdout",
     "output_type": "stream",
     "text": [
      "Epoch [50/50], Loss: 0.1215\n"
     ]
    },
    {
     "name": "stderr",
     "output_type": "stream",
     "text": [
      "\u001b[32m[I 2023-05-09 09:56:14,403]\u001b[0m Trial 151 pruned. \u001b[0m\n"
     ]
    },
    {
     "name": "stdout",
     "output_type": "stream",
     "text": [
      "Epoch [1/50], Loss: 0.5456\n"
     ]
    },
    {
     "name": "stderr",
     "output_type": "stream",
     "text": [
      "\u001b[32m[I 2023-05-09 09:56:14,670]\u001b[0m Trial 152 pruned. \u001b[0m\n"
     ]
    },
    {
     "name": "stdout",
     "output_type": "stream",
     "text": [
      "Epoch [1/50], Loss: 0.5871\n"
     ]
    },
    {
     "name": "stderr",
     "output_type": "stream",
     "text": [
      "\u001b[32m[I 2023-05-09 09:56:14,937]\u001b[0m Trial 153 pruned. \u001b[0m\n"
     ]
    },
    {
     "name": "stdout",
     "output_type": "stream",
     "text": [
      "Epoch [1/50], Loss: 0.5402\n",
      "Epoch [1/50], Loss: 0.4304\n",
      "Epoch [2/50], Loss: 0.3553\n",
      "Epoch [3/50], Loss: 0.3081\n",
      "Epoch [4/50], Loss: 0.2448\n",
      "Epoch [5/50], Loss: 0.2656\n",
      "Epoch [6/50], Loss: 0.1994\n",
      "Epoch [7/50], Loss: 0.2081\n",
      "Epoch [8/50], Loss: 0.1942\n",
      "Epoch [9/50], Loss: 0.1867\n",
      "Epoch [10/50], Loss: 0.1616\n",
      "Epoch [11/50], Loss: 0.1692\n",
      "Epoch [12/50], Loss: 0.1734\n",
      "Epoch [13/50], Loss: 0.1563\n",
      "Epoch [14/50], Loss: 0.1791\n",
      "Epoch [15/50], Loss: 0.1564\n",
      "Epoch [16/50], Loss: 0.1505\n",
      "Epoch [17/50], Loss: 0.1499\n",
      "Epoch [18/50], Loss: 0.1544\n",
      "Epoch [19/50], Loss: 0.1435\n",
      "Epoch [20/50], Loss: 0.1461\n",
      "Epoch [21/50], Loss: 0.1422\n",
      "Epoch [22/50], Loss: 0.1337\n",
      "Epoch [23/50], Loss: 0.1336\n",
      "Epoch [24/50], Loss: 0.1335\n",
      "Epoch [25/50], Loss: 0.1419\n",
      "Epoch [26/50], Loss: 0.1340\n",
      "Epoch [27/50], Loss: 0.1300\n",
      "Epoch [28/50], Loss: 0.1227\n",
      "Epoch [29/50], Loss: 0.1229\n",
      "Epoch [30/50], Loss: 0.1338\n",
      "Epoch [31/50], Loss: 0.1427\n",
      "Epoch [32/50], Loss: 0.1254\n",
      "Epoch [33/50], Loss: 0.1250\n",
      "Epoch [34/50], Loss: 0.1200\n",
      "Epoch [35/50], Loss: 0.1341\n",
      "Epoch [36/50], Loss: 0.1163\n",
      "Epoch [37/50], Loss: 0.1222\n",
      "Epoch [38/50], Loss: 0.1227\n",
      "Epoch [39/50], Loss: 0.1193\n",
      "Epoch [40/50], Loss: 0.1301\n",
      "Epoch [41/50], Loss: 0.1211\n",
      "Epoch [42/50], Loss: 0.1246\n",
      "Epoch [43/50], Loss: 0.1152\n",
      "Epoch [44/50], Loss: 0.1120\n",
      "Epoch [45/50], Loss: 0.1221\n",
      "Epoch [46/50], Loss: 0.1131\n",
      "Epoch [47/50], Loss: 0.1158\n",
      "Epoch [48/50], Loss: 0.1105\n",
      "Epoch [49/50], Loss: 0.1082\n"
     ]
    },
    {
     "name": "stderr",
     "output_type": "stream",
     "text": [
      "\u001b[32m[I 2023-05-09 09:56:26,274]\u001b[0m Trial 154 finished with value: 0.11007910966873169 and parameters: {'n_layers': 3, 'activation': 2, 'dropout_l3': 0.02610822582899027, 'dropout_l2': 0.039173272459074426, 'dropout_l1': 0.015429000064195229, 'bottleneck_size': 100, 'optimizer': 'Adam', 'lr': 0.0010719742970743663}. Best is trial 113 with value: 0.08030945807695389.\u001b[0m\n"
     ]
    },
    {
     "name": "stdout",
     "output_type": "stream",
     "text": [
      "Epoch [50/50], Loss: 0.1101\n"
     ]
    },
    {
     "name": "stderr",
     "output_type": "stream",
     "text": [
      "\u001b[32m[I 2023-05-09 09:56:26,544]\u001b[0m Trial 155 pruned. \u001b[0m\n"
     ]
    },
    {
     "name": "stdout",
     "output_type": "stream",
     "text": [
      "Epoch [1/50], Loss: 0.4736\n"
     ]
    },
    {
     "name": "stderr",
     "output_type": "stream",
     "text": [
      "\u001b[32m[I 2023-05-09 09:56:26,810]\u001b[0m Trial 156 pruned. \u001b[0m\n"
     ]
    },
    {
     "name": "stdout",
     "output_type": "stream",
     "text": [
      "Epoch [1/50], Loss: 0.6540\n"
     ]
    },
    {
     "name": "stderr",
     "output_type": "stream",
     "text": [
      "\u001b[32m[I 2023-05-09 09:56:27,074]\u001b[0m Trial 157 pruned. \u001b[0m\n"
     ]
    },
    {
     "name": "stdout",
     "output_type": "stream",
     "text": [
      "Epoch [1/50], Loss: 0.4919\n",
      "Epoch [1/50], Loss: 0.4386\n",
      "Epoch [2/50], Loss: 0.3468\n",
      "Epoch [3/50], Loss: 0.2851\n",
      "Epoch [4/50], Loss: 0.2540\n",
      "Epoch [5/50], Loss: 0.2225\n",
      "Epoch [6/50], Loss: 0.2174\n",
      "Epoch [7/50], Loss: 0.1955\n",
      "Epoch [8/50], Loss: 0.1832\n",
      "Epoch [9/50], Loss: 0.1777\n",
      "Epoch [10/50], Loss: 0.1671\n",
      "Epoch [11/50], Loss: 0.1638\n",
      "Epoch [12/50], Loss: 0.1616\n",
      "Epoch [13/50], Loss: 0.1582\n",
      "Epoch [14/50], Loss: 0.1469\n",
      "Epoch [15/50], Loss: 0.1603\n",
      "Epoch [16/50], Loss: 0.1329\n",
      "Epoch [17/50], Loss: 0.1435\n",
      "Epoch [18/50], Loss: 0.1457\n",
      "Epoch [19/50], Loss: 0.1368\n",
      "Epoch [20/50], Loss: 0.1325\n",
      "Epoch [21/50], Loss: 0.1320\n",
      "Epoch [22/50], Loss: 0.1358\n",
      "Epoch [23/50], Loss: 0.1300\n",
      "Epoch [24/50], Loss: 0.1322\n",
      "Epoch [25/50], Loss: 0.1400\n",
      "Epoch [26/50], Loss: 0.1254\n",
      "Epoch [27/50], Loss: 0.1256\n",
      "Epoch [28/50], Loss: 0.1214\n",
      "Epoch [29/50], Loss: 0.1183\n",
      "Epoch [30/50], Loss: 0.1185\n",
      "Epoch [31/50], Loss: 0.1165\n",
      "Epoch [32/50], Loss: 0.1224\n",
      "Epoch [33/50], Loss: 0.1210\n",
      "Epoch [34/50], Loss: 0.1197\n",
      "Epoch [35/50], Loss: 0.1155\n",
      "Epoch [36/50], Loss: 0.1059\n",
      "Epoch [37/50], Loss: 0.1250\n",
      "Epoch [38/50], Loss: 0.1168\n",
      "Epoch [39/50], Loss: 0.1149\n",
      "Epoch [40/50], Loss: 0.1130\n",
      "Epoch [41/50], Loss: 0.1144\n",
      "Epoch [42/50], Loss: 0.1102\n",
      "Epoch [43/50], Loss: 0.1097\n",
      "Epoch [44/50], Loss: 0.1060\n",
      "Epoch [45/50], Loss: 0.1137\n",
      "Epoch [46/50], Loss: 0.1057\n",
      "Epoch [47/50], Loss: 0.1260\n",
      "Epoch [48/50], Loss: 0.1242\n",
      "Epoch [49/50], Loss: 0.1077\n"
     ]
    },
    {
     "name": "stderr",
     "output_type": "stream",
     "text": [
      "\u001b[32m[I 2023-05-09 09:56:38,355]\u001b[0m Trial 158 finished with value: 0.10160268843173981 and parameters: {'n_layers': 3, 'activation': 2, 'dropout_l3': 0.020032706407648784, 'dropout_l2': 0.046172177009634816, 'dropout_l1': 0.009031809990314967, 'bottleneck_size': 125, 'optimizer': 'Adam', 'lr': 0.0009233733689918443}. Best is trial 113 with value: 0.08030945807695389.\u001b[0m\n"
     ]
    },
    {
     "name": "stdout",
     "output_type": "stream",
     "text": [
      "Epoch [50/50], Loss: 0.1016\n"
     ]
    },
    {
     "name": "stderr",
     "output_type": "stream",
     "text": [
      "\u001b[32m[I 2023-05-09 09:56:38,623]\u001b[0m Trial 159 pruned. \u001b[0m\n"
     ]
    },
    {
     "name": "stdout",
     "output_type": "stream",
     "text": [
      "Epoch [1/50], Loss: 0.6989\n"
     ]
    },
    {
     "name": "stderr",
     "output_type": "stream",
     "text": [
      "\u001b[32m[I 2023-05-09 09:56:38,865]\u001b[0m Trial 160 pruned. \u001b[0m\n"
     ]
    },
    {
     "name": "stdout",
     "output_type": "stream",
     "text": [
      "Epoch [1/50], Loss: 1.0069\n",
      "Epoch [1/50], Loss: 0.4500\n",
      "Epoch [2/50], Loss: 0.3548\n"
     ]
    },
    {
     "name": "stderr",
     "output_type": "stream",
     "text": [
      "\u001b[32m[I 2023-05-09 09:56:39,577]\u001b[0m Trial 161 pruned. \u001b[0m\n"
     ]
    },
    {
     "name": "stdout",
     "output_type": "stream",
     "text": [
      "Epoch [3/50], Loss: 0.3142\n",
      "Epoch [1/50], Loss: 0.4268\n",
      "Epoch [2/50], Loss: 0.3373\n",
      "Epoch [3/50], Loss: 0.2731\n",
      "Epoch [4/50], Loss: 0.2838\n",
      "Epoch [5/50], Loss: 0.2211\n",
      "Epoch [6/50], Loss: 0.1931\n",
      "Epoch [7/50], Loss: 0.2535\n",
      "Epoch [8/50], Loss: 0.1828\n",
      "Epoch [9/50], Loss: 0.1718\n",
      "Epoch [10/50], Loss: 0.1566\n",
      "Epoch [11/50], Loss: 0.1496\n",
      "Epoch [12/50], Loss: 0.1608\n",
      "Epoch [13/50], Loss: 0.1490\n",
      "Epoch [14/50], Loss: 0.1413\n",
      "Epoch [15/50], Loss: 0.1316\n",
      "Epoch [16/50], Loss: 0.1278\n",
      "Epoch [17/50], Loss: 0.1856\n",
      "Epoch [18/50], Loss: 0.1384\n",
      "Epoch [19/50], Loss: 0.1429\n",
      "Epoch [20/50], Loss: 0.1842\n",
      "Epoch [21/50], Loss: 0.1198\n",
      "Epoch [22/50], Loss: 0.1274\n",
      "Epoch [23/50], Loss: 0.1223\n",
      "Epoch [24/50], Loss: 0.1260\n",
      "Epoch [25/50], Loss: 0.1176\n",
      "Epoch [26/50], Loss: 0.1187\n",
      "Epoch [27/50], Loss: 0.1146\n",
      "Epoch [28/50], Loss: 0.1128\n",
      "Epoch [29/50], Loss: 0.1159\n",
      "Epoch [30/50], Loss: 0.1165\n",
      "Epoch [31/50], Loss: 0.1046\n",
      "Epoch [32/50], Loss: 0.1142\n",
      "Epoch [33/50], Loss: 0.1109\n",
      "Epoch [34/50], Loss: 0.1111\n",
      "Epoch [35/50], Loss: 0.1058\n",
      "Epoch [36/50], Loss: 0.1042\n",
      "Epoch [37/50], Loss: 0.1039\n",
      "Epoch [38/50], Loss: 0.1067\n",
      "Epoch [39/50], Loss: 0.1038\n",
      "Epoch [40/50], Loss: 0.1015\n",
      "Epoch [41/50], Loss: 0.1102\n",
      "Epoch [42/50], Loss: 0.1042\n",
      "Epoch [43/50], Loss: 0.1096\n",
      "Epoch [44/50], Loss: 0.0999\n",
      "Epoch [45/50], Loss: 0.1055\n",
      "Epoch [46/50], Loss: 0.1022\n",
      "Epoch [47/50], Loss: 0.0960\n",
      "Epoch [48/50], Loss: 0.0948\n",
      "Epoch [49/50], Loss: 0.0969\n"
     ]
    },
    {
     "name": "stderr",
     "output_type": "stream",
     "text": [
      "\u001b[32m[I 2023-05-09 09:56:50,759]\u001b[0m Trial 162 finished with value: 0.09402596950531006 and parameters: {'n_layers': 3, 'activation': 2, 'dropout_l3': 0.024232797396890098, 'dropout_l2': 0.019850259416684335, 'dropout_l1': 0.008608846462655879, 'bottleneck_size': 116, 'optimizer': 'Adam', 'lr': 0.0011398007198901842}. Best is trial 113 with value: 0.08030945807695389.\u001b[0m\n"
     ]
    },
    {
     "name": "stdout",
     "output_type": "stream",
     "text": [
      "Epoch [50/50], Loss: 0.0940\n",
      "Epoch [1/50], Loss: 0.4269\n"
     ]
    },
    {
     "name": "stderr",
     "output_type": "stream",
     "text": [
      "\u001b[32m[I 2023-05-09 09:56:51,258]\u001b[0m Trial 163 pruned. \u001b[0m\n"
     ]
    },
    {
     "name": "stdout",
     "output_type": "stream",
     "text": [
      "Epoch [2/50], Loss: 0.3578\n"
     ]
    },
    {
     "name": "stderr",
     "output_type": "stream",
     "text": [
      "\u001b[32m[I 2023-05-09 09:56:51,518]\u001b[0m Trial 164 pruned. \u001b[0m\n"
     ]
    },
    {
     "name": "stdout",
     "output_type": "stream",
     "text": [
      "Epoch [1/50], Loss: 0.5046\n",
      "Epoch [1/50], Loss: 0.4413\n"
     ]
    },
    {
     "name": "stderr",
     "output_type": "stream",
     "text": [
      "\u001b[32m[I 2023-05-09 09:56:52,003]\u001b[0m Trial 165 pruned. \u001b[0m\n"
     ]
    },
    {
     "name": "stdout",
     "output_type": "stream",
     "text": [
      "Epoch [2/50], Loss: 0.3677\n",
      "Epoch [1/50], Loss: 0.4186\n",
      "Epoch [2/50], Loss: 0.3157\n",
      "Epoch [3/50], Loss: 0.2703\n",
      "Epoch [4/50], Loss: 0.2516\n",
      "Epoch [5/50], Loss: 0.2171\n",
      "Epoch [6/50], Loss: 0.2059\n",
      "Epoch [7/50], Loss: 0.1717\n",
      "Epoch [8/50], Loss: 0.1636\n",
      "Epoch [9/50], Loss: 0.1595\n",
      "Epoch [10/50], Loss: 0.1349\n",
      "Epoch [11/50], Loss: 0.1338\n",
      "Epoch [12/50], Loss: 0.1287\n",
      "Epoch [13/50], Loss: 0.1307\n",
      "Epoch [14/50], Loss: 0.1295\n",
      "Epoch [15/50], Loss: 0.1150\n",
      "Epoch [16/50], Loss: 0.1360\n",
      "Epoch [17/50], Loss: 0.1243\n",
      "Epoch [18/50], Loss: 0.1233\n",
      "Epoch [19/50], Loss: 0.1083\n",
      "Epoch [20/50], Loss: 0.1117\n",
      "Epoch [21/50], Loss: 0.1703\n",
      "Epoch [22/50], Loss: 0.1475\n",
      "Epoch [23/50], Loss: 0.1115\n",
      "Epoch [24/50], Loss: 0.1172\n",
      "Epoch [25/50], Loss: 0.1030\n",
      "Epoch [26/50], Loss: 0.1058\n",
      "Epoch [27/50], Loss: 0.0995\n",
      "Epoch [28/50], Loss: 0.1043\n",
      "Epoch [29/50], Loss: 0.1024\n",
      "Epoch [30/50], Loss: 0.0986\n",
      "Epoch [31/50], Loss: 0.0957\n",
      "Epoch [32/50], Loss: 0.0946\n",
      "Epoch [33/50], Loss: 0.1064\n",
      "Epoch [34/50], Loss: 0.0885\n",
      "Epoch [35/50], Loss: 0.0920\n",
      "Epoch [36/50], Loss: 0.0867\n",
      "Epoch [37/50], Loss: 0.0928\n",
      "Epoch [38/50], Loss: 0.0933\n",
      "Epoch [39/50], Loss: 0.1067\n",
      "Epoch [40/50], Loss: 0.1052\n",
      "Epoch [41/50], Loss: 0.0847\n",
      "Epoch [42/50], Loss: 0.1069\n",
      "Epoch [43/50], Loss: 1.9642\n",
      "Epoch [44/50], Loss: 0.9300\n",
      "Epoch [45/50], Loss: 0.7325\n",
      "Epoch [46/50], Loss: 0.7379\n",
      "Epoch [47/50], Loss: 0.6406\n",
      "Epoch [48/50], Loss: 0.5638\n",
      "Epoch [49/50], Loss: 0.5377\n"
     ]
    },
    {
     "name": "stderr",
     "output_type": "stream",
     "text": [
      "\u001b[32m[I 2023-05-09 09:57:03,271]\u001b[0m Trial 166 finished with value: 0.4836658835411072 and parameters: {'n_layers': 3, 'activation': 2, 'dropout_l3': 0.020569023219465445, 'dropout_l2': 0.035019556957262235, 'dropout_l1': 1.931652304745096e-06, 'bottleneck_size': 115, 'optimizer': 'Adam', 'lr': 0.0016785819253990713}. Best is trial 113 with value: 0.08030945807695389.\u001b[0m\n"
     ]
    },
    {
     "name": "stdout",
     "output_type": "stream",
     "text": [
      "Epoch [50/50], Loss: 0.4837\n"
     ]
    },
    {
     "name": "stderr",
     "output_type": "stream",
     "text": [
      "\u001b[32m[I 2023-05-09 09:57:03,540]\u001b[0m Trial 167 pruned. \u001b[0m\n"
     ]
    },
    {
     "name": "stdout",
     "output_type": "stream",
     "text": [
      "Epoch [1/50], Loss: 0.5973\n"
     ]
    },
    {
     "name": "stderr",
     "output_type": "stream",
     "text": [
      "\u001b[32m[I 2023-05-09 09:57:03,806]\u001b[0m Trial 168 pruned. \u001b[0m\n"
     ]
    },
    {
     "name": "stdout",
     "output_type": "stream",
     "text": [
      "Epoch [1/50], Loss: 0.6603\n"
     ]
    },
    {
     "name": "stderr",
     "output_type": "stream",
     "text": [
      "\u001b[32m[I 2023-05-09 09:57:04,077]\u001b[0m Trial 169 pruned. \u001b[0m\n"
     ]
    },
    {
     "name": "stdout",
     "output_type": "stream",
     "text": [
      "Epoch [1/50], Loss: 0.5397\n",
      "Epoch [1/50], Loss: 0.4419\n",
      "Epoch [2/50], Loss: 0.3367\n",
      "Epoch [3/50], Loss: 0.2757\n",
      "Epoch [4/50], Loss: 0.2462\n",
      "Epoch [5/50], Loss: 0.2568\n",
      "Epoch [6/50], Loss: 0.1961\n",
      "Epoch [7/50], Loss: 0.1850\n",
      "Epoch [8/50], Loss: 0.1772\n",
      "Epoch [9/50], Loss: 0.1726\n",
      "Epoch [10/50], Loss: 0.1712\n",
      "Epoch [11/50], Loss: 0.1657\n",
      "Epoch [12/50], Loss: 0.1626\n",
      "Epoch [13/50], Loss: 0.1428\n",
      "Epoch [14/50], Loss: 0.1465\n",
      "Epoch [15/50], Loss: 0.1585\n",
      "Epoch [16/50], Loss: 0.1384\n",
      "Epoch [17/50], Loss: 0.1360\n",
      "Epoch [18/50], Loss: 0.1379\n",
      "Epoch [19/50], Loss: 0.1363\n",
      "Epoch [20/50], Loss: 0.1260\n",
      "Epoch [21/50], Loss: 0.1342\n",
      "Epoch [22/50], Loss: 0.1268\n",
      "Epoch [23/50], Loss: 0.1317\n",
      "Epoch [24/50], Loss: 0.1293\n",
      "Epoch [25/50], Loss: 0.1209\n",
      "Epoch [26/50], Loss: 0.1227\n",
      "Epoch [27/50], Loss: 0.1218\n",
      "Epoch [28/50], Loss: 0.1137\n",
      "Epoch [29/50], Loss: 0.1157\n",
      "Epoch [30/50], Loss: 0.1115\n",
      "Epoch [31/50], Loss: 0.1101\n",
      "Epoch [32/50], Loss: 0.1159\n",
      "Epoch [33/50], Loss: 0.1088\n",
      "Epoch [34/50], Loss: 0.1109\n",
      "Epoch [35/50], Loss: 0.1074\n",
      "Epoch [36/50], Loss: 0.1097\n",
      "Epoch [37/50], Loss: 0.1108\n",
      "Epoch [38/50], Loss: 0.1027\n",
      "Epoch [39/50], Loss: 0.1137\n",
      "Epoch [40/50], Loss: 0.1040\n",
      "Epoch [41/50], Loss: 0.1060\n",
      "Epoch [42/50], Loss: 0.1111\n",
      "Epoch [43/50], Loss: 0.1238\n",
      "Epoch [44/50], Loss: 0.1068\n",
      "Epoch [45/50], Loss: 0.1007\n",
      "Epoch [46/50], Loss: 0.0976\n",
      "Epoch [47/50], Loss: 0.1209\n",
      "Epoch [48/50], Loss: 0.1037\n",
      "Epoch [49/50], Loss: 0.0891\n"
     ]
    },
    {
     "name": "stderr",
     "output_type": "stream",
     "text": [
      "\u001b[32m[I 2023-05-09 09:57:15,380]\u001b[0m Trial 170 finished with value: 0.09970597922801971 and parameters: {'n_layers': 3, 'activation': 2, 'dropout_l3': 0.009596570760484119, 'dropout_l2': 0.04460505390838675, 'dropout_l1': 0.007994484338667873, 'bottleneck_size': 116, 'optimizer': 'Adam', 'lr': 0.0010964286377180858}. Best is trial 113 with value: 0.08030945807695389.\u001b[0m\n"
     ]
    },
    {
     "name": "stdout",
     "output_type": "stream",
     "text": [
      "Epoch [50/50], Loss: 0.0997\n",
      "Epoch [1/50], Loss: 0.4393\n",
      "Epoch [2/50], Loss: 0.3279\n",
      "Epoch [3/50], Loss: 0.2766\n",
      "Epoch [4/50], Loss: 0.2464\n",
      "Epoch [5/50], Loss: 0.2202\n",
      "Epoch [6/50], Loss: 0.2051\n",
      "Epoch [7/50], Loss: 0.1974\n",
      "Epoch [8/50], Loss: 0.1838\n",
      "Epoch [9/50], Loss: 0.1742\n",
      "Epoch [10/50], Loss: 0.1705\n",
      "Epoch [11/50], Loss: 0.1572\n",
      "Epoch [12/50], Loss: 0.1553\n",
      "Epoch [13/50], Loss: 0.1548\n",
      "Epoch [14/50], Loss: 0.1447\n",
      "Epoch [15/50], Loss: 0.1440\n",
      "Epoch [16/50], Loss: 0.1419\n",
      "Epoch [17/50], Loss: 0.1439\n",
      "Epoch [18/50], Loss: 0.1360\n",
      "Epoch [19/50], Loss: 0.1348\n",
      "Epoch [20/50], Loss: 0.1661\n",
      "Epoch [21/50], Loss: 0.1281\n",
      "Epoch [22/50], Loss: 0.1385\n",
      "Epoch [23/50], Loss: 0.2285\n",
      "Epoch [24/50], Loss: 0.1276\n",
      "Epoch [25/50], Loss: 0.1707\n",
      "Epoch [26/50], Loss: 0.1293\n",
      "Epoch [27/50], Loss: 0.1315\n",
      "Epoch [28/50], Loss: 0.1115\n",
      "Epoch [29/50], Loss: 0.1170\n",
      "Epoch [30/50], Loss: 0.1104\n",
      "Epoch [31/50], Loss: 0.1554\n",
      "Epoch [32/50], Loss: 0.1149\n",
      "Epoch [33/50], Loss: 0.1083\n",
      "Epoch [34/50], Loss: 0.1130\n",
      "Epoch [35/50], Loss: 0.1111\n",
      "Epoch [36/50], Loss: 0.1154\n",
      "Epoch [37/50], Loss: 0.1137\n",
      "Epoch [38/50], Loss: 0.1177\n",
      "Epoch [39/50], Loss: 0.1097\n",
      "Epoch [40/50], Loss: 0.1124\n",
      "Epoch [41/50], Loss: 0.1097\n",
      "Epoch [42/50], Loss: 0.1042\n",
      "Epoch [43/50], Loss: 0.1048\n",
      "Epoch [44/50], Loss: 0.1114\n",
      "Epoch [45/50], Loss: 0.1076\n",
      "Epoch [46/50], Loss: 0.1115\n",
      "Epoch [47/50], Loss: 0.1031\n",
      "Epoch [48/50], Loss: 0.1038\n",
      "Epoch [49/50], Loss: 0.1022\n"
     ]
    },
    {
     "name": "stderr",
     "output_type": "stream",
     "text": [
      "\u001b[32m[I 2023-05-09 09:57:26,765]\u001b[0m Trial 171 finished with value: 0.10032294690608978 and parameters: {'n_layers': 3, 'activation': 2, 'dropout_l3': 0.011419347233331286, 'dropout_l2': 0.039574896134299486, 'dropout_l1': 0.010423757264351236, 'bottleneck_size': 114, 'optimizer': 'Adam', 'lr': 0.0011009030705100946}. Best is trial 113 with value: 0.08030945807695389.\u001b[0m\n"
     ]
    },
    {
     "name": "stdout",
     "output_type": "stream",
     "text": [
      "Epoch [50/50], Loss: 0.1003\n",
      "Epoch [1/50], Loss: 0.4384\n",
      "Epoch [2/50], Loss: 0.3445\n",
      "Epoch [3/50], Loss: 0.2787\n"
     ]
    },
    {
     "name": "stderr",
     "output_type": "stream",
     "text": [
      "\u001b[32m[I 2023-05-09 09:57:27,707]\u001b[0m Trial 172 pruned. \u001b[0m\n"
     ]
    },
    {
     "name": "stdout",
     "output_type": "stream",
     "text": [
      "Epoch [4/50], Loss: 0.3209\n",
      "Epoch [1/50], Loss: 0.4498\n"
     ]
    },
    {
     "name": "stderr",
     "output_type": "stream",
     "text": [
      "\u001b[32m[I 2023-05-09 09:57:28,205]\u001b[0m Trial 173 pruned. \u001b[0m\n"
     ]
    },
    {
     "name": "stdout",
     "output_type": "stream",
     "text": [
      "Epoch [2/50], Loss: 0.3923\n",
      "Epoch [1/50], Loss: 0.4434\n",
      "Epoch [2/50], Loss: 0.3188\n",
      "Epoch [3/50], Loss: 0.2782\n",
      "Epoch [4/50], Loss: 0.2320\n",
      "Epoch [5/50], Loss: 0.2231\n",
      "Epoch [6/50], Loss: 0.1794\n",
      "Epoch [7/50], Loss: 0.1904\n",
      "Epoch [8/50], Loss: 0.1713\n",
      "Epoch [9/50], Loss: 0.1586\n",
      "Epoch [10/50], Loss: 0.1871\n",
      "Epoch [11/50], Loss: 0.2088\n",
      "Epoch [12/50], Loss: 0.1471\n",
      "Epoch [13/50], Loss: 0.1292\n",
      "Epoch [14/50], Loss: 0.1291\n",
      "Epoch [15/50], Loss: 0.1360\n",
      "Epoch [16/50], Loss: 0.1265\n",
      "Epoch [17/50], Loss: 0.1167\n",
      "Epoch [18/50], Loss: 0.1239\n",
      "Epoch [19/50], Loss: 0.1207\n",
      "Epoch [20/50], Loss: 0.1733\n",
      "Epoch [21/50], Loss: 0.1174\n",
      "Epoch [22/50], Loss: 0.1137\n",
      "Epoch [23/50], Loss: 0.1087\n",
      "Epoch [24/50], Loss: 0.1071\n",
      "Epoch [25/50], Loss: 0.1054\n",
      "Epoch [26/50], Loss: 0.0995\n",
      "Epoch [27/50], Loss: 0.1100\n",
      "Epoch [28/50], Loss: 0.0994\n",
      "Epoch [29/50], Loss: 0.1063\n",
      "Epoch [30/50], Loss: 0.1071\n",
      "Epoch [31/50], Loss: 0.0947\n",
      "Epoch [32/50], Loss: 0.0980\n",
      "Epoch [33/50], Loss: 0.1064\n",
      "Epoch [34/50], Loss: 0.1046\n",
      "Epoch [35/50], Loss: 0.0969\n",
      "Epoch [36/50], Loss: 0.0953\n",
      "Epoch [37/50], Loss: 0.0958\n",
      "Epoch [38/50], Loss: 0.0919\n",
      "Epoch [39/50], Loss: 0.0966\n",
      "Epoch [40/50], Loss: 0.0980\n",
      "Epoch [41/50], Loss: 0.1143\n",
      "Epoch [42/50], Loss: 0.1067\n",
      "Epoch [43/50], Loss: 0.0910\n",
      "Epoch [44/50], Loss: 0.0839\n",
      "Epoch [45/50], Loss: 0.1137\n",
      "Epoch [46/50], Loss: 0.0999\n",
      "Epoch [47/50], Loss: 0.1123\n",
      "Epoch [48/50], Loss: 0.0846\n",
      "Epoch [49/50], Loss: 0.0887\n"
     ]
    },
    {
     "name": "stderr",
     "output_type": "stream",
     "text": [
      "\u001b[32m[I 2023-05-09 09:57:39,544]\u001b[0m Trial 174 finished with value: 0.10032999515533447 and parameters: {'n_layers': 3, 'activation': 2, 'dropout_l3': 0.019508386388581763, 'dropout_l2': 0.03312569422977474, 'dropout_l1': 0.0006254210007526062, 'bottleneck_size': 115, 'optimizer': 'Adam', 'lr': 0.0011472990782048652}. Best is trial 113 with value: 0.08030945807695389.\u001b[0m\n"
     ]
    },
    {
     "name": "stdout",
     "output_type": "stream",
     "text": [
      "Epoch [50/50], Loss: 0.1003\n"
     ]
    },
    {
     "name": "stderr",
     "output_type": "stream",
     "text": [
      "\u001b[32m[I 2023-05-09 09:57:39,816]\u001b[0m Trial 175 pruned. \u001b[0m\n"
     ]
    },
    {
     "name": "stdout",
     "output_type": "stream",
     "text": [
      "Epoch [1/50], Loss: 0.4849\n",
      "Epoch [1/50], Loss: 0.4274\n",
      "Epoch [2/50], Loss: 0.3287\n",
      "Epoch [3/50], Loss: 0.2602\n",
      "Epoch [4/50], Loss: 0.2537\n",
      "Epoch [5/50], Loss: 0.2128\n",
      "Epoch [6/50], Loss: 0.2587\n",
      "Epoch [7/50], Loss: 0.1798\n",
      "Epoch [8/50], Loss: 0.1690\n",
      "Epoch [9/50], Loss: 0.1775\n",
      "Epoch [10/50], Loss: 0.1553\n",
      "Epoch [11/50], Loss: 0.1431\n",
      "Epoch [12/50], Loss: 0.1958\n",
      "Epoch [13/50], Loss: 0.1405\n",
      "Epoch [14/50], Loss: 0.1297\n",
      "Epoch [15/50], Loss: 0.1307\n",
      "Epoch [16/50], Loss: 0.1294\n",
      "Epoch [17/50], Loss: 0.1244\n",
      "Epoch [18/50], Loss: 0.1411\n",
      "Epoch [19/50], Loss: 0.1158\n",
      "Epoch [20/50], Loss: 0.1236\n",
      "Epoch [21/50], Loss: 0.1264\n",
      "Epoch [22/50], Loss: 0.1159\n",
      "Epoch [23/50], Loss: 0.1293\n",
      "Epoch [24/50], Loss: 0.1066\n",
      "Epoch [25/50], Loss: 0.1085\n",
      "Epoch [26/50], Loss: 0.1011\n",
      "Epoch [27/50], Loss: 0.1059\n",
      "Epoch [28/50], Loss: 0.1019\n",
      "Epoch [29/50], Loss: 0.1060\n",
      "Epoch [30/50], Loss: 0.1001\n",
      "Epoch [31/50], Loss: 0.1037\n",
      "Epoch [32/50], Loss: 0.1030\n",
      "Epoch [33/50], Loss: 0.1250\n",
      "Epoch [34/50], Loss: 0.1038\n",
      "Epoch [35/50], Loss: 0.1024\n",
      "Epoch [36/50], Loss: 0.0970\n",
      "Epoch [37/50], Loss: 0.1065\n",
      "Epoch [38/50], Loss: 0.1177\n",
      "Epoch [39/50], Loss: 0.0958\n",
      "Epoch [40/50], Loss: 0.0950\n",
      "Epoch [41/50], Loss: 0.1024\n",
      "Epoch [42/50], Loss: 0.0961\n",
      "Epoch [43/50], Loss: 0.0917\n",
      "Epoch [44/50], Loss: 0.0977\n",
      "Epoch [45/50], Loss: 0.1004\n",
      "Epoch [46/50], Loss: 0.0981\n",
      "Epoch [47/50], Loss: 0.1021\n",
      "Epoch [48/50], Loss: 0.0957\n",
      "Epoch [49/50], Loss: 0.1168\n"
     ]
    },
    {
     "name": "stderr",
     "output_type": "stream",
     "text": [
      "\u001b[32m[I 2023-05-09 09:57:51,131]\u001b[0m Trial 176 finished with value: 0.10972669720649719 and parameters: {'n_layers': 3, 'activation': 2, 'dropout_l3': 0.027061194035763233, 'dropout_l2': 0.04638294014590644, 'dropout_l1': 0.0003225814645015576, 'bottleneck_size': 123, 'optimizer': 'Adam', 'lr': 0.0011662894738530623}. Best is trial 113 with value: 0.08030945807695389.\u001b[0m\n"
     ]
    },
    {
     "name": "stdout",
     "output_type": "stream",
     "text": [
      "Epoch [50/50], Loss: 0.1097\n",
      "Epoch [1/50], Loss: 0.4319\n",
      "Epoch [2/50], Loss: 0.3485\n"
     ]
    },
    {
     "name": "stderr",
     "output_type": "stream",
     "text": [
      "\u001b[32m[I 2023-05-09 09:57:51,910]\u001b[0m Trial 177 pruned. \u001b[0m\n"
     ]
    },
    {
     "name": "stdout",
     "output_type": "stream",
     "text": [
      "Epoch [3/50], Loss: 0.3065\n"
     ]
    },
    {
     "name": "stderr",
     "output_type": "stream",
     "text": [
      "\u001b[32m[I 2023-05-09 09:57:52,169]\u001b[0m Trial 178 pruned. \u001b[0m\n"
     ]
    },
    {
     "name": "stdout",
     "output_type": "stream",
     "text": [
      "Epoch [1/50], Loss: 0.6114\n"
     ]
    },
    {
     "name": "stderr",
     "output_type": "stream",
     "text": [
      "\u001b[32m[I 2023-05-09 09:57:52,431]\u001b[0m Trial 179 pruned. \u001b[0m\n"
     ]
    },
    {
     "name": "stdout",
     "output_type": "stream",
     "text": [
      "Epoch [1/50], Loss: 0.6621\n",
      "Epoch [1/50], Loss: 0.4444\n",
      "Epoch [2/50], Loss: 0.3478\n"
     ]
    },
    {
     "name": "stderr",
     "output_type": "stream",
     "text": [
      "\u001b[32m[I 2023-05-09 09:57:53,150]\u001b[0m Trial 180 pruned. \u001b[0m\n"
     ]
    },
    {
     "name": "stdout",
     "output_type": "stream",
     "text": [
      "Epoch [3/50], Loss: 0.3347\n",
      "Epoch [1/50], Loss: 0.4447\n",
      "Epoch [2/50], Loss: 0.3222\n",
      "Epoch [3/50], Loss: 0.2935\n",
      "Epoch [4/50], Loss: 0.2275\n",
      "Epoch [5/50], Loss: 0.2183\n",
      "Epoch [6/50], Loss: 0.1949\n",
      "Epoch [7/50], Loss: 0.1868\n",
      "Epoch [8/50], Loss: 0.1816\n",
      "Epoch [9/50], Loss: 0.1793\n",
      "Epoch [10/50], Loss: 0.1610\n",
      "Epoch [11/50], Loss: 0.1570\n",
      "Epoch [12/50], Loss: 0.1628\n",
      "Epoch [13/50], Loss: 0.1430\n",
      "Epoch [14/50], Loss: 0.1472\n",
      "Epoch [15/50], Loss: 0.1422\n",
      "Epoch [16/50], Loss: 0.1324\n",
      "Epoch [17/50], Loss: 0.1412\n",
      "Epoch [18/50], Loss: 0.1299\n",
      "Epoch [19/50], Loss: 0.1308\n",
      "Epoch [20/50], Loss: 0.1319\n",
      "Epoch [21/50], Loss: 0.1855\n",
      "Epoch [22/50], Loss: 0.1329\n",
      "Epoch [23/50], Loss: 0.1301\n",
      "Epoch [24/50], Loss: 0.1353\n",
      "Epoch [25/50], Loss: 0.1140\n",
      "Epoch [26/50], Loss: 0.1200\n",
      "Epoch [27/50], Loss: 0.1186\n",
      "Epoch [28/50], Loss: 0.1213\n",
      "Epoch [29/50], Loss: 0.1327\n",
      "Epoch [30/50], Loss: 0.1214\n",
      "Epoch [31/50], Loss: 0.1104\n",
      "Epoch [32/50], Loss: 0.1473\n",
      "Epoch [33/50], Loss: 0.1219\n",
      "Epoch [34/50], Loss: 0.1081\n",
      "Epoch [35/50], Loss: 0.1126\n",
      "Epoch [36/50], Loss: 0.1164\n",
      "Epoch [37/50], Loss: 0.1141\n",
      "Epoch [38/50], Loss: 0.1170\n",
      "Epoch [39/50], Loss: 0.1166\n",
      "Epoch [40/50], Loss: 0.1262\n",
      "Epoch [41/50], Loss: 0.1047\n",
      "Epoch [42/50], Loss: 0.1129\n",
      "Epoch [43/50], Loss: 0.1233\n",
      "Epoch [44/50], Loss: 0.1147\n",
      "Epoch [45/50], Loss: 0.1106\n",
      "Epoch [46/50], Loss: 0.1105\n",
      "Epoch [47/50], Loss: 0.1149\n",
      "Epoch [48/50], Loss: 0.1035\n",
      "Epoch [49/50], Loss: 0.1143\n"
     ]
    },
    {
     "name": "stderr",
     "output_type": "stream",
     "text": [
      "\u001b[32m[I 2023-05-09 09:58:04,502]\u001b[0m Trial 181 finished with value: 0.1173020526766777 and parameters: {'n_layers': 3, 'activation': 2, 'dropout_l3': 0.025509301467200353, 'dropout_l2': 0.03377477256109062, 'dropout_l1': 0.01420109958293667, 'bottleneck_size': 114, 'optimizer': 'Adam', 'lr': 0.0013168925925512703}. Best is trial 113 with value: 0.08030945807695389.\u001b[0m\n"
     ]
    },
    {
     "name": "stdout",
     "output_type": "stream",
     "text": [
      "Epoch [50/50], Loss: 0.1173\n",
      "Epoch [1/50], Loss: 0.4421\n",
      "Epoch [2/50], Loss: 0.3492\n",
      "Epoch [3/50], Loss: 0.2644\n",
      "Epoch [4/50], Loss: 0.2755\n",
      "Epoch [5/50], Loss: 0.2138\n",
      "Epoch [6/50], Loss: 0.2821\n",
      "Epoch [7/50], Loss: 0.1884\n",
      "Epoch [8/50], Loss: 0.1809\n",
      "Epoch [9/50], Loss: 0.1714\n",
      "Epoch [10/50], Loss: 0.1724\n",
      "Epoch [11/50], Loss: 0.1643\n",
      "Epoch [12/50], Loss: 0.2163\n",
      "Epoch [13/50], Loss: 0.1504\n",
      "Epoch [14/50], Loss: 0.1756\n",
      "Epoch [15/50], Loss: 0.1440\n",
      "Epoch [16/50], Loss: 0.1334\n",
      "Epoch [17/50], Loss: 0.1351\n",
      "Epoch [18/50], Loss: 0.1425\n",
      "Epoch [19/50], Loss: 0.1357\n",
      "Epoch [20/50], Loss: 0.1351\n",
      "Epoch [21/50], Loss: 0.1367\n",
      "Epoch [22/50], Loss: 0.1234\n",
      "Epoch [23/50], Loss: 0.1351\n",
      "Epoch [24/50], Loss: 0.1208\n",
      "Epoch [25/50], Loss: 0.1294\n",
      "Epoch [26/50], Loss: 0.1277\n",
      "Epoch [27/50], Loss: 0.1261\n",
      "Epoch [28/50], Loss: 0.1227\n",
      "Epoch [29/50], Loss: 0.1218\n",
      "Epoch [30/50], Loss: 0.1566\n",
      "Epoch [31/50], Loss: 0.1166\n",
      "Epoch [32/50], Loss: 0.1217\n",
      "Epoch [33/50], Loss: 0.1455\n",
      "Epoch [34/50], Loss: 0.1142\n",
      "Epoch [35/50], Loss: 0.1235\n",
      "Epoch [36/50], Loss: 0.1297\n",
      "Epoch [37/50], Loss: 0.1225\n",
      "Epoch [38/50], Loss: 0.1083\n",
      "Epoch [39/50], Loss: 0.1229\n",
      "Epoch [40/50], Loss: 0.1097\n",
      "Epoch [41/50], Loss: 0.1104\n",
      "Epoch [42/50], Loss: 0.1158\n",
      "Epoch [43/50], Loss: 0.1060\n",
      "Epoch [44/50], Loss: 0.1074\n",
      "Epoch [45/50], Loss: 0.1051\n",
      "Epoch [46/50], Loss: 0.1091\n",
      "Epoch [47/50], Loss: 0.1138\n",
      "Epoch [48/50], Loss: 0.1131\n",
      "Epoch [49/50], Loss: 0.1025\n"
     ]
    },
    {
     "name": "stderr",
     "output_type": "stream",
     "text": [
      "\u001b[32m[I 2023-05-09 09:58:15,888]\u001b[0m Trial 182 finished with value: 0.11941754817962646 and parameters: {'n_layers': 3, 'activation': 2, 'dropout_l3': 0.015795224854708956, 'dropout_l2': 0.021081238744668537, 'dropout_l1': 0.018271673036087573, 'bottleneck_size': 121, 'optimizer': 'Adam', 'lr': 0.0015091518222428723}. Best is trial 113 with value: 0.08030945807695389.\u001b[0m\n"
     ]
    },
    {
     "name": "stdout",
     "output_type": "stream",
     "text": [
      "Epoch [50/50], Loss: 0.1194\n",
      "Epoch [1/50], Loss: 0.4162\n",
      "Epoch [2/50], Loss: 0.3355\n",
      "Epoch [3/50], Loss: 0.2988\n"
     ]
    },
    {
     "name": "stderr",
     "output_type": "stream",
     "text": [
      "\u001b[32m[I 2023-05-09 09:58:16,841]\u001b[0m Trial 183 pruned. \u001b[0m\n"
     ]
    },
    {
     "name": "stdout",
     "output_type": "stream",
     "text": [
      "Epoch [4/50], Loss: 0.2985\n",
      "Epoch [1/50], Loss: 0.4306\n"
     ]
    },
    {
     "name": "stderr",
     "output_type": "stream",
     "text": [
      "\u001b[32m[I 2023-05-09 09:58:17,339]\u001b[0m Trial 184 pruned. \u001b[0m\n"
     ]
    },
    {
     "name": "stdout",
     "output_type": "stream",
     "text": [
      "Epoch [2/50], Loss: 0.3570\n",
      "Epoch [1/50], Loss: 0.4555\n"
     ]
    },
    {
     "name": "stderr",
     "output_type": "stream",
     "text": [
      "\u001b[32m[I 2023-05-09 09:58:17,833]\u001b[0m Trial 185 pruned. \u001b[0m\n"
     ]
    },
    {
     "name": "stdout",
     "output_type": "stream",
     "text": [
      "Epoch [2/50], Loss: 0.3534\n",
      "Epoch [1/50], Loss: 0.4016\n",
      "Epoch [2/50], Loss: 0.3272\n",
      "Epoch [3/50], Loss: 0.2621\n",
      "Epoch [4/50], Loss: 0.2584\n",
      "Epoch [5/50], Loss: 0.2246\n",
      "Epoch [6/50], Loss: 0.2165\n",
      "Epoch [7/50], Loss: 0.1993\n",
      "Epoch [8/50], Loss: 0.1894\n",
      "Epoch [9/50], Loss: 0.2130\n",
      "Epoch [10/50], Loss: 0.2767\n",
      "Epoch [11/50], Loss: 0.1572\n",
      "Epoch [12/50], Loss: 0.1614\n",
      "Epoch [13/50], Loss: 0.1599\n",
      "Epoch [14/50], Loss: 0.1766\n",
      "Epoch [15/50], Loss: 0.1592\n",
      "Epoch [16/50], Loss: 0.1500\n",
      "Epoch [17/50], Loss: 0.1513\n",
      "Epoch [18/50], Loss: 0.1491\n",
      "Epoch [19/50], Loss: 0.1391\n",
      "Epoch [20/50], Loss: 0.1466\n",
      "Epoch [21/50], Loss: 0.1330\n",
      "Epoch [22/50], Loss: 0.1402\n",
      "Epoch [23/50], Loss: 0.1297\n",
      "Epoch [24/50], Loss: 0.1859\n",
      "Epoch [25/50], Loss: 0.1296\n",
      "Epoch [26/50], Loss: 0.1380\n",
      "Epoch [27/50], Loss: 0.1327\n",
      "Epoch [28/50], Loss: 0.1493\n",
      "Epoch [29/50], Loss: 0.1298\n",
      "Epoch [30/50], Loss: 0.1294\n",
      "Epoch [31/50], Loss: 0.1272\n",
      "Epoch [32/50], Loss: 0.1224\n",
      "Epoch [33/50], Loss: 0.1307\n",
      "Epoch [34/50], Loss: 0.1174\n",
      "Epoch [35/50], Loss: 0.1167\n",
      "Epoch [36/50], Loss: 0.1152\n",
      "Epoch [37/50], Loss: 0.1658\n",
      "Epoch [38/50], Loss: 0.1188\n",
      "Epoch [39/50], Loss: 0.1269\n",
      "Epoch [40/50], Loss: 0.1225\n",
      "Epoch [41/50], Loss: 0.1149\n",
      "Epoch [42/50], Loss: 0.1234\n",
      "Epoch [43/50], Loss: 0.1205\n",
      "Epoch [44/50], Loss: 0.1102\n",
      "Epoch [45/50], Loss: 0.1159\n",
      "Epoch [46/50], Loss: 0.1155\n",
      "Epoch [47/50], Loss: 0.1226\n",
      "Epoch [48/50], Loss: 0.1226\n",
      "Epoch [49/50], Loss: 0.1135\n"
     ]
    },
    {
     "name": "stderr",
     "output_type": "stream",
     "text": [
      "\u001b[32m[I 2023-05-09 09:58:29,196]\u001b[0m Trial 186 finished with value: 0.10898850113153458 and parameters: {'n_layers': 3, 'activation': 2, 'dropout_l3': 0.009226294751140935, 'dropout_l2': 0.031872019789623965, 'dropout_l1': 0.021354782479261064, 'bottleneck_size': 112, 'optimizer': 'Adam', 'lr': 0.0015722797102115328}. Best is trial 113 with value: 0.08030945807695389.\u001b[0m\n"
     ]
    },
    {
     "name": "stdout",
     "output_type": "stream",
     "text": [
      "Epoch [50/50], Loss: 0.1090\n"
     ]
    },
    {
     "name": "stderr",
     "output_type": "stream",
     "text": [
      "\u001b[32m[I 2023-05-09 09:58:29,469]\u001b[0m Trial 187 pruned. \u001b[0m\n"
     ]
    },
    {
     "name": "stdout",
     "output_type": "stream",
     "text": [
      "Epoch [1/50], Loss: 0.4630\n",
      "Epoch [1/50], Loss: 0.4283\n",
      "Epoch [2/50], Loss: 0.3291\n",
      "Epoch [3/50], Loss: 0.2966\n",
      "Epoch [4/50], Loss: 0.2467\n",
      "Epoch [5/50], Loss: 0.3045\n",
      "Epoch [6/50], Loss: 0.2168\n"
     ]
    },
    {
     "name": "stderr",
     "output_type": "stream",
     "text": [
      "\u001b[32m[I 2023-05-09 09:58:31,151]\u001b[0m Trial 188 pruned. \u001b[0m\n"
     ]
    },
    {
     "name": "stdout",
     "output_type": "stream",
     "text": [
      "Epoch [7/50], Loss: 0.2163\n",
      "Epoch [1/50], Loss: 0.4480\n"
     ]
    },
    {
     "name": "stderr",
     "output_type": "stream",
     "text": [
      "\u001b[32m[I 2023-05-09 09:58:31,646]\u001b[0m Trial 189 pruned. \u001b[0m\n"
     ]
    },
    {
     "name": "stdout",
     "output_type": "stream",
     "text": [
      "Epoch [2/50], Loss: 0.3898\n"
     ]
    },
    {
     "name": "stderr",
     "output_type": "stream",
     "text": [
      "\u001b[32m[I 2023-05-09 09:58:34,324]\u001b[0m Trial 190 pruned. \u001b[0m\n"
     ]
    },
    {
     "name": "stdout",
     "output_type": "stream",
     "text": [
      "Epoch [1/50], Loss: 0.4966\n",
      "Epoch [1/50], Loss: 0.4266\n",
      "Epoch [2/50], Loss: 0.3254\n",
      "Epoch [3/50], Loss: 0.2518\n",
      "Epoch [4/50], Loss: 0.2468\n",
      "Epoch [5/50], Loss: 0.2577\n",
      "Epoch [6/50], Loss: 0.2020\n",
      "Epoch [7/50], Loss: 0.1802\n",
      "Epoch [8/50], Loss: 0.1792\n",
      "Epoch [9/50], Loss: 0.1547\n",
      "Epoch [10/50], Loss: 0.1433\n",
      "Epoch [11/50], Loss: 0.1474\n",
      "Epoch [12/50], Loss: 0.1723\n",
      "Epoch [13/50], Loss: 0.1439\n",
      "Epoch [14/50], Loss: 0.1408\n",
      "Epoch [15/50], Loss: 0.1331\n",
      "Epoch [16/50], Loss: 0.1291\n",
      "Epoch [17/50], Loss: 0.1507\n",
      "Epoch [18/50], Loss: 0.2901\n",
      "Epoch [19/50], Loss: 0.1961\n",
      "Epoch [20/50], Loss: 0.1679\n",
      "Epoch [21/50], Loss: 0.1437\n",
      "Epoch [22/50], Loss: 0.1310\n",
      "Epoch [23/50], Loss: 0.1307\n",
      "Epoch [24/50], Loss: 0.1189\n",
      "Epoch [25/50], Loss: 0.1159\n",
      "Epoch [26/50], Loss: 0.1166\n",
      "Epoch [27/50], Loss: 0.1278\n",
      "Epoch [28/50], Loss: 0.1107\n",
      "Epoch [29/50], Loss: 0.1111\n",
      "Epoch [30/50], Loss: 0.1097\n",
      "Epoch [31/50], Loss: 0.1161\n",
      "Epoch [32/50], Loss: 0.1153\n",
      "Epoch [33/50], Loss: 0.1029\n",
      "Epoch [34/50], Loss: 0.1305\n",
      "Epoch [35/50], Loss: 0.1007\n",
      "Epoch [36/50], Loss: 0.1050\n",
      "Epoch [37/50], Loss: 0.1248\n",
      "Epoch [38/50], Loss: 0.1092\n",
      "Epoch [39/50], Loss: 0.1194\n",
      "Epoch [40/50], Loss: 0.0978\n",
      "Epoch [41/50], Loss: 0.1022\n",
      "Epoch [42/50], Loss: 0.1014\n",
      "Epoch [43/50], Loss: 0.0978\n",
      "Epoch [44/50], Loss: 0.0986\n",
      "Epoch [45/50], Loss: 0.0969\n",
      "Epoch [46/50], Loss: 0.1075\n",
      "Epoch [47/50], Loss: 0.1176\n",
      "Epoch [48/50], Loss: 0.1045\n",
      "Epoch [49/50], Loss: 0.0941\n"
     ]
    },
    {
     "name": "stderr",
     "output_type": "stream",
     "text": [
      "\u001b[32m[I 2023-05-09 09:58:45,703]\u001b[0m Trial 191 finished with value: 0.09750574827194214 and parameters: {'n_layers': 3, 'activation': 2, 'dropout_l3': 0.028569399390347743, 'dropout_l2': 0.019498426356556995, 'dropout_l1': 0.007709558833723777, 'bottleneck_size': 110, 'optimizer': 'Adam', 'lr': 0.0018838548751480455}. Best is trial 113 with value: 0.08030945807695389.\u001b[0m\n"
     ]
    },
    {
     "name": "stdout",
     "output_type": "stream",
     "text": [
      "Epoch [50/50], Loss: 0.0975\n"
     ]
    },
    {
     "name": "stderr",
     "output_type": "stream",
     "text": [
      "\u001b[32m[I 2023-05-09 09:58:45,976]\u001b[0m Trial 192 pruned. \u001b[0m\n"
     ]
    },
    {
     "name": "stdout",
     "output_type": "stream",
     "text": [
      "Epoch [1/50], Loss: 0.4989\n",
      "Epoch [1/50], Loss: 0.4404\n",
      "Epoch [2/50], Loss: 0.3101\n",
      "Epoch [3/50], Loss: 0.2660\n",
      "Epoch [4/50], Loss: 0.2249\n",
      "Epoch [5/50], Loss: 0.2032\n",
      "Epoch [6/50], Loss: 0.1778\n",
      "Epoch [7/50], Loss: 0.1713\n",
      "Epoch [8/50], Loss: 0.1628\n",
      "Epoch [9/50], Loss: 0.1638\n",
      "Epoch [10/50], Loss: 0.1424\n",
      "Epoch [11/50], Loss: 0.1460\n",
      "Epoch [12/50], Loss: 0.1348\n",
      "Epoch [13/50], Loss: 0.1302\n",
      "Epoch [14/50], Loss: 0.1345\n",
      "Epoch [15/50], Loss: 0.1329\n",
      "Epoch [16/50], Loss: 0.1217\n",
      "Epoch [17/50], Loss: 0.1260\n",
      "Epoch [18/50], Loss: 0.1186\n",
      "Epoch [19/50], Loss: 0.1897\n",
      "Epoch [20/50], Loss: 0.2788\n",
      "Epoch [21/50], Loss: 0.2201\n",
      "Epoch [22/50], Loss: 0.1490\n",
      "Epoch [23/50], Loss: 0.1458\n",
      "Epoch [24/50], Loss: 0.1217\n",
      "Epoch [25/50], Loss: 0.1205\n",
      "Epoch [26/50], Loss: 0.1126\n",
      "Epoch [27/50], Loss: 0.1148\n",
      "Epoch [28/50], Loss: 0.1215\n",
      "Epoch [29/50], Loss: 0.1132\n",
      "Epoch [30/50], Loss: 0.1063\n",
      "Epoch [31/50], Loss: 0.1031\n",
      "Epoch [32/50], Loss: 0.0978\n",
      "Epoch [33/50], Loss: 0.1008\n",
      "Epoch [34/50], Loss: 0.1040\n",
      "Epoch [35/50], Loss: 0.1086\n",
      "Epoch [36/50], Loss: 0.1122\n",
      "Epoch [37/50], Loss: 0.0999\n",
      "Epoch [38/50], Loss: 0.0968\n",
      "Epoch [39/50], Loss: 0.0942\n",
      "Epoch [40/50], Loss: 0.0991\n",
      "Epoch [41/50], Loss: 0.1072\n",
      "Epoch [42/50], Loss: 0.1015\n",
      "Epoch [43/50], Loss: 0.0970\n",
      "Epoch [44/50], Loss: 0.0961\n",
      "Epoch [45/50], Loss: 0.0917\n",
      "Epoch [46/50], Loss: 0.0912\n",
      "Epoch [47/50], Loss: 0.1105\n",
      "Epoch [48/50], Loss: 0.0972\n",
      "Epoch [49/50], Loss: 0.0910\n"
     ]
    },
    {
     "name": "stderr",
     "output_type": "stream",
     "text": [
      "\u001b[32m[I 2023-05-09 09:58:57,275]\u001b[0m Trial 193 finished with value: 0.09126581251621246 and parameters: {'n_layers': 3, 'activation': 2, 'dropout_l3': 0.009063166557575828, 'dropout_l2': 0.039323452969615, 'dropout_l1': 0.0005771672895170284, 'bottleneck_size': 98, 'optimizer': 'Adam', 'lr': 0.001705352789854938}. Best is trial 113 with value: 0.08030945807695389.\u001b[0m\n"
     ]
    },
    {
     "name": "stdout",
     "output_type": "stream",
     "text": [
      "Epoch [50/50], Loss: 0.0913\n",
      "Epoch [1/50], Loss: 0.4401\n",
      "Epoch [2/50], Loss: 0.3300\n",
      "Epoch [3/50], Loss: 0.2695\n",
      "Epoch [4/50], Loss: 0.2170\n",
      "Epoch [5/50], Loss: 0.2019\n",
      "Epoch [6/50], Loss: 0.3128\n",
      "Epoch [7/50], Loss: 0.2788\n"
     ]
    },
    {
     "name": "stderr",
     "output_type": "stream",
     "text": [
      "\u001b[32m[I 2023-05-09 09:58:59,119]\u001b[0m Trial 194 pruned. \u001b[0m\n"
     ]
    },
    {
     "name": "stdout",
     "output_type": "stream",
     "text": [
      "Epoch [8/50], Loss: 0.2190\n",
      "Epoch [1/50], Loss: 0.4441\n"
     ]
    },
    {
     "name": "stderr",
     "output_type": "stream",
     "text": [
      "\u001b[32m[I 2023-05-09 09:58:59,617]\u001b[0m Trial 195 pruned. \u001b[0m\n"
     ]
    },
    {
     "name": "stdout",
     "output_type": "stream",
     "text": [
      "Epoch [2/50], Loss: 0.3529\n"
     ]
    },
    {
     "name": "stderr",
     "output_type": "stream",
     "text": [
      "\u001b[32m[I 2023-05-09 09:58:59,886]\u001b[0m Trial 196 pruned. \u001b[0m\n"
     ]
    },
    {
     "name": "stdout",
     "output_type": "stream",
     "text": [
      "Epoch [1/50], Loss: 0.6644\n",
      "Epoch [1/50], Loss: 0.4123\n",
      "Epoch [2/50], Loss: 0.3412\n",
      "Epoch [3/50], Loss: 0.2653\n",
      "Epoch [4/50], Loss: 0.2460\n",
      "Epoch [5/50], Loss: 0.2142\n",
      "Epoch [6/50], Loss: 0.2142\n",
      "Epoch [7/50], Loss: 0.1929\n",
      "Epoch [8/50], Loss: 0.2245\n",
      "Epoch [9/50], Loss: 0.1816\n",
      "Epoch [10/50], Loss: 0.1732\n",
      "Epoch [11/50], Loss: 0.1711\n",
      "Epoch [12/50], Loss: 0.1775\n",
      "Epoch [13/50], Loss: 0.1614\n",
      "Epoch [14/50], Loss: 0.2222\n",
      "Epoch [15/50], Loss: 0.1675\n",
      "Epoch [16/50], Loss: 0.1679\n",
      "Epoch [17/50], Loss: 0.1427\n",
      "Epoch [18/50], Loss: 0.1493\n",
      "Epoch [19/50], Loss: 0.1425\n",
      "Epoch [20/50], Loss: 0.1448\n",
      "Epoch [21/50], Loss: 0.1428\n",
      "Epoch [22/50], Loss: 0.1455\n",
      "Epoch [23/50], Loss: 0.1524\n",
      "Epoch [24/50], Loss: 0.1464\n",
      "Epoch [25/50], Loss: 0.1375\n",
      "Epoch [26/50], Loss: 0.1778\n",
      "Epoch [27/50], Loss: 0.1335\n",
      "Epoch [28/50], Loss: 0.1324\n",
      "Epoch [29/50], Loss: 0.1364\n",
      "Epoch [30/50], Loss: 0.1298\n",
      "Epoch [31/50], Loss: 0.1230\n",
      "Epoch [32/50], Loss: 0.1499\n",
      "Epoch [33/50], Loss: 0.1300\n",
      "Epoch [34/50], Loss: 0.1252\n",
      "Epoch [35/50], Loss: 0.1287\n",
      "Epoch [36/50], Loss: 0.1287\n",
      "Epoch [37/50], Loss: 0.1313\n",
      "Epoch [38/50], Loss: 0.1326\n",
      "Epoch [39/50], Loss: 0.1219\n",
      "Epoch [40/50], Loss: 0.1291\n",
      "Epoch [41/50], Loss: 0.1201\n",
      "Epoch [42/50], Loss: 0.1199\n",
      "Epoch [43/50], Loss: 0.1186\n",
      "Epoch [44/50], Loss: 0.1427\n",
      "Epoch [45/50], Loss: 0.1575\n",
      "Epoch [46/50], Loss: 0.1244\n",
      "Epoch [47/50], Loss: 0.1277\n",
      "Epoch [48/50], Loss: 0.1342\n",
      "Epoch [49/50], Loss: 0.1296\n"
     ]
    },
    {
     "name": "stderr",
     "output_type": "stream",
     "text": [
      "\u001b[32m[I 2023-05-09 09:59:11,233]\u001b[0m Trial 197 finished with value: 0.11361145228147507 and parameters: {'n_layers': 3, 'activation': 2, 'dropout_l3': 0.032635467455186966, 'dropout_l2': 0.04230408238824017, 'dropout_l1': 0.02153613985139408, 'bottleneck_size': 117, 'optimizer': 'Adam', 'lr': 0.0018235525705553968}. Best is trial 113 with value: 0.08030945807695389.\u001b[0m\n"
     ]
    },
    {
     "name": "stdout",
     "output_type": "stream",
     "text": [
      "Epoch [50/50], Loss: 0.1136\n"
     ]
    },
    {
     "name": "stderr",
     "output_type": "stream",
     "text": [
      "\u001b[32m[I 2023-05-09 09:59:11,484]\u001b[0m Trial 198 pruned. \u001b[0m\n"
     ]
    },
    {
     "name": "stdout",
     "output_type": "stream",
     "text": [
      "Epoch [1/50], Loss: 0.9905\n",
      "Epoch [1/50], Loss: 0.4303\n",
      "Epoch [2/50], Loss: 0.3419\n",
      "Epoch [3/50], Loss: 0.2896\n",
      "Epoch [4/50], Loss: 0.2431\n",
      "Epoch [5/50], Loss: 0.2411\n",
      "Epoch [6/50], Loss: 0.2138\n",
      "Epoch [7/50], Loss: 0.2005\n",
      "Epoch [8/50], Loss: 0.2647\n",
      "Epoch [9/50], Loss: 0.1858\n",
      "Epoch [10/50], Loss: 0.1986\n",
      "Epoch [11/50], Loss: 0.2057\n",
      "Epoch [12/50], Loss: 0.1882\n"
     ]
    },
    {
     "name": "stderr",
     "output_type": "stream",
     "text": [
      "\u001b[32m[I 2023-05-09 09:59:14,506]\u001b[0m Trial 199 pruned. \u001b[0m\n"
     ]
    },
    {
     "name": "stdout",
     "output_type": "stream",
     "text": [
      "Epoch [13/50], Loss: 0.1773\n",
      "Epoch [1/50], Loss: 0.4478\n",
      "Epoch [2/50], Loss: 0.3422\n",
      "Epoch [3/50], Loss: 0.2912\n",
      "Epoch [4/50], Loss: 0.2611\n",
      "Epoch [5/50], Loss: 0.2380\n"
     ]
    },
    {
     "name": "stderr",
     "output_type": "stream",
     "text": [
      "\u001b[32m[I 2023-05-09 09:59:15,914]\u001b[0m Trial 200 pruned. \u001b[0m\n"
     ]
    },
    {
     "name": "stdout",
     "output_type": "stream",
     "text": [
      "Epoch [6/50], Loss: 0.2327\n",
      "Epoch [1/50], Loss: 0.4224\n",
      "Epoch [2/50], Loss: 0.3058\n",
      "Epoch [3/50], Loss: 0.2498\n",
      "Epoch [4/50], Loss: 0.2229\n",
      "Epoch [5/50], Loss: 0.2016\n",
      "Epoch [6/50], Loss: 0.2088\n",
      "Epoch [7/50], Loss: 0.2573\n",
      "Epoch [8/50], Loss: 0.1832\n",
      "Epoch [9/50], Loss: 0.1604\n",
      "Epoch [10/50], Loss: 0.1514\n",
      "Epoch [11/50], Loss: 0.1538\n",
      "Epoch [12/50], Loss: 0.1385\n",
      "Epoch [13/50], Loss: 0.1435\n",
      "Epoch [14/50], Loss: 0.1383\n",
      "Epoch [15/50], Loss: 0.1369\n",
      "Epoch [16/50], Loss: 0.1377\n",
      "Epoch [17/50], Loss: 0.1433\n",
      "Epoch [18/50], Loss: 0.1295\n",
      "Epoch [19/50], Loss: 0.1258\n",
      "Epoch [20/50], Loss: 0.1217\n",
      "Epoch [21/50], Loss: 0.1290\n",
      "Epoch [22/50], Loss: 0.1292\n",
      "Epoch [23/50], Loss: 0.1159\n",
      "Epoch [24/50], Loss: 0.1315\n",
      "Epoch [25/50], Loss: 0.1182\n",
      "Epoch [26/50], Loss: 0.1141\n",
      "Epoch [27/50], Loss: 0.1267\n",
      "Epoch [28/50], Loss: 0.1066\n",
      "Epoch [29/50], Loss: 0.1067\n",
      "Epoch [30/50], Loss: 0.1076\n",
      "Epoch [31/50], Loss: 0.1175\n",
      "Epoch [32/50], Loss: 0.1038\n",
      "Epoch [33/50], Loss: 0.1374\n",
      "Epoch [34/50], Loss: 0.1023\n",
      "Epoch [35/50], Loss: 0.1106\n",
      "Epoch [36/50], Loss: 0.1057\n",
      "Epoch [37/50], Loss: 0.1098\n",
      "Epoch [38/50], Loss: 0.0975\n",
      "Epoch [39/50], Loss: 0.1031\n",
      "Epoch [40/50], Loss: 0.0916\n",
      "Epoch [41/50], Loss: 0.0989\n",
      "Epoch [42/50], Loss: 0.0970\n",
      "Epoch [43/50], Loss: 0.0961\n",
      "Epoch [44/50], Loss: 0.1003\n",
      "Epoch [45/50], Loss: 0.0979\n",
      "Epoch [46/50], Loss: 0.0934\n",
      "Epoch [47/50], Loss: 0.1036\n",
      "Epoch [48/50], Loss: 0.1001\n",
      "Epoch [49/50], Loss: 0.1054\n"
     ]
    },
    {
     "name": "stderr",
     "output_type": "stream",
     "text": [
      "\u001b[32m[I 2023-05-09 09:59:27,307]\u001b[0m Trial 201 finished with value: 0.10001454502344131 and parameters: {'n_layers': 3, 'activation': 2, 'dropout_l3': 0.039450759192558575, 'dropout_l2': 0.008576614696562426, 'dropout_l1': 0.011823560849929669, 'bottleneck_size': 101, 'optimizer': 'Adam', 'lr': 0.0018047800573123352}. Best is trial 113 with value: 0.08030945807695389.\u001b[0m\n"
     ]
    },
    {
     "name": "stdout",
     "output_type": "stream",
     "text": [
      "Epoch [50/50], Loss: 0.1000\n",
      "Epoch [1/50], Loss: 0.4264\n",
      "Epoch [2/50], Loss: 0.3212\n",
      "Epoch [3/50], Loss: 0.2748\n",
      "Epoch [4/50], Loss: 0.2402\n",
      "Epoch [5/50], Loss: 0.2262\n",
      "Epoch [6/50], Loss: 0.1973\n",
      "Epoch [7/50], Loss: 0.1757\n",
      "Epoch [8/50], Loss: 0.1787\n",
      "Epoch [9/50], Loss: 0.1675\n",
      "Epoch [10/50], Loss: 0.2209\n",
      "Epoch [11/50], Loss: 0.1565\n",
      "Epoch [12/50], Loss: 0.1541\n",
      "Epoch [13/50], Loss: 0.1733\n",
      "Epoch [14/50], Loss: 0.1266\n",
      "Epoch [15/50], Loss: 0.1345\n",
      "Epoch [16/50], Loss: 0.1361\n",
      "Epoch [17/50], Loss: 0.1233\n",
      "Epoch [18/50], Loss: 0.1297\n",
      "Epoch [19/50], Loss: 0.1259\n",
      "Epoch [20/50], Loss: 0.1352\n",
      "Epoch [21/50], Loss: 0.1274\n",
      "Epoch [22/50], Loss: 0.1256\n",
      "Epoch [23/50], Loss: 0.1332\n",
      "Epoch [24/50], Loss: 0.1507\n",
      "Epoch [25/50], Loss: 0.1419\n",
      "Epoch [26/50], Loss: 0.1160\n",
      "Epoch [27/50], Loss: 0.1329\n",
      "Epoch [28/50], Loss: 0.1146\n",
      "Epoch [29/50], Loss: 0.1043\n",
      "Epoch [30/50], Loss: 0.1213\n",
      "Epoch [31/50], Loss: 0.1719\n",
      "Epoch [32/50], Loss: 0.3087\n",
      "Epoch [33/50], Loss: 0.2074\n",
      "Epoch [34/50], Loss: 0.1414\n",
      "Epoch [35/50], Loss: 0.1417\n",
      "Epoch [36/50], Loss: 0.1386\n",
      "Epoch [37/50], Loss: 0.1171\n",
      "Epoch [38/50], Loss: 0.1094\n",
      "Epoch [39/50], Loss: 0.1113\n",
      "Epoch [40/50], Loss: 0.1181\n",
      "Epoch [41/50], Loss: 0.1379\n",
      "Epoch [42/50], Loss: 0.1051\n",
      "Epoch [43/50], Loss: 0.1025\n",
      "Epoch [44/50], Loss: 0.1054\n",
      "Epoch [45/50], Loss: 0.1191\n",
      "Epoch [46/50], Loss: 0.0989\n",
      "Epoch [47/50], Loss: 0.1051\n",
      "Epoch [48/50], Loss: 0.0984\n",
      "Epoch [49/50], Loss: 0.1024\n"
     ]
    },
    {
     "name": "stderr",
     "output_type": "stream",
     "text": [
      "\u001b[32m[I 2023-05-09 09:59:38,625]\u001b[0m Trial 202 finished with value: 0.10303907096385956 and parameters: {'n_layers': 3, 'activation': 2, 'dropout_l3': 0.03916063494330599, 'dropout_l2': 0.010235196511563098, 'dropout_l1': 0.009862725493932804, 'bottleneck_size': 102, 'optimizer': 'Adam', 'lr': 0.0021668132302208503}. Best is trial 113 with value: 0.08030945807695389.\u001b[0m\n"
     ]
    },
    {
     "name": "stdout",
     "output_type": "stream",
     "text": [
      "Epoch [50/50], Loss: 0.1030\n",
      "Epoch [1/50], Loss: 0.4040\n",
      "Epoch [2/50], Loss: 0.3131\n",
      "Epoch [3/50], Loss: 0.2625\n",
      "Epoch [4/50], Loss: 0.2430\n",
      "Epoch [5/50], Loss: 0.2027\n",
      "Epoch [6/50], Loss: 0.1823\n",
      "Epoch [7/50], Loss: 0.1764\n",
      "Epoch [8/50], Loss: 0.1614\n",
      "Epoch [9/50], Loss: 0.1648\n",
      "Epoch [10/50], Loss: 0.1702\n",
      "Epoch [11/50], Loss: 0.1408\n",
      "Epoch [12/50], Loss: 0.1563\n",
      "Epoch [13/50], Loss: 0.1386\n",
      "Epoch [14/50], Loss: 0.1316\n",
      "Epoch [15/50], Loss: 0.1320\n",
      "Epoch [16/50], Loss: 0.1622\n",
      "Epoch [17/50], Loss: 0.1345\n",
      "Epoch [18/50], Loss: 0.1208\n",
      "Epoch [19/50], Loss: 0.1706\n",
      "Epoch [20/50], Loss: 0.1232\n",
      "Epoch [21/50], Loss: 0.1213\n",
      "Epoch [22/50], Loss: 0.1168\n",
      "Epoch [23/50], Loss: 0.1487\n",
      "Epoch [24/50], Loss: 0.1086\n",
      "Epoch [25/50], Loss: 0.1208\n",
      "Epoch [26/50], Loss: 0.1162\n",
      "Epoch [27/50], Loss: 0.1074\n",
      "Epoch [28/50], Loss: 0.1056\n",
      "Epoch [29/50], Loss: 0.1120\n",
      "Epoch [30/50], Loss: 0.1026\n",
      "Epoch [31/50], Loss: 0.1291\n",
      "Epoch [32/50], Loss: 0.1362\n",
      "Epoch [33/50], Loss: 0.1061\n",
      "Epoch [34/50], Loss: 0.1026\n",
      "Epoch [35/50], Loss: 0.0988\n",
      "Epoch [36/50], Loss: 0.1086\n",
      "Epoch [37/50], Loss: 0.1066\n",
      "Epoch [38/50], Loss: 0.1032\n",
      "Epoch [39/50], Loss: 0.1076\n",
      "Epoch [40/50], Loss: 0.0952\n",
      "Epoch [41/50], Loss: 0.1099\n",
      "Epoch [42/50], Loss: 0.0976\n",
      "Epoch [43/50], Loss: 0.0995\n",
      "Epoch [44/50], Loss: 0.1121\n",
      "Epoch [45/50], Loss: 0.0954\n",
      "Epoch [46/50], Loss: 0.0909\n",
      "Epoch [47/50], Loss: 0.0913\n",
      "Epoch [48/50], Loss: 0.1066\n",
      "Epoch [49/50], Loss: 0.1061\n"
     ]
    },
    {
     "name": "stderr",
     "output_type": "stream",
     "text": [
      "\u001b[32m[I 2023-05-09 09:59:49,955]\u001b[0m Trial 203 finished with value: 0.10549529641866684 and parameters: {'n_layers': 3, 'activation': 2, 'dropout_l3': 0.04324534708898273, 'dropout_l2': 0.009938584357065213, 'dropout_l1': 0.009917692117244446, 'bottleneck_size': 101, 'optimizer': 'Adam', 'lr': 0.002285586180913128}. Best is trial 113 with value: 0.08030945807695389.\u001b[0m\n"
     ]
    },
    {
     "name": "stdout",
     "output_type": "stream",
     "text": [
      "Epoch [50/50], Loss: 0.1055\n"
     ]
    },
    {
     "name": "stderr",
     "output_type": "stream",
     "text": [
      "\u001b[32m[I 2023-05-09 09:59:50,229]\u001b[0m Trial 204 pruned. \u001b[0m\n"
     ]
    },
    {
     "name": "stdout",
     "output_type": "stream",
     "text": [
      "Epoch [1/50], Loss: 0.7614\n"
     ]
    },
    {
     "name": "stderr",
     "output_type": "stream",
     "text": [
      "\u001b[32m[I 2023-05-09 09:59:50,503]\u001b[0m Trial 205 pruned. \u001b[0m\n"
     ]
    },
    {
     "name": "stdout",
     "output_type": "stream",
     "text": [
      "Epoch [1/50], Loss: 0.5001\n"
     ]
    },
    {
     "name": "stderr",
     "output_type": "stream",
     "text": [
      "\u001b[32m[I 2023-05-09 09:59:50,781]\u001b[0m Trial 206 pruned. \u001b[0m\n"
     ]
    },
    {
     "name": "stdout",
     "output_type": "stream",
     "text": [
      "Epoch [1/50], Loss: 0.5409\n",
      "Epoch [1/50], Loss: 0.4433\n"
     ]
    },
    {
     "name": "stderr",
     "output_type": "stream",
     "text": [
      "\u001b[32m[I 2023-05-09 09:59:51,282]\u001b[0m Trial 207 pruned. \u001b[0m\n"
     ]
    },
    {
     "name": "stdout",
     "output_type": "stream",
     "text": [
      "Epoch [2/50], Loss: 0.3602\n",
      "Epoch [1/50], Loss: 0.4384\n",
      "Epoch [2/50], Loss: 0.3307\n",
      "Epoch [3/50], Loss: 0.2621\n",
      "Epoch [4/50], Loss: 0.2494\n",
      "Epoch [5/50], Loss: 0.2217\n",
      "Epoch [6/50], Loss: 0.2348\n"
     ]
    },
    {
     "name": "stderr",
     "output_type": "stream",
     "text": [
      "\u001b[32m[I 2023-05-09 09:59:52,959]\u001b[0m Trial 208 pruned. \u001b[0m\n"
     ]
    },
    {
     "name": "stdout",
     "output_type": "stream",
     "text": [
      "Epoch [7/50], Loss: 0.2181\n"
     ]
    },
    {
     "name": "stderr",
     "output_type": "stream",
     "text": [
      "\u001b[32m[I 2023-05-09 09:59:53,235]\u001b[0m Trial 209 pruned. \u001b[0m\n"
     ]
    },
    {
     "name": "stdout",
     "output_type": "stream",
     "text": [
      "Epoch [1/50], Loss: 0.4622\n"
     ]
    },
    {
     "name": "stderr",
     "output_type": "stream",
     "text": [
      "\u001b[32m[I 2023-05-09 09:59:53,506]\u001b[0m Trial 210 pruned. \u001b[0m\n"
     ]
    },
    {
     "name": "stdout",
     "output_type": "stream",
     "text": [
      "Epoch [1/50], Loss: 0.6524\n"
     ]
    },
    {
     "name": "stderr",
     "output_type": "stream",
     "text": [
      "\u001b[32m[I 2023-05-09 09:59:53,782]\u001b[0m Trial 211 pruned. \u001b[0m\n"
     ]
    },
    {
     "name": "stdout",
     "output_type": "stream",
     "text": [
      "Epoch [1/50], Loss: 0.4571\n",
      "Epoch [1/50], Loss: 0.4329\n",
      "Epoch [2/50], Loss: 0.3278\n",
      "Epoch [3/50], Loss: 0.2661\n",
      "Epoch [4/50], Loss: 0.2237\n",
      "Epoch [5/50], Loss: 0.2256\n",
      "Epoch [6/50], Loss: 0.2009\n",
      "Epoch [7/50], Loss: 0.1735\n",
      "Epoch [8/50], Loss: 0.1725\n",
      "Epoch [9/50], Loss: 0.1763\n",
      "Epoch [10/50], Loss: 0.1643\n",
      "Epoch [11/50], Loss: 0.1489\n",
      "Epoch [12/50], Loss: 0.1385\n",
      "Epoch [13/50], Loss: 0.1567\n",
      "Epoch [14/50], Loss: 0.1327\n",
      "Epoch [15/50], Loss: 0.1396\n",
      "Epoch [16/50], Loss: 0.1735\n",
      "Epoch [17/50], Loss: 1.3330\n",
      "Epoch [18/50], Loss: 0.8201\n",
      "Epoch [19/50], Loss: 0.5035\n",
      "Epoch [20/50], Loss: 0.4335\n",
      "Epoch [21/50], Loss: 0.3620\n",
      "Epoch [22/50], Loss: 0.2981\n",
      "Epoch [23/50], Loss: 0.2862\n",
      "Epoch [24/50], Loss: 0.2336\n",
      "Epoch [25/50], Loss: 0.3134\n",
      "Epoch [26/50], Loss: 0.2400\n",
      "Epoch [27/50], Loss: 0.1958\n",
      "Epoch [28/50], Loss: 0.1797\n",
      "Epoch [29/50], Loss: 0.1715\n",
      "Epoch [30/50], Loss: 0.1811\n",
      "Epoch [31/50], Loss: 0.1732\n",
      "Epoch [32/50], Loss: 0.1634\n",
      "Epoch [33/50], Loss: 0.1631\n",
      "Epoch [34/50], Loss: 0.1487\n",
      "Epoch [35/50], Loss: 0.1543\n",
      "Epoch [36/50], Loss: 0.1411\n",
      "Epoch [37/50], Loss: 0.1467\n"
     ]
    },
    {
     "name": "stderr",
     "output_type": "stream",
     "text": [
      "\u001b[32m[I 2023-05-09 10:00:02,339]\u001b[0m Trial 212 pruned. \u001b[0m\n"
     ]
    },
    {
     "name": "stdout",
     "output_type": "stream",
     "text": [
      "Epoch [38/50], Loss: 0.1440\n"
     ]
    },
    {
     "name": "stderr",
     "output_type": "stream",
     "text": [
      "\u001b[32m[I 2023-05-09 10:00:02,669]\u001b[0m Trial 213 pruned. \u001b[0m\n"
     ]
    },
    {
     "name": "stdout",
     "output_type": "stream",
     "text": [
      "Epoch [1/50], Loss: 0.9899\n"
     ]
    },
    {
     "name": "stderr",
     "output_type": "stream",
     "text": [
      "\u001b[32m[I 2023-05-09 10:00:02,950]\u001b[0m Trial 214 pruned. \u001b[0m\n"
     ]
    },
    {
     "name": "stdout",
     "output_type": "stream",
     "text": [
      "Epoch [1/50], Loss: 1734.6765\n",
      "Epoch [1/50], Loss: 0.4496\n"
     ]
    },
    {
     "name": "stderr",
     "output_type": "stream",
     "text": [
      "\u001b[32m[I 2023-05-09 10:00:03,451]\u001b[0m Trial 215 pruned. \u001b[0m\n"
     ]
    },
    {
     "name": "stdout",
     "output_type": "stream",
     "text": [
      "Epoch [2/50], Loss: 0.3967\n"
     ]
    },
    {
     "name": "stderr",
     "output_type": "stream",
     "text": [
      "\u001b[32m[I 2023-05-09 10:00:03,715]\u001b[0m Trial 216 pruned. \u001b[0m\n"
     ]
    },
    {
     "name": "stdout",
     "output_type": "stream",
     "text": [
      "Epoch [1/50], Loss: 1.0163\n"
     ]
    },
    {
     "name": "stderr",
     "output_type": "stream",
     "text": [
      "\u001b[32m[I 2023-05-09 10:00:03,993]\u001b[0m Trial 217 pruned. \u001b[0m\n"
     ]
    },
    {
     "name": "stdout",
     "output_type": "stream",
     "text": [
      "Epoch [1/50], Loss: 0.4810\n"
     ]
    },
    {
     "name": "stderr",
     "output_type": "stream",
     "text": [
      "\u001b[32m[I 2023-05-09 10:00:04,267]\u001b[0m Trial 218 pruned. \u001b[0m\n"
     ]
    },
    {
     "name": "stdout",
     "output_type": "stream",
     "text": [
      "Epoch [1/50], Loss: 0.4541\n"
     ]
    },
    {
     "name": "stderr",
     "output_type": "stream",
     "text": [
      "\u001b[32m[I 2023-05-09 10:00:04,532]\u001b[0m Trial 219 pruned. \u001b[0m\n"
     ]
    },
    {
     "name": "stdout",
     "output_type": "stream",
     "text": [
      "Epoch [1/50], Loss: 0.7159\n"
     ]
    },
    {
     "name": "stderr",
     "output_type": "stream",
     "text": [
      "\u001b[32m[I 2023-05-09 10:00:04,801]\u001b[0m Trial 220 pruned. \u001b[0m\n"
     ]
    },
    {
     "name": "stdout",
     "output_type": "stream",
     "text": [
      "Epoch [1/50], Loss: 0.4788\n",
      "Epoch [1/50], Loss: 0.4388\n",
      "Epoch [2/50], Loss: 0.3283\n",
      "Epoch [3/50], Loss: 0.2809\n"
     ]
    },
    {
     "name": "stderr",
     "output_type": "stream",
     "text": [
      "\u001b[32m[I 2023-05-09 10:00:05,765]\u001b[0m Trial 221 pruned. \u001b[0m\n"
     ]
    },
    {
     "name": "stdout",
     "output_type": "stream",
     "text": [
      "Epoch [4/50], Loss: 0.2631\n"
     ]
    },
    {
     "name": "stderr",
     "output_type": "stream",
     "text": [
      "\u001b[32m[I 2023-05-09 10:00:06,038]\u001b[0m Trial 222 pruned. \u001b[0m\n"
     ]
    },
    {
     "name": "stdout",
     "output_type": "stream",
     "text": [
      "Epoch [1/50], Loss: 0.4772\n",
      "Epoch [1/50], Loss: 0.4249\n",
      "Epoch [2/50], Loss: 0.3320\n",
      "Epoch [3/50], Loss: 0.2689\n"
     ]
    },
    {
     "name": "stderr",
     "output_type": "stream",
     "text": [
      "\u001b[32m[I 2023-05-09 10:00:06,986]\u001b[0m Trial 223 pruned. \u001b[0m\n"
     ]
    },
    {
     "name": "stdout",
     "output_type": "stream",
     "text": [
      "Epoch [4/50], Loss: 0.2960\n"
     ]
    },
    {
     "name": "stderr",
     "output_type": "stream",
     "text": [
      "\u001b[32m[I 2023-05-09 10:00:07,260]\u001b[0m Trial 224 pruned. \u001b[0m\n"
     ]
    },
    {
     "name": "stdout",
     "output_type": "stream",
     "text": [
      "Epoch [1/50], Loss: 0.5016\n",
      "Epoch [1/50], Loss: 0.4421\n",
      "Epoch [2/50], Loss: 0.3439\n",
      "Epoch [3/50], Loss: 0.2731\n",
      "Epoch [4/50], Loss: 0.2494\n",
      "Epoch [5/50], Loss: 0.2316\n",
      "Epoch [6/50], Loss: 0.2098\n",
      "Epoch [7/50], Loss: 0.1930\n",
      "Epoch [8/50], Loss: 0.2604\n",
      "Epoch [9/50], Loss: 0.1912\n",
      "Epoch [10/50], Loss: 0.1851\n",
      "Epoch [11/50], Loss: 0.1717\n",
      "Epoch [12/50], Loss: 0.1622\n",
      "Epoch [13/50], Loss: 0.1880\n",
      "Epoch [14/50], Loss: 0.1844\n",
      "Epoch [15/50], Loss: 0.1653\n",
      "Epoch [16/50], Loss: 0.1486\n",
      "Epoch [17/50], Loss: 0.1533\n",
      "Epoch [18/50], Loss: 0.1597\n",
      "Epoch [19/50], Loss: 0.1628\n",
      "Epoch [20/50], Loss: 0.1519\n",
      "Epoch [21/50], Loss: 0.1448\n",
      "Epoch [22/50], Loss: 0.1491\n",
      "Epoch [23/50], Loss: 0.1444\n",
      "Epoch [24/50], Loss: 0.1354\n",
      "Epoch [25/50], Loss: 0.1443\n",
      "Epoch [26/50], Loss: 0.1384\n",
      "Epoch [27/50], Loss: 0.1498\n",
      "Epoch [28/50], Loss: 0.1312\n",
      "Epoch [29/50], Loss: 0.1391\n",
      "Epoch [30/50], Loss: 0.1303\n",
      "Epoch [31/50], Loss: 0.1295\n",
      "Epoch [32/50], Loss: 0.1703\n",
      "Epoch [33/50], Loss: 0.1369\n",
      "Epoch [34/50], Loss: 0.1314\n",
      "Epoch [35/50], Loss: 0.1201\n",
      "Epoch [36/50], Loss: 0.1318\n",
      "Epoch [37/50], Loss: 0.1229\n",
      "Epoch [38/50], Loss: 0.1270\n",
      "Epoch [39/50], Loss: 0.1677\n",
      "Epoch [40/50], Loss: 0.1472\n",
      "Epoch [41/50], Loss: 0.1259\n",
      "Epoch [42/50], Loss: 0.1178\n",
      "Epoch [43/50], Loss: 0.1201\n",
      "Epoch [44/50], Loss: 0.1193\n",
      "Epoch [45/50], Loss: 0.1161\n",
      "Epoch [46/50], Loss: 0.1233\n",
      "Epoch [47/50], Loss: 0.1311\n",
      "Epoch [48/50], Loss: 0.1273\n",
      "Epoch [49/50], Loss: 0.1211\n"
     ]
    },
    {
     "name": "stderr",
     "output_type": "stream",
     "text": [
      "\u001b[32m[I 2023-05-09 10:00:18,615]\u001b[0m Trial 225 finished with value: 0.11179513484239578 and parameters: {'n_layers': 3, 'activation': 2, 'dropout_l3': 0.0001467453664342706, 'dropout_l2': 0.04823624668368229, 'dropout_l1': 0.020969541053631816, 'bottleneck_size': 128, 'optimizer': 'Adam', 'lr': 0.0010274242340984295}. Best is trial 113 with value: 0.08030945807695389.\u001b[0m\n"
     ]
    },
    {
     "name": "stdout",
     "output_type": "stream",
     "text": [
      "Epoch [50/50], Loss: 0.1118\n",
      "Epoch [1/50], Loss: 0.4454\n"
     ]
    },
    {
     "name": "stderr",
     "output_type": "stream",
     "text": [
      "\u001b[32m[I 2023-05-09 10:00:19,109]\u001b[0m Trial 226 pruned. \u001b[0m\n"
     ]
    },
    {
     "name": "stdout",
     "output_type": "stream",
     "text": [
      "Epoch [2/50], Loss: 0.4027\n"
     ]
    },
    {
     "name": "stderr",
     "output_type": "stream",
     "text": [
      "\u001b[32m[I 2023-05-09 10:00:19,385]\u001b[0m Trial 227 pruned. \u001b[0m\n"
     ]
    },
    {
     "name": "stdout",
     "output_type": "stream",
     "text": [
      "Epoch [1/50], Loss: 0.5868\n",
      "Epoch [1/50], Loss: 0.4178\n",
      "Epoch [2/50], Loss: 0.3119\n",
      "Epoch [3/50], Loss: 0.2713\n",
      "Epoch [4/50], Loss: 0.2625\n",
      "Epoch [5/50], Loss: 0.2021\n",
      "Epoch [6/50], Loss: 0.1991\n",
      "Epoch [7/50], Loss: 0.1845\n",
      "Epoch [8/50], Loss: 0.1837\n",
      "Epoch [9/50], Loss: 0.1859\n",
      "Epoch [10/50], Loss: 0.1934\n",
      "Epoch [11/50], Loss: 0.1777\n",
      "Epoch [12/50], Loss: 0.1665\n",
      "Epoch [13/50], Loss: 0.1674\n",
      "Epoch [14/50], Loss: 0.1531\n",
      "Epoch [15/50], Loss: 0.1633\n",
      "Epoch [16/50], Loss: 0.1619\n",
      "Epoch [17/50], Loss: 0.1415\n",
      "Epoch [18/50], Loss: 0.1534\n",
      "Epoch [19/50], Loss: 0.1444\n",
      "Epoch [20/50], Loss: 0.1665\n",
      "Epoch [21/50], Loss: 0.1454\n",
      "Epoch [22/50], Loss: 0.1389\n",
      "Epoch [23/50], Loss: 0.1666\n",
      "Epoch [24/50], Loss: 0.1358\n",
      "Epoch [25/50], Loss: 0.1377\n",
      "Epoch [26/50], Loss: 0.1618\n",
      "Epoch [27/50], Loss: 0.1301\n",
      "Epoch [28/50], Loss: 0.1403\n",
      "Epoch [29/50], Loss: 0.1265\n",
      "Epoch [30/50], Loss: 0.1325\n",
      "Epoch [31/50], Loss: 0.1342\n",
      "Epoch [32/50], Loss: 0.1390\n",
      "Epoch [33/50], Loss: 0.1518\n",
      "Epoch [34/50], Loss: 0.1524\n",
      "Epoch [35/50], Loss: 0.1343\n",
      "Epoch [36/50], Loss: 0.1172\n",
      "Epoch [37/50], Loss: 0.1261\n",
      "Epoch [38/50], Loss: 0.1293\n",
      "Epoch [39/50], Loss: 0.1290\n",
      "Epoch [40/50], Loss: 0.1293\n",
      "Epoch [41/50], Loss: 0.1228\n",
      "Epoch [42/50], Loss: 0.1304\n",
      "Epoch [43/50], Loss: 0.1156\n",
      "Epoch [44/50], Loss: 0.1190\n",
      "Epoch [45/50], Loss: 0.1447\n",
      "Epoch [46/50], Loss: 0.1209\n",
      "Epoch [47/50], Loss: 0.1169\n",
      "Epoch [48/50], Loss: 0.1279\n",
      "Epoch [49/50], Loss: 0.1172\n"
     ]
    },
    {
     "name": "stderr",
     "output_type": "stream",
     "text": [
      "\u001b[32m[I 2023-05-09 10:00:30,771]\u001b[0m Trial 228 finished with value: 0.11353439837694168 and parameters: {'n_layers': 3, 'activation': 2, 'dropout_l3': 0.06775476296303325, 'dropout_l2': 0.011169988864786585, 'dropout_l1': 0.026601345780424494, 'bottleneck_size': 118, 'optimizer': 'Adam', 'lr': 0.001882543342835424}. Best is trial 113 with value: 0.08030945807695389.\u001b[0m\n"
     ]
    },
    {
     "name": "stdout",
     "output_type": "stream",
     "text": [
      "Epoch [50/50], Loss: 0.1135\n"
     ]
    },
    {
     "name": "stderr",
     "output_type": "stream",
     "text": [
      "\u001b[32m[I 2023-05-09 10:00:31,047]\u001b[0m Trial 229 pruned. \u001b[0m\n"
     ]
    },
    {
     "name": "stdout",
     "output_type": "stream",
     "text": [
      "Epoch [1/50], Loss: 5.0352\n",
      "Epoch [1/50], Loss: 0.4314\n",
      "Epoch [2/50], Loss: 0.3113\n",
      "Epoch [3/50], Loss: 0.2853\n",
      "Epoch [4/50], Loss: 0.2504\n",
      "Epoch [5/50], Loss: 0.2173\n",
      "Epoch [6/50], Loss: 0.1933\n",
      "Epoch [7/50], Loss: 0.1954\n",
      "Epoch [8/50], Loss: 0.1771\n",
      "Epoch [9/50], Loss: 0.1566\n",
      "Epoch [10/50], Loss: 0.1580\n",
      "Epoch [11/50], Loss: 0.2049\n",
      "Epoch [12/50], Loss: 0.1413\n",
      "Epoch [13/50], Loss: 0.1758\n",
      "Epoch [14/50], Loss: 0.1360\n",
      "Epoch [15/50], Loss: 0.1387\n",
      "Epoch [16/50], Loss: 0.1279\n",
      "Epoch [17/50], Loss: 0.1296\n",
      "Epoch [18/50], Loss: 0.1376\n",
      "Epoch [19/50], Loss: 0.1159\n",
      "Epoch [20/50], Loss: 0.1489\n",
      "Epoch [21/50], Loss: 0.1103\n",
      "Epoch [22/50], Loss: 0.1131\n",
      "Epoch [23/50], Loss: 0.1120\n",
      "Epoch [24/50], Loss: 0.1142\n",
      "Epoch [25/50], Loss: 0.1288\n",
      "Epoch [26/50], Loss: 0.1084\n",
      "Epoch [27/50], Loss: 0.1188\n",
      "Epoch [28/50], Loss: 0.1001\n",
      "Epoch [29/50], Loss: 0.1049\n",
      "Epoch [30/50], Loss: 0.1139\n",
      "Epoch [31/50], Loss: 0.1372\n",
      "Epoch [32/50], Loss: 0.0951\n",
      "Epoch [33/50], Loss: 0.0975\n",
      "Epoch [34/50], Loss: 0.1268\n",
      "Epoch [35/50], Loss: 0.1114\n",
      "Epoch [36/50], Loss: 0.1017\n",
      "Epoch [37/50], Loss: 0.1056\n",
      "Epoch [38/50], Loss: 0.0945\n",
      "Epoch [39/50], Loss: 0.0928\n",
      "Epoch [40/50], Loss: 0.0890\n",
      "Epoch [41/50], Loss: 0.0885\n",
      "Epoch [42/50], Loss: 0.0919\n",
      "Epoch [43/50], Loss: 0.0913\n",
      "Epoch [44/50], Loss: 0.0998\n",
      "Epoch [45/50], Loss: 0.0924\n",
      "Epoch [46/50], Loss: 0.0924\n",
      "Epoch [47/50], Loss: 0.0903\n",
      "Epoch [48/50], Loss: 0.0916\n",
      "Epoch [49/50], Loss: 0.0935\n"
     ]
    },
    {
     "name": "stderr",
     "output_type": "stream",
     "text": [
      "\u001b[32m[I 2023-05-09 10:00:42,420]\u001b[0m Trial 230 finished with value: 0.08853531628847122 and parameters: {'n_layers': 3, 'activation': 2, 'dropout_l3': 0.05087501575820262, 'dropout_l2': 0.03407806628791213, 'dropout_l1': 4.9414403117925554e-05, 'bottleneck_size': 98, 'optimizer': 'Adam', 'lr': 0.0011891776393565892}. Best is trial 113 with value: 0.08030945807695389.\u001b[0m\n"
     ]
    },
    {
     "name": "stdout",
     "output_type": "stream",
     "text": [
      "Epoch [50/50], Loss: 0.0885\n",
      "Epoch [1/50], Loss: 0.4441\n",
      "Epoch [2/50], Loss: 0.3307\n",
      "Epoch [3/50], Loss: 0.2761\n",
      "Epoch [4/50], Loss: 0.2315\n",
      "Epoch [5/50], Loss: 0.2229\n",
      "Epoch [6/50], Loss: 0.1991\n",
      "Epoch [7/50], Loss: 0.1865\n",
      "Epoch [8/50], Loss: 0.1670\n",
      "Epoch [9/50], Loss: 0.1692\n",
      "Epoch [10/50], Loss: 0.1478\n",
      "Epoch [11/50], Loss: 0.1751\n",
      "Epoch [12/50], Loss: 0.1488\n",
      "Epoch [13/50], Loss: 0.1430\n",
      "Epoch [14/50], Loss: 0.1310\n",
      "Epoch [15/50], Loss: 0.1396\n",
      "Epoch [16/50], Loss: 0.1334\n",
      "Epoch [17/50], Loss: 0.1289\n",
      "Epoch [18/50], Loss: 0.1173\n",
      "Epoch [19/50], Loss: 0.1189\n",
      "Epoch [20/50], Loss: 0.1274\n",
      "Epoch [21/50], Loss: 0.1186\n",
      "Epoch [22/50], Loss: 0.1338\n",
      "Epoch [23/50], Loss: 0.1149\n",
      "Epoch [24/50], Loss: 0.1566\n",
      "Epoch [25/50], Loss: 0.1101\n",
      "Epoch [26/50], Loss: 0.1196\n",
      "Epoch [27/50], Loss: 0.1086\n",
      "Epoch [28/50], Loss: 0.1100\n",
      "Epoch [29/50], Loss: 0.1012\n",
      "Epoch [30/50], Loss: 0.1564\n",
      "Epoch [31/50], Loss: 0.1077\n",
      "Epoch [32/50], Loss: 0.0994\n",
      "Epoch [33/50], Loss: 0.1414\n",
      "Epoch [34/50], Loss: 0.1323\n",
      "Epoch [35/50], Loss: 0.1049\n",
      "Epoch [36/50], Loss: 0.0983\n",
      "Epoch [37/50], Loss: 0.1014\n",
      "Epoch [38/50], Loss: 0.1099\n",
      "Epoch [39/50], Loss: 0.1505\n",
      "Epoch [40/50], Loss: 0.1171\n",
      "Epoch [41/50], Loss: 0.1024\n",
      "Epoch [42/50], Loss: 0.0919\n",
      "Epoch [43/50], Loss: 0.0945\n",
      "Epoch [44/50], Loss: 0.0996\n",
      "Epoch [45/50], Loss: 0.0997\n",
      "Epoch [46/50], Loss: 0.0972\n",
      "Epoch [47/50], Loss: 0.0922\n",
      "Epoch [48/50], Loss: 0.1063\n",
      "Epoch [49/50], Loss: 0.1044\n"
     ]
    },
    {
     "name": "stderr",
     "output_type": "stream",
     "text": [
      "\u001b[32m[I 2023-05-09 10:00:53,824]\u001b[0m Trial 231 finished with value: 0.09095575660467148 and parameters: {'n_layers': 3, 'activation': 2, 'dropout_l3': 0.05209326769610458, 'dropout_l2': 0.03471866549919824, 'dropout_l1': 3.112642752622055e-05, 'bottleneck_size': 98, 'optimizer': 'Adam', 'lr': 0.0012262197384127317}. Best is trial 113 with value: 0.08030945807695389.\u001b[0m\n"
     ]
    },
    {
     "name": "stdout",
     "output_type": "stream",
     "text": [
      "Epoch [50/50], Loss: 0.0910\n"
     ]
    },
    {
     "name": "stderr",
     "output_type": "stream",
     "text": [
      "\u001b[32m[I 2023-05-09 10:00:54,093]\u001b[0m Trial 232 pruned. \u001b[0m\n"
     ]
    },
    {
     "name": "stdout",
     "output_type": "stream",
     "text": [
      "Epoch [1/50], Loss: 0.4517\n",
      "Epoch [1/50], Loss: 0.4458\n",
      "Epoch [2/50], Loss: 0.3290\n",
      "Epoch [3/50], Loss: 0.2797\n",
      "Epoch [4/50], Loss: 0.2613\n"
     ]
    },
    {
     "name": "stderr",
     "output_type": "stream",
     "text": [
      "\u001b[32m[I 2023-05-09 10:00:55,250]\u001b[0m Trial 233 pruned. \u001b[0m\n"
     ]
    },
    {
     "name": "stdout",
     "output_type": "stream",
     "text": [
      "Epoch [5/50], Loss: 0.2489\n"
     ]
    },
    {
     "name": "stderr",
     "output_type": "stream",
     "text": [
      "\u001b[32m[I 2023-05-09 10:00:55,527]\u001b[0m Trial 234 pruned. \u001b[0m\n"
     ]
    },
    {
     "name": "stdout",
     "output_type": "stream",
     "text": [
      "Epoch [1/50], Loss: 0.4830\n",
      "Epoch [1/50], Loss: 0.4275\n",
      "Epoch [2/50], Loss: 0.3308\n",
      "Epoch [3/50], Loss: 0.2686\n",
      "Epoch [4/50], Loss: 0.2271\n",
      "Epoch [5/50], Loss: 0.2123\n",
      "Epoch [6/50], Loss: 0.1933\n",
      "Epoch [7/50], Loss: 0.1832\n",
      "Epoch [8/50], Loss: 0.2048\n",
      "Epoch [9/50], Loss: 0.1679\n",
      "Epoch [10/50], Loss: 0.1717\n",
      "Epoch [11/50], Loss: 0.1673\n",
      "Epoch [12/50], Loss: 0.1797\n",
      "Epoch [13/50], Loss: 0.1484\n",
      "Epoch [14/50], Loss: 0.1556\n",
      "Epoch [15/50], Loss: 0.1553\n",
      "Epoch [16/50], Loss: 0.1571\n",
      "Epoch [17/50], Loss: 0.1382\n",
      "Epoch [18/50], Loss: 0.1419\n",
      "Epoch [19/50], Loss: 0.1258\n",
      "Epoch [20/50], Loss: 0.1278\n",
      "Epoch [21/50], Loss: 0.1271\n",
      "Epoch [22/50], Loss: 0.1221\n",
      "Epoch [23/50], Loss: 0.1564\n",
      "Epoch [24/50], Loss: 0.1855\n",
      "Epoch [25/50], Loss: 0.1369\n",
      "Epoch [26/50], Loss: 0.1291\n",
      "Epoch [27/50], Loss: 0.1248\n",
      "Epoch [28/50], Loss: 0.1212\n",
      "Epoch [29/50], Loss: 0.1144\n",
      "Epoch [30/50], Loss: 0.1096\n",
      "Epoch [31/50], Loss: 0.1177\n",
      "Epoch [32/50], Loss: 0.1195\n",
      "Epoch [33/50], Loss: 0.1176\n",
      "Epoch [34/50], Loss: 0.1147\n",
      "Epoch [35/50], Loss: 0.1143\n",
      "Epoch [36/50], Loss: 0.1168\n",
      "Epoch [37/50], Loss: 0.1090\n",
      "Epoch [38/50], Loss: 0.1127\n",
      "Epoch [39/50], Loss: 0.1140\n",
      "Epoch [40/50], Loss: 0.1104\n",
      "Epoch [41/50], Loss: 0.1375\n",
      "Epoch [42/50], Loss: 0.1196\n",
      "Epoch [43/50], Loss: 0.1278\n",
      "Epoch [44/50], Loss: 0.1202\n",
      "Epoch [45/50], Loss: 0.1160\n",
      "Epoch [46/50], Loss: 0.1496\n",
      "Epoch [47/50], Loss: 0.1105\n",
      "Epoch [48/50], Loss: 0.1212\n",
      "Epoch [49/50], Loss: 0.1111\n"
     ]
    },
    {
     "name": "stderr",
     "output_type": "stream",
     "text": [
      "\u001b[32m[I 2023-05-09 10:01:06,894]\u001b[0m Trial 235 finished with value: 0.10805963724851608 and parameters: {'n_layers': 3, 'activation': 2, 'dropout_l3': 0.1495650170302166, 'dropout_l2': 0.06405201026967836, 'dropout_l1': 0.00013610006136175736, 'bottleneck_size': 92, 'optimizer': 'Adam', 'lr': 0.002258227203971791}. Best is trial 113 with value: 0.08030945807695389.\u001b[0m\n"
     ]
    },
    {
     "name": "stdout",
     "output_type": "stream",
     "text": [
      "Epoch [50/50], Loss: 0.1081\n"
     ]
    },
    {
     "name": "stderr",
     "output_type": "stream",
     "text": [
      "\u001b[32m[I 2023-05-09 10:01:07,173]\u001b[0m Trial 236 pruned. \u001b[0m\n"
     ]
    },
    {
     "name": "stdout",
     "output_type": "stream",
     "text": [
      "Epoch [1/50], Loss: 0.4708\n"
     ]
    },
    {
     "name": "stderr",
     "output_type": "stream",
     "text": [
      "\u001b[32m[I 2023-05-09 10:01:07,448]\u001b[0m Trial 237 pruned. \u001b[0m\n"
     ]
    },
    {
     "name": "stdout",
     "output_type": "stream",
     "text": [
      "Epoch [1/50], Loss: 0.5164\n"
     ]
    },
    {
     "name": "stderr",
     "output_type": "stream",
     "text": [
      "\u001b[32m[I 2023-05-09 10:01:07,727]\u001b[0m Trial 238 pruned. \u001b[0m\n"
     ]
    },
    {
     "name": "stdout",
     "output_type": "stream",
     "text": [
      "Epoch [1/50], Loss: 0.5762\n",
      "Epoch [1/50], Loss: 0.4272\n"
     ]
    },
    {
     "name": "stderr",
     "output_type": "stream",
     "text": [
      "\u001b[32m[I 2023-05-09 10:01:08,225]\u001b[0m Trial 239 pruned. \u001b[0m\n"
     ]
    },
    {
     "name": "stdout",
     "output_type": "stream",
     "text": [
      "Epoch [2/50], Loss: 0.4038\n"
     ]
    },
    {
     "name": "stderr",
     "output_type": "stream",
     "text": [
      "\u001b[32m[I 2023-05-09 10:01:17,786]\u001b[0m Trial 240 pruned. \u001b[0m\n"
     ]
    },
    {
     "name": "stdout",
     "output_type": "stream",
     "text": [
      "Epoch [1/50], Loss: 0.9703\n"
     ]
    },
    {
     "name": "stderr",
     "output_type": "stream",
     "text": [
      "\u001b[32m[I 2023-05-09 10:01:18,048]\u001b[0m Trial 241 pruned. \u001b[0m\n"
     ]
    },
    {
     "name": "stdout",
     "output_type": "stream",
     "text": [
      "Epoch [1/50], Loss: 0.4651\n"
     ]
    },
    {
     "name": "stderr",
     "output_type": "stream",
     "text": [
      "\u001b[32m[I 2023-05-09 10:01:18,309]\u001b[0m Trial 242 pruned. \u001b[0m\n"
     ]
    },
    {
     "name": "stdout",
     "output_type": "stream",
     "text": [
      "Epoch [1/50], Loss: 0.4825\n"
     ]
    },
    {
     "name": "stderr",
     "output_type": "stream",
     "text": [
      "\u001b[32m[I 2023-05-09 10:01:18,572]\u001b[0m Trial 243 pruned. \u001b[0m\n"
     ]
    },
    {
     "name": "stdout",
     "output_type": "stream",
     "text": [
      "Epoch [1/50], Loss: 0.5297\n"
     ]
    },
    {
     "name": "stderr",
     "output_type": "stream",
     "text": [
      "\u001b[32m[I 2023-05-09 10:01:18,818]\u001b[0m Trial 244 pruned. \u001b[0m\n"
     ]
    },
    {
     "name": "stdout",
     "output_type": "stream",
     "text": [
      "Epoch [1/50], Loss: 1.0583\n"
     ]
    },
    {
     "name": "stderr",
     "output_type": "stream",
     "text": [
      "\u001b[32m[I 2023-05-09 10:01:19,088]\u001b[0m Trial 245 pruned. \u001b[0m\n"
     ]
    },
    {
     "name": "stdout",
     "output_type": "stream",
     "text": [
      "Epoch [1/50], Loss: 0.7580\n"
     ]
    },
    {
     "name": "stderr",
     "output_type": "stream",
     "text": [
      "\u001b[32m[I 2023-05-09 10:01:19,364]\u001b[0m Trial 246 pruned. \u001b[0m\n"
     ]
    },
    {
     "name": "stdout",
     "output_type": "stream",
     "text": [
      "Epoch [1/50], Loss: 0.4864\n"
     ]
    },
    {
     "name": "stderr",
     "output_type": "stream",
     "text": [
      "\u001b[32m[I 2023-05-09 10:01:19,644]\u001b[0m Trial 247 pruned. \u001b[0m\n"
     ]
    },
    {
     "name": "stdout",
     "output_type": "stream",
     "text": [
      "Epoch [1/50], Loss: 0.4724\n"
     ]
    },
    {
     "name": "stderr",
     "output_type": "stream",
     "text": [
      "\u001b[32m[I 2023-05-09 10:01:19,926]\u001b[0m Trial 248 pruned. \u001b[0m\n"
     ]
    },
    {
     "name": "stdout",
     "output_type": "stream",
     "text": [
      "Epoch [1/50], Loss: 0.4582\n"
     ]
    },
    {
     "name": "stderr",
     "output_type": "stream",
     "text": [
      "\u001b[32m[I 2023-05-09 10:01:20,202]\u001b[0m Trial 249 pruned. \u001b[0m\n"
     ]
    },
    {
     "name": "stdout",
     "output_type": "stream",
     "text": [
      "Epoch [1/50], Loss: 0.5435\n",
      "Epoch [1/50], Loss: 0.4346\n"
     ]
    },
    {
     "name": "stderr",
     "output_type": "stream",
     "text": [
      "\u001b[32m[I 2023-05-09 10:01:20,708]\u001b[0m Trial 250 pruned. \u001b[0m\n"
     ]
    },
    {
     "name": "stdout",
     "output_type": "stream",
     "text": [
      "Epoch [2/50], Loss: 0.3537\n",
      "Epoch [1/50], Loss: 0.4026\n",
      "Epoch [2/50], Loss: 0.3306\n",
      "Epoch [3/50], Loss: 0.2917\n",
      "Epoch [4/50], Loss: 0.2456\n",
      "Epoch [5/50], Loss: 0.2117\n",
      "Epoch [6/50], Loss: 0.2050\n",
      "Epoch [7/50], Loss: 0.1931\n",
      "Epoch [8/50], Loss: 0.1859\n",
      "Epoch [9/50], Loss: 0.1733\n",
      "Epoch [10/50], Loss: 0.1645\n",
      "Epoch [11/50], Loss: 0.1711\n",
      "Epoch [12/50], Loss: 0.1594\n",
      "Epoch [13/50], Loss: 0.1566\n",
      "Epoch [14/50], Loss: 0.1577\n",
      "Epoch [15/50], Loss: 0.1471\n",
      "Epoch [16/50], Loss: 0.1505\n",
      "Epoch [17/50], Loss: 0.1378\n",
      "Epoch [18/50], Loss: 0.1523\n",
      "Epoch [19/50], Loss: 0.1948\n",
      "Epoch [20/50], Loss: 0.1343\n",
      "Epoch [21/50], Loss: 0.1310\n",
      "Epoch [22/50], Loss: 0.1269\n",
      "Epoch [23/50], Loss: 0.1334\n",
      "Epoch [24/50], Loss: 0.1309\n",
      "Epoch [25/50], Loss: 0.1297\n",
      "Epoch [26/50], Loss: 0.1328\n",
      "Epoch [27/50], Loss: 0.1282\n",
      "Epoch [28/50], Loss: 0.1221\n",
      "Epoch [29/50], Loss: 0.1331\n",
      "Epoch [30/50], Loss: 0.1161\n",
      "Epoch [31/50], Loss: 0.1203\n",
      "Epoch [32/50], Loss: 0.1207\n",
      "Epoch [33/50], Loss: 0.1226\n",
      "Epoch [34/50], Loss: 0.1154\n",
      "Epoch [35/50], Loss: 0.1219\n",
      "Epoch [36/50], Loss: 0.1286\n",
      "Epoch [37/50], Loss: 0.1102\n",
      "Epoch [38/50], Loss: 0.1132\n",
      "Epoch [39/50], Loss: 0.1129\n",
      "Epoch [40/50], Loss: 0.1302\n",
      "Epoch [41/50], Loss: 0.1065\n",
      "Epoch [42/50], Loss: 0.1192\n",
      "Epoch [43/50], Loss: 0.1163\n",
      "Epoch [44/50], Loss: 0.1116\n",
      "Epoch [45/50], Loss: 0.1098\n",
      "Epoch [46/50], Loss: 0.1012\n",
      "Epoch [47/50], Loss: 0.1139\n",
      "Epoch [48/50], Loss: 0.1135\n",
      "Epoch [49/50], Loss: 0.1119\n"
     ]
    },
    {
     "name": "stderr",
     "output_type": "stream",
     "text": [
      "\u001b[32m[I 2023-05-09 10:01:32,209]\u001b[0m Trial 251 finished with value: 0.1104685589671135 and parameters: {'n_layers': 3, 'activation': 2, 'dropout_l3': 0.03232277391822821, 'dropout_l2': 0.024340329069470854, 'dropout_l1': 0.017410491390455203, 'bottleneck_size': 124, 'optimizer': 'Adam', 'lr': 0.0017120489428947153}. Best is trial 113 with value: 0.08030945807695389.\u001b[0m\n"
     ]
    },
    {
     "name": "stdout",
     "output_type": "stream",
     "text": [
      "Epoch [50/50], Loss: 0.1105\n"
     ]
    },
    {
     "name": "stderr",
     "output_type": "stream",
     "text": [
      "\u001b[32m[I 2023-05-09 10:01:32,492]\u001b[0m Trial 252 pruned. \u001b[0m\n"
     ]
    },
    {
     "name": "stdout",
     "output_type": "stream",
     "text": [
      "Epoch [1/50], Loss: 0.7383\n"
     ]
    },
    {
     "name": "stderr",
     "output_type": "stream",
     "text": [
      "\u001b[32m[I 2023-05-09 10:01:32,765]\u001b[0m Trial 253 pruned. \u001b[0m\n"
     ]
    },
    {
     "name": "stdout",
     "output_type": "stream",
     "text": [
      "Epoch [1/50], Loss: 0.6746\n",
      "Epoch [1/50], Loss: 0.4220\n",
      "Epoch [2/50], Loss: 0.3373\n",
      "Epoch [3/50], Loss: 0.2802\n",
      "Epoch [4/50], Loss: 0.2313\n",
      "Epoch [5/50], Loss: 0.2276\n",
      "Epoch [6/50], Loss: 0.1791\n",
      "Epoch [7/50], Loss: 0.1791\n",
      "Epoch [8/50], Loss: 0.1861\n",
      "Epoch [9/50], Loss: 0.1568\n",
      "Epoch [10/50], Loss: 0.1580\n",
      "Epoch [11/50], Loss: 0.1544\n",
      "Epoch [12/50], Loss: 0.2129\n",
      "Epoch [13/50], Loss: 0.3341\n",
      "Epoch [14/50], Loss: 0.3255\n",
      "Epoch [15/50], Loss: 0.1939\n",
      "Epoch [16/50], Loss: 0.1553\n",
      "Epoch [17/50], Loss: 0.1410\n",
      "Epoch [18/50], Loss: 0.1562\n",
      "Epoch [19/50], Loss: 0.1388\n",
      "Epoch [20/50], Loss: 0.1899\n",
      "Epoch [21/50], Loss: 0.1633\n",
      "Epoch [22/50], Loss: 0.1574\n",
      "Epoch [23/50], Loss: 0.1319\n",
      "Epoch [24/50], Loss: 0.1263\n",
      "Epoch [25/50], Loss: 0.1204\n",
      "Epoch [26/50], Loss: 0.1481\n",
      "Epoch [27/50], Loss: 0.1338\n",
      "Epoch [28/50], Loss: 0.1105\n",
      "Epoch [29/50], Loss: 0.1485\n",
      "Epoch [30/50], Loss: 0.1097\n",
      "Epoch [31/50], Loss: 0.1224\n",
      "Epoch [32/50], Loss: 0.1163\n",
      "Epoch [33/50], Loss: 0.1103\n",
      "Epoch [34/50], Loss: 0.1193\n",
      "Epoch [35/50], Loss: 0.1066\n",
      "Epoch [36/50], Loss: 0.1107\n",
      "Epoch [37/50], Loss: 0.1061\n",
      "Epoch [38/50], Loss: 0.1254\n",
      "Epoch [39/50], Loss: 0.1097\n",
      "Epoch [40/50], Loss: 0.1085\n",
      "Epoch [41/50], Loss: 0.1195\n",
      "Epoch [42/50], Loss: 0.1037\n",
      "Epoch [43/50], Loss: 0.0998\n",
      "Epoch [44/50], Loss: 0.1033\n",
      "Epoch [45/50], Loss: 0.1327\n",
      "Epoch [46/50], Loss: 0.1266\n",
      "Epoch [47/50], Loss: 0.0953\n",
      "Epoch [48/50], Loss: 0.1273\n",
      "Epoch [49/50], Loss: 0.0953\n"
     ]
    },
    {
     "name": "stderr",
     "output_type": "stream",
     "text": [
      "\u001b[32m[I 2023-05-09 10:01:44,233]\u001b[0m Trial 254 finished with value: 0.09345731884241104 and parameters: {'n_layers': 3, 'activation': 2, 'dropout_l3': 0.058940100643404186, 'dropout_l2': 0.00011567086102794166, 'dropout_l1': 0.009654118490098049, 'bottleneck_size': 114, 'optimizer': 'Adam', 'lr': 0.0020094005638274554}. Best is trial 113 with value: 0.08030945807695389.\u001b[0m\n"
     ]
    },
    {
     "name": "stdout",
     "output_type": "stream",
     "text": [
      "Epoch [50/50], Loss: 0.0935\n",
      "Epoch [1/50], Loss: 0.4264\n",
      "Epoch [2/50], Loss: 0.3057\n",
      "Epoch [3/50], Loss: 0.2765\n"
     ]
    },
    {
     "name": "stderr",
     "output_type": "stream",
     "text": [
      "\u001b[32m[I 2023-05-09 10:01:45,185]\u001b[0m Trial 255 pruned. \u001b[0m\n"
     ]
    },
    {
     "name": "stdout",
     "output_type": "stream",
     "text": [
      "Epoch [4/50], Loss: 0.2887\n"
     ]
    },
    {
     "name": "stderr",
     "output_type": "stream",
     "text": [
      "\u001b[32m[I 2023-05-09 10:01:45,452]\u001b[0m Trial 256 pruned. \u001b[0m\n"
     ]
    },
    {
     "name": "stdout",
     "output_type": "stream",
     "text": [
      "Epoch [1/50], Loss: 1.3448\n"
     ]
    },
    {
     "name": "stderr",
     "output_type": "stream",
     "text": [
      "\u001b[32m[I 2023-05-09 10:01:45,730]\u001b[0m Trial 257 pruned. \u001b[0m\n"
     ]
    },
    {
     "name": "stdout",
     "output_type": "stream",
     "text": [
      "Epoch [1/50], Loss: 0.5612\n",
      "Epoch [1/50], Loss: 0.4249\n",
      "Epoch [2/50], Loss: 0.3348\n",
      "Epoch [3/50], Loss: 0.2841\n"
     ]
    },
    {
     "name": "stderr",
     "output_type": "stream",
     "text": [
      "\u001b[32m[I 2023-05-09 10:01:46,696]\u001b[0m Trial 258 pruned. \u001b[0m\n"
     ]
    },
    {
     "name": "stdout",
     "output_type": "stream",
     "text": [
      "Epoch [4/50], Loss: 0.3459\n",
      "Epoch [1/50], Loss: 0.4431\n"
     ]
    },
    {
     "name": "stderr",
     "output_type": "stream",
     "text": [
      "\u001b[32m[I 2023-05-09 10:01:47,221]\u001b[0m Trial 259 pruned. \u001b[0m\n"
     ]
    },
    {
     "name": "stdout",
     "output_type": "stream",
     "text": [
      "Epoch [2/50], Loss: 0.3650\n"
     ]
    },
    {
     "name": "stderr",
     "output_type": "stream",
     "text": [
      "\u001b[32m[I 2023-05-09 10:01:47,500]\u001b[0m Trial 260 pruned. \u001b[0m\n"
     ]
    },
    {
     "name": "stdout",
     "output_type": "stream",
     "text": [
      "Epoch [1/50], Loss: 0.4901\n"
     ]
    },
    {
     "name": "stderr",
     "output_type": "stream",
     "text": [
      "\u001b[32m[I 2023-05-09 10:01:47,778]\u001b[0m Trial 261 pruned. \u001b[0m\n"
     ]
    },
    {
     "name": "stdout",
     "output_type": "stream",
     "text": [
      "Epoch [1/50], Loss: 0.4993\n"
     ]
    },
    {
     "name": "stderr",
     "output_type": "stream",
     "text": [
      "\u001b[32m[I 2023-05-09 10:01:48,060]\u001b[0m Trial 262 pruned. \u001b[0m\n"
     ]
    },
    {
     "name": "stdout",
     "output_type": "stream",
     "text": [
      "Epoch [1/50], Loss: 0.5305\n",
      "Epoch [1/50], Loss: 0.4368\n"
     ]
    },
    {
     "name": "stderr",
     "output_type": "stream",
     "text": [
      "\u001b[32m[I 2023-05-09 10:01:48,567]\u001b[0m Trial 263 pruned. \u001b[0m\n"
     ]
    },
    {
     "name": "stdout",
     "output_type": "stream",
     "text": [
      "Epoch [2/50], Loss: 0.3521\n",
      "Epoch [1/50], Loss: 0.4261\n"
     ]
    },
    {
     "name": "stderr",
     "output_type": "stream",
     "text": [
      "\u001b[32m[I 2023-05-09 10:01:49,074]\u001b[0m Trial 264 pruned. \u001b[0m\n"
     ]
    },
    {
     "name": "stdout",
     "output_type": "stream",
     "text": [
      "Epoch [2/50], Loss: 0.3529\n"
     ]
    },
    {
     "name": "stderr",
     "output_type": "stream",
     "text": [
      "\u001b[32m[I 2023-05-09 10:01:49,347]\u001b[0m Trial 265 pruned. \u001b[0m\n"
     ]
    },
    {
     "name": "stdout",
     "output_type": "stream",
     "text": [
      "Epoch [1/50], Loss: 0.5302\n"
     ]
    },
    {
     "name": "stderr",
     "output_type": "stream",
     "text": [
      "\u001b[32m[I 2023-05-09 10:01:49,627]\u001b[0m Trial 266 pruned. \u001b[0m\n"
     ]
    },
    {
     "name": "stdout",
     "output_type": "stream",
     "text": [
      "Epoch [1/50], Loss: 0.5191\n",
      "Epoch [1/50], Loss: 0.4336\n",
      "Epoch [2/50], Loss: 0.3450\n"
     ]
    },
    {
     "name": "stderr",
     "output_type": "stream",
     "text": [
      "\u001b[32m[I 2023-05-09 10:01:50,353]\u001b[0m Trial 267 pruned. \u001b[0m\n"
     ]
    },
    {
     "name": "stdout",
     "output_type": "stream",
     "text": [
      "Epoch [3/50], Loss: 0.2948\n"
     ]
    },
    {
     "name": "stderr",
     "output_type": "stream",
     "text": [
      "\u001b[32m[I 2023-05-09 10:01:50,627]\u001b[0m Trial 268 pruned. \u001b[0m\n"
     ]
    },
    {
     "name": "stdout",
     "output_type": "stream",
     "text": [
      "Epoch [1/50], Loss: 0.4800\n"
     ]
    },
    {
     "name": "stderr",
     "output_type": "stream",
     "text": [
      "\u001b[32m[I 2023-05-09 10:01:50,951]\u001b[0m Trial 269 pruned. \u001b[0m\n"
     ]
    },
    {
     "name": "stdout",
     "output_type": "stream",
     "text": [
      "Epoch [1/50], Loss: 0.9979\n",
      "Epoch [1/50], Loss: 0.4361\n",
      "Epoch [2/50], Loss: 0.3474\n",
      "Epoch [3/50], Loss: 0.2781\n",
      "Epoch [4/50], Loss: 0.2436\n",
      "Epoch [5/50], Loss: 0.2209\n",
      "Epoch [6/50], Loss: 0.1997\n",
      "Epoch [7/50], Loss: 0.2015\n",
      "Epoch [8/50], Loss: 0.1938\n",
      "Epoch [9/50], Loss: 0.1577\n",
      "Epoch [10/50], Loss: 0.1565\n",
      "Epoch [11/50], Loss: 0.1551\n",
      "Epoch [12/50], Loss: 0.1293\n",
      "Epoch [13/50], Loss: 0.1388\n",
      "Epoch [14/50], Loss: 0.1289\n",
      "Epoch [15/50], Loss: 0.1206\n",
      "Epoch [16/50], Loss: 0.1303\n",
      "Epoch [17/50], Loss: 0.1534\n",
      "Epoch [18/50], Loss: 0.9123\n",
      "Epoch [19/50], Loss: 0.9701\n",
      "Epoch [20/50], Loss: 0.8141\n",
      "Epoch [21/50], Loss: 0.7613\n",
      "Epoch [22/50], Loss: 0.6893\n",
      "Epoch [23/50], Loss: 0.7778\n",
      "Epoch [24/50], Loss: 0.6714\n",
      "Epoch [25/50], Loss: 0.6325\n",
      "Epoch [26/50], Loss: 0.5863\n",
      "Epoch [27/50], Loss: 0.5787\n",
      "Epoch [28/50], Loss: 0.5760\n",
      "Epoch [29/50], Loss: 0.5292\n",
      "Epoch [30/50], Loss: 0.5232\n",
      "Epoch [31/50], Loss: 0.4987\n",
      "Epoch [32/50], Loss: 0.5067\n",
      "Epoch [33/50], Loss: 0.4877\n",
      "Epoch [34/50], Loss: 0.5004\n",
      "Epoch [35/50], Loss: 0.4707\n",
      "Epoch [36/50], Loss: 0.4930\n",
      "Epoch [37/50], Loss: 0.4600\n",
      "Epoch [38/50], Loss: 0.4443\n",
      "Epoch [39/50], Loss: 0.4736\n",
      "Epoch [40/50], Loss: 0.4690\n",
      "Epoch [41/50], Loss: 0.4560\n",
      "Epoch [42/50], Loss: 0.4318\n",
      "Epoch [43/50], Loss: 0.4342\n",
      "Epoch [44/50], Loss: 0.4510\n",
      "Epoch [45/50], Loss: 0.4088\n",
      "Epoch [46/50], Loss: 0.4337\n",
      "Epoch [47/50], Loss: 0.4422\n",
      "Epoch [48/50], Loss: 0.3950\n",
      "Epoch [49/50], Loss: 0.3812\n"
     ]
    },
    {
     "name": "stderr",
     "output_type": "stream",
     "text": [
      "\u001b[32m[I 2023-05-09 10:02:02,293]\u001b[0m Trial 270 pruned. \u001b[0m\n"
     ]
    },
    {
     "name": "stdout",
     "output_type": "stream",
     "text": [
      "Epoch [50/50], Loss: 0.3829\n"
     ]
    },
    {
     "name": "stderr",
     "output_type": "stream",
     "text": [
      "\u001b[32m[I 2023-05-09 10:02:02,574]\u001b[0m Trial 271 pruned. \u001b[0m\n"
     ]
    },
    {
     "name": "stdout",
     "output_type": "stream",
     "text": [
      "Epoch [1/50], Loss: 0.4544\n"
     ]
    },
    {
     "name": "stderr",
     "output_type": "stream",
     "text": [
      "\u001b[32m[I 2023-05-09 10:02:02,851]\u001b[0m Trial 272 pruned. \u001b[0m\n"
     ]
    },
    {
     "name": "stdout",
     "output_type": "stream",
     "text": [
      "Epoch [1/50], Loss: 0.5358\n"
     ]
    },
    {
     "name": "stderr",
     "output_type": "stream",
     "text": [
      "\u001b[32m[I 2023-05-09 10:02:03,130]\u001b[0m Trial 273 pruned. \u001b[0m\n"
     ]
    },
    {
     "name": "stdout",
     "output_type": "stream",
     "text": [
      "Epoch [1/50], Loss: 0.7165\n"
     ]
    },
    {
     "name": "stderr",
     "output_type": "stream",
     "text": [
      "\u001b[32m[I 2023-05-09 10:02:03,408]\u001b[0m Trial 274 pruned. \u001b[0m\n"
     ]
    },
    {
     "name": "stdout",
     "output_type": "stream",
     "text": [
      "Epoch [1/50], Loss: 0.4531\n"
     ]
    },
    {
     "name": "stderr",
     "output_type": "stream",
     "text": [
      "\u001b[32m[I 2023-05-09 10:02:03,693]\u001b[0m Trial 275 pruned. \u001b[0m\n"
     ]
    },
    {
     "name": "stdout",
     "output_type": "stream",
     "text": [
      "Epoch [1/50], Loss: 0.8560\n"
     ]
    },
    {
     "name": "stderr",
     "output_type": "stream",
     "text": [
      "\u001b[32m[I 2023-05-09 10:02:03,974]\u001b[0m Trial 276 pruned. \u001b[0m\n"
     ]
    },
    {
     "name": "stdout",
     "output_type": "stream",
     "text": [
      "Epoch [1/50], Loss: 0.4731\n",
      "Epoch [1/50], Loss: 0.4329\n",
      "Epoch [2/50], Loss: 0.3372\n",
      "Epoch [3/50], Loss: 0.2681\n",
      "Epoch [4/50], Loss: 0.2368\n",
      "Epoch [5/50], Loss: 0.2530\n",
      "Epoch [6/50], Loss: 0.2003\n",
      "Epoch [7/50], Loss: 0.2475\n",
      "Epoch [8/50], Loss: 0.1915\n"
     ]
    },
    {
     "name": "stderr",
     "output_type": "stream",
     "text": [
      "\u001b[32m[I 2023-05-09 10:02:06,040]\u001b[0m Trial 277 pruned. \u001b[0m\n"
     ]
    },
    {
     "name": "stdout",
     "output_type": "stream",
     "text": [
      "Epoch [9/50], Loss: 0.1900\n"
     ]
    },
    {
     "name": "stderr",
     "output_type": "stream",
     "text": [
      "\u001b[32m[I 2023-05-09 10:02:06,319]\u001b[0m Trial 278 pruned. \u001b[0m\n"
     ]
    },
    {
     "name": "stdout",
     "output_type": "stream",
     "text": [
      "Epoch [1/50], Loss: 0.4886\n"
     ]
    },
    {
     "name": "stderr",
     "output_type": "stream",
     "text": [
      "\u001b[32m[I 2023-05-09 10:02:06,585]\u001b[0m Trial 279 pruned. \u001b[0m\n"
     ]
    },
    {
     "name": "stdout",
     "output_type": "stream",
     "text": [
      "Epoch [1/50], Loss: 0.5778\n",
      "Epoch [1/50], Loss: 0.4130\n"
     ]
    },
    {
     "name": "stderr",
     "output_type": "stream",
     "text": [
      "\u001b[32m[I 2023-05-09 10:02:07,185]\u001b[0m Trial 280 pruned. \u001b[0m\n"
     ]
    },
    {
     "name": "stdout",
     "output_type": "stream",
     "text": [
      "Epoch [2/50], Loss: 0.3523\n"
     ]
    },
    {
     "name": "stderr",
     "output_type": "stream",
     "text": [
      "\u001b[32m[I 2023-05-09 10:02:07,549]\u001b[0m Trial 281 pruned. \u001b[0m\n"
     ]
    },
    {
     "name": "stdout",
     "output_type": "stream",
     "text": [
      "Epoch [1/50], Loss: 0.7929\n"
     ]
    },
    {
     "name": "stderr",
     "output_type": "stream",
     "text": [
      "\u001b[32m[I 2023-05-09 10:02:07,875]\u001b[0m Trial 282 pruned. \u001b[0m\n"
     ]
    },
    {
     "name": "stdout",
     "output_type": "stream",
     "text": [
      "Epoch [1/50], Loss: 0.5045\n"
     ]
    },
    {
     "name": "stderr",
     "output_type": "stream",
     "text": [
      "\u001b[32m[I 2023-05-09 10:02:08,274]\u001b[0m Trial 283 pruned. \u001b[0m\n"
     ]
    },
    {
     "name": "stdout",
     "output_type": "stream",
     "text": [
      "Epoch [1/50], Loss: 0.5126\n",
      "Epoch [1/50], Loss: 0.4397\n",
      "Epoch [2/50], Loss: 0.3257\n",
      "Epoch [3/50], Loss: 0.2810\n",
      "Epoch [4/50], Loss: 0.2382\n",
      "Epoch [5/50], Loss: 0.2246\n",
      "Epoch [6/50], Loss: 0.1875\n",
      "Epoch [7/50], Loss: 0.1999\n",
      "Epoch [8/50], Loss: 0.1824\n",
      "Epoch [9/50], Loss: 0.1622\n",
      "Epoch [10/50], Loss: 0.1694\n",
      "Epoch [11/50], Loss: 0.1807\n",
      "Epoch [12/50], Loss: 0.1581\n",
      "Epoch [13/50], Loss: 0.1744\n",
      "Epoch [14/50], Loss: 0.1431\n",
      "Epoch [15/50], Loss: 0.1509\n",
      "Epoch [16/50], Loss: 0.1430\n",
      "Epoch [17/50], Loss: 0.2006\n",
      "Epoch [18/50], Loss: 0.1389\n",
      "Epoch [19/50], Loss: 0.1324\n",
      "Epoch [20/50], Loss: 0.1274\n",
      "Epoch [21/50], Loss: 0.1345\n",
      "Epoch [22/50], Loss: 0.1552\n",
      "Epoch [23/50], Loss: 0.1238\n",
      "Epoch [24/50], Loss: 0.1318\n",
      "Epoch [25/50], Loss: 0.1295\n",
      "Epoch [26/50], Loss: 0.1389\n",
      "Epoch [27/50], Loss: 0.1136\n",
      "Epoch [28/50], Loss: 0.1171\n",
      "Epoch [29/50], Loss: 0.1174\n",
      "Epoch [30/50], Loss: 0.1143\n",
      "Epoch [31/50], Loss: 0.1388\n",
      "Epoch [32/50], Loss: 0.1119\n",
      "Epoch [33/50], Loss: 0.1121\n",
      "Epoch [34/50], Loss: 0.1132\n",
      "Epoch [35/50], Loss: 0.1035\n",
      "Epoch [36/50], Loss: 0.1090\n",
      "Epoch [37/50], Loss: 0.1127\n",
      "Epoch [38/50], Loss: 0.1047\n",
      "Epoch [39/50], Loss: 0.1075\n",
      "Epoch [40/50], Loss: 0.1148\n",
      "Epoch [41/50], Loss: 0.1206\n",
      "Epoch [42/50], Loss: 0.0977\n",
      "Epoch [43/50], Loss: 0.1061\n",
      "Epoch [44/50], Loss: 0.1063\n",
      "Epoch [45/50], Loss: 0.1137\n",
      "Epoch [46/50], Loss: 0.1040\n",
      "Epoch [47/50], Loss: 0.1053\n",
      "Epoch [48/50], Loss: 0.1017\n",
      "Epoch [49/50], Loss: 0.0952\n"
     ]
    },
    {
     "name": "stderr",
     "output_type": "stream",
     "text": [
      "\u001b[32m[I 2023-05-09 10:02:19,693]\u001b[0m Trial 284 finished with value: 0.10592737793922424 and parameters: {'n_layers': 3, 'activation': 2, 'dropout_l3': 0.009764690150348726, 'dropout_l2': 0.009038595961825322, 'dropout_l1': 0.016970386699746518, 'bottleneck_size': 110, 'optimizer': 'Adam', 'lr': 0.0016363709919242765}. Best is trial 113 with value: 0.08030945807695389.\u001b[0m\n"
     ]
    },
    {
     "name": "stdout",
     "output_type": "stream",
     "text": [
      "Epoch [50/50], Loss: 0.1059\n"
     ]
    },
    {
     "name": "stderr",
     "output_type": "stream",
     "text": [
      "\u001b[32m[I 2023-05-09 10:02:20,044]\u001b[0m Trial 285 pruned. \u001b[0m\n"
     ]
    },
    {
     "name": "stdout",
     "output_type": "stream",
     "text": [
      "Epoch [1/50], Loss: 0.4511\n"
     ]
    },
    {
     "name": "stderr",
     "output_type": "stream",
     "text": [
      "\u001b[32m[I 2023-05-09 10:02:20,380]\u001b[0m Trial 286 pruned. \u001b[0m\n"
     ]
    },
    {
     "name": "stdout",
     "output_type": "stream",
     "text": [
      "Epoch [1/50], Loss: 0.4667\n",
      "Epoch [1/50], Loss: 0.4283\n",
      "Epoch [2/50], Loss: 0.3409\n",
      "Epoch [3/50], Loss: 0.2670\n",
      "Epoch [4/50], Loss: 0.2585\n",
      "Epoch [5/50], Loss: 0.2234\n",
      "Epoch [6/50], Loss: 0.2153\n"
     ]
    },
    {
     "name": "stderr",
     "output_type": "stream",
     "text": [
      "\u001b[32m[I 2023-05-09 10:02:22,204]\u001b[0m Trial 287 pruned. \u001b[0m\n"
     ]
    },
    {
     "name": "stdout",
     "output_type": "stream",
     "text": [
      "Epoch [7/50], Loss: 0.2060\n"
     ]
    },
    {
     "name": "stderr",
     "output_type": "stream",
     "text": [
      "\u001b[32m[I 2023-05-09 10:02:22,592]\u001b[0m Trial 288 pruned. \u001b[0m\n"
     ]
    },
    {
     "name": "stdout",
     "output_type": "stream",
     "text": [
      "Epoch [1/50], Loss: 152.0551\n"
     ]
    },
    {
     "name": "stderr",
     "output_type": "stream",
     "text": [
      "\u001b[32m[I 2023-05-09 10:02:22,894]\u001b[0m Trial 289 pruned. \u001b[0m\n"
     ]
    },
    {
     "name": "stdout",
     "output_type": "stream",
     "text": [
      "Epoch [1/50], Loss: 0.6170\n"
     ]
    },
    {
     "name": "stderr",
     "output_type": "stream",
     "text": [
      "\u001b[32m[I 2023-05-09 10:02:23,291]\u001b[0m Trial 290 pruned. \u001b[0m\n"
     ]
    },
    {
     "name": "stdout",
     "output_type": "stream",
     "text": [
      "Epoch [1/50], Loss: 0.4898\n"
     ]
    },
    {
     "name": "stderr",
     "output_type": "stream",
     "text": [
      "\u001b[32m[I 2023-05-09 10:02:23,648]\u001b[0m Trial 291 pruned. \u001b[0m\n"
     ]
    },
    {
     "name": "stdout",
     "output_type": "stream",
     "text": [
      "Epoch [1/50], Loss: 0.4656\n"
     ]
    },
    {
     "name": "stderr",
     "output_type": "stream",
     "text": [
      "\u001b[32m[I 2023-05-09 10:02:24,022]\u001b[0m Trial 292 pruned. \u001b[0m\n"
     ]
    },
    {
     "name": "stdout",
     "output_type": "stream",
     "text": [
      "Epoch [1/50], Loss: 0.4899\n"
     ]
    },
    {
     "name": "stderr",
     "output_type": "stream",
     "text": [
      "\u001b[32m[I 2023-05-09 10:02:24,314]\u001b[0m Trial 293 pruned. \u001b[0m\n"
     ]
    },
    {
     "name": "stdout",
     "output_type": "stream",
     "text": [
      "Epoch [1/50], Loss: 0.9851\n"
     ]
    },
    {
     "name": "stderr",
     "output_type": "stream",
     "text": [
      "\u001b[32m[I 2023-05-09 10:02:24,620]\u001b[0m Trial 294 pruned. \u001b[0m\n"
     ]
    },
    {
     "name": "stdout",
     "output_type": "stream",
     "text": [
      "Epoch [1/50], Loss: 0.4527\n"
     ]
    },
    {
     "name": "stderr",
     "output_type": "stream",
     "text": [
      "\u001b[32m[I 2023-05-09 10:02:24,935]\u001b[0m Trial 295 pruned. \u001b[0m\n"
     ]
    },
    {
     "name": "stdout",
     "output_type": "stream",
     "text": [
      "Epoch [1/50], Loss: 0.5139\n"
     ]
    },
    {
     "name": "stderr",
     "output_type": "stream",
     "text": [
      "\u001b[32m[I 2023-05-09 10:02:25,265]\u001b[0m Trial 296 pruned. \u001b[0m\n"
     ]
    },
    {
     "name": "stdout",
     "output_type": "stream",
     "text": [
      "Epoch [1/50], Loss: 0.4994\n"
     ]
    },
    {
     "name": "stderr",
     "output_type": "stream",
     "text": [
      "\u001b[32m[I 2023-05-09 10:02:28,057]\u001b[0m Trial 297 pruned. \u001b[0m\n"
     ]
    },
    {
     "name": "stdout",
     "output_type": "stream",
     "text": [
      "Epoch [1/50], Loss: 1.5274\n"
     ]
    },
    {
     "name": "stderr",
     "output_type": "stream",
     "text": [
      "\u001b[32m[I 2023-05-09 10:02:28,376]\u001b[0m Trial 298 pruned. \u001b[0m\n"
     ]
    },
    {
     "name": "stdout",
     "output_type": "stream",
     "text": [
      "Epoch [1/50], Loss: 0.7519\n"
     ]
    },
    {
     "name": "stderr",
     "output_type": "stream",
     "text": [
      "\u001b[32m[I 2023-05-09 10:02:28,719]\u001b[0m Trial 299 pruned. \u001b[0m\n"
     ]
    },
    {
     "name": "stdout",
     "output_type": "stream",
     "text": [
      "Epoch [1/50], Loss: 2.1766\n"
     ]
    },
    {
     "name": "stderr",
     "output_type": "stream",
     "text": [
      "\u001b[32m[I 2023-05-09 10:02:29,067]\u001b[0m Trial 300 pruned. \u001b[0m\n"
     ]
    },
    {
     "name": "stdout",
     "output_type": "stream",
     "text": [
      "Epoch [1/50], Loss: 0.9256\n"
     ]
    },
    {
     "name": "stderr",
     "output_type": "stream",
     "text": [
      "\u001b[32m[I 2023-05-09 10:02:29,359]\u001b[0m Trial 301 pruned. \u001b[0m\n"
     ]
    },
    {
     "name": "stdout",
     "output_type": "stream",
     "text": [
      "Epoch [1/50], Loss: 0.6932\n"
     ]
    },
    {
     "name": "stderr",
     "output_type": "stream",
     "text": [
      "\u001b[32m[I 2023-05-09 10:02:29,715]\u001b[0m Trial 302 pruned. \u001b[0m\n"
     ]
    },
    {
     "name": "stdout",
     "output_type": "stream",
     "text": [
      "Epoch [1/50], Loss: 178.7623\n"
     ]
    },
    {
     "name": "stderr",
     "output_type": "stream",
     "text": [
      "\u001b[32m[I 2023-05-09 10:02:30,025]\u001b[0m Trial 303 pruned. \u001b[0m\n"
     ]
    },
    {
     "name": "stdout",
     "output_type": "stream",
     "text": [
      "Epoch [1/50], Loss: 0.4654\n"
     ]
    },
    {
     "name": "stderr",
     "output_type": "stream",
     "text": [
      "\u001b[32m[I 2023-05-09 10:02:30,408]\u001b[0m Trial 304 pruned. \u001b[0m\n"
     ]
    },
    {
     "name": "stdout",
     "output_type": "stream",
     "text": [
      "Epoch [1/50], Loss: 0.7324\n",
      "Epoch [1/50], Loss: 0.4380\n"
     ]
    },
    {
     "name": "stderr",
     "output_type": "stream",
     "text": [
      "\u001b[32m[I 2023-05-09 10:02:31,033]\u001b[0m Trial 305 pruned. \u001b[0m\n"
     ]
    },
    {
     "name": "stdout",
     "output_type": "stream",
     "text": [
      "Epoch [2/50], Loss: 0.3637\n"
     ]
    },
    {
     "name": "stderr",
     "output_type": "stream",
     "text": [
      "\u001b[32m[I 2023-05-09 10:02:31,368]\u001b[0m Trial 306 pruned. \u001b[0m\n"
     ]
    },
    {
     "name": "stdout",
     "output_type": "stream",
     "text": [
      "Epoch [1/50], Loss: 0.5361\n"
     ]
    },
    {
     "name": "stderr",
     "output_type": "stream",
     "text": [
      "\u001b[32m[I 2023-05-09 10:02:32,085]\u001b[0m Trial 307 pruned. \u001b[0m\n"
     ]
    },
    {
     "name": "stdout",
     "output_type": "stream",
     "text": [
      "Epoch [1/50], Loss: 0.6907\n"
     ]
    },
    {
     "name": "stderr",
     "output_type": "stream",
     "text": [
      "\u001b[32m[I 2023-05-09 10:02:32,436]\u001b[0m Trial 308 pruned. \u001b[0m\n"
     ]
    },
    {
     "name": "stdout",
     "output_type": "stream",
     "text": [
      "Epoch [1/50], Loss: 0.6849\n"
     ]
    },
    {
     "name": "stderr",
     "output_type": "stream",
     "text": [
      "\u001b[32m[I 2023-05-09 10:02:32,777]\u001b[0m Trial 309 pruned. \u001b[0m\n"
     ]
    },
    {
     "name": "stdout",
     "output_type": "stream",
     "text": [
      "Epoch [1/50], Loss: 0.5368\n"
     ]
    },
    {
     "name": "stderr",
     "output_type": "stream",
     "text": [
      "\u001b[32m[I 2023-05-09 10:02:33,160]\u001b[0m Trial 310 pruned. \u001b[0m\n"
     ]
    },
    {
     "name": "stdout",
     "output_type": "stream",
     "text": [
      "Epoch [1/50], Loss: 0.4705\n"
     ]
    },
    {
     "name": "stderr",
     "output_type": "stream",
     "text": [
      "\u001b[32m[I 2023-05-09 10:02:33,473]\u001b[0m Trial 311 pruned. \u001b[0m\n"
     ]
    },
    {
     "name": "stdout",
     "output_type": "stream",
     "text": [
      "Epoch [1/50], Loss: 0.4929\n"
     ]
    },
    {
     "name": "stderr",
     "output_type": "stream",
     "text": [
      "\u001b[32m[I 2023-05-09 10:02:33,801]\u001b[0m Trial 312 pruned. \u001b[0m\n"
     ]
    },
    {
     "name": "stdout",
     "output_type": "stream",
     "text": [
      "Epoch [1/50], Loss: 0.4598\n"
     ]
    },
    {
     "name": "stderr",
     "output_type": "stream",
     "text": [
      "\u001b[32m[I 2023-05-09 10:02:34,109]\u001b[0m Trial 313 pruned. \u001b[0m\n"
     ]
    },
    {
     "name": "stdout",
     "output_type": "stream",
     "text": [
      "Epoch [1/50], Loss: 0.4624\n"
     ]
    },
    {
     "name": "stderr",
     "output_type": "stream",
     "text": [
      "\u001b[32m[I 2023-05-09 10:02:36,801]\u001b[0m Trial 314 pruned. \u001b[0m\n"
     ]
    },
    {
     "name": "stdout",
     "output_type": "stream",
     "text": [
      "Epoch [1/50], Loss: 0.5621\n",
      "Epoch [1/50], Loss: 0.4369\n"
     ]
    },
    {
     "name": "stderr",
     "output_type": "stream",
     "text": [
      "\u001b[32m[I 2023-05-09 10:02:37,342]\u001b[0m Trial 315 pruned. \u001b[0m\n"
     ]
    },
    {
     "name": "stdout",
     "output_type": "stream",
     "text": [
      "Epoch [2/50], Loss: 0.3926\n"
     ]
    },
    {
     "name": "stderr",
     "output_type": "stream",
     "text": [
      "\u001b[32m[I 2023-05-09 10:02:37,747]\u001b[0m Trial 316 pruned. \u001b[0m\n"
     ]
    },
    {
     "name": "stdout",
     "output_type": "stream",
     "text": [
      "Epoch [1/50], Loss: 0.4491\n"
     ]
    },
    {
     "name": "stderr",
     "output_type": "stream",
     "text": [
      "\u001b[32m[I 2023-05-09 10:02:38,164]\u001b[0m Trial 317 pruned. \u001b[0m\n"
     ]
    },
    {
     "name": "stdout",
     "output_type": "stream",
     "text": [
      "Epoch [1/50], Loss: 0.9824\n"
     ]
    },
    {
     "name": "stderr",
     "output_type": "stream",
     "text": [
      "\u001b[32m[I 2023-05-09 10:02:38,507]\u001b[0m Trial 318 pruned. \u001b[0m\n"
     ]
    },
    {
     "name": "stdout",
     "output_type": "stream",
     "text": [
      "Epoch [1/50], Loss: 0.4466\n"
     ]
    },
    {
     "name": "stderr",
     "output_type": "stream",
     "text": [
      "\u001b[32m[I 2023-05-09 10:02:38,805]\u001b[0m Trial 319 pruned. \u001b[0m\n"
     ]
    },
    {
     "name": "stdout",
     "output_type": "stream",
     "text": [
      "Epoch [1/50], Loss: 0.4812\n"
     ]
    },
    {
     "name": "stderr",
     "output_type": "stream",
     "text": [
      "\u001b[32m[I 2023-05-09 10:02:39,204]\u001b[0m Trial 320 pruned. \u001b[0m\n"
     ]
    },
    {
     "name": "stdout",
     "output_type": "stream",
     "text": [
      "Epoch [1/50], Loss: 0.4646\n"
     ]
    },
    {
     "name": "stderr",
     "output_type": "stream",
     "text": [
      "\u001b[32m[I 2023-05-09 10:02:39,582]\u001b[0m Trial 321 pruned. \u001b[0m\n"
     ]
    },
    {
     "name": "stdout",
     "output_type": "stream",
     "text": [
      "Epoch [1/50], Loss: 0.5177\n"
     ]
    },
    {
     "name": "stderr",
     "output_type": "stream",
     "text": [
      "\u001b[32m[I 2023-05-09 10:02:39,992]\u001b[0m Trial 322 pruned. \u001b[0m\n"
     ]
    },
    {
     "name": "stdout",
     "output_type": "stream",
     "text": [
      "Epoch [1/50], Loss: 0.4837\n"
     ]
    },
    {
     "name": "stderr",
     "output_type": "stream",
     "text": [
      "\u001b[32m[I 2023-05-09 10:02:40,312]\u001b[0m Trial 323 pruned. \u001b[0m\n"
     ]
    },
    {
     "name": "stdout",
     "output_type": "stream",
     "text": [
      "Epoch [1/50], Loss: 0.5875\n"
     ]
    },
    {
     "name": "stderr",
     "output_type": "stream",
     "text": [
      "\u001b[32m[I 2023-05-09 10:02:40,604]\u001b[0m Trial 324 pruned. \u001b[0m\n"
     ]
    },
    {
     "name": "stdout",
     "output_type": "stream",
     "text": [
      "Epoch [1/50], Loss: 0.5303\n"
     ]
    },
    {
     "name": "stderr",
     "output_type": "stream",
     "text": [
      "\u001b[32m[I 2023-05-09 10:02:40,906]\u001b[0m Trial 325 pruned. \u001b[0m\n"
     ]
    },
    {
     "name": "stdout",
     "output_type": "stream",
     "text": [
      "Epoch [1/50], Loss: 0.4780\n"
     ]
    },
    {
     "name": "stderr",
     "output_type": "stream",
     "text": [
      "\u001b[32m[I 2023-05-09 10:02:41,206]\u001b[0m Trial 326 pruned. \u001b[0m\n"
     ]
    },
    {
     "name": "stdout",
     "output_type": "stream",
     "text": [
      "Epoch [1/50], Loss: 0.4547\n"
     ]
    },
    {
     "name": "stderr",
     "output_type": "stream",
     "text": [
      "\u001b[32m[I 2023-05-09 10:02:41,577]\u001b[0m Trial 327 pruned. \u001b[0m\n"
     ]
    },
    {
     "name": "stdout",
     "output_type": "stream",
     "text": [
      "Epoch [1/50], Loss: 0.4813\n"
     ]
    },
    {
     "name": "stderr",
     "output_type": "stream",
     "text": [
      "\u001b[32m[I 2023-05-09 10:02:41,901]\u001b[0m Trial 328 pruned. \u001b[0m\n"
     ]
    },
    {
     "name": "stdout",
     "output_type": "stream",
     "text": [
      "Epoch [1/50], Loss: 0.7482\n",
      "Epoch [1/50], Loss: 0.4321\n",
      "Epoch [2/50], Loss: 0.3317\n",
      "Epoch [3/50], Loss: 0.2587\n",
      "Epoch [4/50], Loss: 0.2263\n",
      "Epoch [5/50], Loss: 0.1913\n",
      "Epoch [6/50], Loss: 0.2071\n",
      "Epoch [7/50], Loss: 0.1737\n",
      "Epoch [8/50], Loss: 0.1593\n",
      "Epoch [9/50], Loss: 0.1530\n",
      "Epoch [10/50], Loss: 0.1666\n",
      "Epoch [11/50], Loss: 0.1535\n",
      "Epoch [12/50], Loss: 0.1435\n",
      "Epoch [13/50], Loss: 0.1400\n",
      "Epoch [14/50], Loss: 0.1260\n",
      "Epoch [15/50], Loss: 0.1628\n",
      "Epoch [16/50], Loss: 0.1318\n",
      "Epoch [17/50], Loss: 0.1294\n",
      "Epoch [18/50], Loss: 0.1190\n",
      "Epoch [19/50], Loss: 0.1312\n",
      "Epoch [20/50], Loss: 0.1392\n",
      "Epoch [21/50], Loss: 0.1178\n",
      "Epoch [22/50], Loss: 0.1155\n",
      "Epoch [23/50], Loss: 0.1176\n",
      "Epoch [24/50], Loss: 0.1167\n",
      "Epoch [25/50], Loss: 0.1236\n",
      "Epoch [26/50], Loss: 0.1082\n",
      "Epoch [27/50], Loss: 0.1242\n",
      "Epoch [28/50], Loss: 0.1137\n",
      "Epoch [29/50], Loss: 0.1117\n",
      "Epoch [30/50], Loss: 0.1084\n",
      "Epoch [31/50], Loss: 0.1106\n",
      "Epoch [32/50], Loss: 0.1442\n",
      "Epoch [33/50], Loss: 0.1050\n",
      "Epoch [34/50], Loss: 0.1033\n",
      "Epoch [35/50], Loss: 0.0981\n",
      "Epoch [36/50], Loss: 0.0991\n",
      "Epoch [37/50], Loss: 0.1161\n",
      "Epoch [38/50], Loss: 0.0995\n",
      "Epoch [39/50], Loss: 0.1059\n",
      "Epoch [40/50], Loss: 0.1003\n",
      "Epoch [41/50], Loss: 0.0943\n",
      "Epoch [42/50], Loss: 0.0937\n",
      "Epoch [43/50], Loss: 0.0993\n",
      "Epoch [44/50], Loss: 0.1008\n",
      "Epoch [45/50], Loss: 0.0948\n",
      "Epoch [46/50], Loss: 0.0959\n",
      "Epoch [47/50], Loss: 0.0966\n",
      "Epoch [48/50], Loss: 0.0978\n",
      "Epoch [49/50], Loss: 0.1011\n"
     ]
    },
    {
     "name": "stderr",
     "output_type": "stream",
     "text": [
      "\u001b[32m[I 2023-05-09 10:02:53,336]\u001b[0m Trial 329 finished with value: 0.2133750468492508 and parameters: {'n_layers': 3, 'activation': 2, 'dropout_l3': 0.031330195395818626, 'dropout_l2': 0.05960806098126423, 'dropout_l1': 0.0008955773806169666, 'bottleneck_size': 103, 'optimizer': 'Adam', 'lr': 0.002130461935125502}. Best is trial 113 with value: 0.08030945807695389.\u001b[0m\n"
     ]
    },
    {
     "name": "stdout",
     "output_type": "stream",
     "text": [
      "Epoch [50/50], Loss: 0.2134\n"
     ]
    },
    {
     "name": "stderr",
     "output_type": "stream",
     "text": [
      "\u001b[32m[I 2023-05-09 10:02:53,728]\u001b[0m Trial 330 pruned. \u001b[0m\n"
     ]
    },
    {
     "name": "stdout",
     "output_type": "stream",
     "text": [
      "Epoch [1/50], Loss: 0.8077\n"
     ]
    },
    {
     "name": "stderr",
     "output_type": "stream",
     "text": [
      "\u001b[32m[I 2023-05-09 10:02:54,372]\u001b[0m Trial 331 pruned. \u001b[0m\n"
     ]
    },
    {
     "name": "stdout",
     "output_type": "stream",
     "text": [
      "Epoch [1/50], Loss: 4.4725\n"
     ]
    },
    {
     "name": "stderr",
     "output_type": "stream",
     "text": [
      "\u001b[32m[I 2023-05-09 10:02:54,678]\u001b[0m Trial 332 pruned. \u001b[0m\n"
     ]
    },
    {
     "name": "stdout",
     "output_type": "stream",
     "text": [
      "Epoch [1/50], Loss: 0.9662\n"
     ]
    },
    {
     "name": "stderr",
     "output_type": "stream",
     "text": [
      "\u001b[32m[I 2023-05-09 10:02:55,002]\u001b[0m Trial 333 pruned. \u001b[0m\n"
     ]
    },
    {
     "name": "stdout",
     "output_type": "stream",
     "text": [
      "Epoch [1/50], Loss: 0.7256\n"
     ]
    },
    {
     "name": "stderr",
     "output_type": "stream",
     "text": [
      "\u001b[32m[I 2023-05-09 10:02:55,333]\u001b[0m Trial 334 pruned. \u001b[0m\n"
     ]
    },
    {
     "name": "stdout",
     "output_type": "stream",
     "text": [
      "Epoch [1/50], Loss: 0.4873\n"
     ]
    },
    {
     "name": "stderr",
     "output_type": "stream",
     "text": [
      "\u001b[32m[I 2023-05-09 10:02:55,675]\u001b[0m Trial 335 pruned. \u001b[0m\n"
     ]
    },
    {
     "name": "stdout",
     "output_type": "stream",
     "text": [
      "Epoch [1/50], Loss: 0.4588\n"
     ]
    },
    {
     "name": "stderr",
     "output_type": "stream",
     "text": [
      "\u001b[32m[I 2023-05-09 10:02:56,010]\u001b[0m Trial 336 pruned. \u001b[0m\n"
     ]
    },
    {
     "name": "stdout",
     "output_type": "stream",
     "text": [
      "Epoch [1/50], Loss: 0.6642\n",
      "Epoch [1/50], Loss: 0.4089\n",
      "Epoch [2/50], Loss: 0.3362\n",
      "Epoch [3/50], Loss: 0.2570\n",
      "Epoch [4/50], Loss: 0.2247\n",
      "Epoch [5/50], Loss: 0.2351\n",
      "Epoch [6/50], Loss: 0.1936\n",
      "Epoch [7/50], Loss: 0.1819\n",
      "Epoch [8/50], Loss: 0.1684\n",
      "Epoch [9/50], Loss: 0.1793\n",
      "Epoch [10/50], Loss: 0.1636\n",
      "Epoch [11/50], Loss: 0.1483\n",
      "Epoch [12/50], Loss: 0.1480\n",
      "Epoch [13/50], Loss: 0.1468\n",
      "Epoch [14/50], Loss: 0.1563\n",
      "Epoch [15/50], Loss: 1.7954\n",
      "Epoch [16/50], Loss: 0.7482\n",
      "Epoch [17/50], Loss: 0.5459\n",
      "Epoch [18/50], Loss: 0.4877\n",
      "Epoch [19/50], Loss: 0.5376\n",
      "Epoch [20/50], Loss: 0.4747\n",
      "Epoch [21/50], Loss: 0.5132\n",
      "Epoch [22/50], Loss: 0.4491\n",
      "Epoch [23/50], Loss: 0.4269\n",
      "Epoch [24/50], Loss: 0.4102\n"
     ]
    },
    {
     "name": "stderr",
     "output_type": "stream",
     "text": [
      "\u001b[32m[I 2023-05-09 10:03:01,839]\u001b[0m Trial 337 pruned. \u001b[0m\n"
     ]
    },
    {
     "name": "stdout",
     "output_type": "stream",
     "text": [
      "Epoch [25/50], Loss: 0.4053\n"
     ]
    },
    {
     "name": "stderr",
     "output_type": "stream",
     "text": [
      "\u001b[32m[I 2023-05-09 10:03:02,177]\u001b[0m Trial 338 pruned. \u001b[0m\n"
     ]
    },
    {
     "name": "stdout",
     "output_type": "stream",
     "text": [
      "Epoch [1/50], Loss: 0.6826\n"
     ]
    },
    {
     "name": "stderr",
     "output_type": "stream",
     "text": [
      "\u001b[32m[I 2023-05-09 10:03:02,491]\u001b[0m Trial 339 pruned. \u001b[0m\n"
     ]
    },
    {
     "name": "stdout",
     "output_type": "stream",
     "text": [
      "Epoch [1/50], Loss: 0.4779\n"
     ]
    },
    {
     "name": "stderr",
     "output_type": "stream",
     "text": [
      "\u001b[32m[I 2023-05-09 10:03:02,903]\u001b[0m Trial 340 pruned. \u001b[0m\n"
     ]
    },
    {
     "name": "stdout",
     "output_type": "stream",
     "text": [
      "Epoch [1/50], Loss: 0.5163\n"
     ]
    },
    {
     "name": "stderr",
     "output_type": "stream",
     "text": [
      "\u001b[32m[I 2023-05-09 10:03:03,301]\u001b[0m Trial 341 pruned. \u001b[0m\n"
     ]
    },
    {
     "name": "stdout",
     "output_type": "stream",
     "text": [
      "Epoch [1/50], Loss: 0.4598\n"
     ]
    },
    {
     "name": "stderr",
     "output_type": "stream",
     "text": [
      "\u001b[32m[I 2023-05-09 10:03:03,576]\u001b[0m Trial 342 pruned. \u001b[0m\n"
     ]
    },
    {
     "name": "stdout",
     "output_type": "stream",
     "text": [
      "Epoch [1/50], Loss: 1.0825\n"
     ]
    },
    {
     "name": "stderr",
     "output_type": "stream",
     "text": [
      "\u001b[32m[I 2023-05-09 10:03:03,921]\u001b[0m Trial 343 pruned. \u001b[0m\n"
     ]
    },
    {
     "name": "stdout",
     "output_type": "stream",
     "text": [
      "Epoch [1/50], Loss: 0.4626\n",
      "Epoch [1/50], Loss: 0.4395\n",
      "Epoch [2/50], Loss: 0.3394\n",
      "Epoch [3/50], Loss: 0.2869\n",
      "Epoch [4/50], Loss: 0.2283\n",
      "Epoch [5/50], Loss: 0.2235\n",
      "Epoch [6/50], Loss: 0.2134\n"
     ]
    },
    {
     "name": "stderr",
     "output_type": "stream",
     "text": [
      "\u001b[32m[I 2023-05-09 10:03:05,677]\u001b[0m Trial 344 pruned. \u001b[0m\n"
     ]
    },
    {
     "name": "stdout",
     "output_type": "stream",
     "text": [
      "Epoch [7/50], Loss: 0.2024\n"
     ]
    },
    {
     "name": "stderr",
     "output_type": "stream",
     "text": [
      "\u001b[32m[I 2023-05-09 10:03:06,025]\u001b[0m Trial 345 pruned. \u001b[0m\n"
     ]
    },
    {
     "name": "stdout",
     "output_type": "stream",
     "text": [
      "Epoch [1/50], Loss: 0.5902\n"
     ]
    },
    {
     "name": "stderr",
     "output_type": "stream",
     "text": [
      "\u001b[32m[I 2023-05-09 10:03:06,341]\u001b[0m Trial 346 pruned. \u001b[0m\n"
     ]
    },
    {
     "name": "stdout",
     "output_type": "stream",
     "text": [
      "Epoch [1/50], Loss: 0.4503\n"
     ]
    },
    {
     "name": "stderr",
     "output_type": "stream",
     "text": [
      "\u001b[32m[I 2023-05-09 10:03:06,742]\u001b[0m Trial 347 pruned. \u001b[0m\n"
     ]
    },
    {
     "name": "stdout",
     "output_type": "stream",
     "text": [
      "Epoch [1/50], Loss: 0.4512\n",
      "Epoch [1/50], Loss: 0.4430\n"
     ]
    },
    {
     "name": "stderr",
     "output_type": "stream",
     "text": [
      "\u001b[32m[I 2023-05-09 10:03:07,375]\u001b[0m Trial 348 pruned. \u001b[0m\n"
     ]
    },
    {
     "name": "stdout",
     "output_type": "stream",
     "text": [
      "Epoch [2/50], Loss: 0.3848\n"
     ]
    },
    {
     "name": "stderr",
     "output_type": "stream",
     "text": [
      "\u001b[32m[I 2023-05-09 10:03:07,697]\u001b[0m Trial 349 pruned. \u001b[0m\n"
     ]
    },
    {
     "name": "stdout",
     "output_type": "stream",
     "text": [
      "Epoch [1/50], Loss: 0.5237\n"
     ]
    },
    {
     "name": "stderr",
     "output_type": "stream",
     "text": [
      "\u001b[32m[I 2023-05-09 10:03:08,077]\u001b[0m Trial 350 pruned. \u001b[0m\n"
     ]
    },
    {
     "name": "stdout",
     "output_type": "stream",
     "text": [
      "Epoch [1/50], Loss: 0.5773\n"
     ]
    },
    {
     "name": "stderr",
     "output_type": "stream",
     "text": [
      "\u001b[32m[I 2023-05-09 10:03:08,407]\u001b[0m Trial 351 pruned. \u001b[0m\n"
     ]
    },
    {
     "name": "stdout",
     "output_type": "stream",
     "text": [
      "Epoch [1/50], Loss: 0.4594\n"
     ]
    },
    {
     "name": "stderr",
     "output_type": "stream",
     "text": [
      "\u001b[32m[I 2023-05-09 10:03:08,720]\u001b[0m Trial 352 pruned. \u001b[0m\n"
     ]
    },
    {
     "name": "stdout",
     "output_type": "stream",
     "text": [
      "Epoch [1/50], Loss: 0.5027\n"
     ]
    },
    {
     "name": "stderr",
     "output_type": "stream",
     "text": [
      "\u001b[32m[I 2023-05-09 10:03:09,011]\u001b[0m Trial 353 pruned. \u001b[0m\n"
     ]
    },
    {
     "name": "stdout",
     "output_type": "stream",
     "text": [
      "Epoch [1/50], Loss: 0.5381\n"
     ]
    },
    {
     "name": "stderr",
     "output_type": "stream",
     "text": [
      "\u001b[32m[I 2023-05-09 10:03:09,339]\u001b[0m Trial 354 pruned. \u001b[0m\n"
     ]
    },
    {
     "name": "stdout",
     "output_type": "stream",
     "text": [
      "Epoch [1/50], Loss: 1.7707\n"
     ]
    },
    {
     "name": "stderr",
     "output_type": "stream",
     "text": [
      "\u001b[32m[I 2023-05-09 10:03:09,656]\u001b[0m Trial 355 pruned. \u001b[0m\n"
     ]
    },
    {
     "name": "stdout",
     "output_type": "stream",
     "text": [
      "Epoch [1/50], Loss: 0.5319\n"
     ]
    },
    {
     "name": "stderr",
     "output_type": "stream",
     "text": [
      "\u001b[32m[I 2023-05-09 10:03:09,980]\u001b[0m Trial 356 pruned. \u001b[0m\n"
     ]
    },
    {
     "name": "stdout",
     "output_type": "stream",
     "text": [
      "Epoch [1/50], Loss: 1.0537\n"
     ]
    },
    {
     "name": "stderr",
     "output_type": "stream",
     "text": [
      "\u001b[32m[I 2023-05-09 10:03:10,332]\u001b[0m Trial 357 pruned. \u001b[0m\n"
     ]
    },
    {
     "name": "stdout",
     "output_type": "stream",
     "text": [
      "Epoch [1/50], Loss: 0.4685\n"
     ]
    },
    {
     "name": "stderr",
     "output_type": "stream",
     "text": [
      "\u001b[32m[I 2023-05-09 10:03:10,664]\u001b[0m Trial 358 pruned. \u001b[0m\n"
     ]
    },
    {
     "name": "stdout",
     "output_type": "stream",
     "text": [
      "Epoch [1/50], Loss: 0.9445\n"
     ]
    },
    {
     "name": "stderr",
     "output_type": "stream",
     "text": [
      "\u001b[32m[I 2023-05-09 10:03:11,138]\u001b[0m Trial 359 pruned. \u001b[0m\n"
     ]
    },
    {
     "name": "stdout",
     "output_type": "stream",
     "text": [
      "Epoch [1/50], Loss: 0.4662\n",
      "Epoch [1/50], Loss: 0.4121\n",
      "Epoch [2/50], Loss: 0.3259\n",
      "Epoch [3/50], Loss: 0.2854\n",
      "Epoch [4/50], Loss: 0.2311\n",
      "Epoch [5/50], Loss: 0.2151\n",
      "Epoch [6/50], Loss: 0.1873\n",
      "Epoch [7/50], Loss: 0.1819\n",
      "Epoch [8/50], Loss: 0.1811\n",
      "Epoch [9/50], Loss: 0.1904\n",
      "Epoch [10/50], Loss: 0.1793\n",
      "Epoch [11/50], Loss: 0.1714\n",
      "Epoch [12/50], Loss: 0.2218\n",
      "Epoch [13/50], Loss: 0.1567\n",
      "Epoch [14/50], Loss: 0.1495\n",
      "Epoch [15/50], Loss: 0.1485\n",
      "Epoch [16/50], Loss: 0.1648\n",
      "Epoch [17/50], Loss: 0.1543\n",
      "Epoch [18/50], Loss: 0.1403\n",
      "Epoch [19/50], Loss: 0.1416\n",
      "Epoch [20/50], Loss: 0.1494\n",
      "Epoch [21/50], Loss: 0.1393\n",
      "Epoch [22/50], Loss: 0.1411\n",
      "Epoch [23/50], Loss: 0.1447\n",
      "Epoch [24/50], Loss: 0.1402\n",
      "Epoch [25/50], Loss: 0.1355\n",
      "Epoch [26/50], Loss: 0.1268\n",
      "Epoch [27/50], Loss: 0.1339\n",
      "Epoch [28/50], Loss: 0.1309\n",
      "Epoch [29/50], Loss: 0.1313\n",
      "Epoch [30/50], Loss: 0.1341\n",
      "Epoch [31/50], Loss: 0.1359\n",
      "Epoch [32/50], Loss: 0.1383\n",
      "Epoch [33/50], Loss: 0.1220\n",
      "Epoch [34/50], Loss: 0.1428\n",
      "Epoch [35/50], Loss: 0.1183\n",
      "Epoch [36/50], Loss: 0.1300\n",
      "Epoch [37/50], Loss: 0.1272\n",
      "Epoch [38/50], Loss: 0.1233\n",
      "Epoch [39/50], Loss: 0.1243\n",
      "Epoch [40/50], Loss: 0.1211\n",
      "Epoch [41/50], Loss: 0.1199\n",
      "Epoch [42/50], Loss: 0.1151\n",
      "Epoch [43/50], Loss: 0.1298\n",
      "Epoch [44/50], Loss: 0.1352\n",
      "Epoch [45/50], Loss: 0.1234\n",
      "Epoch [46/50], Loss: 0.1239\n",
      "Epoch [47/50], Loss: 0.1239\n",
      "Epoch [48/50], Loss: 0.1276\n",
      "Epoch [49/50], Loss: 0.1217\n"
     ]
    },
    {
     "name": "stderr",
     "output_type": "stream",
     "text": [
      "\u001b[32m[I 2023-05-09 10:03:22,791]\u001b[0m Trial 360 finished with value: 0.11340662091970444 and parameters: {'n_layers': 3, 'activation': 2, 'dropout_l3': 0.19176381111348378, 'dropout_l2': 0.04149266557173863, 'dropout_l1': 0.01016638055880709, 'bottleneck_size': 105, 'optimizer': 'Adam', 'lr': 0.0016697269152032355}. Best is trial 113 with value: 0.08030945807695389.\u001b[0m\n"
     ]
    },
    {
     "name": "stdout",
     "output_type": "stream",
     "text": [
      "Epoch [50/50], Loss: 0.1134\n"
     ]
    },
    {
     "name": "stderr",
     "output_type": "stream",
     "text": [
      "\u001b[32m[I 2023-05-09 10:03:23,184]\u001b[0m Trial 361 pruned. \u001b[0m\n"
     ]
    },
    {
     "name": "stdout",
     "output_type": "stream",
     "text": [
      "Epoch [1/50], Loss: 0.6762\n"
     ]
    },
    {
     "name": "stderr",
     "output_type": "stream",
     "text": [
      "\u001b[32m[I 2023-05-09 10:03:23,573]\u001b[0m Trial 362 pruned. \u001b[0m\n"
     ]
    },
    {
     "name": "stdout",
     "output_type": "stream",
     "text": [
      "Epoch [1/50], Loss: 0.4759\n"
     ]
    },
    {
     "name": "stderr",
     "output_type": "stream",
     "text": [
      "\u001b[32m[I 2023-05-09 10:03:23,878]\u001b[0m Trial 363 pruned. \u001b[0m\n"
     ]
    },
    {
     "name": "stdout",
     "output_type": "stream",
     "text": [
      "Epoch [1/50], Loss: 0.7133\n"
     ]
    },
    {
     "name": "stderr",
     "output_type": "stream",
     "text": [
      "\u001b[32m[I 2023-05-09 10:03:24,191]\u001b[0m Trial 364 pruned. \u001b[0m\n"
     ]
    },
    {
     "name": "stdout",
     "output_type": "stream",
     "text": [
      "Epoch [1/50], Loss: 0.5035\n"
     ]
    },
    {
     "name": "stderr",
     "output_type": "stream",
     "text": [
      "\u001b[32m[I 2023-05-09 10:03:24,510]\u001b[0m Trial 365 pruned. \u001b[0m\n"
     ]
    },
    {
     "name": "stdout",
     "output_type": "stream",
     "text": [
      "Epoch [1/50], Loss: 0.5322\n",
      "Epoch [1/50], Loss: 0.4365\n",
      "Epoch [2/50], Loss: 0.3304\n",
      "Epoch [3/50], Loss: 0.2906\n",
      "Epoch [4/50], Loss: 0.2406\n",
      "Epoch [5/50], Loss: 0.2153\n",
      "Epoch [6/50], Loss: 0.1904\n",
      "Epoch [7/50], Loss: 0.1882\n",
      "Epoch [8/50], Loss: 0.1729\n",
      "Epoch [9/50], Loss: 0.1745\n",
      "Epoch [10/50], Loss: 0.1468\n",
      "Epoch [11/50], Loss: 0.1488\n",
      "Epoch [12/50], Loss: 0.1526\n",
      "Epoch [13/50], Loss: 0.1533\n",
      "Epoch [14/50], Loss: 0.1374\n",
      "Epoch [15/50], Loss: 0.1407\n",
      "Epoch [16/50], Loss: 0.1270\n",
      "Epoch [17/50], Loss: 0.1440\n",
      "Epoch [18/50], Loss: 0.1226\n",
      "Epoch [19/50], Loss: 0.1349\n",
      "Epoch [20/50], Loss: 0.1311\n",
      "Epoch [21/50], Loss: 0.1423\n",
      "Epoch [22/50], Loss: 0.1233\n",
      "Epoch [23/50], Loss: 0.1682\n",
      "Epoch [24/50], Loss: 0.1206\n",
      "Epoch [25/50], Loss: 0.1166\n",
      "Epoch [26/50], Loss: 0.1196\n",
      "Epoch [27/50], Loss: 0.1549\n",
      "Epoch [28/50], Loss: 0.1137\n",
      "Epoch [29/50], Loss: 0.1137\n",
      "Epoch [30/50], Loss: 0.1043\n",
      "Epoch [31/50], Loss: 0.1176\n",
      "Epoch [32/50], Loss: 0.1043\n",
      "Epoch [33/50], Loss: 0.1304\n",
      "Epoch [34/50], Loss: 0.1102\n",
      "Epoch [35/50], Loss: 0.1630\n",
      "Epoch [36/50], Loss: 0.1066\n",
      "Epoch [37/50], Loss: 0.1041\n",
      "Epoch [38/50], Loss: 0.1077\n",
      "Epoch [39/50], Loss: 0.1002\n",
      "Epoch [40/50], Loss: 0.1012\n",
      "Epoch [41/50], Loss: 0.1050\n",
      "Epoch [42/50], Loss: 0.1091\n",
      "Epoch [43/50], Loss: 0.1096\n",
      "Epoch [44/50], Loss: 0.1041\n",
      "Epoch [45/50], Loss: 0.1153\n",
      "Epoch [46/50], Loss: 0.0987\n",
      "Epoch [47/50], Loss: 0.1013\n",
      "Epoch [48/50], Loss: 0.1004\n",
      "Epoch [49/50], Loss: 0.1005\n"
     ]
    },
    {
     "name": "stderr",
     "output_type": "stream",
     "text": [
      "\u001b[32m[I 2023-05-09 10:03:36,069]\u001b[0m Trial 366 finished with value: 0.1048656702041626 and parameters: {'n_layers': 3, 'activation': 2, 'dropout_l3': 0.03868812522844554, 'dropout_l2': 0.09087894206643579, 'dropout_l1': 0.0001988413549655326, 'bottleneck_size': 112, 'optimizer': 'Adam', 'lr': 0.0012283709748331323}. Best is trial 113 with value: 0.08030945807695389.\u001b[0m\n"
     ]
    },
    {
     "name": "stdout",
     "output_type": "stream",
     "text": [
      "Epoch [50/50], Loss: 0.1049\n"
     ]
    },
    {
     "name": "stderr",
     "output_type": "stream",
     "text": [
      "\u001b[32m[I 2023-05-09 10:03:36,366]\u001b[0m Trial 367 pruned. \u001b[0m\n"
     ]
    },
    {
     "name": "stdout",
     "output_type": "stream",
     "text": [
      "Epoch [1/50], Loss: 0.9995\n"
     ]
    },
    {
     "name": "stderr",
     "output_type": "stream",
     "text": [
      "\u001b[32m[I 2023-05-09 10:03:36,779]\u001b[0m Trial 368 pruned. \u001b[0m\n"
     ]
    },
    {
     "name": "stdout",
     "output_type": "stream",
     "text": [
      "Epoch [1/50], Loss: 0.4450\n"
     ]
    },
    {
     "name": "stderr",
     "output_type": "stream",
     "text": [
      "\u001b[32m[I 2023-05-09 10:03:37,156]\u001b[0m Trial 369 pruned. \u001b[0m\n"
     ]
    },
    {
     "name": "stdout",
     "output_type": "stream",
     "text": [
      "Epoch [1/50], Loss: 0.7619\n"
     ]
    },
    {
     "name": "stderr",
     "output_type": "stream",
     "text": [
      "\u001b[32m[I 2023-05-09 10:03:37,454]\u001b[0m Trial 370 pruned. \u001b[0m\n"
     ]
    },
    {
     "name": "stdout",
     "output_type": "stream",
     "text": [
      "Epoch [1/50], Loss: 0.4851\n"
     ]
    },
    {
     "name": "stderr",
     "output_type": "stream",
     "text": [
      "\u001b[32m[I 2023-05-09 10:03:37,774]\u001b[0m Trial 371 pruned. \u001b[0m\n"
     ]
    },
    {
     "name": "stdout",
     "output_type": "stream",
     "text": [
      "Epoch [1/50], Loss: 0.4891\n"
     ]
    },
    {
     "name": "stderr",
     "output_type": "stream",
     "text": [
      "\u001b[32m[I 2023-05-09 10:03:38,082]\u001b[0m Trial 372 pruned. \u001b[0m\n"
     ]
    },
    {
     "name": "stdout",
     "output_type": "stream",
     "text": [
      "Epoch [1/50], Loss: 0.8538\n"
     ]
    },
    {
     "name": "stderr",
     "output_type": "stream",
     "text": [
      "\u001b[32m[I 2023-05-09 10:03:38,396]\u001b[0m Trial 373 pruned. \u001b[0m\n"
     ]
    },
    {
     "name": "stdout",
     "output_type": "stream",
     "text": [
      "Epoch [1/50], Loss: 0.4921\n"
     ]
    },
    {
     "name": "stderr",
     "output_type": "stream",
     "text": [
      "\u001b[32m[I 2023-05-09 10:03:38,708]\u001b[0m Trial 374 pruned. \u001b[0m\n"
     ]
    },
    {
     "name": "stdout",
     "output_type": "stream",
     "text": [
      "Epoch [1/50], Loss: 38.5882\n"
     ]
    },
    {
     "name": "stderr",
     "output_type": "stream",
     "text": [
      "\u001b[32m[I 2023-05-09 10:03:39,015]\u001b[0m Trial 375 pruned. \u001b[0m\n"
     ]
    },
    {
     "name": "stdout",
     "output_type": "stream",
     "text": [
      "Epoch [1/50], Loss: 1.0225\n"
     ]
    },
    {
     "name": "stderr",
     "output_type": "stream",
     "text": [
      "\u001b[32m[I 2023-05-09 10:03:39,320]\u001b[0m Trial 376 pruned. \u001b[0m\n"
     ]
    },
    {
     "name": "stdout",
     "output_type": "stream",
     "text": [
      "Epoch [1/50], Loss: 0.5445\n"
     ]
    },
    {
     "name": "stderr",
     "output_type": "stream",
     "text": [
      "\u001b[32m[I 2023-05-09 10:03:39,604]\u001b[0m Trial 377 pruned. \u001b[0m\n"
     ]
    },
    {
     "name": "stdout",
     "output_type": "stream",
     "text": [
      "Epoch [1/50], Loss: 0.4851\n"
     ]
    },
    {
     "name": "stderr",
     "output_type": "stream",
     "text": [
      "\u001b[32m[I 2023-05-09 10:03:39,902]\u001b[0m Trial 378 pruned. \u001b[0m\n"
     ]
    },
    {
     "name": "stdout",
     "output_type": "stream",
     "text": [
      "Epoch [1/50], Loss: 0.4701\n"
     ]
    },
    {
     "name": "stderr",
     "output_type": "stream",
     "text": [
      "\u001b[32m[I 2023-05-09 10:03:40,275]\u001b[0m Trial 379 pruned. \u001b[0m\n"
     ]
    },
    {
     "name": "stdout",
     "output_type": "stream",
     "text": [
      "Epoch [1/50], Loss: 1.0484\n"
     ]
    },
    {
     "name": "stderr",
     "output_type": "stream",
     "text": [
      "\u001b[32m[I 2023-05-09 10:03:40,589]\u001b[0m Trial 380 pruned. \u001b[0m\n"
     ]
    },
    {
     "name": "stdout",
     "output_type": "stream",
     "text": [
      "Epoch [1/50], Loss: 0.4732\n"
     ]
    },
    {
     "name": "stderr",
     "output_type": "stream",
     "text": [
      "\u001b[32m[I 2023-05-09 10:03:40,906]\u001b[0m Trial 381 pruned. \u001b[0m\n"
     ]
    },
    {
     "name": "stdout",
     "output_type": "stream",
     "text": [
      "Epoch [1/50], Loss: 0.4601\n"
     ]
    },
    {
     "name": "stderr",
     "output_type": "stream",
     "text": [
      "\u001b[32m[I 2023-05-09 10:03:50,467]\u001b[0m Trial 382 pruned. \u001b[0m\n"
     ]
    },
    {
     "name": "stdout",
     "output_type": "stream",
     "text": [
      "Epoch [1/50], Loss: 0.5113\n"
     ]
    },
    {
     "name": "stderr",
     "output_type": "stream",
     "text": [
      "\u001b[32m[I 2023-05-09 10:03:51,142]\u001b[0m Trial 383 pruned. \u001b[0m\n"
     ]
    },
    {
     "name": "stdout",
     "output_type": "stream",
     "text": [
      "Epoch [1/50], Loss: 0.7234\n"
     ]
    },
    {
     "name": "stderr",
     "output_type": "stream",
     "text": [
      "\u001b[32m[I 2023-05-09 10:03:51,484]\u001b[0m Trial 384 pruned. \u001b[0m\n"
     ]
    },
    {
     "name": "stdout",
     "output_type": "stream",
     "text": [
      "Epoch [1/50], Loss: 0.4627\n"
     ]
    },
    {
     "name": "stderr",
     "output_type": "stream",
     "text": [
      "\u001b[32m[I 2023-05-09 10:03:51,895]\u001b[0m Trial 385 pruned. \u001b[0m\n"
     ]
    },
    {
     "name": "stdout",
     "output_type": "stream",
     "text": [
      "Epoch [1/50], Loss: 0.5290\n"
     ]
    },
    {
     "name": "stderr",
     "output_type": "stream",
     "text": [
      "\u001b[32m[I 2023-05-09 10:03:52,275]\u001b[0m Trial 386 pruned. \u001b[0m\n"
     ]
    },
    {
     "name": "stdout",
     "output_type": "stream",
     "text": [
      "Epoch [1/50], Loss: 0.5073\n",
      "Epoch [1/50], Loss: 0.4289\n",
      "Epoch [2/50], Loss: 0.3337\n",
      "Epoch [3/50], Loss: 0.2905\n",
      "Epoch [4/50], Loss: 0.2403\n"
     ]
    },
    {
     "name": "stderr",
     "output_type": "stream",
     "text": [
      "\u001b[32m[I 2023-05-09 10:03:53,513]\u001b[0m Trial 387 pruned. \u001b[0m\n"
     ]
    },
    {
     "name": "stdout",
     "output_type": "stream",
     "text": [
      "Epoch [5/50], Loss: 0.2502\n"
     ]
    },
    {
     "name": "stderr",
     "output_type": "stream",
     "text": [
      "\u001b[32m[I 2023-05-09 10:03:53,820]\u001b[0m Trial 388 pruned. \u001b[0m\n"
     ]
    },
    {
     "name": "stdout",
     "output_type": "stream",
     "text": [
      "Epoch [1/50], Loss: 0.4952\n"
     ]
    },
    {
     "name": "stderr",
     "output_type": "stream",
     "text": [
      "\u001b[32m[I 2023-05-09 10:03:54,138]\u001b[0m Trial 389 pruned. \u001b[0m\n"
     ]
    },
    {
     "name": "stdout",
     "output_type": "stream",
     "text": [
      "Epoch [1/50], Loss: 0.7171\n"
     ]
    },
    {
     "name": "stderr",
     "output_type": "stream",
     "text": [
      "\u001b[32m[I 2023-05-09 10:03:54,493]\u001b[0m Trial 390 pruned. \u001b[0m\n"
     ]
    },
    {
     "name": "stdout",
     "output_type": "stream",
     "text": [
      "Epoch [1/50], Loss: 0.5177\n"
     ]
    },
    {
     "name": "stderr",
     "output_type": "stream",
     "text": [
      "\u001b[32m[I 2023-05-09 10:03:54,828]\u001b[0m Trial 391 pruned. \u001b[0m\n"
     ]
    },
    {
     "name": "stdout",
     "output_type": "stream",
     "text": [
      "Epoch [1/50], Loss: 1.0414\n"
     ]
    },
    {
     "name": "stderr",
     "output_type": "stream",
     "text": [
      "\u001b[32m[I 2023-05-09 10:03:55,181]\u001b[0m Trial 392 pruned. \u001b[0m\n"
     ]
    },
    {
     "name": "stdout",
     "output_type": "stream",
     "text": [
      "Epoch [1/50], Loss: 0.5250\n"
     ]
    },
    {
     "name": "stderr",
     "output_type": "stream",
     "text": [
      "\u001b[32m[I 2023-05-09 10:03:55,498]\u001b[0m Trial 393 pruned. \u001b[0m\n"
     ]
    },
    {
     "name": "stdout",
     "output_type": "stream",
     "text": [
      "Epoch [1/50], Loss: 0.5292\n"
     ]
    },
    {
     "name": "stderr",
     "output_type": "stream",
     "text": [
      "\u001b[32m[I 2023-05-09 10:03:55,806]\u001b[0m Trial 394 pruned. \u001b[0m\n"
     ]
    },
    {
     "name": "stdout",
     "output_type": "stream",
     "text": [
      "Epoch [1/50], Loss: 0.4952\n"
     ]
    },
    {
     "name": "stderr",
     "output_type": "stream",
     "text": [
      "\u001b[32m[I 2023-05-09 10:03:56,110]\u001b[0m Trial 395 pruned. \u001b[0m\n"
     ]
    },
    {
     "name": "stdout",
     "output_type": "stream",
     "text": [
      "Epoch [1/50], Loss: 0.7333\n"
     ]
    },
    {
     "name": "stderr",
     "output_type": "stream",
     "text": [
      "\u001b[32m[I 2023-05-09 10:03:56,419]\u001b[0m Trial 396 pruned. \u001b[0m\n"
     ]
    },
    {
     "name": "stdout",
     "output_type": "stream",
     "text": [
      "Epoch [1/50], Loss: 0.4851\n"
     ]
    },
    {
     "name": "stderr",
     "output_type": "stream",
     "text": [
      "\u001b[32m[I 2023-05-09 10:03:56,756]\u001b[0m Trial 397 pruned. \u001b[0m\n"
     ]
    },
    {
     "name": "stdout",
     "output_type": "stream",
     "text": [
      "Epoch [1/50], Loss: 0.4981\n",
      "Epoch [1/50], Loss: 0.4379\n",
      "Epoch [2/50], Loss: 0.3233\n"
     ]
    },
    {
     "name": "stderr",
     "output_type": "stream",
     "text": [
      "\u001b[32m[I 2023-05-09 10:03:57,496]\u001b[0m Trial 398 pruned. \u001b[0m\n"
     ]
    },
    {
     "name": "stdout",
     "output_type": "stream",
     "text": [
      "Epoch [3/50], Loss: 0.3284\n"
     ]
    },
    {
     "name": "stderr",
     "output_type": "stream",
     "text": [
      "\u001b[32m[I 2023-05-09 10:03:57,801]\u001b[0m Trial 399 pruned. \u001b[0m\n"
     ]
    },
    {
     "name": "stdout",
     "output_type": "stream",
     "text": [
      "Epoch [1/50], Loss: 0.5673\n"
     ]
    },
    {
     "name": "stderr",
     "output_type": "stream",
     "text": [
      "\u001b[32m[I 2023-05-09 10:03:58,114]\u001b[0m Trial 400 pruned. \u001b[0m\n"
     ]
    },
    {
     "name": "stdout",
     "output_type": "stream",
     "text": [
      "Epoch [1/50], Loss: 0.5151\n"
     ]
    },
    {
     "name": "stderr",
     "output_type": "stream",
     "text": [
      "\u001b[32m[I 2023-05-09 10:03:58,465]\u001b[0m Trial 401 pruned. \u001b[0m\n"
     ]
    },
    {
     "name": "stdout",
     "output_type": "stream",
     "text": [
      "Epoch [1/50], Loss: 0.5926\n"
     ]
    },
    {
     "name": "stderr",
     "output_type": "stream",
     "text": [
      "\u001b[32m[I 2023-05-09 10:03:58,798]\u001b[0m Trial 402 pruned. \u001b[0m\n"
     ]
    },
    {
     "name": "stdout",
     "output_type": "stream",
     "text": [
      "Epoch [1/50], Loss: 0.4523\n"
     ]
    },
    {
     "name": "stderr",
     "output_type": "stream",
     "text": [
      "\u001b[32m[I 2023-05-09 10:03:59,140]\u001b[0m Trial 403 pruned. \u001b[0m\n"
     ]
    },
    {
     "name": "stdout",
     "output_type": "stream",
     "text": [
      "Epoch [1/50], Loss: 0.6733\n"
     ]
    },
    {
     "name": "stderr",
     "output_type": "stream",
     "text": [
      "\u001b[32m[I 2023-05-09 10:03:59,510]\u001b[0m Trial 404 pruned. \u001b[0m\n"
     ]
    },
    {
     "name": "stdout",
     "output_type": "stream",
     "text": [
      "Epoch [1/50], Loss: 0.5648\n"
     ]
    },
    {
     "name": "stderr",
     "output_type": "stream",
     "text": [
      "\u001b[32m[I 2023-05-09 10:03:59,862]\u001b[0m Trial 405 pruned. \u001b[0m\n"
     ]
    },
    {
     "name": "stdout",
     "output_type": "stream",
     "text": [
      "Epoch [1/50], Loss: 0.4492\n"
     ]
    },
    {
     "name": "stderr",
     "output_type": "stream",
     "text": [
      "\u001b[32m[I 2023-05-09 10:04:00,227]\u001b[0m Trial 406 pruned. \u001b[0m\n"
     ]
    },
    {
     "name": "stdout",
     "output_type": "stream",
     "text": [
      "Epoch [1/50], Loss: 0.4823\n"
     ]
    },
    {
     "name": "stderr",
     "output_type": "stream",
     "text": [
      "\u001b[32m[I 2023-05-09 10:04:00,680]\u001b[0m Trial 407 pruned. \u001b[0m\n"
     ]
    },
    {
     "name": "stdout",
     "output_type": "stream",
     "text": [
      "Epoch [1/50], Loss: 12607.1045\n"
     ]
    },
    {
     "name": "stderr",
     "output_type": "stream",
     "text": [
      "\u001b[32m[I 2023-05-09 10:04:01,036]\u001b[0m Trial 408 pruned. \u001b[0m\n"
     ]
    },
    {
     "name": "stdout",
     "output_type": "stream",
     "text": [
      "Epoch [1/50], Loss: 2.4178\n"
     ]
    },
    {
     "name": "stderr",
     "output_type": "stream",
     "text": [
      "\u001b[32m[I 2023-05-09 10:04:01,449]\u001b[0m Trial 409 pruned. \u001b[0m\n"
     ]
    },
    {
     "name": "stdout",
     "output_type": "stream",
     "text": [
      "Epoch [1/50], Loss: 0.4720\n"
     ]
    },
    {
     "name": "stderr",
     "output_type": "stream",
     "text": [
      "\u001b[32m[I 2023-05-09 10:04:01,775]\u001b[0m Trial 410 pruned. \u001b[0m\n"
     ]
    },
    {
     "name": "stdout",
     "output_type": "stream",
     "text": [
      "Epoch [1/50], Loss: 0.4813\n"
     ]
    },
    {
     "name": "stderr",
     "output_type": "stream",
     "text": [
      "\u001b[32m[I 2023-05-09 10:04:02,115]\u001b[0m Trial 411 pruned. \u001b[0m\n"
     ]
    },
    {
     "name": "stdout",
     "output_type": "stream",
     "text": [
      "Epoch [1/50], Loss: 0.4933\n"
     ]
    },
    {
     "name": "stderr",
     "output_type": "stream",
     "text": [
      "\u001b[32m[I 2023-05-09 10:04:02,446]\u001b[0m Trial 412 pruned. \u001b[0m\n"
     ]
    },
    {
     "name": "stdout",
     "output_type": "stream",
     "text": [
      "Epoch [1/50], Loss: 0.6636\n"
     ]
    },
    {
     "name": "stderr",
     "output_type": "stream",
     "text": [
      "\u001b[32m[I 2023-05-09 10:04:02,771]\u001b[0m Trial 413 pruned. \u001b[0m\n"
     ]
    },
    {
     "name": "stdout",
     "output_type": "stream",
     "text": [
      "Epoch [1/50], Loss: 0.6130\n"
     ]
    },
    {
     "name": "stderr",
     "output_type": "stream",
     "text": [
      "\u001b[32m[I 2023-05-09 10:04:03,116]\u001b[0m Trial 414 pruned. \u001b[0m\n"
     ]
    },
    {
     "name": "stdout",
     "output_type": "stream",
     "text": [
      "Epoch [1/50], Loss: 0.4822\n",
      "Epoch [1/50], Loss: 0.4126\n"
     ]
    },
    {
     "name": "stderr",
     "output_type": "stream",
     "text": [
      "\u001b[32m[I 2023-05-09 10:04:03,654]\u001b[0m Trial 415 pruned. \u001b[0m\n"
     ]
    },
    {
     "name": "stdout",
     "output_type": "stream",
     "text": [
      "Epoch [2/50], Loss: 0.3546\n"
     ]
    },
    {
     "name": "stderr",
     "output_type": "stream",
     "text": [
      "\u001b[32m[I 2023-05-09 10:04:04,063]\u001b[0m Trial 416 pruned. \u001b[0m\n"
     ]
    },
    {
     "name": "stdout",
     "output_type": "stream",
     "text": [
      "Epoch [1/50], Loss: 0.7737\n"
     ]
    },
    {
     "name": "stderr",
     "output_type": "stream",
     "text": [
      "\u001b[32m[I 2023-05-09 10:04:04,361]\u001b[0m Trial 417 pruned. \u001b[0m\n"
     ]
    },
    {
     "name": "stdout",
     "output_type": "stream",
     "text": [
      "Epoch [1/50], Loss: 1.0324\n"
     ]
    },
    {
     "name": "stderr",
     "output_type": "stream",
     "text": [
      "\u001b[32m[I 2023-05-09 10:04:04,701]\u001b[0m Trial 418 pruned. \u001b[0m\n"
     ]
    },
    {
     "name": "stdout",
     "output_type": "stream",
     "text": [
      "Epoch [1/50], Loss: 0.8884\n"
     ]
    },
    {
     "name": "stderr",
     "output_type": "stream",
     "text": [
      "\u001b[32m[I 2023-05-09 10:04:05,022]\u001b[0m Trial 419 pruned. \u001b[0m\n"
     ]
    },
    {
     "name": "stdout",
     "output_type": "stream",
     "text": [
      "Epoch [1/50], Loss: 0.5230\n"
     ]
    },
    {
     "name": "stderr",
     "output_type": "stream",
     "text": [
      "\u001b[32m[I 2023-05-09 10:04:05,387]\u001b[0m Trial 420 pruned. \u001b[0m\n"
     ]
    },
    {
     "name": "stdout",
     "output_type": "stream",
     "text": [
      "Epoch [1/50], Loss: 0.6638\n"
     ]
    },
    {
     "name": "stderr",
     "output_type": "stream",
     "text": [
      "\u001b[32m[I 2023-05-09 10:04:05,746]\u001b[0m Trial 421 pruned. \u001b[0m\n"
     ]
    },
    {
     "name": "stdout",
     "output_type": "stream",
     "text": [
      "Epoch [1/50], Loss: 0.4465\n"
     ]
    },
    {
     "name": "stderr",
     "output_type": "stream",
     "text": [
      "\u001b[32m[I 2023-05-09 10:04:06,041]\u001b[0m Trial 422 pruned. \u001b[0m\n"
     ]
    },
    {
     "name": "stdout",
     "output_type": "stream",
     "text": [
      "Epoch [1/50], Loss: 0.4541\n"
     ]
    },
    {
     "name": "stderr",
     "output_type": "stream",
     "text": [
      "\u001b[32m[I 2023-05-09 10:04:06,332]\u001b[0m Trial 423 pruned. \u001b[0m\n"
     ]
    },
    {
     "name": "stdout",
     "output_type": "stream",
     "text": [
      "Epoch [1/50], Loss: 0.9918\n"
     ]
    },
    {
     "name": "stderr",
     "output_type": "stream",
     "text": [
      "\u001b[32m[I 2023-05-09 10:04:06,618]\u001b[0m Trial 424 pruned. \u001b[0m\n"
     ]
    },
    {
     "name": "stdout",
     "output_type": "stream",
     "text": [
      "Epoch [1/50], Loss: 0.4869\n"
     ]
    },
    {
     "name": "stderr",
     "output_type": "stream",
     "text": [
      "\u001b[32m[I 2023-05-09 10:04:06,895]\u001b[0m Trial 425 pruned. \u001b[0m\n"
     ]
    },
    {
     "name": "stdout",
     "output_type": "stream",
     "text": [
      "Epoch [1/50], Loss: 0.5914\n"
     ]
    },
    {
     "name": "stderr",
     "output_type": "stream",
     "text": [
      "\u001b[32m[I 2023-05-09 10:04:07,178]\u001b[0m Trial 426 pruned. \u001b[0m\n"
     ]
    },
    {
     "name": "stdout",
     "output_type": "stream",
     "text": [
      "Epoch [1/50], Loss: 0.5766\n"
     ]
    },
    {
     "name": "stderr",
     "output_type": "stream",
     "text": [
      "\u001b[32m[I 2023-05-09 10:04:07,472]\u001b[0m Trial 427 pruned. \u001b[0m\n"
     ]
    },
    {
     "name": "stdout",
     "output_type": "stream",
     "text": [
      "Epoch [1/50], Loss: 0.5767\n"
     ]
    },
    {
     "name": "stderr",
     "output_type": "stream",
     "text": [
      "\u001b[32m[I 2023-05-09 10:04:07,796]\u001b[0m Trial 428 pruned. \u001b[0m\n"
     ]
    },
    {
     "name": "stdout",
     "output_type": "stream",
     "text": [
      "Epoch [1/50], Loss: 0.6002\n"
     ]
    },
    {
     "name": "stderr",
     "output_type": "stream",
     "text": [
      "\u001b[32m[I 2023-05-09 10:04:08,103]\u001b[0m Trial 429 pruned. \u001b[0m\n"
     ]
    },
    {
     "name": "stdout",
     "output_type": "stream",
     "text": [
      "Epoch [1/50], Loss: 0.6356\n",
      "Epoch [1/50], Loss: 0.4095\n",
      "Epoch [2/50], Loss: 0.3072\n",
      "Epoch [3/50], Loss: 0.2561\n",
      "Epoch [4/50], Loss: 0.2167\n",
      "Epoch [5/50], Loss: 0.2208\n",
      "Epoch [6/50], Loss: 0.2020\n"
     ]
    },
    {
     "name": "stderr",
     "output_type": "stream",
     "text": [
      "\u001b[32m[I 2023-05-09 10:04:09,749]\u001b[0m Trial 430 pruned. \u001b[0m\n"
     ]
    },
    {
     "name": "stdout",
     "output_type": "stream",
     "text": [
      "Epoch [7/50], Loss: 0.2132\n"
     ]
    },
    {
     "name": "stderr",
     "output_type": "stream",
     "text": [
      "\u001b[32m[I 2023-05-09 10:04:10,164]\u001b[0m Trial 431 pruned. \u001b[0m\n"
     ]
    },
    {
     "name": "stdout",
     "output_type": "stream",
     "text": [
      "Epoch [1/50], Loss: 0.4822\n"
     ]
    },
    {
     "name": "stderr",
     "output_type": "stream",
     "text": [
      "\u001b[32m[I 2023-05-09 10:04:10,580]\u001b[0m Trial 432 pruned. \u001b[0m\n"
     ]
    },
    {
     "name": "stdout",
     "output_type": "stream",
     "text": [
      "Epoch [1/50], Loss: 0.8366\n"
     ]
    },
    {
     "name": "stderr",
     "output_type": "stream",
     "text": [
      "\u001b[32m[I 2023-05-09 10:04:10,906]\u001b[0m Trial 433 pruned. \u001b[0m\n"
     ]
    },
    {
     "name": "stdout",
     "output_type": "stream",
     "text": [
      "Epoch [1/50], Loss: 0.4496\n"
     ]
    },
    {
     "name": "stderr",
     "output_type": "stream",
     "text": [
      "\u001b[32m[I 2023-05-09 10:04:11,221]\u001b[0m Trial 434 pruned. \u001b[0m\n"
     ]
    },
    {
     "name": "stdout",
     "output_type": "stream",
     "text": [
      "Epoch [1/50], Loss: 1.4266\n",
      "Epoch [1/50], Loss: 0.4109\n",
      "Epoch [2/50], Loss: 0.3112\n",
      "Epoch [3/50], Loss: 0.2749\n",
      "Epoch [4/50], Loss: 0.2237\n",
      "Epoch [5/50], Loss: 0.2012\n",
      "Epoch [6/50], Loss: 0.1957\n",
      "Epoch [7/50], Loss: 0.1656\n",
      "Epoch [8/50], Loss: 0.1722\n",
      "Epoch [9/50], Loss: 0.1505\n",
      "Epoch [10/50], Loss: 0.1556\n",
      "Epoch [11/50], Loss: 0.1338\n",
      "Epoch [12/50], Loss: 0.1323\n",
      "Epoch [13/50], Loss: 0.1355\n",
      "Epoch [14/50], Loss: 0.1284\n",
      "Epoch [15/50], Loss: 0.1228\n",
      "Epoch [16/50], Loss: 0.1205\n",
      "Epoch [17/50], Loss: 0.1655\n",
      "Epoch [18/50], Loss: 0.1133\n",
      "Epoch [19/50], Loss: 0.1149\n",
      "Epoch [20/50], Loss: 0.1071\n",
      "Epoch [21/50], Loss: 0.1251\n",
      "Epoch [22/50], Loss: 0.1028\n",
      "Epoch [23/50], Loss: 0.1072\n",
      "Epoch [24/50], Loss: 0.1022\n",
      "Epoch [25/50], Loss: 0.1072\n",
      "Epoch [26/50], Loss: 0.1127\n",
      "Epoch [27/50], Loss: 0.1029\n",
      "Epoch [28/50], Loss: 0.1005\n",
      "Epoch [29/50], Loss: 0.0906\n",
      "Epoch [30/50], Loss: 0.1003\n",
      "Epoch [31/50], Loss: 0.0961\n",
      "Epoch [32/50], Loss: 0.0996\n",
      "Epoch [33/50], Loss: 0.1045\n",
      "Epoch [34/50], Loss: 0.0904\n",
      "Epoch [35/50], Loss: 0.0897\n",
      "Epoch [36/50], Loss: 0.1087\n",
      "Epoch [37/50], Loss: 0.0853\n",
      "Epoch [38/50], Loss: 0.0847\n",
      "Epoch [39/50], Loss: 0.0868\n",
      "Epoch [40/50], Loss: 0.1071\n",
      "Epoch [41/50], Loss: 0.0840\n",
      "Epoch [42/50], Loss: 0.0955\n",
      "Epoch [43/50], Loss: 0.1039\n",
      "Epoch [44/50], Loss: 0.0929\n",
      "Epoch [45/50], Loss: 0.0840\n",
      "Epoch [46/50], Loss: 0.0789\n",
      "Epoch [47/50], Loss: 0.0885\n",
      "Epoch [48/50], Loss: 0.0792\n",
      "Epoch [49/50], Loss: 0.0814\n"
     ]
    },
    {
     "name": "stderr",
     "output_type": "stream",
     "text": [
      "\u001b[32m[I 2023-05-09 10:04:22,729]\u001b[0m Trial 435 finished with value: 0.08879834413528442 and parameters: {'n_layers': 3, 'activation': 2, 'dropout_l3': 0.026702850580920458, 'dropout_l2': 0.019032351141860786, 'dropout_l1': 0.0006579660239552732, 'bottleneck_size': 108, 'optimizer': 'Adam', 'lr': 0.0014862046358580818}. Best is trial 113 with value: 0.08030945807695389.\u001b[0m\n"
     ]
    },
    {
     "name": "stdout",
     "output_type": "stream",
     "text": [
      "Epoch [50/50], Loss: 0.0888\n"
     ]
    },
    {
     "name": "stderr",
     "output_type": "stream",
     "text": [
      "\u001b[32m[I 2023-05-09 10:04:23,045]\u001b[0m Trial 436 pruned. \u001b[0m\n"
     ]
    },
    {
     "name": "stdout",
     "output_type": "stream",
     "text": [
      "Epoch [1/50], Loss: 0.9951\n"
     ]
    },
    {
     "name": "stderr",
     "output_type": "stream",
     "text": [
      "\u001b[32m[I 2023-05-09 10:04:23,372]\u001b[0m Trial 437 pruned. \u001b[0m\n"
     ]
    },
    {
     "name": "stdout",
     "output_type": "stream",
     "text": [
      "Epoch [1/50], Loss: 0.4820\n"
     ]
    },
    {
     "name": "stderr",
     "output_type": "stream",
     "text": [
      "\u001b[32m[I 2023-05-09 10:04:23,704]\u001b[0m Trial 438 pruned. \u001b[0m\n"
     ]
    },
    {
     "name": "stdout",
     "output_type": "stream",
     "text": [
      "Epoch [1/50], Loss: 0.4862\n"
     ]
    },
    {
     "name": "stderr",
     "output_type": "stream",
     "text": [
      "\u001b[32m[I 2023-05-09 10:04:24,063]\u001b[0m Trial 439 pruned. \u001b[0m\n"
     ]
    },
    {
     "name": "stdout",
     "output_type": "stream",
     "text": [
      "Epoch [1/50], Loss: 0.6588\n"
     ]
    },
    {
     "name": "stderr",
     "output_type": "stream",
     "text": [
      "\u001b[32m[I 2023-05-09 10:04:24,370]\u001b[0m Trial 440 pruned. \u001b[0m\n"
     ]
    },
    {
     "name": "stdout",
     "output_type": "stream",
     "text": [
      "Epoch [1/50], Loss: 1.0753\n"
     ]
    },
    {
     "name": "stderr",
     "output_type": "stream",
     "text": [
      "\u001b[32m[I 2023-05-09 10:04:25,048]\u001b[0m Trial 441 pruned. \u001b[0m\n"
     ]
    },
    {
     "name": "stdout",
     "output_type": "stream",
     "text": [
      "Epoch [1/50], Loss: 0.5021\n"
     ]
    },
    {
     "name": "stderr",
     "output_type": "stream",
     "text": [
      "\u001b[32m[I 2023-05-09 10:04:25,457]\u001b[0m Trial 442 pruned. \u001b[0m\n"
     ]
    },
    {
     "name": "stdout",
     "output_type": "stream",
     "text": [
      "Epoch [1/50], Loss: 0.4840\n"
     ]
    },
    {
     "name": "stderr",
     "output_type": "stream",
     "text": [
      "\u001b[32m[I 2023-05-09 10:04:25,931]\u001b[0m Trial 443 pruned. \u001b[0m\n"
     ]
    },
    {
     "name": "stdout",
     "output_type": "stream",
     "text": [
      "Epoch [1/50], Loss: 0.5005\n"
     ]
    },
    {
     "name": "stderr",
     "output_type": "stream",
     "text": [
      "\u001b[32m[I 2023-05-09 10:04:26,267]\u001b[0m Trial 444 pruned. \u001b[0m\n"
     ]
    },
    {
     "name": "stdout",
     "output_type": "stream",
     "text": [
      "Epoch [1/50], Loss: 0.9635\n"
     ]
    },
    {
     "name": "stderr",
     "output_type": "stream",
     "text": [
      "\u001b[32m[I 2023-05-09 10:04:26,695]\u001b[0m Trial 445 pruned. \u001b[0m\n"
     ]
    },
    {
     "name": "stdout",
     "output_type": "stream",
     "text": [
      "Epoch [1/50], Loss: 0.7080\n"
     ]
    },
    {
     "name": "stderr",
     "output_type": "stream",
     "text": [
      "\u001b[32m[I 2023-05-09 10:04:26,998]\u001b[0m Trial 446 pruned. \u001b[0m\n"
     ]
    },
    {
     "name": "stdout",
     "output_type": "stream",
     "text": [
      "Epoch [1/50], Loss: 0.5033\n"
     ]
    },
    {
     "name": "stderr",
     "output_type": "stream",
     "text": [
      "\u001b[32m[I 2023-05-09 10:04:27,296]\u001b[0m Trial 447 pruned. \u001b[0m\n"
     ]
    },
    {
     "name": "stdout",
     "output_type": "stream",
     "text": [
      "Epoch [1/50], Loss: 0.4454\n"
     ]
    },
    {
     "name": "stderr",
     "output_type": "stream",
     "text": [
      "\u001b[32m[I 2023-05-09 10:04:27,625]\u001b[0m Trial 448 pruned. \u001b[0m\n"
     ]
    },
    {
     "name": "stdout",
     "output_type": "stream",
     "text": [
      "Epoch [1/50], Loss: 0.4926\n"
     ]
    },
    {
     "name": "stderr",
     "output_type": "stream",
     "text": [
      "\u001b[32m[I 2023-05-09 10:04:27,975]\u001b[0m Trial 449 pruned. \u001b[0m\n"
     ]
    },
    {
     "name": "stdout",
     "output_type": "stream",
     "text": [
      "Epoch [1/50], Loss: 0.7670\n"
     ]
    },
    {
     "name": "stderr",
     "output_type": "stream",
     "text": [
      "\u001b[32m[I 2023-05-09 10:04:28,307]\u001b[0m Trial 450 pruned. \u001b[0m\n"
     ]
    },
    {
     "name": "stdout",
     "output_type": "stream",
     "text": [
      "Epoch [1/50], Loss: 65.1853\n",
      "Epoch [1/50], Loss: 0.4228\n",
      "Epoch [2/50], Loss: 0.3164\n",
      "Epoch [3/50], Loss: 0.2850\n",
      "Epoch [4/50], Loss: 0.2409\n",
      "Epoch [5/50], Loss: 0.2116\n",
      "Epoch [6/50], Loss: 0.1939\n",
      "Epoch [7/50], Loss: 0.2891\n"
     ]
    },
    {
     "name": "stderr",
     "output_type": "stream",
     "text": [
      "\u001b[32m[I 2023-05-09 10:04:30,190]\u001b[0m Trial 451 pruned. \u001b[0m\n"
     ]
    },
    {
     "name": "stdout",
     "output_type": "stream",
     "text": [
      "Epoch [8/50], Loss: 0.1947\n"
     ]
    },
    {
     "name": "stderr",
     "output_type": "stream",
     "text": [
      "\u001b[32m[I 2023-05-09 10:04:30,549]\u001b[0m Trial 452 pruned. \u001b[0m\n"
     ]
    },
    {
     "name": "stdout",
     "output_type": "stream",
     "text": [
      "Epoch [1/50], Loss: 0.6699\n"
     ]
    },
    {
     "name": "stderr",
     "output_type": "stream",
     "text": [
      "\u001b[32m[I 2023-05-09 10:04:30,946]\u001b[0m Trial 453 pruned. \u001b[0m\n"
     ]
    },
    {
     "name": "stdout",
     "output_type": "stream",
     "text": [
      "Epoch [1/50], Loss: 0.4599\n"
     ]
    },
    {
     "name": "stderr",
     "output_type": "stream",
     "text": [
      "\u001b[32m[I 2023-05-09 10:04:31,272]\u001b[0m Trial 454 pruned. \u001b[0m\n"
     ]
    },
    {
     "name": "stdout",
     "output_type": "stream",
     "text": [
      "Epoch [1/50], Loss: 72.3384\n"
     ]
    },
    {
     "name": "stderr",
     "output_type": "stream",
     "text": [
      "\u001b[32m[I 2023-05-09 10:04:31,589]\u001b[0m Trial 455 pruned. \u001b[0m\n"
     ]
    },
    {
     "name": "stdout",
     "output_type": "stream",
     "text": [
      "Epoch [1/50], Loss: 15.7212\n"
     ]
    },
    {
     "name": "stderr",
     "output_type": "stream",
     "text": [
      "\u001b[32m[I 2023-05-09 10:04:31,919]\u001b[0m Trial 456 pruned. \u001b[0m\n"
     ]
    },
    {
     "name": "stdout",
     "output_type": "stream",
     "text": [
      "Epoch [1/50], Loss: 0.7846\n"
     ]
    },
    {
     "name": "stderr",
     "output_type": "stream",
     "text": [
      "\u001b[32m[I 2023-05-09 10:04:34,621]\u001b[0m Trial 457 pruned. \u001b[0m\n"
     ]
    },
    {
     "name": "stdout",
     "output_type": "stream",
     "text": [
      "Epoch [1/50], Loss: 0.5025\n",
      "Epoch [1/50], Loss: 0.4438\n",
      "Epoch [2/50], Loss: 0.3235\n"
     ]
    },
    {
     "name": "stderr",
     "output_type": "stream",
     "text": [
      "\u001b[32m[I 2023-05-09 10:04:35,381]\u001b[0m Trial 458 pruned. \u001b[0m\n"
     ]
    },
    {
     "name": "stdout",
     "output_type": "stream",
     "text": [
      "Epoch [3/50], Loss: 0.3050\n"
     ]
    },
    {
     "name": "stderr",
     "output_type": "stream",
     "text": [
      "\u001b[32m[I 2023-05-09 10:04:35,716]\u001b[0m Trial 459 pruned. \u001b[0m\n"
     ]
    },
    {
     "name": "stdout",
     "output_type": "stream",
     "text": [
      "Epoch [1/50], Loss: 0.4642\n"
     ]
    },
    {
     "name": "stderr",
     "output_type": "stream",
     "text": [
      "\u001b[32m[I 2023-05-09 10:04:36,118]\u001b[0m Trial 460 pruned. \u001b[0m\n"
     ]
    },
    {
     "name": "stdout",
     "output_type": "stream",
     "text": [
      "Epoch [1/50], Loss: 0.6020\n"
     ]
    },
    {
     "name": "stderr",
     "output_type": "stream",
     "text": [
      "\u001b[32m[I 2023-05-09 10:04:36,508]\u001b[0m Trial 461 pruned. \u001b[0m\n"
     ]
    },
    {
     "name": "stdout",
     "output_type": "stream",
     "text": [
      "Epoch [1/50], Loss: 52.6173\n"
     ]
    },
    {
     "name": "stderr",
     "output_type": "stream",
     "text": [
      "\u001b[32m[I 2023-05-09 10:04:36,832]\u001b[0m Trial 462 pruned. \u001b[0m\n"
     ]
    },
    {
     "name": "stdout",
     "output_type": "stream",
     "text": [
      "Epoch [1/50], Loss: 0.8085\n"
     ]
    },
    {
     "name": "stderr",
     "output_type": "stream",
     "text": [
      "\u001b[32m[I 2023-05-09 10:04:37,154]\u001b[0m Trial 463 pruned. \u001b[0m\n"
     ]
    },
    {
     "name": "stdout",
     "output_type": "stream",
     "text": [
      "Epoch [1/50], Loss: 0.5350\n"
     ]
    },
    {
     "name": "stderr",
     "output_type": "stream",
     "text": [
      "\u001b[32m[I 2023-05-09 10:04:37,442]\u001b[0m Trial 464 pruned. \u001b[0m\n"
     ]
    },
    {
     "name": "stdout",
     "output_type": "stream",
     "text": [
      "Epoch [1/50], Loss: 0.9769\n",
      "Epoch [1/50], Loss: 0.4201\n",
      "Epoch [2/50], Loss: 0.3314\n"
     ]
    },
    {
     "name": "stderr",
     "output_type": "stream",
     "text": [
      "\u001b[32m[I 2023-05-09 10:04:38,223]\u001b[0m Trial 465 pruned. \u001b[0m\n"
     ]
    },
    {
     "name": "stdout",
     "output_type": "stream",
     "text": [
      "Epoch [3/50], Loss: 0.3135\n"
     ]
    },
    {
     "name": "stderr",
     "output_type": "stream",
     "text": [
      "\u001b[32m[I 2023-05-09 10:04:38,512]\u001b[0m Trial 466 pruned. \u001b[0m\n"
     ]
    },
    {
     "name": "stdout",
     "output_type": "stream",
     "text": [
      "Epoch [1/50], Loss: 0.7518\n"
     ]
    },
    {
     "name": "stderr",
     "output_type": "stream",
     "text": [
      "\u001b[32m[I 2023-05-09 10:04:38,828]\u001b[0m Trial 467 pruned. \u001b[0m\n"
     ]
    },
    {
     "name": "stdout",
     "output_type": "stream",
     "text": [
      "Epoch [1/50], Loss: 0.4851\n"
     ]
    },
    {
     "name": "stderr",
     "output_type": "stream",
     "text": [
      "\u001b[32m[I 2023-05-09 10:04:39,183]\u001b[0m Trial 468 pruned. \u001b[0m\n"
     ]
    },
    {
     "name": "stdout",
     "output_type": "stream",
     "text": [
      "Epoch [1/50], Loss: 0.5486\n"
     ]
    },
    {
     "name": "stderr",
     "output_type": "stream",
     "text": [
      "\u001b[32m[I 2023-05-09 10:04:39,667]\u001b[0m Trial 469 pruned. \u001b[0m\n"
     ]
    },
    {
     "name": "stdout",
     "output_type": "stream",
     "text": [
      "Epoch [1/50], Loss: 201.5835\n",
      "Epoch [1/50], Loss: 0.4265\n"
     ]
    },
    {
     "name": "stderr",
     "output_type": "stream",
     "text": [
      "\u001b[32m[I 2023-05-09 10:04:40,202]\u001b[0m Trial 470 pruned. \u001b[0m\n"
     ]
    },
    {
     "name": "stdout",
     "output_type": "stream",
     "text": [
      "Epoch [2/50], Loss: 0.4043\n"
     ]
    },
    {
     "name": "stderr",
     "output_type": "stream",
     "text": [
      "\u001b[32m[I 2023-05-09 10:04:40,589]\u001b[0m Trial 471 pruned. \u001b[0m\n"
     ]
    },
    {
     "name": "stdout",
     "output_type": "stream",
     "text": [
      "Epoch [1/50], Loss: 0.7528\n"
     ]
    },
    {
     "name": "stderr",
     "output_type": "stream",
     "text": [
      "\u001b[32m[I 2023-05-09 10:04:40,916]\u001b[0m Trial 472 pruned. \u001b[0m\n"
     ]
    },
    {
     "name": "stdout",
     "output_type": "stream",
     "text": [
      "Epoch [1/50], Loss: 47.4518\n"
     ]
    },
    {
     "name": "stderr",
     "output_type": "stream",
     "text": [
      "\u001b[32m[I 2023-05-09 10:04:41,327]\u001b[0m Trial 473 pruned. \u001b[0m\n"
     ]
    },
    {
     "name": "stdout",
     "output_type": "stream",
     "text": [
      "Epoch [1/50], Loss: 0.5407\n"
     ]
    },
    {
     "name": "stderr",
     "output_type": "stream",
     "text": [
      "\u001b[32m[I 2023-05-09 10:04:41,756]\u001b[0m Trial 474 pruned. \u001b[0m\n"
     ]
    },
    {
     "name": "stdout",
     "output_type": "stream",
     "text": [
      "Epoch [1/50], Loss: 0.4869\n"
     ]
    },
    {
     "name": "stderr",
     "output_type": "stream",
     "text": [
      "\u001b[32m[I 2023-05-09 10:04:42,113]\u001b[0m Trial 475 pruned. \u001b[0m\n"
     ]
    },
    {
     "name": "stdout",
     "output_type": "stream",
     "text": [
      "Epoch [1/50], Loss: 0.5166\n"
     ]
    },
    {
     "name": "stderr",
     "output_type": "stream",
     "text": [
      "\u001b[32m[I 2023-05-09 10:04:42,501]\u001b[0m Trial 476 pruned. \u001b[0m\n"
     ]
    },
    {
     "name": "stdout",
     "output_type": "stream",
     "text": [
      "Epoch [1/50], Loss: 0.7926\n",
      "Epoch [1/50], Loss: 0.4190\n"
     ]
    },
    {
     "name": "stderr",
     "output_type": "stream",
     "text": [
      "\u001b[32m[I 2023-05-09 10:04:43,052]\u001b[0m Trial 477 pruned. \u001b[0m\n"
     ]
    },
    {
     "name": "stdout",
     "output_type": "stream",
     "text": [
      "Epoch [2/50], Loss: 0.4081\n"
     ]
    },
    {
     "name": "stderr",
     "output_type": "stream",
     "text": [
      "\u001b[32m[I 2023-05-09 10:04:43,376]\u001b[0m Trial 478 pruned. \u001b[0m\n"
     ]
    },
    {
     "name": "stdout",
     "output_type": "stream",
     "text": [
      "Epoch [1/50], Loss: 1.0207\n"
     ]
    },
    {
     "name": "stderr",
     "output_type": "stream",
     "text": [
      "\u001b[32m[I 2023-05-09 10:04:43,803]\u001b[0m Trial 479 pruned. \u001b[0m\n"
     ]
    },
    {
     "name": "stdout",
     "output_type": "stream",
     "text": [
      "Epoch [1/50], Loss: 0.4716\n"
     ]
    },
    {
     "name": "stderr",
     "output_type": "stream",
     "text": [
      "\u001b[32m[I 2023-05-09 10:04:44,225]\u001b[0m Trial 480 pruned. \u001b[0m\n"
     ]
    },
    {
     "name": "stdout",
     "output_type": "stream",
     "text": [
      "Epoch [1/50], Loss: 0.7305\n"
     ]
    },
    {
     "name": "stderr",
     "output_type": "stream",
     "text": [
      "\u001b[32m[I 2023-05-09 10:04:53,825]\u001b[0m Trial 481 pruned. \u001b[0m\n"
     ]
    },
    {
     "name": "stdout",
     "output_type": "stream",
     "text": [
      "Epoch [1/50], Loss: 1372.8748\n",
      "Epoch [1/50], Loss: 0.4304\n"
     ]
    },
    {
     "name": "stderr",
     "output_type": "stream",
     "text": [
      "\u001b[32m[I 2023-05-09 10:04:54,336]\u001b[0m Trial 482 pruned. \u001b[0m\n"
     ]
    },
    {
     "name": "stdout",
     "output_type": "stream",
     "text": [
      "Epoch [2/50], Loss: 0.3532\n"
     ]
    },
    {
     "name": "stderr",
     "output_type": "stream",
     "text": [
      "\u001b[32m[I 2023-05-09 10:04:54,987]\u001b[0m Trial 483 pruned. \u001b[0m\n"
     ]
    },
    {
     "name": "stdout",
     "output_type": "stream",
     "text": [
      "Epoch [1/50], Loss: 0.4605\n"
     ]
    },
    {
     "name": "stderr",
     "output_type": "stream",
     "text": [
      "\u001b[32m[I 2023-05-09 10:04:55,313]\u001b[0m Trial 484 pruned. \u001b[0m\n"
     ]
    },
    {
     "name": "stdout",
     "output_type": "stream",
     "text": [
      "Epoch [1/50], Loss: 0.5137\n"
     ]
    },
    {
     "name": "stderr",
     "output_type": "stream",
     "text": [
      "\u001b[32m[I 2023-05-09 10:04:55,640]\u001b[0m Trial 485 pruned. \u001b[0m\n"
     ]
    },
    {
     "name": "stdout",
     "output_type": "stream",
     "text": [
      "Epoch [1/50], Loss: 0.7327\n"
     ]
    },
    {
     "name": "stderr",
     "output_type": "stream",
     "text": [
      "\u001b[32m[I 2023-05-09 10:04:56,002]\u001b[0m Trial 486 pruned. \u001b[0m\n"
     ]
    },
    {
     "name": "stdout",
     "output_type": "stream",
     "text": [
      "Epoch [1/50], Loss: 0.7072\n"
     ]
    },
    {
     "name": "stderr",
     "output_type": "stream",
     "text": [
      "\u001b[32m[I 2023-05-09 10:04:56,389]\u001b[0m Trial 487 pruned. \u001b[0m\n"
     ]
    },
    {
     "name": "stdout",
     "output_type": "stream",
     "text": [
      "Epoch [1/50], Loss: 0.4959\n"
     ]
    },
    {
     "name": "stderr",
     "output_type": "stream",
     "text": [
      "\u001b[32m[I 2023-05-09 10:04:56,682]\u001b[0m Trial 488 pruned. \u001b[0m\n"
     ]
    },
    {
     "name": "stdout",
     "output_type": "stream",
     "text": [
      "Epoch [1/50], Loss: 1.0560\n"
     ]
    },
    {
     "name": "stderr",
     "output_type": "stream",
     "text": [
      "\u001b[32m[I 2023-05-09 10:04:57,016]\u001b[0m Trial 489 pruned. \u001b[0m\n"
     ]
    },
    {
     "name": "stdout",
     "output_type": "stream",
     "text": [
      "Epoch [1/50], Loss: 0.5227\n",
      "Epoch [1/50], Loss: 0.4275\n",
      "Epoch [2/50], Loss: 0.3078\n",
      "Epoch [3/50], Loss: 0.2530\n",
      "Epoch [4/50], Loss: 0.2367\n",
      "Epoch [5/50], Loss: 0.2003\n",
      "Epoch [6/50], Loss: 0.1962\n",
      "Epoch [7/50], Loss: 0.1772\n",
      "Epoch [8/50], Loss: 0.1560\n",
      "Epoch [9/50], Loss: 0.1541\n",
      "Epoch [10/50], Loss: 0.1402\n",
      "Epoch [11/50], Loss: 0.1348\n",
      "Epoch [12/50], Loss: 0.1379\n",
      "Epoch [13/50], Loss: 0.1419\n",
      "Epoch [14/50], Loss: 0.1471\n",
      "Epoch [15/50], Loss: 0.1834\n",
      "Epoch [16/50], Loss: 0.1278\n",
      "Epoch [17/50], Loss: 0.1186\n",
      "Epoch [18/50], Loss: 0.1134\n",
      "Epoch [19/50], Loss: 0.1321\n",
      "Epoch [20/50], Loss: 0.1224\n",
      "Epoch [21/50], Loss: 0.0985\n",
      "Epoch [22/50], Loss: 0.1529\n",
      "Epoch [23/50], Loss: 0.1008\n",
      "Epoch [24/50], Loss: 0.0979\n",
      "Epoch [25/50], Loss: 0.1164\n",
      "Epoch [26/50], Loss: 0.1204\n",
      "Epoch [27/50], Loss: 0.1098\n",
      "Epoch [28/50], Loss: 0.1993\n",
      "Epoch [29/50], Loss: 0.1662\n",
      "Epoch [30/50], Loss: 0.1146\n",
      "Epoch [31/50], Loss: 0.1363\n",
      "Epoch [32/50], Loss: 0.1345\n",
      "Epoch [33/50], Loss: 0.0955\n",
      "Epoch [34/50], Loss: 0.0969\n",
      "Epoch [35/50], Loss: 0.0954\n",
      "Epoch [36/50], Loss: 0.0910\n",
      "Epoch [37/50], Loss: 0.1019\n",
      "Epoch [38/50], Loss: 0.0847\n",
      "Epoch [39/50], Loss: 0.0850\n",
      "Epoch [40/50], Loss: 0.0902\n",
      "Epoch [41/50], Loss: 0.0996\n",
      "Epoch [42/50], Loss: 0.0889\n",
      "Epoch [43/50], Loss: 0.0828\n",
      "Epoch [44/50], Loss: 0.0751\n",
      "Epoch [45/50], Loss: 0.0894\n",
      "Epoch [46/50], Loss: 0.1012\n",
      "Epoch [47/50], Loss: 0.0845\n",
      "Epoch [48/50], Loss: 0.0973\n",
      "Epoch [49/50], Loss: 0.0932\n"
     ]
    },
    {
     "name": "stderr",
     "output_type": "stream",
     "text": [
      "\u001b[32m[I 2023-05-09 10:05:08,493]\u001b[0m Trial 490 finished with value: 0.1244664117693901 and parameters: {'n_layers': 3, 'activation': 2, 'dropout_l3': 0.00012979258894570828, 'dropout_l2': 0.026794062845135917, 'dropout_l1': 0.00022282232929477473, 'bottleneck_size': 100, 'optimizer': 'Adam', 'lr': 0.0018972059058934086}. Best is trial 113 with value: 0.08030945807695389.\u001b[0m\n"
     ]
    },
    {
     "name": "stdout",
     "output_type": "stream",
     "text": [
      "Epoch [50/50], Loss: 0.1245\n"
     ]
    },
    {
     "name": "stderr",
     "output_type": "stream",
     "text": [
      "\u001b[32m[I 2023-05-09 10:05:08,824]\u001b[0m Trial 491 pruned. \u001b[0m\n"
     ]
    },
    {
     "name": "stdout",
     "output_type": "stream",
     "text": [
      "Epoch [1/50], Loss: 0.8919\n"
     ]
    },
    {
     "name": "stderr",
     "output_type": "stream",
     "text": [
      "\u001b[32m[I 2023-05-09 10:05:09,178]\u001b[0m Trial 492 pruned. \u001b[0m\n"
     ]
    },
    {
     "name": "stdout",
     "output_type": "stream",
     "text": [
      "Epoch [1/50], Loss: 0.4735\n"
     ]
    },
    {
     "name": "stderr",
     "output_type": "stream",
     "text": [
      "\u001b[32m[I 2023-05-09 10:05:09,604]\u001b[0m Trial 493 pruned. \u001b[0m\n"
     ]
    },
    {
     "name": "stdout",
     "output_type": "stream",
     "text": [
      "Epoch [1/50], Loss: 6797.7764\n"
     ]
    },
    {
     "name": "stderr",
     "output_type": "stream",
     "text": [
      "\u001b[32m[I 2023-05-09 10:05:10,271]\u001b[0m Trial 494 pruned. \u001b[0m\n"
     ]
    },
    {
     "name": "stdout",
     "output_type": "stream",
     "text": [
      "Epoch [1/50], Loss: 0.5092\n"
     ]
    },
    {
     "name": "stderr",
     "output_type": "stream",
     "text": [
      "\u001b[32m[I 2023-05-09 10:05:10,590]\u001b[0m Trial 495 pruned. \u001b[0m\n"
     ]
    },
    {
     "name": "stdout",
     "output_type": "stream",
     "text": [
      "Epoch [1/50], Loss: 31.5661\n"
     ]
    },
    {
     "name": "stderr",
     "output_type": "stream",
     "text": [
      "\u001b[32m[I 2023-05-09 10:05:10,944]\u001b[0m Trial 496 pruned. \u001b[0m\n"
     ]
    },
    {
     "name": "stdout",
     "output_type": "stream",
     "text": [
      "Epoch [1/50], Loss: 0.7891\n"
     ]
    },
    {
     "name": "stderr",
     "output_type": "stream",
     "text": [
      "\u001b[32m[I 2023-05-09 10:05:11,274]\u001b[0m Trial 497 pruned. \u001b[0m\n"
     ]
    },
    {
     "name": "stdout",
     "output_type": "stream",
     "text": [
      "Epoch [1/50], Loss: 0.5363\n"
     ]
    },
    {
     "name": "stderr",
     "output_type": "stream",
     "text": [
      "\u001b[32m[I 2023-05-09 10:05:11,594]\u001b[0m Trial 498 pruned. \u001b[0m\n"
     ]
    },
    {
     "name": "stdout",
     "output_type": "stream",
     "text": [
      "Epoch [1/50], Loss: 0.5341\n"
     ]
    },
    {
     "name": "stderr",
     "output_type": "stream",
     "text": [
      "\u001b[32m[I 2023-05-09 10:05:12,024]\u001b[0m Trial 499 pruned. \u001b[0m\n"
     ]
    },
    {
     "name": "stdout",
     "output_type": "stream",
     "text": [
      "Epoch [1/50], Loss: 0.5466\n",
      "Best trial:\n",
      "FrozenTrial(number=113, state=TrialState.COMPLETE, values=[0.08030945807695389], datetime_start=datetime.datetime(2023, 5, 9, 9, 52, 52, 654348), datetime_complete=datetime.datetime(2023, 5, 9, 9, 53, 3, 859817), params={'n_layers': 3, 'activation': 2, 'dropout_l3': 0.02386353738159614, 'dropout_l2': 0.0177066124034864, 'dropout_l1': 6.388088319771168e-05, 'bottleneck_size': 112, 'optimizer': 'Adam', 'lr': 0.0008964600124897553}, user_attrs={'encoder_layer3': [193, 1302], 'encoder_dropout3': 0.02386353738159614, 'encoder_layer2': [1302, 386], 'encoder_dropout2': 0.0177066124034864, 'encoder_layer1': [386, 48], 'encoder_dropout1': 6.388088319771168e-05, 'bottleneck': [48, 112], 'decoder_layer1': [112, 48], 'decoder_dropout1': 6.388088319771168e-05, 'decoder_layer2': [48, 386], 'decoder_dropout2': 0.0177066124034864, 'decoder_layer3': [386, 1302], 'decoder_dropout3': 0.02386353738159614, 'decoder_final': [1302, 193]}, system_attrs={}, intermediate_values={0: 0.45139241218566895, 1: 0.330782026052475, 2: 0.2914382517337799, 3: 0.26757752895355225, 4: 0.21675829589366913, 5: 0.19562625885009766, 6: 0.18355368077754974, 7: 0.17684052884578705, 8: 0.15480928122997284, 9: 0.16355988383293152, 10: 0.1714221090078354, 11: 0.18851974606513977, 12: 0.14948345720767975, 13: 0.12681950628757477, 14: 0.14127641916275024, 15: 0.12718313932418823, 16: 0.12601177394390106, 17: 0.11817248165607452, 18: 0.11621265858411789, 19: 0.10900671035051346, 20: 0.11103165149688721, 21: 0.12458741664886475, 22: 0.1127842366695404, 23: 0.11076032370328903, 24: 0.10672621428966522, 25: 0.10632716864347458, 26: 0.11559414863586426, 27: 0.10335057228803635, 28: 0.11438532918691635, 29: 0.11187820136547089, 30: 0.10196055471897125, 31: 0.09940501302480698, 32: 0.10506778955459595, 33: 0.09611135721206665, 34: 0.09053194522857666, 35: 0.12480984628200531, 36: 0.09278782457113266, 37: 0.1240091621875763, 38: 0.0977332815527916, 39: 0.08475452661514282, 40: 0.09080734103918076, 41: 0.08513704687356949, 42: 0.08994835615158081, 43: 0.09373077750205994, 44: 0.08557694405317307, 45: 0.08252808451652527, 46: 0.08171476423740387, 47: 0.11021095514297485, 48: 0.0834558755159378, 49: 0.08030945807695389}, distributions={'n_layers': IntDistribution(high=6, log=False, low=2, step=1), 'activation': CategoricalDistribution(choices=(0, 1, 2, 3, 4, 5)), 'dropout_l3': FloatDistribution(high=0.5, log=False, low=0.0, step=None), 'dropout_l2': FloatDistribution(high=0.5, log=False, low=0.0, step=None), 'dropout_l1': FloatDistribution(high=0.5, log=False, low=0.0, step=None), 'bottleneck_size': IntDistribution(high=128, log=False, low=32, step=1), 'optimizer': CategoricalDistribution(choices=('Adam', 'RMSprop', 'SGD', 'Adagrad')), 'lr': FloatDistribution(high=0.1, log=True, low=1e-05, step=None)}, trial_id=113, value=None)\n",
      "Tiempo de ejecucion 2983.2258980620027\n"
     ]
    }
   ],
   "source": [
    "from torch.nn.modules.loss import MSELoss\n",
    "import os\n",
    "from time import process_time\n",
    "import optuna\n",
    "from optuna.trial import TrialState\n",
    "import torch\n",
    "import torch.nn as nn\n",
    "import torch.nn.functional as F\n",
    "import torch.optim as optim\n",
    "import torch.utils.data\n",
    "from torchvision import datasets\n",
    "from torchvision import transforms\n",
    "\n",
    "\n",
    "device = torch.device(\"cuda\" if torch.cuda.is_available() else \"cpu\")\n",
    "BATCHSIZE = 1024\n",
    "INPUT_SIZE = 193\n",
    "CLASSES = 193\n",
    "DIR = os.getcwd()\n",
    "EPOCHS = 50\n",
    "N_TRIALS = 500\n",
    "N_TRAIN_EXAMPLES = BATCHSIZE * 30\n",
    "N_VALID_EXAMPLES = BATCHSIZE * 10\n",
    "\n",
    "train_tensor = torch.tensor(X_train)\n",
    "test_tensor = torch.tensor(X_test)\n",
    "\n",
    "\n",
    "def define_model(trial):\n",
    "    # We optimize the number of layers, hidden units and dropout ratio in each layer.\n",
    "    n_layers = trial.suggest_int(\"n_layers\", 2, 6)\n",
    "    layers = []\n",
    "    autoencoder = nn.Sequential()\n",
    "    name_layers = list()\n",
    "    activationFunc = nn.ReLU()\n",
    "\n",
    "    in_features = 193\n",
    "    #Encoder\n",
    "    for i in range(n_layers,0,-1):\n",
    "        out_features = int((CLASSES/(2**2))*i**3)\n",
    "        autoencoder.add_module(\"encoder_layer{}\".format(i),nn.Linear(in_features, out_features))\n",
    "        trial.set_user_attr(\"encoder_layer{}\".format(i),[in_features, out_features])\n",
    "        activations = [nn.ReLU(),nn.GELU(),nn.SELU(),nn.LeakyReLU(),nn.ELU(),nn.Tanh()]\n",
    "        num_activation = trial.suggest_categorical(\"activation\", [0,1,2,3,4,5])\n",
    "        activationFunc = activations[num_activation]\n",
    "        autoencoder.add_module(\"encoder_activation{}\".format(i),activationFunc)\n",
    "        #print(\"encoder\",in_features,out_features)\n",
    "        #layers.append(nn.Linear(in_features, out_features))\n",
    "        #layers.append(nn.ReLU())\n",
    "        p = trial.suggest_float(\"dropout_l{}\".format(i), 0.0, 0.5)\n",
    "        #layers.append(nn.Dropout(p))\n",
    "        autoencoder.add_module(\"encoder_dropout{}\".format(i),nn.Dropout(p))\n",
    "        trial.set_user_attr(\"encoder_dropout{}\".format(i),p)\n",
    "        in_features = out_features\n",
    "\n",
    "    #Bottleneck\n",
    "    bottleneck = trial.suggest_int(\"bottleneck_size\", 32, 128)\n",
    "    autoencoder.add_module(\"bottleneck\",nn.Linear(in_features,bottleneck))\n",
    "    trial.set_user_attr(\"bottleneck\",[in_features,bottleneck])\n",
    "    #print(\"bottleneck\",in_features,bottleneck)\n",
    "    autoencoder.add_module(\"sigmoid\",nn.Sigmoid())\n",
    "    #layers.append(nn.Linear(in_features,bottleneck))\n",
    "    #layers.append(nn.Sigmoid())\n",
    "\n",
    "  \n",
    "    for i in range(1,n_layers+1):\n",
    "        out_features = int((CLASSES/(2**2))*i**3)\n",
    "        if i == 1:\n",
    "          #print(\"decoder\",bottleneck,out_features)\n",
    "          autoencoder.add_module(\"decoder_layer{}\".format(i),nn.Linear(bottleneck, out_features))\n",
    "          trial.set_user_attr(\"decoder_layer{}\".format(i),[bottleneck, out_features])\n",
    "        else:\n",
    "          autoencoder.add_module(\"decoder_layer{}\".format(i),nn.Linear(in_features, out_features))\n",
    "          trial.set_user_attr(\"decoder_layer{}\".format(i),[in_features, out_features])\n",
    "          #print(\"decoder\",in_features,out_features)\n",
    "        \n",
    "        autoencoder.add_module(\"decoder_activation{}\".format(i),activationFunc)\n",
    "        #layers.append(nn.Linear(out_features, out_features))\n",
    "        #layers.append(nn.ReLU())\n",
    "        p = trial.suggest_float(\"dropout_l{}\".format(i), 0.0, 0.5)\n",
    "        autoencoder.add_module(\"decoder_dropout{}\".format(i),nn.Dropout(p))\n",
    "        trial.set_user_attr(\"decoder_dropout{}\".format(i),p)\n",
    "        #layers.append(nn.Dropout(p))\n",
    "\n",
    "        in_features = out_features\n",
    "\n",
    "    autoencoder.add_module(\"decoder_final\",nn.Linear(in_features, INPUT_SIZE))\n",
    "    #print(\"decoder\",in_features, INPUT_SIZE)\n",
    "    trial.set_user_attr(\"decoder_final\",[in_features, INPUT_SIZE])\n",
    "    #layers.append(nn.Linear(in_features, INPUT_SIZE))\n",
    "\n",
    "    return autoencoder\n",
    "\n",
    "def objective(trial):\n",
    "    # Generate the model.\n",
    "    model = define_model(trial)\n",
    "    model= nn.DataParallel(model)\n",
    "    model.to(device)\n",
    "\n",
    "    # Generate the optimizers.\n",
    "    optimizer_name = trial.suggest_categorical(\"optimizer\", [\"Adam\", \"RMSprop\", \"SGD\",\"Adagrad\"])\n",
    "    lr = trial.suggest_float(\"lr\", 1e-5, 1e-1, log=True)\n",
    "    optimizer = getattr(optim, optimizer_name)(model.parameters(), lr=lr)\n",
    "        \n",
    "    train_loader = torch.utils.data.DataLoader(train_tensor, batch_size=BATCHSIZE, shuffle=True)\n",
    "    #losses = [nn.MSELoss(),nn.HingeEmbeddingLoss(),nn.CrossEntropyLoss(),]\n",
    "    #num_loss = trial.suggest_categorical(\"loss\", [0,1,2])\n",
    "    criterion = nn.MSELoss()\n",
    "    loss_epoch = []\n",
    "    for epoch in range(EPOCHS):\n",
    "        for data in train_loader:\n",
    "            data = data.to(device)\n",
    "            optimizer.zero_grad()\n",
    "            recon_data = model(data.float())\n",
    "            loss = criterion(recon_data, data.float())\n",
    "            loss.backward()\n",
    "            optimizer.step()      \n",
    "        loss_epoch.append(loss.item())\n",
    "        print('Epoch [{}/{}], Loss: {:.4f}'.format(epoch+1, EPOCHS, loss.item()))\n",
    "        final_loss = loss_epoch[-1]\n",
    "        trial.report(final_loss, epoch)\n",
    "\n",
    "        # Handle pruning based on the intermediate value.\n",
    "        if trial.should_prune():\n",
    "            raise optuna.exceptions.TrialPruned()\n",
    "\n",
    "    return final_loss\n",
    "\n",
    "\n",
    "chroma_t_s = process_time()\n",
    "study = optuna.create_study(direction=\"minimize\")\n",
    "study.optimize(objective, n_trials=N_TRIALS)\n",
    "chroma_t_e = process_time()\n",
    "print(\"Best trial:\")\n",
    "trial = study.best_trial\n",
    "print(trial)\n",
    "times = (chroma_t_e-chroma_t_s)\n",
    "print('Tiempo de ejecucion',times)\n"
   ]
  },
  {
   "cell_type": "code",
   "execution_count": 15,
   "id": "f26c2bef",
   "metadata": {},
   "outputs": [
    {
     "name": "stdout",
     "output_type": "stream",
     "text": [
      "tiempo de ejecucion 2983.2258980620027\n"
     ]
    }
   ],
   "source": [
    "print(f'tiempo de ejecucion {times}')"
   ]
  },
  {
   "cell_type": "code",
   "execution_count": 13,
   "id": "c7ea7f73",
   "metadata": {},
   "outputs": [],
   "source": [
    "##tiempo de ejecucion 32621.433589187 200 trials"
   ]
  },
  {
   "cell_type": "code",
   "execution_count": null,
   "id": "97b85bae",
   "metadata": {},
   "outputs": [],
   "source": [
    "# tiem´o de ejecucion 2983.2258980620027 500 trials"
   ]
  },
  {
   "cell_type": "code",
   "execution_count": 34,
   "id": "ba97632a",
   "metadata": {},
   "outputs": [],
   "source": [
    "num_df = 2\n",
    "trial_df = study.trials_dataframe()\n",
    "trial_df.to_csv('./trial_df{}.csv'.format(num_df))"
   ]
  },
  {
   "cell_type": "code",
   "execution_count": 37,
   "id": "8c1bbd5d",
   "metadata": {
    "scrolled": true
   },
   "outputs": [
    {
     "data": {
      "text/plain": [
       "{'encoder_layer3': [193, 1302],\n",
       " 'encoder_dropout3': 0.1528129852902385,\n",
       " 'encoder_layer2': [1302, 386],\n",
       " 'encoder_dropout2': 0.1370017411821048,\n",
       " 'encoder_layer1': [386, 48],\n",
       " 'encoder_dropout1': 0.00014226668033649227,\n",
       " 'bottleneck': [48, 57],\n",
       " 'decoder_layer1': [57, 48],\n",
       " 'decoder_dropout1': 0.00014226668033649227,\n",
       " 'decoder_layer2': [48, 386],\n",
       " 'decoder_dropout2': 0.1370017411821048,\n",
       " 'decoder_layer3': [386, 1302],\n",
       " 'decoder_dropout3': 0.1528129852902385,\n",
       " 'decoder_final': [1302, 193]}"
      ]
     },
     "execution_count": 37,
     "metadata": {},
     "output_type": "execute_result"
    }
   ],
   "source": [
    "study.trials[222].user_attrs"
   ]
  },
  {
   "cell_type": "code",
   "execution_count": 36,
   "id": "5a0c66e5",
   "metadata": {
    "scrolled": false
   },
   "outputs": [
    {
     "data": {
      "text/html": [
       "<div>\n",
       "<style scoped>\n",
       "    .dataframe tbody tr th:only-of-type {\n",
       "        vertical-align: middle;\n",
       "    }\n",
       "\n",
       "    .dataframe tbody tr th {\n",
       "        vertical-align: top;\n",
       "    }\n",
       "\n",
       "    .dataframe thead th {\n",
       "        text-align: right;\n",
       "    }\n",
       "</style>\n",
       "<table border=\"1\" class=\"dataframe\">\n",
       "  <thead>\n",
       "    <tr style=\"text-align: right;\">\n",
       "      <th></th>\n",
       "      <th>number</th>\n",
       "      <th>value</th>\n",
       "      <th>datetime_start</th>\n",
       "      <th>datetime_complete</th>\n",
       "      <th>duration</th>\n",
       "      <th>params_activation</th>\n",
       "      <th>params_bottleneck_size</th>\n",
       "      <th>params_dropout_l1</th>\n",
       "      <th>params_dropout_l2</th>\n",
       "      <th>params_dropout_l3</th>\n",
       "      <th>...</th>\n",
       "      <th>user_attrs_encoder_dropout4</th>\n",
       "      <th>user_attrs_encoder_dropout5</th>\n",
       "      <th>user_attrs_encoder_dropout6</th>\n",
       "      <th>user_attrs_encoder_layer1</th>\n",
       "      <th>user_attrs_encoder_layer2</th>\n",
       "      <th>user_attrs_encoder_layer3</th>\n",
       "      <th>user_attrs_encoder_layer4</th>\n",
       "      <th>user_attrs_encoder_layer5</th>\n",
       "      <th>user_attrs_encoder_layer6</th>\n",
       "      <th>state</th>\n",
       "    </tr>\n",
       "  </thead>\n",
       "  <tbody>\n",
       "    <tr>\n",
       "      <th>0</th>\n",
       "      <td>0</td>\n",
       "      <td>1.095714</td>\n",
       "      <td>2023-04-05 15:56:48.729028</td>\n",
       "      <td>2023-04-05 16:03:17.103191</td>\n",
       "      <td>0 days 00:06:28.374163</td>\n",
       "      <td>0</td>\n",
       "      <td>97</td>\n",
       "      <td>0.373090</td>\n",
       "      <td>0.419342</td>\n",
       "      <td>0.463378</td>\n",
       "      <td>...</td>\n",
       "      <td>0.118223</td>\n",
       "      <td>0.462644</td>\n",
       "      <td>0.357541</td>\n",
       "      <td>[386, 48]</td>\n",
       "      <td>[1302, 386]</td>\n",
       "      <td>[3088, 1302]</td>\n",
       "      <td>[6031, 3088]</td>\n",
       "      <td>[10422, 6031]</td>\n",
       "      <td>[193, 10422]</td>\n",
       "      <td>COMPLETE</td>\n",
       "    </tr>\n",
       "    <tr>\n",
       "      <th>1</th>\n",
       "      <td>1</td>\n",
       "      <td>0.969105</td>\n",
       "      <td>2023-04-05 16:03:17.104349</td>\n",
       "      <td>2023-04-05 16:03:42.618581</td>\n",
       "      <td>0 days 00:00:25.514232</td>\n",
       "      <td>3</td>\n",
       "      <td>91</td>\n",
       "      <td>0.358028</td>\n",
       "      <td>0.358582</td>\n",
       "      <td>0.268583</td>\n",
       "      <td>...</td>\n",
       "      <td>0.257853</td>\n",
       "      <td>NaN</td>\n",
       "      <td>NaN</td>\n",
       "      <td>[386, 48]</td>\n",
       "      <td>[1302, 386]</td>\n",
       "      <td>[3088, 1302]</td>\n",
       "      <td>[193, 3088]</td>\n",
       "      <td>NaN</td>\n",
       "      <td>NaN</td>\n",
       "      <td>COMPLETE</td>\n",
       "    </tr>\n",
       "    <tr>\n",
       "      <th>2</th>\n",
       "      <td>2</td>\n",
       "      <td>1.242917</td>\n",
       "      <td>2023-04-05 16:03:42.619693</td>\n",
       "      <td>2023-04-05 16:05:31.952431</td>\n",
       "      <td>0 days 00:01:49.332738</td>\n",
       "      <td>1</td>\n",
       "      <td>119</td>\n",
       "      <td>0.464029</td>\n",
       "      <td>0.082718</td>\n",
       "      <td>0.457215</td>\n",
       "      <td>...</td>\n",
       "      <td>0.002015</td>\n",
       "      <td>0.153986</td>\n",
       "      <td>NaN</td>\n",
       "      <td>[386, 48]</td>\n",
       "      <td>[1302, 386]</td>\n",
       "      <td>[3088, 1302]</td>\n",
       "      <td>[6031, 3088]</td>\n",
       "      <td>[193, 6031]</td>\n",
       "      <td>NaN</td>\n",
       "      <td>COMPLETE</td>\n",
       "    </tr>\n",
       "    <tr>\n",
       "      <th>3</th>\n",
       "      <td>3</td>\n",
       "      <td>0.785448</td>\n",
       "      <td>2023-04-05 16:05:31.953757</td>\n",
       "      <td>2023-04-05 16:05:56.413413</td>\n",
       "      <td>0 days 00:00:24.459656</td>\n",
       "      <td>2</td>\n",
       "      <td>33</td>\n",
       "      <td>0.477158</td>\n",
       "      <td>0.414451</td>\n",
       "      <td>0.004463</td>\n",
       "      <td>...</td>\n",
       "      <td>0.055156</td>\n",
       "      <td>NaN</td>\n",
       "      <td>NaN</td>\n",
       "      <td>[386, 48]</td>\n",
       "      <td>[1302, 386]</td>\n",
       "      <td>[3088, 1302]</td>\n",
       "      <td>[193, 3088]</td>\n",
       "      <td>NaN</td>\n",
       "      <td>NaN</td>\n",
       "      <td>COMPLETE</td>\n",
       "    </tr>\n",
       "    <tr>\n",
       "      <th>4</th>\n",
       "      <td>4</td>\n",
       "      <td>4.528540</td>\n",
       "      <td>2023-04-05 16:05:56.414717</td>\n",
       "      <td>2023-04-05 16:07:45.664597</td>\n",
       "      <td>0 days 00:01:49.249880</td>\n",
       "      <td>2</td>\n",
       "      <td>45</td>\n",
       "      <td>0.155759</td>\n",
       "      <td>0.270505</td>\n",
       "      <td>0.080408</td>\n",
       "      <td>...</td>\n",
       "      <td>0.473117</td>\n",
       "      <td>0.103223</td>\n",
       "      <td>NaN</td>\n",
       "      <td>[386, 48]</td>\n",
       "      <td>[1302, 386]</td>\n",
       "      <td>[3088, 1302]</td>\n",
       "      <td>[6031, 3088]</td>\n",
       "      <td>[193, 6031]</td>\n",
       "      <td>NaN</td>\n",
       "      <td>COMPLETE</td>\n",
       "    </tr>\n",
       "  </tbody>\n",
       "</table>\n",
       "<p>5 rows × 43 columns</p>\n",
       "</div>"
      ],
      "text/plain": [
       "   number     value             datetime_start          datetime_complete   \n",
       "0       0  1.095714 2023-04-05 15:56:48.729028 2023-04-05 16:03:17.103191  \\\n",
       "1       1  0.969105 2023-04-05 16:03:17.104349 2023-04-05 16:03:42.618581   \n",
       "2       2  1.242917 2023-04-05 16:03:42.619693 2023-04-05 16:05:31.952431   \n",
       "3       3  0.785448 2023-04-05 16:05:31.953757 2023-04-05 16:05:56.413413   \n",
       "4       4  4.528540 2023-04-05 16:05:56.414717 2023-04-05 16:07:45.664597   \n",
       "\n",
       "                duration  params_activation  params_bottleneck_size   \n",
       "0 0 days 00:06:28.374163                  0                      97  \\\n",
       "1 0 days 00:00:25.514232                  3                      91   \n",
       "2 0 days 00:01:49.332738                  1                     119   \n",
       "3 0 days 00:00:24.459656                  2                      33   \n",
       "4 0 days 00:01:49.249880                  2                      45   \n",
       "\n",
       "   params_dropout_l1  params_dropout_l2  params_dropout_l3  ...   \n",
       "0           0.373090           0.419342           0.463378  ...  \\\n",
       "1           0.358028           0.358582           0.268583  ...   \n",
       "2           0.464029           0.082718           0.457215  ...   \n",
       "3           0.477158           0.414451           0.004463  ...   \n",
       "4           0.155759           0.270505           0.080408  ...   \n",
       "\n",
       "   user_attrs_encoder_dropout4  user_attrs_encoder_dropout5   \n",
       "0                     0.118223                     0.462644  \\\n",
       "1                     0.257853                          NaN   \n",
       "2                     0.002015                     0.153986   \n",
       "3                     0.055156                          NaN   \n",
       "4                     0.473117                     0.103223   \n",
       "\n",
       "   user_attrs_encoder_dropout6  user_attrs_encoder_layer1   \n",
       "0                     0.357541                  [386, 48]  \\\n",
       "1                          NaN                  [386, 48]   \n",
       "2                          NaN                  [386, 48]   \n",
       "3                          NaN                  [386, 48]   \n",
       "4                          NaN                  [386, 48]   \n",
       "\n",
       "   user_attrs_encoder_layer2 user_attrs_encoder_layer3   \n",
       "0                [1302, 386]              [3088, 1302]  \\\n",
       "1                [1302, 386]              [3088, 1302]   \n",
       "2                [1302, 386]              [3088, 1302]   \n",
       "3                [1302, 386]              [3088, 1302]   \n",
       "4                [1302, 386]              [3088, 1302]   \n",
       "\n",
       "  user_attrs_encoder_layer4  user_attrs_encoder_layer5   \n",
       "0              [6031, 3088]              [10422, 6031]  \\\n",
       "1               [193, 3088]                        NaN   \n",
       "2              [6031, 3088]                [193, 6031]   \n",
       "3               [193, 3088]                        NaN   \n",
       "4              [6031, 3088]                [193, 6031]   \n",
       "\n",
       "   user_attrs_encoder_layer6     state  \n",
       "0               [193, 10422]  COMPLETE  \n",
       "1                        NaN  COMPLETE  \n",
       "2                        NaN  COMPLETE  \n",
       "3                        NaN  COMPLETE  \n",
       "4                        NaN  COMPLETE  \n",
       "\n",
       "[5 rows x 43 columns]"
      ]
     },
     "execution_count": 36,
     "metadata": {},
     "output_type": "execute_result"
    }
   ],
   "source": [
    "trial_df.head()"
   ]
  }
 ],
 "metadata": {
  "kernelspec": {
   "display_name": "Python 3 (ipykernel)",
   "language": "python",
   "name": "python3"
  },
  "language_info": {
   "codemirror_mode": {
    "name": "ipython",
    "version": 3
   },
   "file_extension": ".py",
   "mimetype": "text/x-python",
   "name": "python",
   "nbconvert_exporter": "python",
   "pygments_lexer": "ipython3",
   "version": "3.8.0"
  }
 },
 "nbformat": 4,
 "nbformat_minor": 5
}
