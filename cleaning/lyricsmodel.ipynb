{
  "nbformat": 4,
  "nbformat_minor": 0,
  "metadata": {
    "colab": {
      "provenance": [],
      "collapsed_sections": [
        "FOJw68UlH8as"
      ]
    },
    "kernelspec": {
      "name": "python3",
      "display_name": "Python 3"
    },
    "language_info": {
      "name": "python"
    },
    "gpuClass": "standard",
    "accelerator": "GPU"
  },
  "cells": [
    {
      "cell_type": "code",
      "source": [
        "from google.colab import drive\n",
        "drive.mount('/content/gdrive')"
      ],
      "metadata": {
        "colab": {
          "base_uri": "https://localhost:8080/"
        },
        "id": "IHyoLT7THm2u",
        "outputId": "8e093616-983f-4941-d006-0c2f582acf31"
      },
      "execution_count": null,
      "outputs": [
        {
          "output_type": "stream",
          "name": "stdout",
          "text": [
            "Mounted at /content/gdrive\n"
          ]
        }
      ]
    },
    {
      "cell_type": "markdown",
      "source": [
        "## Lyrics cleaning\n"
      ],
      "metadata": {
        "id": "FGhf4kXVH24z"
      }
    },
    {
      "cell_type": "code",
      "source": [
        "import pandas as pd\n",
        "import nltk\n",
        "nltk.download('stopwords')\n",
        "nltk.download('punkt')\n",
        "from nltk.corpus import stopwords\n",
        "from nltk.tokenize import word_tokenize\n",
        "from nltk.stem import PorterStemmer\n",
        "import re\n",
        "import string\n",
        "import spacy"
      ],
      "metadata": {
        "colab": {
          "base_uri": "https://localhost:8080/"
        },
        "id": "YnTV9eLZIAu2",
        "outputId": "3b28a9ad-5d5b-4796-ff69-f87eb4e012f6"
      },
      "execution_count": null,
      "outputs": [
        {
          "output_type": "stream",
          "name": "stderr",
          "text": [
            "[nltk_data] Downloading package stopwords to /root/nltk_data...\n",
            "[nltk_data]   Unzipping corpora/stopwords.zip.\n",
            "[nltk_data] Downloading package punkt to /root/nltk_data...\n",
            "[nltk_data]   Unzipping tokenizers/punkt.zip.\n",
            "/usr/local/lib/python3.8/dist-packages/torch/cuda/__init__.py:497: UserWarning: Can't initialize NVML\n",
            "  warnings.warn(\"Can't initialize NVML\")\n"
          ]
        }
      ]
    },
    {
      "cell_type": "code",
      "source": [
        "!python -m spacy download en_core_web_lg"
      ],
      "metadata": {
        "colab": {
          "base_uri": "https://localhost:8080/"
        },
        "id": "9tIn-U84Mk01",
        "outputId": "3479b225-9322-4f62-88a5-aa9451144bbb"
      },
      "execution_count": null,
      "outputs": [
        {
          "output_type": "stream",
          "name": "stdout",
          "text": [
            "/usr/local/lib/python3.8/dist-packages/torch/cuda/__init__.py:497: UserWarning: Can't initialize NVML\n",
            "  warnings.warn(\"Can't initialize NVML\")\n",
            "2023-03-02 21:45:38.211610: W tensorflow/compiler/xla/stream_executor/platform/default/dso_loader.cc:64] Could not load dynamic library 'libnvinfer.so.7'; dlerror: libnvinfer.so.7: cannot open shared object file: No such file or directory; LD_LIBRARY_PATH: /usr/local/nvidia/lib:/usr/local/nvidia/lib64\n",
            "2023-03-02 21:45:38.211749: W tensorflow/compiler/xla/stream_executor/platform/default/dso_loader.cc:64] Could not load dynamic library 'libnvinfer_plugin.so.7'; dlerror: libnvinfer_plugin.so.7: cannot open shared object file: No such file or directory; LD_LIBRARY_PATH: /usr/local/nvidia/lib:/usr/local/nvidia/lib64\n",
            "2023-03-02 21:45:38.211772: W tensorflow/compiler/tf2tensorrt/utils/py_utils.cc:38] TF-TRT Warning: Cannot dlopen some TensorRT libraries. If you would like to use Nvidia GPU with TensorRT, please make sure the missing libraries mentioned above are installed properly.\n",
            "2023-03-02 21:45:39.954451: E tensorflow/compiler/xla/stream_executor/cuda/cuda_driver.cc:267] failed call to cuInit: CUDA_ERROR_NO_DEVICE: no CUDA-capable device is detected\n",
            "Looking in indexes: https://pypi.org/simple, https://us-python.pkg.dev/colab-wheels/public/simple/\n",
            "Collecting en-core-web-lg==3.4.1\n",
            "  Downloading https://github.com/explosion/spacy-models/releases/download/en_core_web_lg-3.4.1/en_core_web_lg-3.4.1-py3-none-any.whl (587.7 MB)\n",
            "\u001b[2K     \u001b[90m━━━━━━━━━━━━━━━━━━━━━━━━━━━━━━━━━━━━━━━\u001b[0m \u001b[32m587.7/587.7 MB\u001b[0m \u001b[31m2.1 MB/s\u001b[0m eta \u001b[36m0:00:00\u001b[0m\n",
            "\u001b[?25hRequirement already satisfied: spacy<3.5.0,>=3.4.0 in /usr/local/lib/python3.8/dist-packages (from en-core-web-lg==3.4.1) (3.4.4)\n",
            "Requirement already satisfied: smart-open<7.0.0,>=5.2.1 in /usr/local/lib/python3.8/dist-packages (from spacy<3.5.0,>=3.4.0->en-core-web-lg==3.4.1) (6.3.0)\n",
            "Requirement already satisfied: preshed<3.1.0,>=3.0.2 in /usr/local/lib/python3.8/dist-packages (from spacy<3.5.0,>=3.4.0->en-core-web-lg==3.4.1) (3.0.8)\n",
            "Requirement already satisfied: srsly<3.0.0,>=2.4.3 in /usr/local/lib/python3.8/dist-packages (from spacy<3.5.0,>=3.4.0->en-core-web-lg==3.4.1) (2.4.6)\n",
            "Requirement already satisfied: thinc<8.2.0,>=8.1.0 in /usr/local/lib/python3.8/dist-packages (from spacy<3.5.0,>=3.4.0->en-core-web-lg==3.4.1) (8.1.7)\n",
            "Requirement already satisfied: jinja2 in /usr/local/lib/python3.8/dist-packages (from spacy<3.5.0,>=3.4.0->en-core-web-lg==3.4.1) (3.1.2)\n",
            "Requirement already satisfied: numpy>=1.15.0 in /usr/local/lib/python3.8/dist-packages (from spacy<3.5.0,>=3.4.0->en-core-web-lg==3.4.1) (1.22.4)\n",
            "Requirement already satisfied: catalogue<2.1.0,>=2.0.6 in /usr/local/lib/python3.8/dist-packages (from spacy<3.5.0,>=3.4.0->en-core-web-lg==3.4.1) (2.0.8)\n",
            "Requirement already satisfied: tqdm<5.0.0,>=4.38.0 in /usr/local/lib/python3.8/dist-packages (from spacy<3.5.0,>=3.4.0->en-core-web-lg==3.4.1) (4.64.1)\n",
            "Requirement already satisfied: spacy-legacy<3.1.0,>=3.0.10 in /usr/local/lib/python3.8/dist-packages (from spacy<3.5.0,>=3.4.0->en-core-web-lg==3.4.1) (3.0.12)\n",
            "Requirement already satisfied: wasabi<1.1.0,>=0.9.1 in /usr/local/lib/python3.8/dist-packages (from spacy<3.5.0,>=3.4.0->en-core-web-lg==3.4.1) (0.10.1)\n",
            "Requirement already satisfied: requests<3.0.0,>=2.13.0 in /usr/local/lib/python3.8/dist-packages (from spacy<3.5.0,>=3.4.0->en-core-web-lg==3.4.1) (2.25.1)\n",
            "Requirement already satisfied: langcodes<4.0.0,>=3.2.0 in /usr/local/lib/python3.8/dist-packages (from spacy<3.5.0,>=3.4.0->en-core-web-lg==3.4.1) (3.3.0)\n",
            "Requirement already satisfied: pydantic!=1.8,!=1.8.1,<1.11.0,>=1.7.4 in /usr/local/lib/python3.8/dist-packages (from spacy<3.5.0,>=3.4.0->en-core-web-lg==3.4.1) (1.10.5)\n",
            "Requirement already satisfied: pathy>=0.3.5 in /usr/local/lib/python3.8/dist-packages (from spacy<3.5.0,>=3.4.0->en-core-web-lg==3.4.1) (0.10.1)\n",
            "Requirement already satisfied: packaging>=20.0 in /usr/local/lib/python3.8/dist-packages (from spacy<3.5.0,>=3.4.0->en-core-web-lg==3.4.1) (23.0)\n",
            "Requirement already satisfied: spacy-loggers<2.0.0,>=1.0.0 in /usr/local/lib/python3.8/dist-packages (from spacy<3.5.0,>=3.4.0->en-core-web-lg==3.4.1) (1.0.4)\n",
            "Requirement already satisfied: typer<0.8.0,>=0.3.0 in /usr/local/lib/python3.8/dist-packages (from spacy<3.5.0,>=3.4.0->en-core-web-lg==3.4.1) (0.7.0)\n",
            "Requirement already satisfied: cymem<2.1.0,>=2.0.2 in /usr/local/lib/python3.8/dist-packages (from spacy<3.5.0,>=3.4.0->en-core-web-lg==3.4.1) (2.0.7)\n",
            "Requirement already satisfied: setuptools in /usr/local/lib/python3.8/dist-packages (from spacy<3.5.0,>=3.4.0->en-core-web-lg==3.4.1) (57.4.0)\n",
            "Requirement already satisfied: murmurhash<1.1.0,>=0.28.0 in /usr/local/lib/python3.8/dist-packages (from spacy<3.5.0,>=3.4.0->en-core-web-lg==3.4.1) (1.0.9)\n",
            "Requirement already satisfied: typing-extensions>=4.2.0 in /usr/local/lib/python3.8/dist-packages (from pydantic!=1.8,!=1.8.1,<1.11.0,>=1.7.4->spacy<3.5.0,>=3.4.0->en-core-web-lg==3.4.1) (4.5.0)\n",
            "Requirement already satisfied: idna<3,>=2.5 in /usr/local/lib/python3.8/dist-packages (from requests<3.0.0,>=2.13.0->spacy<3.5.0,>=3.4.0->en-core-web-lg==3.4.1) (2.10)\n",
            "Requirement already satisfied: urllib3<1.27,>=1.21.1 in /usr/local/lib/python3.8/dist-packages (from requests<3.0.0,>=2.13.0->spacy<3.5.0,>=3.4.0->en-core-web-lg==3.4.1) (1.26.14)\n",
            "Requirement already satisfied: chardet<5,>=3.0.2 in /usr/local/lib/python3.8/dist-packages (from requests<3.0.0,>=2.13.0->spacy<3.5.0,>=3.4.0->en-core-web-lg==3.4.1) (4.0.0)\n",
            "Requirement already satisfied: certifi>=2017.4.17 in /usr/local/lib/python3.8/dist-packages (from requests<3.0.0,>=2.13.0->spacy<3.5.0,>=3.4.0->en-core-web-lg==3.4.1) (2022.12.7)\n",
            "Requirement already satisfied: blis<0.8.0,>=0.7.8 in /usr/local/lib/python3.8/dist-packages (from thinc<8.2.0,>=8.1.0->spacy<3.5.0,>=3.4.0->en-core-web-lg==3.4.1) (0.7.9)\n",
            "Requirement already satisfied: confection<1.0.0,>=0.0.1 in /usr/local/lib/python3.8/dist-packages (from thinc<8.2.0,>=8.1.0->spacy<3.5.0,>=3.4.0->en-core-web-lg==3.4.1) (0.0.4)\n",
            "Requirement already satisfied: click<9.0.0,>=7.1.1 in /usr/local/lib/python3.8/dist-packages (from typer<0.8.0,>=0.3.0->spacy<3.5.0,>=3.4.0->en-core-web-lg==3.4.1) (8.1.3)\n",
            "Requirement already satisfied: MarkupSafe>=2.0 in /usr/local/lib/python3.8/dist-packages (from jinja2->spacy<3.5.0,>=3.4.0->en-core-web-lg==3.4.1) (2.1.2)\n",
            "Installing collected packages: en-core-web-lg\n",
            "Successfully installed en-core-web-lg-3.4.1\n",
            "\u001b[38;5;2m✔ Download and installation successful\u001b[0m\n",
            "You can now load the package via spacy.load('en_core_web_lg')\n"
          ]
        }
      ]
    },
    {
      "cell_type": "code",
      "source": [
        "nlp = spacy.load('en_core_web_lg')"
      ],
      "metadata": {
        "id": "ixvr2C6q7KmE"
      },
      "execution_count": null,
      "outputs": []
    },
    {
      "cell_type": "code",
      "source": [
        "df = pd.read_csv('/content/gdrive/MyDrive/8vo semestre/PDG/lyrics/EnEsSongsDataset.csv')"
      ],
      "metadata": {
        "id": "4Qe56bq9H7iO"
      },
      "execution_count": null,
      "outputs": []
    },
    {
      "cell_type": "code",
      "source": [
        "def clean_text(text):\n",
        "    # Remove newline characters\n",
        "    text = text.replace('\\n', ' ')\n",
        "    # Remove HTML tags\n",
        "    text = re.sub('<.*?>', '', text)\n",
        "    # Convert to lowercase\n",
        "    text = text.lower()\n",
        "    # Remove punctuation\n",
        "    text = text.translate(str.maketrans('', '', string.punctuation))\n",
        "    # Remove whitespace\n",
        "    text = text.strip()\n",
        "    return text"
      ],
      "metadata": {
        "id": "rzNlMlLQUm4Q"
      },
      "execution_count": null,
      "outputs": []
    },
    {
      "cell_type": "code",
      "source": [
        "languages = ['en', 'es']\n",
        "for lang in languages:\n",
        "    # Create a boolean mask for the language\n",
        "    mask = df['language'] == lang\n",
        "    df[f'{lang}_lyric'] = df.loc[mask, 'lyric']"
      ],
      "metadata": {
        "id": "9tljjCTYL548"
      },
      "execution_count": null,
      "outputs": []
    },
    {
      "cell_type": "code",
      "source": [
        "df = df.drop(['Unnamed: 0', 'Unnamed: 0.1','Unnamed: 0.1.1','lyric'], axis=1)"
      ],
      "metadata": {
        "id": "D4KG3EpvIZG-"
      },
      "execution_count": null,
      "outputs": []
    },
    {
      "cell_type": "code",
      "source": [
        "df.head()"
      ],
      "metadata": {
        "colab": {
          "base_uri": "https://localhost:8080/",
          "height": 337
        },
        "id": "V8TszRbUIWDs",
        "outputId": "f5edf200-ff26-4135-9e4e-858208b3285b"
      },
      "execution_count": null,
      "outputs": [
        {
          "output_type": "execute_result",
          "data": {
            "text/plain": [
              "           name                      id                   artist genre  \\\n",
              "0        Yellow  36Owb6DDJbBFXi86x3X61z  Pity Party (Girls Club)   Pop   \n",
              "1    Kryptonite  6ZOBP3NvffbU4SZcrnt1k6             3 Doors Down   Pop   \n",
              "2   Ms. Jackson  0I3q5fE6wg7LIfHGngUTnV                  Outkast   Pop   \n",
              "3  It Wasn't Me  0OaunKfsxkgBvPv68jBbmm           Shaggy,Rik Rok   Pop   \n",
              "4   Ride Wit Me  1NTQbm1B08q3YW6AefylFo                     T.I.   Pop   \n",
              "\n",
              "   popularity  hit lyricsBillboard language  \\\n",
              "0          62  NaN             NaN       en   \n",
              "1          79  1.0             NaN       en   \n",
              "2          81  1.0             NaN       en   \n",
              "3          59  NaN             NaN       en   \n",
              "4          42  NaN             NaN       en   \n",
              "\n",
              "                                            en_lyric es_lyric  \n",
              "0  love sick could try really like really like th...      NaN  \n",
              "1  well take walk around world ease troubled mind...      NaN  \n",
              "2  yeah one right go baby mama mama mama mama bab...      NaN  \n",
              "3  yo open man want man girl catch let catch do n...      NaN  \n",
              "4  want go take ride 3wheeling fo gold ds oh live...      NaN  "
            ],
            "text/html": [
              "\n",
              "  <div id=\"df-450f4898-c8c9-4365-8190-406c15c14c54\">\n",
              "    <div class=\"colab-df-container\">\n",
              "      <div>\n",
              "<style scoped>\n",
              "    .dataframe tbody tr th:only-of-type {\n",
              "        vertical-align: middle;\n",
              "    }\n",
              "\n",
              "    .dataframe tbody tr th {\n",
              "        vertical-align: top;\n",
              "    }\n",
              "\n",
              "    .dataframe thead th {\n",
              "        text-align: right;\n",
              "    }\n",
              "</style>\n",
              "<table border=\"1\" class=\"dataframe\">\n",
              "  <thead>\n",
              "    <tr style=\"text-align: right;\">\n",
              "      <th></th>\n",
              "      <th>name</th>\n",
              "      <th>id</th>\n",
              "      <th>artist</th>\n",
              "      <th>genre</th>\n",
              "      <th>popularity</th>\n",
              "      <th>hit</th>\n",
              "      <th>lyricsBillboard</th>\n",
              "      <th>language</th>\n",
              "      <th>en_lyric</th>\n",
              "      <th>es_lyric</th>\n",
              "    </tr>\n",
              "  </thead>\n",
              "  <tbody>\n",
              "    <tr>\n",
              "      <th>0</th>\n",
              "      <td>Yellow</td>\n",
              "      <td>36Owb6DDJbBFXi86x3X61z</td>\n",
              "      <td>Pity Party (Girls Club)</td>\n",
              "      <td>Pop</td>\n",
              "      <td>62</td>\n",
              "      <td>NaN</td>\n",
              "      <td>NaN</td>\n",
              "      <td>en</td>\n",
              "      <td>love sick could try really like really like th...</td>\n",
              "      <td>NaN</td>\n",
              "    </tr>\n",
              "    <tr>\n",
              "      <th>1</th>\n",
              "      <td>Kryptonite</td>\n",
              "      <td>6ZOBP3NvffbU4SZcrnt1k6</td>\n",
              "      <td>3 Doors Down</td>\n",
              "      <td>Pop</td>\n",
              "      <td>79</td>\n",
              "      <td>1.0</td>\n",
              "      <td>NaN</td>\n",
              "      <td>en</td>\n",
              "      <td>well take walk around world ease troubled mind...</td>\n",
              "      <td>NaN</td>\n",
              "    </tr>\n",
              "    <tr>\n",
              "      <th>2</th>\n",
              "      <td>Ms. Jackson</td>\n",
              "      <td>0I3q5fE6wg7LIfHGngUTnV</td>\n",
              "      <td>Outkast</td>\n",
              "      <td>Pop</td>\n",
              "      <td>81</td>\n",
              "      <td>1.0</td>\n",
              "      <td>NaN</td>\n",
              "      <td>en</td>\n",
              "      <td>yeah one right go baby mama mama mama mama bab...</td>\n",
              "      <td>NaN</td>\n",
              "    </tr>\n",
              "    <tr>\n",
              "      <th>3</th>\n",
              "      <td>It Wasn't Me</td>\n",
              "      <td>0OaunKfsxkgBvPv68jBbmm</td>\n",
              "      <td>Shaggy,Rik Rok</td>\n",
              "      <td>Pop</td>\n",
              "      <td>59</td>\n",
              "      <td>NaN</td>\n",
              "      <td>NaN</td>\n",
              "      <td>en</td>\n",
              "      <td>yo open man want man girl catch let catch do n...</td>\n",
              "      <td>NaN</td>\n",
              "    </tr>\n",
              "    <tr>\n",
              "      <th>4</th>\n",
              "      <td>Ride Wit Me</td>\n",
              "      <td>1NTQbm1B08q3YW6AefylFo</td>\n",
              "      <td>T.I.</td>\n",
              "      <td>Pop</td>\n",
              "      <td>42</td>\n",
              "      <td>NaN</td>\n",
              "      <td>NaN</td>\n",
              "      <td>en</td>\n",
              "      <td>want go take ride 3wheeling fo gold ds oh live...</td>\n",
              "      <td>NaN</td>\n",
              "    </tr>\n",
              "  </tbody>\n",
              "</table>\n",
              "</div>\n",
              "      <button class=\"colab-df-convert\" onclick=\"convertToInteractive('df-450f4898-c8c9-4365-8190-406c15c14c54')\"\n",
              "              title=\"Convert this dataframe to an interactive table.\"\n",
              "              style=\"display:none;\">\n",
              "        \n",
              "  <svg xmlns=\"http://www.w3.org/2000/svg\" height=\"24px\"viewBox=\"0 0 24 24\"\n",
              "       width=\"24px\">\n",
              "    <path d=\"M0 0h24v24H0V0z\" fill=\"none\"/>\n",
              "    <path d=\"M18.56 5.44l.94 2.06.94-2.06 2.06-.94-2.06-.94-.94-2.06-.94 2.06-2.06.94zm-11 1L8.5 8.5l.94-2.06 2.06-.94-2.06-.94L8.5 2.5l-.94 2.06-2.06.94zm10 10l.94 2.06.94-2.06 2.06-.94-2.06-.94-.94-2.06-.94 2.06-2.06.94z\"/><path d=\"M17.41 7.96l-1.37-1.37c-.4-.4-.92-.59-1.43-.59-.52 0-1.04.2-1.43.59L10.3 9.45l-7.72 7.72c-.78.78-.78 2.05 0 2.83L4 21.41c.39.39.9.59 1.41.59.51 0 1.02-.2 1.41-.59l7.78-7.78 2.81-2.81c.8-.78.8-2.07 0-2.86zM5.41 20L4 18.59l7.72-7.72 1.47 1.35L5.41 20z\"/>\n",
              "  </svg>\n",
              "      </button>\n",
              "      \n",
              "  <style>\n",
              "    .colab-df-container {\n",
              "      display:flex;\n",
              "      flex-wrap:wrap;\n",
              "      gap: 12px;\n",
              "    }\n",
              "\n",
              "    .colab-df-convert {\n",
              "      background-color: #E8F0FE;\n",
              "      border: none;\n",
              "      border-radius: 50%;\n",
              "      cursor: pointer;\n",
              "      display: none;\n",
              "      fill: #1967D2;\n",
              "      height: 32px;\n",
              "      padding: 0 0 0 0;\n",
              "      width: 32px;\n",
              "    }\n",
              "\n",
              "    .colab-df-convert:hover {\n",
              "      background-color: #E2EBFA;\n",
              "      box-shadow: 0px 1px 2px rgba(60, 64, 67, 0.3), 0px 1px 3px 1px rgba(60, 64, 67, 0.15);\n",
              "      fill: #174EA6;\n",
              "    }\n",
              "\n",
              "    [theme=dark] .colab-df-convert {\n",
              "      background-color: #3B4455;\n",
              "      fill: #D2E3FC;\n",
              "    }\n",
              "\n",
              "    [theme=dark] .colab-df-convert:hover {\n",
              "      background-color: #434B5C;\n",
              "      box-shadow: 0px 1px 3px 1px rgba(0, 0, 0, 0.15);\n",
              "      filter: drop-shadow(0px 1px 2px rgba(0, 0, 0, 0.3));\n",
              "      fill: #FFFFFF;\n",
              "    }\n",
              "  </style>\n",
              "\n",
              "      <script>\n",
              "        const buttonEl =\n",
              "          document.querySelector('#df-450f4898-c8c9-4365-8190-406c15c14c54 button.colab-df-convert');\n",
              "        buttonEl.style.display =\n",
              "          google.colab.kernel.accessAllowed ? 'block' : 'none';\n",
              "\n",
              "        async function convertToInteractive(key) {\n",
              "          const element = document.querySelector('#df-450f4898-c8c9-4365-8190-406c15c14c54');\n",
              "          const dataTable =\n",
              "            await google.colab.kernel.invokeFunction('convertToInteractive',\n",
              "                                                     [key], {});\n",
              "          if (!dataTable) return;\n",
              "\n",
              "          const docLinkHtml = 'Like what you see? Visit the ' +\n",
              "            '<a target=\"_blank\" href=https://colab.research.google.com/notebooks/data_table.ipynb>data table notebook</a>'\n",
              "            + ' to learn more about interactive tables.';\n",
              "          element.innerHTML = '';\n",
              "          dataTable['output_type'] = 'display_data';\n",
              "          await google.colab.output.renderOutput(dataTable, element);\n",
              "          const docLink = document.createElement('div');\n",
              "          docLink.innerHTML = docLinkHtml;\n",
              "          element.appendChild(docLink);\n",
              "        }\n",
              "      </script>\n",
              "    </div>\n",
              "  </div>\n",
              "  "
            ]
          },
          "metadata": {},
          "execution_count": 24
        }
      ]
    },
    {
      "cell_type": "code",
      "source": [
        "df['en_lyric'][300]"
      ],
      "metadata": {
        "colab": {
          "base_uri": "https://localhost:8080/",
          "height": 139
        },
        "id": "jETv39RjNLRg",
        "outputId": "bb4a970d-4a6d-464d-edc2-6930d1d634db"
      },
      "execution_count": null,
      "outputs": [
        {
          "output_type": "execute_result",
          "data": {
            "text/plain": [
              "'You\\'ve got this new head filled up with smoke\\nAnd I\\'ve got my veins all tangled close\\nTo the jukebox bars you frequent\\nThe safest place to hide\\nA long night spent with your most obvious weakness\\nYou start shaking at the thought\\nyou are everything I want\\n\\'Cause you are everything I\\'m not\\nAnd we lay, we lay together just not\\nToo close, too close (How close is close enough?)\\nWe lay, we lay together just not\\nToo close, too close\\nI just wanna break you down so badly\\nWell I trip over everything you say\\nI just wanna break you down so badly\\nIn the worst way\\nMy inarticulate store bought\\nhangover hobby kit it talks\\nAnd it says, \"You, oh, you are so cool.\"\\n\"Scissor shaped across the bed,\\nYou are red, violent red.\"\\nYou hollow out my hungry eyes\\nYou hollow out my hungry eyes\\nAnd we lay, we lay together just not\\nToo close, too close (How close is close enough?)\\nWe lay, we lay together just not\\nToo close, too close\\nI just wanna break you down so badly\\nWell I trip over everything you say\\nWell I just wanna break you down so badly\\nIn the worst way\\nI just wanna break you down so badly\\nWell I trip over everything you say\\nI just wanna break you down so badly\\nIn the worst way (worst way)\\nI\\'m gonna make damn sure\\nthat you can\\'t ever leave\\nNo, you won\\'t ever get too far from me\\nYou won\\'t ever get too far from me\\nI\\'ll make damn sure\\nthat you can\\'t ever leave\\nNo, you won\\'t ever get too far from me\\nYou won\\'t ever get too far from me\\nYou won\\'t ever get too far from me (ever get too far)\\nYou won\\'t ever get too far\\nI just wanna break you down so badly\\nWell I trip over everything you say\\nWell I just wanna break you down so badly\\nIn the worst way (worst way)\\nI\\'m gonna make damn sure\\nI just wanna break you down so badly\\nI just wanna break you down so badly\\nIn the worst way (worst way)\\n'"
            ],
            "application/vnd.google.colaboratory.intrinsic+json": {
              "type": "string"
            }
          },
          "metadata": {},
          "execution_count": 10
        }
      ]
    },
    {
      "cell_type": "code",
      "source": [
        "df['en_lyric'] = df['en_lyric'].fillna('')"
      ],
      "metadata": {
        "id": "XPsIHfkpNzya"
      },
      "execution_count": null,
      "outputs": []
    },
    {
      "cell_type": "code",
      "source": [
        "df['en_lyric'] = df['en_lyric'].apply(clean_text)"
      ],
      "metadata": {
        "id": "oLKpbeEnUp3J"
      },
      "execution_count": null,
      "outputs": []
    },
    {
      "cell_type": "code",
      "source": [
        "df['en_lyric'][300]"
      ],
      "metadata": {
        "colab": {
          "base_uri": "https://localhost:8080/",
          "height": 139
        },
        "id": "U52nvgsfSxOn",
        "outputId": "857ef7dd-b3ca-4bbb-c67b-e911132c201b"
      },
      "execution_count": null,
      "outputs": [
        {
          "output_type": "execute_result",
          "data": {
            "text/plain": [
              "'youve got this new head filled up with smoke and ive got my veins all tangled close to the jukebox bars you frequent the safest place to hide a long night spent with your most obvious weakness you start shaking at the thought you are everything i want cause you are everything im not and we lay we lay together just not too close too close how close is close enough we lay we lay together just not too close too close i just wanna break you down so badly well i trip over everything you say i just wanna break you down so badly in the worst way my inarticulate store bought hangover hobby kit it talks and it says you oh you are so cool scissor shaped across the bed you are red violent red you hollow out my hungry eyes you hollow out my hungry eyes and we lay we lay together just not too close too close how close is close enough we lay we lay together just not too close too close i just wanna break you down so badly well i trip over everything you say well i just wanna break you down so badly in the worst way i just wanna break you down so badly well i trip over everything you say i just wanna break you down so badly in the worst way worst way im gonna make damn sure that you cant ever leave no you wont ever get too far from me you wont ever get too far from me ill make damn sure that you cant ever leave no you wont ever get too far from me you wont ever get too far from me you wont ever get too far from me ever get too far you wont ever get too far i just wanna break you down so badly well i trip over everything you say well i just wanna break you down so badly in the worst way worst way im gonna make damn sure i just wanna break you down so badly i just wanna break you down so badly in the worst way worst way'"
            ],
            "application/vnd.google.colaboratory.intrinsic+json": {
              "type": "string"
            }
          },
          "metadata": {},
          "execution_count": 13
        }
      ]
    },
    {
      "cell_type": "code",
      "source": [
        "stop_words = set(stopwords.words('english'))\n",
        "stemmer = PorterStemmer()"
      ],
      "metadata": {
        "id": "PKjru-gcM_qD"
      },
      "execution_count": null,
      "outputs": []
    },
    {
      "cell_type": "code",
      "source": [
        "# tokenize lyrics\n",
        "df['en_lyric'] = df['en_lyric'].apply(lambda x: word_tokenize(x))"
      ],
      "metadata": {
        "id": "-3KDKKkEJErN"
      },
      "execution_count": null,
      "outputs": []
    },
    {
      "cell_type": "code",
      "source": [
        "df['en_lyric'] = df['en_lyric'].apply(lambda x: [word for word in x if word.lower() not in stop_words])"
      ],
      "metadata": {
        "id": "hgDLnfadU-4f"
      },
      "execution_count": null,
      "outputs": []
    },
    {
      "cell_type": "code",
      "source": [
        "#df['en_lyric'] = df['en_lyric'].apply(lambda x: [stemmer.stem(word) for word in x if word.lower() not in stop_words])"
      ],
      "metadata": {
        "id": "Sir4V-TVKZo1"
      },
      "execution_count": null,
      "outputs": []
    },
    {
      "cell_type": "code",
      "source": [
        "df['en_lyric'] = df['en_lyric'].apply(lambda x: ' '.join(x))"
      ],
      "metadata": {
        "id": "iNYx0cF_PL3c"
      },
      "execution_count": null,
      "outputs": []
    },
    {
      "cell_type": "code",
      "source": [
        "df['en_lyric'][300]"
      ],
      "metadata": {
        "colab": {
          "base_uri": "https://localhost:8080/",
          "height": 139
        },
        "id": "xXXengNmN0yH",
        "outputId": "9d292a70-4aaa-41ed-b619-6931707f5f02"
      },
      "execution_count": null,
      "outputs": [
        {
          "output_type": "execute_result",
          "data": {
            "text/plain": [
              "'youve got new head filled smoke ive got veins tangled close jukebox bars frequent safest place hide long night spent obvious weakness start shaking thought everything want cause everything im lay lay together close close close close enough lay lay together close close wan na break badly well trip everything say wan na break badly worst way inarticulate store bought hangover hobby kit talks says oh cool scissor shaped across bed red violent red hollow hungry eyes hollow hungry eyes lay lay together close close close close enough lay lay together close close wan na break badly well trip everything say well wan na break badly worst way wan na break badly well trip everything say wan na break badly worst way worst way im gon na make damn sure cant ever leave wont ever get far wont ever get far ill make damn sure cant ever leave wont ever get far wont ever get far wont ever get far ever get far wont ever get far wan na break badly well trip everything say well wan na break badly worst way worst way im gon na make damn sure wan na break badly wan na break badly worst way worst way'"
            ],
            "application/vnd.google.colaboratory.intrinsic+json": {
              "type": "string"
            }
          },
          "metadata": {},
          "execution_count": 18
        }
      ]
    },
    {
      "cell_type": "code",
      "source": [
        "def lemmatize(text):\n",
        "  doc = nlp(text)\n",
        "  return ' '.join([token.lemma_ for token in doc])"
      ],
      "metadata": {
        "id": "dvP-USUp7gb7"
      },
      "execution_count": null,
      "outputs": []
    },
    {
      "cell_type": "code",
      "source": [
        "df['en_lyric'] = df['en_lyric'].apply(lambda x: lemmatize(x))"
      ],
      "metadata": {
        "id": "zZaXuNCB8QvC"
      },
      "execution_count": null,
      "outputs": []
    },
    {
      "cell_type": "code",
      "source": [
        "df.head()"
      ],
      "metadata": {
        "colab": {
          "base_uri": "https://localhost:8080/",
          "height": 337
        },
        "id": "UjmRTBTmPxja",
        "outputId": "b86ac378-37a2-4db0-e4ad-037782639f5d"
      },
      "execution_count": null,
      "outputs": [
        {
          "output_type": "execute_result",
          "data": {
            "text/plain": [
              "           name                      id                   artist genre  \\\n",
              "0        Yellow  36Owb6DDJbBFXi86x3X61z  Pity Party (Girls Club)   Pop   \n",
              "1    Kryptonite  6ZOBP3NvffbU4SZcrnt1k6             3 Doors Down   Pop   \n",
              "2   Ms. Jackson  0I3q5fE6wg7LIfHGngUTnV                  Outkast   Pop   \n",
              "3  It Wasn't Me  0OaunKfsxkgBvPv68jBbmm           Shaggy,Rik Rok   Pop   \n",
              "4   Ride Wit Me  1NTQbm1B08q3YW6AefylFo                     T.I.   Pop   \n",
              "\n",
              "   popularity  hit lyricsBillboard language  \\\n",
              "0          62  NaN             NaN       en   \n",
              "1          79  1.0             NaN       en   \n",
              "2          81  1.0             NaN       en   \n",
              "3          59  NaN             NaN       en   \n",
              "4          42  NaN             NaN       en   \n",
              "\n",
              "                                            en_lyric es_lyric  \n",
              "0  love sick could try really like really like th...      NaN  \n",
              "1  well take walk around world ease troubled mind...      NaN  \n",
              "2  yeah one right go baby mama mama mama mama bab...      NaN  \n",
              "3  yo open man want man girl catch let catch do n...      NaN  \n",
              "4  want go take ride 3wheeling fo gold ds oh live...      NaN  "
            ],
            "text/html": [
              "\n",
              "  <div id=\"df-1c23a7a6-1347-47d9-8672-74e2993022f1\">\n",
              "    <div class=\"colab-df-container\">\n",
              "      <div>\n",
              "<style scoped>\n",
              "    .dataframe tbody tr th:only-of-type {\n",
              "        vertical-align: middle;\n",
              "    }\n",
              "\n",
              "    .dataframe tbody tr th {\n",
              "        vertical-align: top;\n",
              "    }\n",
              "\n",
              "    .dataframe thead th {\n",
              "        text-align: right;\n",
              "    }\n",
              "</style>\n",
              "<table border=\"1\" class=\"dataframe\">\n",
              "  <thead>\n",
              "    <tr style=\"text-align: right;\">\n",
              "      <th></th>\n",
              "      <th>name</th>\n",
              "      <th>id</th>\n",
              "      <th>artist</th>\n",
              "      <th>genre</th>\n",
              "      <th>popularity</th>\n",
              "      <th>hit</th>\n",
              "      <th>lyricsBillboard</th>\n",
              "      <th>language</th>\n",
              "      <th>en_lyric</th>\n",
              "      <th>es_lyric</th>\n",
              "    </tr>\n",
              "  </thead>\n",
              "  <tbody>\n",
              "    <tr>\n",
              "      <th>0</th>\n",
              "      <td>Yellow</td>\n",
              "      <td>36Owb6DDJbBFXi86x3X61z</td>\n",
              "      <td>Pity Party (Girls Club)</td>\n",
              "      <td>Pop</td>\n",
              "      <td>62</td>\n",
              "      <td>NaN</td>\n",
              "      <td>NaN</td>\n",
              "      <td>en</td>\n",
              "      <td>love sick could try really like really like th...</td>\n",
              "      <td>NaN</td>\n",
              "    </tr>\n",
              "    <tr>\n",
              "      <th>1</th>\n",
              "      <td>Kryptonite</td>\n",
              "      <td>6ZOBP3NvffbU4SZcrnt1k6</td>\n",
              "      <td>3 Doors Down</td>\n",
              "      <td>Pop</td>\n",
              "      <td>79</td>\n",
              "      <td>1.0</td>\n",
              "      <td>NaN</td>\n",
              "      <td>en</td>\n",
              "      <td>well take walk around world ease troubled mind...</td>\n",
              "      <td>NaN</td>\n",
              "    </tr>\n",
              "    <tr>\n",
              "      <th>2</th>\n",
              "      <td>Ms. Jackson</td>\n",
              "      <td>0I3q5fE6wg7LIfHGngUTnV</td>\n",
              "      <td>Outkast</td>\n",
              "      <td>Pop</td>\n",
              "      <td>81</td>\n",
              "      <td>1.0</td>\n",
              "      <td>NaN</td>\n",
              "      <td>en</td>\n",
              "      <td>yeah one right go baby mama mama mama mama bab...</td>\n",
              "      <td>NaN</td>\n",
              "    </tr>\n",
              "    <tr>\n",
              "      <th>3</th>\n",
              "      <td>It Wasn't Me</td>\n",
              "      <td>0OaunKfsxkgBvPv68jBbmm</td>\n",
              "      <td>Shaggy,Rik Rok</td>\n",
              "      <td>Pop</td>\n",
              "      <td>59</td>\n",
              "      <td>NaN</td>\n",
              "      <td>NaN</td>\n",
              "      <td>en</td>\n",
              "      <td>yo open man want man girl catch let catch do n...</td>\n",
              "      <td>NaN</td>\n",
              "    </tr>\n",
              "    <tr>\n",
              "      <th>4</th>\n",
              "      <td>Ride Wit Me</td>\n",
              "      <td>1NTQbm1B08q3YW6AefylFo</td>\n",
              "      <td>T.I.</td>\n",
              "      <td>Pop</td>\n",
              "      <td>42</td>\n",
              "      <td>NaN</td>\n",
              "      <td>NaN</td>\n",
              "      <td>en</td>\n",
              "      <td>want go take ride 3wheeling fo gold ds oh live...</td>\n",
              "      <td>NaN</td>\n",
              "    </tr>\n",
              "  </tbody>\n",
              "</table>\n",
              "</div>\n",
              "      <button class=\"colab-df-convert\" onclick=\"convertToInteractive('df-1c23a7a6-1347-47d9-8672-74e2993022f1')\"\n",
              "              title=\"Convert this dataframe to an interactive table.\"\n",
              "              style=\"display:none;\">\n",
              "        \n",
              "  <svg xmlns=\"http://www.w3.org/2000/svg\" height=\"24px\"viewBox=\"0 0 24 24\"\n",
              "       width=\"24px\">\n",
              "    <path d=\"M0 0h24v24H0V0z\" fill=\"none\"/>\n",
              "    <path d=\"M18.56 5.44l.94 2.06.94-2.06 2.06-.94-2.06-.94-.94-2.06-.94 2.06-2.06.94zm-11 1L8.5 8.5l.94-2.06 2.06-.94-2.06-.94L8.5 2.5l-.94 2.06-2.06.94zm10 10l.94 2.06.94-2.06 2.06-.94-2.06-.94-.94-2.06-.94 2.06-2.06.94z\"/><path d=\"M17.41 7.96l-1.37-1.37c-.4-.4-.92-.59-1.43-.59-.52 0-1.04.2-1.43.59L10.3 9.45l-7.72 7.72c-.78.78-.78 2.05 0 2.83L4 21.41c.39.39.9.59 1.41.59.51 0 1.02-.2 1.41-.59l7.78-7.78 2.81-2.81c.8-.78.8-2.07 0-2.86zM5.41 20L4 18.59l7.72-7.72 1.47 1.35L5.41 20z\"/>\n",
              "  </svg>\n",
              "      </button>\n",
              "      \n",
              "  <style>\n",
              "    .colab-df-container {\n",
              "      display:flex;\n",
              "      flex-wrap:wrap;\n",
              "      gap: 12px;\n",
              "    }\n",
              "\n",
              "    .colab-df-convert {\n",
              "      background-color: #E8F0FE;\n",
              "      border: none;\n",
              "      border-radius: 50%;\n",
              "      cursor: pointer;\n",
              "      display: none;\n",
              "      fill: #1967D2;\n",
              "      height: 32px;\n",
              "      padding: 0 0 0 0;\n",
              "      width: 32px;\n",
              "    }\n",
              "\n",
              "    .colab-df-convert:hover {\n",
              "      background-color: #E2EBFA;\n",
              "      box-shadow: 0px 1px 2px rgba(60, 64, 67, 0.3), 0px 1px 3px 1px rgba(60, 64, 67, 0.15);\n",
              "      fill: #174EA6;\n",
              "    }\n",
              "\n",
              "    [theme=dark] .colab-df-convert {\n",
              "      background-color: #3B4455;\n",
              "      fill: #D2E3FC;\n",
              "    }\n",
              "\n",
              "    [theme=dark] .colab-df-convert:hover {\n",
              "      background-color: #434B5C;\n",
              "      box-shadow: 0px 1px 3px 1px rgba(0, 0, 0, 0.15);\n",
              "      filter: drop-shadow(0px 1px 2px rgba(0, 0, 0, 0.3));\n",
              "      fill: #FFFFFF;\n",
              "    }\n",
              "  </style>\n",
              "\n",
              "      <script>\n",
              "        const buttonEl =\n",
              "          document.querySelector('#df-1c23a7a6-1347-47d9-8672-74e2993022f1 button.colab-df-convert');\n",
              "        buttonEl.style.display =\n",
              "          google.colab.kernel.accessAllowed ? 'block' : 'none';\n",
              "\n",
              "        async function convertToInteractive(key) {\n",
              "          const element = document.querySelector('#df-1c23a7a6-1347-47d9-8672-74e2993022f1');\n",
              "          const dataTable =\n",
              "            await google.colab.kernel.invokeFunction('convertToInteractive',\n",
              "                                                     [key], {});\n",
              "          if (!dataTable) return;\n",
              "\n",
              "          const docLinkHtml = 'Like what you see? Visit the ' +\n",
              "            '<a target=\"_blank\" href=https://colab.research.google.com/notebooks/data_table.ipynb>data table notebook</a>'\n",
              "            + ' to learn more about interactive tables.';\n",
              "          element.innerHTML = '';\n",
              "          dataTable['output_type'] = 'display_data';\n",
              "          await google.colab.output.renderOutput(dataTable, element);\n",
              "          const docLink = document.createElement('div');\n",
              "          docLink.innerHTML = docLinkHtml;\n",
              "          element.appendChild(docLink);\n",
              "        }\n",
              "      </script>\n",
              "    </div>\n",
              "  </div>\n",
              "  "
            ]
          },
          "metadata": {},
          "execution_count": 21
        }
      ]
    },
    {
      "cell_type": "code",
      "source": [
        "df['en_lyric'][300]"
      ],
      "metadata": {
        "colab": {
          "base_uri": "https://localhost:8080/",
          "height": 139
        },
        "id": "SuUidOY2cDgR",
        "outputId": "3ab0d2ae-962d-4f85-ada2-f40b1d3d115a"
      },
      "execution_count": null,
      "outputs": [
        {
          "output_type": "execute_result",
          "data": {
            "text/plain": [
              "'you ve get new head fill smoke I ve get vein tangle close jukebox bar frequent safe place hide long night spend obvious weakness start shake think everything want cause everything I m lie lay together close close close close enough lay lay together close close wan na break badly well trip everything say wan na break badly bad way inarticulate store buy hangover hobby kit talk say oh cool scissor shape across bed red violent red hollow hungry eye hollow hungry eye lie lie together close close close close enough lay lay together close close wan na break badly well trip everything say well wan na break badly bad way wan na break badly well trip everything say wan na break badly bad way bad way I m go to make damn sure can not ever leave will not ever get far will not ever get far ill make damn sure can not ever leave will not ever get far will not ever get far will not ever get far ever get far will not ever get far wan na break badly well trip everything say well wan na break badly bad way bad way I m go to make damn sure wan na break badly wan na break badly bad way bad way'"
            ],
            "application/vnd.google.colaboratory.intrinsic+json": {
              "type": "string"
            }
          },
          "metadata": {},
          "execution_count": 22
        }
      ]
    },
    {
      "cell_type": "code",
      "source": [
        "sentence = \"The striped bats are hanging on their feet for best\"\n",
        "print(lemmatize(sentence))"
      ],
      "metadata": {
        "colab": {
          "base_uri": "https://localhost:8080/"
        },
        "id": "o4nhx0KMFla1",
        "outputId": "6ba301a6-b191-4646-df5f-f7905852720d"
      },
      "execution_count": null,
      "outputs": [
        {
          "output_type": "stream",
          "name": "stdout",
          "text": [
            "the striped bat be hang on their foot for good\n"
          ]
        }
      ]
    },
    {
      "cell_type": "code",
      "source": [
        "df.to_csv('/content/gdrive/MyDrive/8vo semestre/PDG/lyrics/clean_lyrics_lemmatized.csv', index=False)"
      ],
      "metadata": {
        "id": "yNUh6gu5PNhD"
      },
      "execution_count": null,
      "outputs": []
    },
    {
      "cell_type": "code",
      "source": [
        "df.to_csv('/content/gdrive/MyDrive/8vo semestre/PDG/lyrics/clean_lyrics_noStemm.csv', index=False)"
      ],
      "metadata": {
        "id": "LuhLTPFXVtky"
      },
      "execution_count": null,
      "outputs": []
    },
    {
      "cell_type": "markdown",
      "source": [
        "# Load and split dataset"
      ],
      "metadata": {
        "id": "WGFuKUPQrfOW"
      }
    },
    {
      "cell_type": "code",
      "source": [
        "!pip install optuna"
      ],
      "metadata": {
        "id": "VlAjJmYKHJya"
      },
      "execution_count": null,
      "outputs": []
    },
    {
      "cell_type": "code",
      "source": [
        "import numpy as np\n",
        "from sklearn.model_selection import train_test_split\n",
        "import pandas as pd"
      ],
      "metadata": {
        "id": "nG5R_C-irryD"
      },
      "execution_count": null,
      "outputs": []
    },
    {
      "cell_type": "code",
      "source": [
        "initial_df = pd.read_csv('/content/clean_lyrics_lemmatizedHits.csv')"
      ],
      "metadata": {
        "id": "yzXvAUJxrmP_"
      },
      "execution_count": null,
      "outputs": []
    },
    {
      "cell_type": "code",
      "source": [
        "initial_df.info()"
      ],
      "metadata": {
        "colab": {
          "base_uri": "https://localhost:8080/"
        },
        "id": "T84bOkDQuJgC",
        "outputId": "5fa0a8af-37c0-4d9e-bd20-d2a0331582eb"
      },
      "execution_count": null,
      "outputs": [
        {
          "output_type": "stream",
          "name": "stdout",
          "text": [
            "<class 'pandas.core.frame.DataFrame'>\n",
            "RangeIndex: 39397 entries, 0 to 39396\n",
            "Data columns (total 11 columns):\n",
            " #   Column           Non-Null Count  Dtype \n",
            "---  ------           --------------  ----- \n",
            " 0   Unnamed: 0       39397 non-null  int64 \n",
            " 1   name             39397 non-null  object\n",
            " 2   id               39397 non-null  object\n",
            " 3   artist           39397 non-null  object\n",
            " 4   genre            39397 non-null  object\n",
            " 5   popularity       39397 non-null  int64 \n",
            " 6   hit              39397 non-null  int64 \n",
            " 7   lyricsBillboard  1630 non-null   object\n",
            " 8   language         39397 non-null  object\n",
            " 9   en_lyric         37201 non-null  object\n",
            " 10  es_lyric         2196 non-null   object\n",
            "dtypes: int64(3), object(8)\n",
            "memory usage: 3.3+ MB\n"
          ]
        }
      ]
    },
    {
      "cell_type": "code",
      "source": [
        "initial_df[initial_df[\"genre\"]==\"Pop\"].info()"
      ],
      "metadata": {
        "colab": {
          "base_uri": "https://localhost:8080/"
        },
        "id": "2JF-Qh_xsCjP",
        "outputId": "c30fad22-5b01-4616-b529-ae195648c5f8"
      },
      "execution_count": null,
      "outputs": [
        {
          "output_type": "stream",
          "name": "stdout",
          "text": [
            "<class 'pandas.core.frame.DataFrame'>\n",
            "Int64Index: 19283 entries, 0 to 39396\n",
            "Data columns (total 11 columns):\n",
            " #   Column           Non-Null Count  Dtype \n",
            "---  ------           --------------  ----- \n",
            " 0   Unnamed: 0       19283 non-null  int64 \n",
            " 1   name             19283 non-null  object\n",
            " 2   id               19283 non-null  object\n",
            " 3   artist           19283 non-null  object\n",
            " 4   genre            19283 non-null  object\n",
            " 5   popularity       19283 non-null  int64 \n",
            " 6   hit              19283 non-null  int64 \n",
            " 7   lyricsBillboard  1082 non-null   object\n",
            " 8   language         19283 non-null  object\n",
            " 9   en_lyric         17641 non-null  object\n",
            " 10  es_lyric         1642 non-null   object\n",
            "dtypes: int64(3), object(8)\n",
            "memory usage: 1.8+ MB\n"
          ]
        }
      ]
    },
    {
      "cell_type": "code",
      "source": [],
      "metadata": {
        "id": "a_K50y3usCiY"
      },
      "execution_count": null,
      "outputs": []
    },
    {
      "cell_type": "code",
      "source": [
        "df = initial_df[initial_df[\"language\"] == 'en'] #se seleccionan solo las canciones que estén en ingles"
      ],
      "metadata": {
        "id": "DJqCd-Snshh-"
      },
      "execution_count": null,
      "outputs": []
    },
    {
      "cell_type": "code",
      "source": [
        "X = df.loc[:,['en_lyric']]\n",
        "y = df.loc[:,['hit']]"
      ],
      "metadata": {
        "id": "8UgbvzPyrjQ9"
      },
      "execution_count": null,
      "outputs": []
    },
    {
      "cell_type": "code",
      "source": [
        "test_size = 0.2"
      ],
      "metadata": {
        "id": "H_jE4gTdrjPu"
      },
      "execution_count": null,
      "outputs": []
    },
    {
      "cell_type": "code",
      "source": [
        "val_size = 0.2"
      ],
      "metadata": {
        "id": "ohC8YF41XZBs"
      },
      "execution_count": null,
      "outputs": []
    },
    {
      "cell_type": "code",
      "source": [
        "X_train, X_test, y_train, y_test = train_test_split(X, y, test_size=test_size, random_state=42,shuffle=True)"
      ],
      "metadata": {
        "id": "7BWsvO4bsPnk"
      },
      "execution_count": null,
      "outputs": []
    },
    {
      "cell_type": "code",
      "source": [
        "X_train, X_val, y_train, y_val = train_test_split(X_train, y_train, test_size=val_size, random_state=42,shuffle=True)"
      ],
      "metadata": {
        "id": "4sYKxzGLXJx-"
      },
      "execution_count": null,
      "outputs": []
    },
    {
      "cell_type": "markdown",
      "source": [
        "## Lyrics classification model\n"
      ],
      "metadata": {
        "id": "FOJw68UlH8as"
      }
    },
    {
      "cell_type": "code",
      "execution_count": null,
      "metadata": {
        "id": "36diaebbPyeQ"
      },
      "outputs": [],
      "source": [
        "!pip install tensorflow_text"
      ]
    },
    {
      "cell_type": "code",
      "source": [
        "import tensorflow as tf\n",
        "import tensorflow_hub as hub\n",
        "import tensorflow_text as text\n",
        "import time"
      ],
      "metadata": {
        "id": "8g_ETdFVQCa9"
      },
      "execution_count": null,
      "outputs": []
    },
    {
      "cell_type": "code",
      "source": [
        "print(\"tensorflow_text\",text.__version__)\n",
        "print(\"tensorflow\",tf.__version__)\n",
        "print(\"tensorflow_hub\",hub.__version__)"
      ],
      "metadata": {
        "id": "k5ALXuKvQEOQ",
        "colab": {
          "base_uri": "https://localhost:8080/"
        },
        "outputId": "c042f898-c7c6-4132-c9e5-764374b3adda"
      },
      "execution_count": null,
      "outputs": [
        {
          "output_type": "stream",
          "name": "stdout",
          "text": [
            "tensorflow_text 2.12.0\n",
            "tensorflow 2.12.0\n",
            "tensorflow_hub 0.13.0\n"
          ]
        }
      ]
    },
    {
      "cell_type": "code",
      "source": [
        "#bert_preprocess = hub.KerasLayer(\"https://tfhub.dev/tensorflow/bert_en_uncased_preprocess/3\")\n",
        "#bert_encoder = hub.KerasLayer(\"https://tfhub.dev/tensorflow/bert_en_uncased_L-24_H-1024_A-16/4\")\n",
        "bert_preprocess = hub.KerasLayer(\"https://tfhub.dev/tensorflow/bert_en_uncased_preprocess/3\")\n",
        "bert_encoder = hub.KerasLayer(\"https://tfhub.dev/tensorflow/bert_en_uncased_L-12_H-768_A-12/4\")"
      ],
      "metadata": {
        "id": "UciAxrcNQIrs"
      },
      "execution_count": null,
      "outputs": []
    },
    {
      "cell_type": "code",
      "source": [
        "model_path = 'lyrics_Classifier.h5'\n",
        "initializer = tf.keras.initializers.glorot_uniform()\n",
        "initializer2 = tf.keras.initializers.he_normal()"
      ],
      "metadata": {
        "id": "tZq4jhT-QaIT",
        "colab": {
          "base_uri": "https://localhost:8080/",
          "height": 200
        },
        "outputId": "741798fb-54ee-4f42-ba2d-4c9db80d2d05"
      },
      "execution_count": null,
      "outputs": [
        {
          "output_type": "error",
          "ename": "NameError",
          "evalue": "ignored",
          "traceback": [
            "\u001b[0;31m---------------------------------------------------------------------------\u001b[0m",
            "\u001b[0;31mNameError\u001b[0m                                 Traceback (most recent call last)",
            "\u001b[0;32m<ipython-input-3-270d1e8ab481>\u001b[0m in \u001b[0;36m<cell line: 2>\u001b[0;34m()\u001b[0m\n\u001b[1;32m      1\u001b[0m \u001b[0mmodel_path\u001b[0m \u001b[0;34m=\u001b[0m \u001b[0;34m'lyrics_Classifier.h5'\u001b[0m\u001b[0;34m\u001b[0m\u001b[0;34m\u001b[0m\u001b[0m\n\u001b[0;32m----> 2\u001b[0;31m \u001b[0minitializer\u001b[0m \u001b[0;34m=\u001b[0m \u001b[0mtf\u001b[0m\u001b[0;34m.\u001b[0m\u001b[0mkeras\u001b[0m\u001b[0;34m.\u001b[0m\u001b[0minitializers\u001b[0m\u001b[0;34m.\u001b[0m\u001b[0mglorot_uniform\u001b[0m\u001b[0;34m(\u001b[0m\u001b[0;34m)\u001b[0m\u001b[0;34m\u001b[0m\u001b[0;34m\u001b[0m\u001b[0m\n\u001b[0m\u001b[1;32m      3\u001b[0m \u001b[0minitializer2\u001b[0m \u001b[0;34m=\u001b[0m \u001b[0mtf\u001b[0m\u001b[0;34m.\u001b[0m\u001b[0mkeras\u001b[0m\u001b[0;34m.\u001b[0m\u001b[0minitializers\u001b[0m\u001b[0;34m.\u001b[0m\u001b[0mhe_normal\u001b[0m\u001b[0;34m(\u001b[0m\u001b[0;34m)\u001b[0m\u001b[0;34m\u001b[0m\u001b[0;34m\u001b[0m\u001b[0m\n",
            "\u001b[0;31mNameError\u001b[0m: name 'tf' is not defined"
          ]
        }
      ]
    },
    {
      "cell_type": "code",
      "source": [
        "N_NEWRONS = 512\n",
        "epochs = 100"
      ],
      "metadata": {
        "id": "4BsdqpqR879w"
      },
      "execution_count": null,
      "outputs": []
    },
    {
      "cell_type": "code",
      "source": [
        "#creacion del modelo\n",
        "#en  caso de que no se comporte bien se puede cambiar para que la segunda capa de lstm tenga 120 y se le puede añadir otra densa\n",
        "#con 60 neuronas\n",
        "def create_model():\n",
        "#creacion del modelo\n",
        "  # Bert layers\n",
        "  text_input = tf.keras.layers.Input(shape=(), dtype=tf.string, name='text')\n",
        "  preprocessed_text = bert_preprocess(text_input)\n",
        "  outputs = bert_encoder(preprocessed_text)\n",
        "\n",
        "  # Neural network layers\n",
        "  l = tf.keras.layers.Dropout(0.2, name=\"dropout\")(outputs['sequence_output'])\n",
        "  l = tf.keras.layers.Bidirectional(tf.keras.layers.LSTM(N_NEWRONS*2))(l)\n",
        "  #l = tf.keras.layers.Dropout(0.2, name=\"dropout2\")(l)\n",
        "  l = tf.keras.layers.Dense(N_NEWRONS, activation = 'tanh',kernel_initializer=initializer,bias_initializer='zeros')(l)\n",
        "  #l = tf.keras.layers.BatchNormalization()(l)\n",
        "  l = tf.keras.layers.Dense(N_NEWRONS, activation = 'tanh',kernel_initializer=initializer,bias_initializer='zeros')(l)\n",
        "  #l = tf.keras.layers.BatchNormalization()(l)\n",
        "  l = tf.keras.layers.Dense(N_NEWRONS, activation = 'tanh',kernel_initializer=initializer,bias_initializer='zeros')(l)\n",
        "  l = tf.keras.layers.Dense(1, activation='sigmoid', name=\"output\",kernel_initializer=initializer2,bias_initializer='zeros')(l)\n",
        "\n",
        "  # Use inputs and outputs to construct a final model\n",
        "  model = tf.keras.Model(inputs=[text_input], outputs = [l])\n",
        "  METRICS = [\n",
        "      tf.keras.metrics.BinaryAccuracy(name='accuracy'),\n",
        "      tf.keras.metrics.Precision(name='precision'),\n",
        "      tf.keras.metrics.Recall(name='recall')\n",
        "  ]\n",
        "  #opt = tf.keras.optimizers.RMSprop(learning_rate=0.01,momentum=0.4, clipvalue=1.0)\n",
        "  opt = tf.keras.optimizers.SGD(0.001, momentum=0.1)\n",
        "  #opt = tf.keras.optimizers.Adam(learning_rate=0.001)\n",
        "  model.compile(optimizer=opt,\n",
        "                loss='binary_crossentropy',\n",
        "                metrics=METRICS)\n",
        "\n",
        "\n",
        "  return model"
      ],
      "metadata": {
        "id": "5UZRuCQdQRU2"
      },
      "execution_count": null,
      "outputs": []
    },
    {
      "cell_type": "code",
      "source": [
        "#strategy = tf.distribute.MirroredStrategy()\n",
        "#print(\"Number of devices: {}\".format(strategy.num_replicas_in_sync))\n",
        "# Open a strategy scope and create/restore the model\n",
        "#with strategy.scope():\n",
        "#  model = create_model()\n",
        "\n",
        "model = create_model()"
      ],
      "metadata": {
        "id": "WyhUjl_eFXeK"
      },
      "execution_count": null,
      "outputs": []
    },
    {
      "cell_type": "code",
      "source": [
        "model.summary()"
      ],
      "metadata": {
        "id": "vdH7OjRtQVek"
      },
      "execution_count": null,
      "outputs": []
    },
    {
      "cell_type": "code",
      "source": [
        "#creacion de callbacks\n",
        "callback_earlyStopping = tf.keras.callbacks.EarlyStopping(monitor='val_accuracy', patience=10)\n",
        "\n",
        "model_checkpoint = tf.keras.callbacks.ModelCheckpoint(\n",
        "    model_path, # ruta de guardado para el checkpoint\n",
        "    save_best_only=True\n",
        ")"
      ],
      "metadata": {
        "id": "pzk0c-NoQeRK"
      },
      "execution_count": null,
      "outputs": []
    },
    {
      "cell_type": "code",
      "source": [
        "start = time.time() \n",
        "model.fit(X_train, y_train, epochs=epochs, validation_data=(X_val, y_val), callbacks = [model_checkpoint,callback_earlyStopping])\n",
        "end = time.time()\n",
        "print(end-start)"
      ],
      "metadata": {
        "id": "HrJO2S2KQg5J"
      },
      "execution_count": null,
      "outputs": []
    }
  ]
}